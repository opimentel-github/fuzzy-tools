{
 "cells": [
  {
   "cell_type": "code",
   "execution_count": 1,
   "id": "74ac02f1",
   "metadata": {},
   "outputs": [],
   "source": [
    "import sys\n",
    "sys.path.append('../') # or just install the module"
   ]
  },
  {
   "cell_type": "code",
   "execution_count": 3,
   "id": "f40ece68",
   "metadata": {},
   "outputs": [
    {
     "name": "stdout",
     "output_type": "stream",
     "text": [
      "The autoreload extension is already loaded. To reload it, use:\n",
      "  %reload_ext autoreload\n"
     ]
    }
   ],
   "source": [
    "%load_ext autoreload\n",
    "%autoreload 2\n",
    "import fuzzytools.files as files\n",
    "\n",
    "for kf in [0,1,2,3,4]:\n",
    "    for file_id in range(0, 3):\n",
    "        files.save_pickle(f'../temp/kf_test/{kf}@test/files.{file_id}.d', {'data':[1]*10})"
   ]
  },
  {
   "cell_type": "code",
   "execution_count": 4,
   "id": "ede37cc7",
   "metadata": {},
   "outputs": [
    {
     "name": "stdout",
     "output_type": "stream",
     "text": [
      "The autoreload extension is already loaded. To reload it, use:\n",
      "  %reload_ext autoreload\n"
     ]
    },
    {
     "data": {
      "text/plain": [
       "{'test': {'4': '../temp/kf_test/4@test',\n",
       "  '1': '../temp/kf_test/1@test',\n",
       "  '3': '../temp/kf_test/3@test',\n",
       "  '0': '../temp/kf_test/0@test',\n",
       "  '2': '../temp/kf_test/2@test'}}"
      ]
     },
     "execution_count": 4,
     "metadata": {},
     "output_type": "execute_result"
    }
   ],
   "source": [
    "%load_ext autoreload\n",
    "%autoreload 2\n",
    "import fuzzytools.files as files\n",
    "\n",
    "files.get_kfold_rootdirs_dict('../temp/kf_test')"
   ]
  },
  {
   "cell_type": "code",
   "execution_count": 9,
   "id": "9fe99c1b",
   "metadata": {},
   "outputs": [
    {
     "name": "stdout",
     "output_type": "stream",
     "text": [
      "The autoreload extension is already loaded. To reload it, use:\n",
      "  %reload_ext autoreload\n"
     ]
    },
    {
     "data": {
      "text/plain": [
       "['4', '1', '3', '0', '2']"
      ]
     },
     "execution_count": 9,
     "metadata": {},
     "output_type": "execute_result"
    }
   ],
   "source": [
    "%load_ext autoreload\n",
    "%autoreload 2\n",
    "import fuzzytools.files as files\n",
    "\n",
    "kf = '.'\n",
    "kf_set = 'test'\n",
    "files, files_ids, kfs = files.gather_files_by_kfold('../temp/kf_test', kf, kf_set,\n",
    "    disbalanced_kf_mode='oversampling', # error ignore oversampling                                    \n",
    "    )\n",
    "kfs"
   ]
  }
 ],
 "metadata": {
  "kernelspec": {
   "display_name": "Python 3",
   "language": "python",
   "name": "python3"
  },
  "language_info": {
   "codemirror_mode": {
    "name": "ipython",
    "version": 3
   },
   "file_extension": ".py",
   "mimetype": "text/x-python",
   "name": "python",
   "nbconvert_exporter": "python",
   "pygments_lexer": "ipython3",
   "version": "3.7.10"
  }
 },
 "nbformat": 4,
 "nbformat_minor": 5
}
