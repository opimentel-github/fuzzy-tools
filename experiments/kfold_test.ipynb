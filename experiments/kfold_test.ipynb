{
 "cells": [
  {
   "cell_type": "code",
   "execution_count": 1,
   "metadata": {},
   "outputs": [],
   "source": [
    "import sys\n",
    "sys.path.append('../') # or just install the module"
   ]
  },
  {
   "cell_type": "code",
   "execution_count": 12,
   "metadata": {},
   "outputs": [
    {
     "name": "stdout",
     "output_type": "stream",
     "text": [
      "obj_names: ['o0', 'o1', 'o2', 'o3', 'o4', 'o5', 'o6', 'o7', 'o8', 'o9', 'o10', 'o11', 'o12', 'o13', 'o14', 'o15', 'o16', 'o17', 'o18', 'o19', 'o20', 'o21', 'o22', 'o23', 'o24', 'o25', 'o26', 'o27', 'o28', 'o29', 'o30', 'o31', 'o32', 'o33', 'o34', 'o35', 'o36', 'o37', 'o38', 'o39', 'o40', 'o41', 'o42', 'o43', 'o44', 'o45', 'o46', 'o47', 'o48', 'o49', 'o50', 'o51', 'o52', 'o53', 'o54', 'o55', 'o56', 'o57', 'o58', 'o59', 'o60', 'o61', 'o62', 'o63', 'o64', 'o65', 'o66', 'o67', 'o68', 'o69', 'o70', 'o71', 'o72', 'o73', 'o74', 'o75', 'o76', 'o77', 'o78', 'o79', 'o80', 'o81', 'o82', 'o83', 'o84', 'o85', 'o86', 'o87', 'o88', 'o89', 'o90', 'o91', 'o92', 'o93', 'o94', 'o95', 'o96', 'o97', 'o98', 'o99']\n",
      "obj_classes ['c', 'a', 'b', 'c', 'c', 'a', 'a', 'c', 'a', 'c', 'c', 'a', 'a', 'a', 'a', 'a', 'a', 'b', 'a', 'c', 'c', 'b', 'a', 'b', 'b', 'b', 'a', 'c', 'c', 'c', 'b', 'b', 'a', 'b', 'b', 'a', 'c', 'b', 'b', 'c', 'b', 'b', 'a', 'a', 'a', 'a', 'c', 'b', 'c', 'b', 'b', 'a', 'c', 'b', 'a', 'b', 'b', 'b', 'b', 'b', 'b', 'a', 'a', 'c', 'c', 'a', 'c', 'c', 'a', 'a', 'b', 'c', 'b', 'b', 'c', 'c', 'c', 'b', 'c', 'a', 'a', 'c', 'c', 'c', 'a', 'c', 'b', 'c', 'b', 'c', 'b', 'a', 'c', 'c', 'a', 'b', 'b', 'a', 'a', 'a']\n"
     ]
    }
   ],
   "source": [
    "import numpy as np\n",
    "\n",
    "obj_names = [f'o{k}' for k in list(range(0,100))]\n",
    "class_names = ['a', 'b', 'c']\n",
    "obj_classes = [class_names[k] for k in np.random.randint(0, len(class_names), size=len(obj_names))]\n",
    "print('obj_names:',obj_names)\n",
    "print('obj_classes',obj_classes)\n",
    "new_sets_props = {\n",
    "    'raw_train':0.6,\n",
    "    'raw_val':0.2,\n",
    "    'raw_test':0.2,\n",
    "}"
   ]
  },
  {
   "cell_type": "code",
   "execution_count": 13,
   "metadata": {
    "scrolled": false
   },
   "outputs": [
    {
     "name": "stdout",
     "output_type": "stream",
     "text": [
      "The autoreload extension is already loaded. To reload it, use:\n",
      "  %reload_ext autoreload\n",
      "0@raw_train ['o1', 'o5', 'o6', 'o8', 'o11', 'o12', 'o13', 'o14', 'o15', 'o16', 'o18', 'o22', 'o26', 'o32', 'o35', 'o42', 'o43', 'o44', 'o45', 'o51', 'o2', 'o17', 'o21', 'o23', 'o24', 'o25', 'o30', 'o31', 'o33', 'o34', 'o37', 'o38', 'o40', 'o41', 'o47', 'o49', 'o50', 'o53', 'o55', 'o56', 'o0', 'o3', 'o4', 'o7', 'o9', 'o10', 'o19', 'o20', 'o27', 'o28', 'o29', 'o36', 'o39', 'o46', 'o48', 'o52', 'o63', 'o64', 'o66', 'o67']\n",
      "0@raw_val ['o54', 'o61', 'o62', 'o65', 'o68', 'o69', 'o79', 'o57', 'o58', 'o59', 'o60', 'o70', 'o72', 'o73', 'o71', 'o74', 'o75', 'o76', 'o78', 'o81', 'o82']\n",
      "0@raw_test ['o80', 'o84', 'o91', 'o94', 'o97', 'o98', 'o99', 'o77', 'o86', 'o88', 'o90', 'o95', 'o96', 'o83', 'o85', 'o87', 'o89', 'o92', 'o93']\n",
      "1@raw_train ['o22', 'o26', 'o32', 'o35', 'o42', 'o43', 'o44', 'o45', 'o51', 'o54', 'o61', 'o62', 'o65', 'o68', 'o69', 'o79', 'o80', 'o84', 'o91', 'o94', 'o21', 'o23', 'o24', 'o25', 'o30', 'o31', 'o33', 'o34', 'o37', 'o38', 'o40', 'o41', 'o47', 'o49', 'o50', 'o53', 'o55', 'o56', 'o57', 'o58', 'o20', 'o27', 'o28', 'o29', 'o36', 'o39', 'o46', 'o48', 'o52', 'o63', 'o64', 'o66', 'o67', 'o71', 'o74', 'o75', 'o76', 'o78', 'o81', 'o82']\n",
      "1@raw_val ['o97', 'o98', 'o99', 'o1', 'o5', 'o6', 'o8', 'o59', 'o60', 'o70', 'o72', 'o73', 'o77', 'o86', 'o83', 'o85', 'o87', 'o89', 'o92', 'o93', 'o0']\n",
      "1@raw_test ['o11', 'o12', 'o13', 'o14', 'o15', 'o16', 'o18', 'o88', 'o90', 'o95', 'o96', 'o2', 'o17', 'o3', 'o4', 'o7', 'o9', 'o10', 'o19']\n",
      "2@raw_train ['o42', 'o43', 'o44', 'o45', 'o51', 'o54', 'o61', 'o62', 'o65', 'o68', 'o69', 'o79', 'o80', 'o84', 'o91', 'o94', 'o97', 'o98', 'o99', 'o1', 'o40', 'o41', 'o47', 'o49', 'o50', 'o53', 'o55', 'o56', 'o57', 'o58', 'o59', 'o60', 'o70', 'o72', 'o73', 'o77', 'o86', 'o88', 'o90', 'o95', 'o46', 'o48', 'o52', 'o63', 'o64', 'o66', 'o67', 'o71', 'o74', 'o75', 'o76', 'o78', 'o81', 'o82', 'o83', 'o85', 'o87', 'o89', 'o92', 'o93']\n",
      "2@raw_val ['o5', 'o6', 'o8', 'o11', 'o12', 'o13', 'o14', 'o96', 'o2', 'o17', 'o21', 'o23', 'o24', 'o25', 'o0', 'o3', 'o4', 'o7', 'o9', 'o10', 'o19']\n",
      "2@raw_test ['o15', 'o16', 'o18', 'o22', 'o26', 'o32', 'o35', 'o30', 'o31', 'o33', 'o34', 'o37', 'o38', 'o20', 'o27', 'o28', 'o29', 'o36', 'o39']\n",
      "3@raw_train ['o61', 'o62', 'o65', 'o68', 'o69', 'o79', 'o80', 'o84', 'o91', 'o94', 'o97', 'o98', 'o99', 'o1', 'o5', 'o6', 'o8', 'o11', 'o12', 'o13', 'o60', 'o70', 'o72', 'o73', 'o77', 'o86', 'o88', 'o90', 'o95', 'o96', 'o2', 'o17', 'o21', 'o23', 'o24', 'o25', 'o30', 'o31', 'o33', 'o34', 'o63', 'o64', 'o66', 'o67', 'o71', 'o74', 'o75', 'o76', 'o78', 'o81', 'o82', 'o83', 'o85', 'o87', 'o89', 'o92', 'o93', 'o0', 'o3', 'o4']\n",
      "3@raw_val ['o14', 'o15', 'o16', 'o18', 'o22', 'o26', 'o32', 'o37', 'o38', 'o40', 'o41', 'o47', 'o49', 'o50', 'o7', 'o9', 'o10', 'o19', 'o20', 'o27', 'o28']\n",
      "3@raw_test ['o35', 'o42', 'o43', 'o44', 'o45', 'o51', 'o54', 'o53', 'o55', 'o56', 'o57', 'o58', 'o59', 'o29', 'o36', 'o39', 'o46', 'o48', 'o52']\n",
      "4@raw_train ['o80', 'o84', 'o91', 'o94', 'o97', 'o98', 'o99', 'o1', 'o5', 'o6', 'o8', 'o11', 'o12', 'o13', 'o14', 'o15', 'o16', 'o18', 'o22', 'o26', 'o86', 'o88', 'o90', 'o95', 'o96', 'o2', 'o17', 'o21', 'o23', 'o24', 'o25', 'o30', 'o31', 'o33', 'o34', 'o37', 'o38', 'o40', 'o41', 'o47', 'o81', 'o82', 'o83', 'o85', 'o87', 'o89', 'o92', 'o93', 'o0', 'o3', 'o4', 'o7', 'o9', 'o10', 'o19', 'o20', 'o27', 'o28', 'o29', 'o36']\n",
      "4@raw_val ['o32', 'o35', 'o42', 'o43', 'o44', 'o45', 'o51', 'o49', 'o50', 'o53', 'o55', 'o56', 'o57', 'o58', 'o39', 'o46', 'o48', 'o52', 'o63', 'o64', 'o66']\n",
      "4@raw_test ['o54', 'o61', 'o62', 'o65', 'o68', 'o69', 'o79', 'o59', 'o60', 'o70', 'o72', 'o73', 'o77', 'o67', 'o71', 'o74', 'o75', 'o76', 'o78']\n"
     ]
    }
   ],
   "source": [
    "%load_ext autoreload\n",
    "%autoreload 2\n",
    "from flamingchoripan.datascience.statistics import stratified_kfold_split\n",
    "\n",
    "kfolds = 5\n",
    "d = stratified_kfold_split(obj_names, obj_classes, class_names, new_sets_props, kfolds)\n",
    "for k in d.keys():\n",
    "    print(k, d[k])"
   ]
  },
  {
   "cell_type": "code",
   "execution_count": 14,
   "metadata": {},
   "outputs": [
    {
     "name": "stdout",
     "output_type": "stream",
     "text": [
      "The autoreload extension is already loaded. To reload it, use:\n",
      "  %reload_ext autoreload\n",
      "0@raw_test ['o80', 'o84', 'o91', 'o94', 'o97', 'o98', 'o99', 'o77', 'o86', 'o88', 'o90', 'o95', 'o96', 'o83', 'o85', 'o87', 'o89', 'o92', 'o93']\n",
      "1@raw_test ['o11', 'o12', 'o13', 'o14', 'o15', 'o16', 'o18', 'o88', 'o90', 'o95', 'o96', 'o2', 'o17', 'o3', 'o4', 'o7', 'o9', 'o10', 'o19']\n",
      "2@raw_test ['o15', 'o16', 'o18', 'o22', 'o26', 'o32', 'o35', 'o30', 'o31', 'o33', 'o34', 'o37', 'o38', 'o20', 'o27', 'o28', 'o29', 'o36', 'o39']\n",
      "3@raw_test ['o35', 'o42', 'o43', 'o44', 'o45', 'o51', 'o54', 'o53', 'o55', 'o56', 'o57', 'o58', 'o59', 'o29', 'o36', 'o39', 'o46', 'o48', 'o52']\n",
      "4@raw_test ['o54', 'o61', 'o62', 'o65', 'o68', 'o69', 'o79', 'o59', 'o60', 'o70', 'o72', 'o73', 'o77', 'o67', 'o71', 'o74', 'o75', 'o76', 'o78']\n"
     ]
    }
   ],
   "source": [
    "%load_ext autoreload\n",
    "%autoreload 2\n",
    "from flamingchoripan.datascience.statistics import stratified_kfold_split\n",
    "\n",
    "kfolds = 5\n",
    "d = stratified_kfold_split(obj_names, obj_classes, class_names, new_sets_props, kfolds)\n",
    "for k in d.keys():\n",
    "    if 'raw_test' in k:\n",
    "        print(k, d[k])"
   ]
  }
 ],
 "metadata": {
  "kernelspec": {
   "display_name": "Python 3",
   "language": "python",
   "name": "python3"
  },
  "language_info": {
   "codemirror_mode": {
    "name": "ipython",
    "version": 3
   },
   "file_extension": ".py",
   "mimetype": "text/x-python",
   "name": "python",
   "nbconvert_exporter": "python",
   "pygments_lexer": "ipython3",
   "version": "3.7.9"
  }
 },
 "nbformat": 4,
 "nbformat_minor": 4
}
