{
 "cells": [
  {
   "cell_type": "code",
   "execution_count": 1,
   "metadata": {},
   "outputs": [],
   "source": [
    "import sys\n",
    "sys.path.append('../') # or just install the module"
   ]
  },
  {
   "cell_type": "code",
   "execution_count": 3,
   "metadata": {},
   "outputs": [
    {
     "name": "stdout",
     "output_type": "stream",
     "text": [
      "The autoreload extension is already loaded. To reload it, use:\n",
      "  %reload_ext autoreload\n"
     ]
    },
    {
     "data": {
      "image/png": "[encoded data removed]",
      "text/plain": [
       "<Figure size 432x288 with 1 Axes>"
      ]
     },
     "metadata": {
      "needs_background": "light"
     },
     "output_type": "display_data"
    }
   ],
   "source": [
    "%load_ext autoreload\n",
    "%autoreload 2\n",
    "import matplotlib.pyplot as plt\n",
    "import fuzzytools.cuteplots.bars as bars\n",
    "import numpy as np\n",
    "\n",
    "fig, ax = plt.subplots(1, 1)\n",
    "x = np.array([1,5,8])\n",
    "y = np.array([0,0,0])\n",
    "std = np.array([1,2,3])\n",
    "ax.plot(x, y)\n",
    "bars.plot_norm_percentile_bar(ax, x, y, std)\n",
    "plt.show()"
   ]
  },
  {
   "cell_type": "code",
   "execution_count": 12,
   "metadata": {},
   "outputs": [
    {
     "name": "stdout",
     "output_type": "stream",
     "text": [
      "The autoreload extension is already loaded. To reload it, use:\n",
      "  %reload_ext autoreload\n",
      "[-1.    0.    2.    3.75  6.    7.5  10.   11.25 13.   15.   18.   20.  ]\n"
     ]
    },
    {
     "data": {
      "image/png": "[encoded data removed]",
      "text/plain": [
       "<Figure size 432x288 with 1 Axes>"
      ]
     },
     "metadata": {
      "needs_background": "light"
     },
     "output_type": "display_data"
    }
   ],
   "source": [
    "%load_ext autoreload\n",
    "%autoreload 2\n",
    "import matplotlib.pyplot as plt\n",
    "import fuzzytools.cuteplots.lines as lines\n",
    "import numpy as np\n",
    "\n",
    "fig, ax = plt.subplots(1, 1)\n",
    "xs = [\n",
    "    np.linspace(0,15,5),\n",
    "    np.linspace(-1,20,4),\n",
    "    np.linspace(2,18,3),\n",
    "    ]\n",
    "ys = [\n",
    "    np.random.uniform(0,2,size=5),\n",
    "    np.random.uniform(0,1,size=4),\n",
    "    np.random.uniform(0,1,size=3),\n",
    "    ]\n",
    "lines.multiple_lines(ax, xs, ys, color='r')\n",
    "lines.fill_beetween(ax, xs, ys,\n",
    "    fill_kwargs={'color':'b', 'alpha':0.5},\n",
    "    median_kwargs={'color':'b', 'alpha':1},\n",
    "    percentile=95, # None 95\n",
    "    )\n",
    "plt.show()"
   ]
  },
  {
   "cell_type": "code",
   "execution_count": null,
   "metadata": {},
   "outputs": [],
   "source": [
    "%load_ext autoreload\n",
    "%autoreload 2\n",
    "import fuzzytools.cuteplots.plots as plots\n",
    "\n",
    "bargroup_legends = ['a','b','c','d']\n",
    "data_dic = {\n",
    "    'mdl1':{'a':1,'b':2,'c':3,'d':0},\n",
    "    'mdl2':{'a':1,'b':9,'c':9,'d':0},\n",
    "    'mdl3':{'a':1,'b':12,'c':9,'d':8},\n",
    "    'mdl4':{'a':1,'b':12,'c':9,'d':8},\n",
    "}\n",
    "kwargs = {\n",
    "    'title':'title!!',\n",
    "    'ylabel':'y',\n",
    "    'legend_ncol':5,\n",
    "}\n",
    "plots.plot_bar(data_dic, bargroup_legends, **kwargs)"
   ]
  },
  {
   "cell_type": "code",
   "execution_count": null,
   "metadata": {},
   "outputs": [],
   "source": [
    "%load_ext autoreload\n",
    "%autoreload 2\n",
    "import flamingChoripan.cutePlots.plots as plots\n",
    "\n",
    "values_dic = [1,1,1,2,3,6,4,4,4,4,1,2,3,2,3,4,8]\n",
    "unique_names = ['a','b','c','d','x','y']\n",
    "kwargs = {\n",
    "    'title':'title!!',\n",
    "    'ylabel':'y',\n",
    "    'add_percent':1,\n",
    "}\n",
    "plots.plot_hist_labels(values_dic, unique_names, bar_width=0.5, **kwargs)"
   ]
  },
  {
   "cell_type": "code",
   "execution_count": null,
   "metadata": {},
   "outputs": [],
   "source": [
    "%load_ext autoreload\n",
    "%autoreload 2\n",
    "import flamingChoripan.cutePlots.plots as plots\n",
    "import numpy as np\n",
    "\n",
    "data_dic = {\n",
    "    'x':np.array([1,1,1,2,3,6,4,4,4,4,1,2,3,2,3,4,8]),\n",
    "    'y':np.array([1,1,1,2,3,6,4,4,4,4,1,2,3,2,3,4,8]),\n",
    "    'z':np.array([1,1,1,2,3,6,4,4,4,4,1,2,3,2,3,4,8])*2,\n",
    "}\n",
    "kwargs = {\n",
    "    'title':'title!!',\n",
    "    'ylabel':'y',\n",
    "    'legend_ncol':5,\n",
    "    #'xlim':[1,3],\n",
    "}\n",
    "plots.plot_hist_discrete(data_dic, bar_width=0.5, **kwargs)"
   ]
  },
  {
   "cell_type": "code",
   "execution_count": null,
   "metadata": {},
   "outputs": [],
   "source": [
    "%load_ext autoreload\n",
    "%autoreload 2\n",
    "import flamingChoripan.cutePlots.cm_plots as cm_plots\n",
    "import numpy as np\n",
    "\n",
    "cm = np.random.randint(0, 100, size=(4,4))\n",
    "classes = ['a','b','c','d']\n",
    "print(cm)\n",
    "kwargs = {\n",
    "    'normalize_mode':None,\n",
    "    'uses_percent':1,\n",
    "    'add_accuracy_in_title':1,\n",
    "}\n",
    "new_order_classes = ['b','a','d','c']\n",
    "cm_plots.plot_custom_confusion_matrix(cm, classes, **kwargs)\n",
    "cm_plots.plot_custom_confusion_matrix(cm, classes, new_order_classes=new_order_classes, **kwargs)"
   ]
  },
  {
   "cell_type": "code",
   "execution_count": null,
   "metadata": {},
   "outputs": [],
   "source": [
    "import numpy as np\n",
    "\n",
    "y_pred = np.array([0,1,0,2,0])\n",
    "y_target = np.array([1,2,3,0,0])\n",
    "classes = ['a','b','c','d']\n",
    "kwargs = {\n",
    "    'normalize_mode':None,\n",
    "    #'normalize_mode':'true',\n",
    "    'uses_percent':1,\n",
    "    'add_accuracy_in_title':1,\n",
    "}\n",
    "cm_plots.plot_confusion_matrix(y_pred, y_target, classes, **kwargs)"
   ]
  },
  {
   "cell_type": "code",
   "execution_count": null,
   "metadata": {},
   "outputs": [],
   "source": [
    "%load_ext autoreload\n",
    "%autoreload 2\n",
    "import flamingChoripan.dataScience.metrics as dsm\n",
    "import numpy as np\n",
    "\n",
    "y_pred = np.array([0,1,0,2,0])\n",
    "y_target = np.array([1,2,3,0,0])\n",
    "kwargs = {\n",
    "    'y_pred_is_onehot':0,\n",
    "    'y_target_is_onehot':0,\n",
    "}\n",
    "dsm.get_cm_accuracy(y_pred, y_target, **kwargs)"
   ]
  },
  {
   "cell_type": "code",
   "execution_count": null,
   "metadata": {},
   "outputs": [],
   "source": [
    "import matplotlib.pyplot as plt\n",
    "from fuzzytools.cuteplots.utils import save_fig\n",
    "\n",
    "fig, ax = plt.subplots(1, 1)\n",
    "\n",
    "ax.plot([1,5],[8,9])\n",
    "ax.plot()\n",
    "save_fig(fig, ['../temp/x.png', '../temp/x2.png', '../temp/x3.png'])"
   ]
  }
 ],
 "metadata": {
  "kernelspec": {
   "display_name": "Python 3",
   "language": "python",
   "name": "python3"
  },
  "language_info": {
   "codemirror_mode": {
    "name": "ipython",
    "version": 3
   },
   "file_extension": ".py",
   "mimetype": "text/x-python",
   "name": "python",
   "nbconvert_exporter": "python",
   "pygments_lexer": "ipython3",
   "version": "3.7.10"
  }
 },
 "nbformat": 4,
 "nbformat_minor": 2
}
