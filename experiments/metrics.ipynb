{
 "cells": [
  {
   "cell_type": "code",
   "execution_count": 1,
   "metadata": {},
   "outputs": [],
   "source": [
    "import sys\n",
    "sys.path.append('../') # or just install the module"
   ]
  },
  {
   "cell_type": "code",
   "execution_count": 2,
   "metadata": {
    "scrolled": false
   },
   "outputs": [
    {
     "name": "stdout",
     "output_type": "stream",
     "text": [
      "y_target [2 1 1 0 1 1 0 2 2 2 1 0 1 1 2 1 2 1 2 2 2 2 1 1 0 1 0 2 2 2 0 2 0 1 0 1 0\n",
      " 1 0 2 2 2 0 1 2 2 0 1 2 0 2 2 2 2 1 2 0 2 2 2 1 0 2 1 0 2 0 0 2 0 1 0 1 2\n",
      " 0 2 0 0 2 1 0 1 0 1 0 2 0 2 1 0 0 2 1 1 1 0 1 1 1 0 2 2 2 2 0 1 1 1 1 0 1\n",
      " 2 1 0 1 2 2 0 1 0 1 2 1 1 1 2 2 1 0 2 1 2 0 1 2 1 2 1 1 0 2 1 2 0 0 1 2 0\n",
      " 0 1 0 1 1 0 2 0 1 0 0 1 2 0 0 1 2 0 1 0 2 2 1 0 2 2 0 0 0 1 1 2 2 0 1 0 1\n",
      " 2 2 1 0 0 1 1 2 1 1 1 2 1 1 1] (200,)\n",
      "y_pred_p (200, 3)\n"
     ]
    }
   ],
   "source": [
    "import numpy as np\n",
    "\n",
    "N = 200\n",
    "class_names = ['a', 'b', 'c']\n",
    "y_target = np.random.randint(0, len(class_names), size=(N))\n",
    "y_pred_p = np.random.uniform(0, 1, size=(N, len(class_names)))\n",
    "y_pred_p = y_pred_p/np.sum(y_pred_p, axis=1)[...,None]\n",
    "print('y_target', y_target, y_target.shape)\n",
    "print('y_pred_p', y_pred_p.shape)"
   ]
  },
  {
   "cell_type": "code",
   "execution_count": 3,
   "metadata": {},
   "outputs": [
    {
     "data": {
      "text/plain": [
       "(<Figure size 480x400 with 2 Axes>,\n",
       " <matplotlib.axes._subplots.AxesSubplot at 0x7f279b1d00d0>,\n",
       " array([[[0.35      , 0.25      , 0.4       ],\n",
       "         [0.4109589 , 0.31506849, 0.2739726 ],\n",
       "         [0.31343284, 0.31343284, 0.37313433]]]))"
      ]
     },
     "execution_count": 3,
     "metadata": {},
     "output_type": "execute_result"
    },
    {
     "data": {
      "image/png": "[encoded data removed]",
      "text/plain": [
       "<Figure size 480x400 with 2 Axes>"
      ]
     },
     "metadata": {
      "needs_background": "light"
     },
     "output_type": "display_data"
    }
   ],
   "source": [
    "%load_ext autoreload\n",
    "%autoreload 2\n",
    "from fuzzytools.datascience import metrics as metrics\n",
    "from fuzzytools.cuteplots.cm_plots import plot_custom_confusion_matrix\n",
    "\n",
    "metrics_cdict, metrics_dict, cm = metrics.get_multiclass_metrics(y_pred_p, y_target, class_names)\n",
    "title = ''\n",
    "#title += f'b-f1score={f1score_xe}'+'\\n'\n",
    "#title += f'b-accuracy={accuracy_xe}%'+'\\n'\n",
    "cm_kwargs = {\n",
    "    'title':title[:-1],\n",
    "    'figsize':(6,5),\n",
    "    'normalize_mode':None,\n",
    "}\n",
    "#fig, ax = plot_custom_confusion_matrix(cm[None], class_names, **cm_kwargs)\n",
    "cm_kwargs = {\n",
    "    'title':title[:-1],\n",
    "    'figsize':(6,5),\n",
    "    'normalize_mode':'true',\n",
    "}\n",
    "plot_custom_confusion_matrix(cm[None], class_names, **cm_kwargs)"
   ]
  },
  {
   "cell_type": "code",
   "execution_count": 4,
   "metadata": {},
   "outputs": [
    {
     "data": {
      "text/plain": [
       "(array([[0.3573057 , 0.20278647, 0.43990784],\n",
       "        [0.54128995, 0.22053182, 0.23817823],\n",
       "        [0.2714221 , 0.64006608, 0.08851182],\n",
       "        [0.32342435, 0.0460502 , 0.63052546],\n",
       "        [0.4489654 , 0.28411954, 0.26691506],\n",
       "        [0.52896289, 0.36058453, 0.11045257],\n",
       "        [0.72731558, 0.06772325, 0.20496116],\n",
       "        [0.35385551, 0.17094327, 0.47520122],\n",
       "        [0.33080777, 0.22487529, 0.44431694],\n",
       "        [0.29938107, 0.2327048 , 0.46791413],\n",
       "        [0.44530877, 0.4457538 , 0.10893743],\n",
       "        [0.38193859, 0.21596334, 0.40209808],\n",
       "        [0.47127825, 0.29134614, 0.23737561],\n",
       "        [0.45131039, 0.12762445, 0.42106516],\n",
       "        [0.30601574, 0.39872784, 0.29525642],\n",
       "        [0.21586046, 0.42696329, 0.35717624],\n",
       "        [0.40030632, 0.29596365, 0.30373003],\n",
       "        [0.09925348, 0.06276364, 0.83798288],\n",
       "        [0.00104588, 0.23550616, 0.76344796],\n",
       "        [0.26444271, 0.26244766, 0.47310963],\n",
       "        [0.12862243, 0.65193123, 0.21944633],\n",
       "        [0.22455204, 0.34421209, 0.43123588],\n",
       "        [0.47092452, 0.52548821, 0.00358727],\n",
       "        [0.11140524, 0.47414252, 0.41445225],\n",
       "        [0.59273568, 0.15984889, 0.24741543],\n",
       "        [0.50322114, 0.4859131 , 0.01086575],\n",
       "        [0.75876094, 0.17797267, 0.0632664 ],\n",
       "        [0.3520228 , 0.24355171, 0.40442549],\n",
       "        [0.36178105, 0.262488  , 0.37573095],\n",
       "        [0.57304717, 0.26053173, 0.1664211 ],\n",
       "        [0.20580295, 0.13736429, 0.65683276],\n",
       "        [0.59558454, 0.20026182, 0.20415364],\n",
       "        [0.66903094, 0.25878449, 0.07218456],\n",
       "        [0.59282177, 0.29919051, 0.10798772],\n",
       "        [0.35871708, 0.2744773 , 0.36680562],\n",
       "        [0.05751552, 0.30567039, 0.63681409],\n",
       "        [0.34163966, 0.31728815, 0.34107219],\n",
       "        [0.46943995, 0.40406802, 0.12649203],\n",
       "        [0.62144364, 0.25131967, 0.1272367 ],\n",
       "        [0.37506256, 0.23830032, 0.38663712],\n",
       "        [0.15563864, 0.3203212 , 0.52404017],\n",
       "        [0.39106691, 0.40059753, 0.20833556],\n",
       "        [0.6865056 , 0.30511778, 0.00837662],\n",
       "        [0.61374534, 0.27823254, 0.10802212],\n",
       "        [0.33398889, 0.62817711, 0.037834  ],\n",
       "        [0.05828386, 0.81099591, 0.13072023],\n",
       "        [0.44038539, 0.11968511, 0.4399295 ],\n",
       "        [0.34568619, 0.35274859, 0.30156522],\n",
       "        [0.3006841 , 0.310059  , 0.3892569 ],\n",
       "        [0.36763944, 0.36425991, 0.26810064],\n",
       "        [0.24854826, 0.27490237, 0.47654937],\n",
       "        [0.36836342, 0.35610601, 0.27553057],\n",
       "        [0.17063929, 0.00670894, 0.82265177],\n",
       "        [0.41855146, 0.21224377, 0.36920478],\n",
       "        [0.09171826, 0.08722443, 0.8210573 ],\n",
       "        [0.37209953, 0.28423638, 0.34366408],\n",
       "        [0.79785648, 0.18821737, 0.01392615],\n",
       "        [0.33297117, 0.59624242, 0.07078641],\n",
       "        [0.51737257, 0.10652432, 0.37610311],\n",
       "        [0.08948827, 0.3662643 , 0.54424743],\n",
       "        [0.30950909, 0.26763709, 0.42285383],\n",
       "        [0.22637913, 0.63997644, 0.13364442],\n",
       "        [0.34441248, 0.59236274, 0.06322478],\n",
       "        [0.05384204, 0.0840992 , 0.86205876],\n",
       "        [0.26666737, 0.34903972, 0.38429292],\n",
       "        [0.33889613, 0.55053199, 0.11057188],\n",
       "        [0.32017928, 0.29093982, 0.3888809 ],\n",
       "        [0.30229207, 0.03800473, 0.6597032 ],\n",
       "        [0.32779975, 0.46008258, 0.21211767],\n",
       "        [0.28388172, 0.36208076, 0.35403752],\n",
       "        [0.32136581, 0.32479414, 0.35384006],\n",
       "        [0.21855907, 0.17146562, 0.60997531],\n",
       "        [0.11077195, 0.29726014, 0.59196791],\n",
       "        [0.28905758, 0.45035341, 0.26058901],\n",
       "        [0.2617392 , 0.35174323, 0.38651756],\n",
       "        [0.68745491, 0.1266582 , 0.1858869 ],\n",
       "        [0.44887459, 0.4346756 , 0.11644981],\n",
       "        [0.52940888, 0.17379708, 0.29679403],\n",
       "        [0.34218723, 0.23965683, 0.41815594],\n",
       "        [0.44339302, 0.15474038, 0.4018666 ],\n",
       "        [0.4119062 , 0.0140759 , 0.5740179 ],\n",
       "        [0.16122592, 0.44714761, 0.39162647],\n",
       "        [0.29101801, 0.35239236, 0.35658963],\n",
       "        [0.06513479, 0.4452643 , 0.4896009 ],\n",
       "        [0.21470586, 0.37089417, 0.41439997],\n",
       "        [0.43111769, 0.13557898, 0.43330333],\n",
       "        [0.37833235, 0.52962914, 0.09203851],\n",
       "        [0.00712327, 0.44416408, 0.54871265],\n",
       "        [0.45514279, 0.48107681, 0.0637804 ],\n",
       "        [0.85038872, 0.12851442, 0.02109686],\n",
       "        [0.24240058, 0.58109187, 0.17650756],\n",
       "        [0.54309403, 0.05759664, 0.39930933],\n",
       "        [0.44252382, 0.3546079 , 0.20286828],\n",
       "        [0.60366044, 0.35893774, 0.03740182],\n",
       "        [0.59765115, 0.05286739, 0.34948146],\n",
       "        [0.67773244, 0.10596546, 0.21630211],\n",
       "        [0.54330905, 0.3702373 , 0.08645365],\n",
       "        [0.27078516, 0.27102135, 0.45819349],\n",
       "        [0.14850495, 0.40853924, 0.44295582],\n",
       "        [0.26681368, 0.69441104, 0.03877528],\n",
       "        [0.25303575, 0.40229041, 0.34467384],\n",
       "        [0.19499131, 0.23940568, 0.56560301],\n",
       "        [0.0891652 , 0.5724986 , 0.3383362 ],\n",
       "        [0.33182057, 0.25737365, 0.41080578],\n",
       "        [0.35891705, 0.38321392, 0.25786903],\n",
       "        [0.55938557, 0.33574311, 0.10487132],\n",
       "        [0.1360001 , 0.40400648, 0.45999342],\n",
       "        [0.21325889, 0.42677852, 0.35996259],\n",
       "        [0.62222123, 0.1909799 , 0.18679887],\n",
       "        [0.24723506, 0.10254999, 0.65021495],\n",
       "        [0.62690084, 0.01914085, 0.35395831],\n",
       "        [0.4127845 , 0.08828776, 0.49892775],\n",
       "        [0.05500355, 0.54862825, 0.3963682 ],\n",
       "        [0.61441919, 0.03072292, 0.35485789],\n",
       "        [0.60891532, 0.31933757, 0.07174711],\n",
       "        [0.37889965, 0.16754757, 0.45355278],\n",
       "        [0.31218238, 0.27155191, 0.41626571],\n",
       "        [0.18284451, 0.06013328, 0.75702221],\n",
       "        [0.20052134, 0.59677029, 0.20270836],\n",
       "        [0.38717861, 0.25346369, 0.3593577 ],\n",
       "        [0.59038485, 0.35015427, 0.05946089],\n",
       "        [0.13936794, 0.65572696, 0.20490509],\n",
       "        [0.23986199, 0.26858269, 0.49155532],\n",
       "        [0.06662617, 0.50795354, 0.42542029],\n",
       "        [0.60281728, 0.02019775, 0.37698497],\n",
       "        [0.12261694, 0.08833127, 0.7890518 ],\n",
       "        [0.69395831, 0.09269982, 0.21334188],\n",
       "        [0.44526765, 0.36144546, 0.19328688],\n",
       "        [0.37100967, 0.27690186, 0.35208847],\n",
       "        [0.51858417, 0.46483361, 0.01658222],\n",
       "        [0.31506614, 0.52448183, 0.16045203],\n",
       "        [0.56659214, 0.02441192, 0.40899593],\n",
       "        [0.31848181, 0.27194238, 0.40957581],\n",
       "        [0.2321401 , 0.58268544, 0.18517446],\n",
       "        [0.43037228, 0.28466152, 0.28496621],\n",
       "        [0.37146262, 0.32338209, 0.30515529],\n",
       "        [0.51675973, 0.22023253, 0.26300774],\n",
       "        [0.37365025, 0.16045921, 0.46589054],\n",
       "        [0.40056864, 0.35165218, 0.24777918],\n",
       "        [0.41369216, 0.11404093, 0.47226691],\n",
       "        [0.82963019, 0.06142121, 0.10894859],\n",
       "        [0.18161378, 0.57729993, 0.24108629],\n",
       "        [0.72085352, 0.21418706, 0.06495942],\n",
       "        [0.24954329, 0.4111188 , 0.33933791],\n",
       "        [0.46028382, 0.40965385, 0.13006233],\n",
       "        [0.47215416, 0.23924869, 0.28859716],\n",
       "        [0.34325933, 0.48238304, 0.17435763],\n",
       "        [0.38833003, 0.5788147 , 0.03285527],\n",
       "        [0.17459314, 0.52780795, 0.29759891],\n",
       "        [0.04580425, 0.0782707 , 0.87592505],\n",
       "        [0.35336353, 0.29853717, 0.3480993 ],\n",
       "        [0.24049518, 0.10069249, 0.65881233],\n",
       "        [0.18163652, 0.4096765 , 0.40868698],\n",
       "        [0.34912283, 0.34999191, 0.30088526],\n",
       "        [0.08189884, 0.58488856, 0.3332126 ],\n",
       "        [0.31742092, 0.47298708, 0.209592  ],\n",
       "        [0.88662162, 0.03393498, 0.0794434 ],\n",
       "        [0.17941072, 0.13676511, 0.68382417],\n",
       "        [0.10917225, 0.07371115, 0.8171166 ],\n",
       "        [0.43183789, 0.39153348, 0.17662863],\n",
       "        [0.27894513, 0.59492247, 0.1261324 ],\n",
       "        [0.69661459, 0.15579655, 0.14758886],\n",
       "        [0.18011585, 0.03831953, 0.78156462],\n",
       "        [0.45701426, 0.33399848, 0.20898727],\n",
       "        [0.36044266, 0.13111954, 0.5084378 ],\n",
       "        [0.25052078, 0.49645114, 0.25302808],\n",
       "        [0.14467169, 0.4127761 , 0.4425522 ],\n",
       "        [0.43509085, 0.07441948, 0.49048967],\n",
       "        [0.30213852, 0.67825649, 0.019605  ],\n",
       "        [0.16323667, 0.48440107, 0.35236225],\n",
       "        [0.33326629, 0.26578655, 0.40094716],\n",
       "        [0.2584899 , 0.35693661, 0.38457349],\n",
       "        [0.24705493, 0.38885917, 0.3640859 ],\n",
       "        [0.73500044, 0.16385143, 0.10114814],\n",
       "        [0.03251396, 0.77255853, 0.1949275 ],\n",
       "        [0.04472601, 0.53922845, 0.41604555],\n",
       "        [0.15669953, 0.32418318, 0.51911728],\n",
       "        [0.34017172, 0.60111311, 0.05871517],\n",
       "        [0.2749068 , 0.64869588, 0.07639732],\n",
       "        [0.36882491, 0.29271481, 0.33846028],\n",
       "        [0.49980891, 0.02652456, 0.47366653],\n",
       "        [0.07381857, 0.42702295, 0.49915847],\n",
       "        [0.11593438, 0.4197576 , 0.46430803],\n",
       "        [0.38409005, 0.51104382, 0.10486614],\n",
       "        [0.20538356, 0.69193648, 0.10267996],\n",
       "        [0.42338916, 0.20029243, 0.37631841],\n",
       "        [0.3543134 , 0.35573516, 0.28995144],\n",
       "        [0.5701094 , 0.24727152, 0.18261907],\n",
       "        [0.41241336, 0.11715754, 0.47042911],\n",
       "        [0.61233609, 0.31601944, 0.07164447],\n",
       "        [0.30673374, 0.65441261, 0.03885365],\n",
       "        [0.63832384, 0.27688918, 0.08478698],\n",
       "        [0.38655919, 0.2638648 , 0.34957601],\n",
       "        [0.28722748, 0.43043903, 0.28233349],\n",
       "        [0.25779314, 0.34387785, 0.39832901],\n",
       "        [0.1978029 , 0.58794388, 0.21425323],\n",
       "        [0.03733536, 0.51840922, 0.44425542],\n",
       "        [0.18388441, 0.3328568 , 0.48325879],\n",
       "        [0.69348455, 0.15997816, 0.14653728],\n",
       "        [0.22529929, 0.46986816, 0.30483255]]),\n",
       " array([2, 1, 1, 0, 1, 1, 0, 2, 2, 2, 1, 0, 1, 1, 2, 1, 2, 1, 2, 2, 2, 2,\n",
       "        1, 1, 0, 1, 0, 2, 2, 2, 0, 2, 0, 1, 0, 1, 0, 1, 0, 2, 2, 2, 0, 1,\n",
       "        2, 2, 0, 1, 2, 0, 2, 2, 2, 2, 1, 2, 0, 2, 2, 2, 1, 0, 2, 1, 0, 2,\n",
       "        0, 0, 2, 0, 1, 0, 1, 2, 0, 2, 0, 0, 2, 1, 0, 1, 0, 1, 0, 2, 0, 2,\n",
       "        1, 0, 0, 2, 1, 1, 1, 0, 1, 1, 1, 0, 2, 2, 2, 2, 0, 1, 1, 1, 1, 0,\n",
       "        1, 2, 1, 0, 1, 2, 2, 0, 1, 0, 1, 2, 1, 1, 1, 2, 2, 1, 0, 2, 1, 2,\n",
       "        0, 1, 2, 1, 2, 1, 1, 0, 2, 1, 2, 0, 0, 1, 2, 0, 0, 1, 0, 1, 1, 0,\n",
       "        2, 0, 1, 0, 0, 1, 2, 0, 0, 1, 2, 0, 1, 0, 2, 2, 1, 0, 2, 2, 0, 0,\n",
       "        0, 1, 1, 2, 2, 0, 1, 0, 1, 2, 2, 1, 0, 0, 1, 1, 2, 1, 1, 1, 2, 1,\n",
       "        1, 1]))"
      ]
     },
     "execution_count": 4,
     "metadata": {},
     "output_type": "execute_result"
    }
   ],
   "source": [
    "y_pred_p, y_target"
   ]
  },
  {
   "cell_type": "code",
   "execution_count": 5,
   "metadata": {},
   "outputs": [
    {
     "name": "stdout",
     "output_type": "stream",
     "text": [
      "The autoreload extension is already loaded. To reload it, use:\n",
      "  %reload_ext autoreload\n",
      "dict_keys(['precision', 'recall', 'f1score', 'accuracy', 'prc', 'aucpr', 'rocc', 'aucroc', 'xentropy'])\n",
      "dict_keys(['b-precision', 'w-precision', 'b-recall', 'w-recall', 'b-f1score', 'w-f1score', 'b-accuracy', 'w-accuracy', 'b-aucpr', 'w-aucpr', 'b-aucroc', 'w-aucroc', 'b-xentropy', 'w-xentropy'])\n",
      "b-precision 0.3479386188762579\n",
      "b-recall 0.34606755477460877\n",
      "b-f1score 0.34476622309253807\n",
      "b-accuracy 0.563333305166668\n",
      "b-aucpr 0.37205787973169446\n",
      "b-aucroc 0.5562006465791276\n",
      "b-xentropy 1.34393836904393\n"
     ]
    }
   ],
   "source": [
    "%load_ext autoreload\n",
    "%autoreload 2\n",
    "from fuzzytools.datascience import metrics as metrics\n",
    "from fuzzytools.cuteplots.cm_plots import plot_custom_confusion_matrix\n",
    "\n",
    "metrics_cdict, metrics_dict, cm = metrics.get_multiclass_metrics(y_pred_p, y_target, class_names)\n",
    "print(metrics_cdict[class_names[0]].keys())\n",
    "print(metrics_dict.keys())\n",
    "{c:metrics_cdict[c]['recall'] for c in class_names}\n",
    "for k in metrics_dict.keys():\n",
    "    if 'w-' in k:\n",
    "        continue\n",
    "    print(k, metrics_dict[k])"
   ]
  },
  {
   "cell_type": "code",
   "execution_count": 6,
   "metadata": {},
   "outputs": [
    {
     "name": "stdout",
     "output_type": "stream",
     "text": [
      "0.34793867190698435\n",
      "0.3460676071696313\n",
      "0.3447712418300654\n"
     ]
    }
   ],
   "source": [
    "from sklearn import metrics as skmetrics\n",
    "\n",
    "precision, recall, f1score,_ = skmetrics.precision_recall_fscore_support(y_target, y_pred_p.argmax(axis=-1),\n",
    "                average=None,\n",
    "                labels=range(0, len(class_names)),\n",
    "                )\n",
    "print(np.mean(precision))\n",
    "print(np.mean(recall))\n",
    "print(np.mean(f1score))"
   ]
  },
  {
   "cell_type": "code",
   "execution_count": 7,
   "metadata": {},
   "outputs": [
    {
     "name": "stdout",
     "output_type": "stream",
     "text": [
      "0.25\n"
     ]
    }
   ],
   "source": [
    "precision, recall, score,_ = skmetrics.precision_recall_fscore_support(\n",
    "    np.array([0, 0, 0 ,1 ,0 ,1, 0, 0 ,0, 1, 0, 0, 1, 0, 0, 1 ,0, 0 ,0 ,1]).astype(bool),\n",
    "    np.array([0 ,0, 1, 0 ,0, 1 ,1 ,0, 0, 0, 0, 1, 0, 0, 0, 0, 0 ,0, 0 ,0]).astype(bool),\n",
    "    average='binary', pos_label=1)\n",
    "print(precision)"
   ]
  },
  {
   "cell_type": "code",
   "execution_count": 8,
   "metadata": {},
   "outputs": [
    {
     "data": {
      "text/plain": [
       "[<matplotlib.lines.Line2D at 0x7f2792bb8e90>]"
      ]
     },
     "execution_count": 8,
     "metadata": {},
     "output_type": "execute_result"
    },
    {
     "data": {
      "image/png": "[encoded data removed]",
      "text/plain": [
       "<Figure size 432x288 with 1 Axes>"
      ]
     },
     "metadata": {
      "needs_background": "light"
     },
     "output_type": "display_data"
    }
   ],
   "source": [
    "import matplotlib.pyplot as plt\n",
    "\n",
    "rocc = metrics_cdict['a']['rocc']\n",
    "plt.plot(rocc['fpr'], rocc['tpr'])"
   ]
  },
  {
   "cell_type": "code",
   "execution_count": 9,
   "metadata": {},
   "outputs": [
    {
     "data": {
      "text/plain": [
       "[<matplotlib.lines.Line2D at 0x7f2792b95910>]"
      ]
     },
     "execution_count": 9,
     "metadata": {},
     "output_type": "execute_result"
    },
    {
     "data": {
      "image/png": "[encoded data removed]",
      "text/plain": [
       "<Figure size 432x288 with 1 Axes>"
      ]
     },
     "metadata": {
      "needs_background": "light"
     },
     "output_type": "display_data"
    }
   ],
   "source": [
    "import matplotlib.pyplot as plt\n",
    "\n",
    "rocc = metrics_cdict['a']['prc']\n",
    "plt.plot(rocc['recall'], rocc['precision'])"
   ]
  }
 ],
 "metadata": {
  "kernelspec": {
   "display_name": "Python 3",
   "language": "python",
   "name": "python3"
  },
  "language_info": {
   "codemirror_mode": {
    "name": "ipython",
    "version": 3
   },
   "file_extension": ".py",
   "mimetype": "text/x-python",
   "name": "python",
   "nbconvert_exporter": "python",
   "pygments_lexer": "ipython3",
   "version": "3.7.10"
  }
 },
 "nbformat": 4,
 "nbformat_minor": 4
}
