{
 "cells": [
  {
   "cell_type": "code",
   "execution_count": 1,
   "metadata": {},
   "outputs": [],
   "source": [
    "import sys\n",
    "sys.path.append('../') # or just install the module"
   ]
  },
  {
   "cell_type": "code",
   "execution_count": 2,
   "metadata": {
    "scrolled": false
   },
   "outputs": [
    {
     "name": "stdout",
     "output_type": "stream",
     "text": [
      "y_target [0 0 1 0 1 0 1 2 2 1 2 0 0 0 0 2 0 0 0 2 2 0 0 1 2 2 1 1 1 1 0 2 0 0 0 0 0\n",
      " 1 0 2 0 0 0 0 2 2 0 0 1 0 0 1 0 2 2 0 1 1 1 1 0 2 2 1 0 1 2 2 1 0 1 1 0 0\n",
      " 1 2 1 0 0 2 1 2 0 0 2 1 2 0 0 0 2 2 2 0 0 2 2 1 2 1 1 2 1 0 2 0 1 0 2 0 1\n",
      " 1 0 0 2 1 1 1 2 2 2 2 2 2 2 1 0 1 0 1 1 0 1 2 2 0 2 1 2 1 1 0 0 0 0 0 1 0\n",
      " 2 0 2 1 0 2 2 1 1 1 1 1 1 0 1 1 2 2 0 0 1 2 1 1 0 0 0 2 2 0 2 0 2 1 2 0 0\n",
      " 1 2 0 1 0 2 2 0 2 2 2 2 0 2 2] (200,)\n",
      "y_pred_p (200, 3)\n"
     ]
    }
   ],
   "source": [
    "import numpy as np\n",
    "\n",
    "N = 200\n",
    "class_names = ['a', 'b', 'c']\n",
    "y_target = np.random.randint(0, len(class_names), size=(N))\n",
    "y_pred_p = np.random.uniform(0, 1, size=(N, len(class_names)))\n",
    "y_pred_p = y_pred_p/np.sum(y_pred_p, axis=1)[...,None]\n",
    "#print(np.sum(y_probs, axis=1))\n",
    "print('y_target', y_target, y_target.shape)\n",
    "print('y_pred_p', y_pred_p.shape)"
   ]
  },
  {
   "cell_type": "code",
   "execution_count": 3,
   "metadata": {},
   "outputs": [
    {
     "data": {
      "text/plain": [
       "(<Figure size 480x400 with 2 Axes>,\n",
       " <matplotlib.axes._subplots.AxesSubplot at 0x7fae60d54090>,\n",
       " array([[[0.32894737, 0.28947368, 0.38157895],\n",
       "         [0.44067797, 0.30508475, 0.25423729],\n",
       "         [0.27692308, 0.43076923, 0.29230769]]]))"
      ]
     },
     "execution_count": 3,
     "metadata": {},
     "output_type": "execute_result"
    },
    {
     "data": {
      "image/png": "[encoded data removed]",
      "text/plain": [
       "<Figure size 480x400 with 2 Axes>"
      ]
     },
     "metadata": {
      "needs_background": "light"
     },
     "output_type": "display_data"
    }
   ],
   "source": [
    "%load_ext autoreload\n",
    "%autoreload 2\n",
    "from fuzzytools.datascience import metrics as metrics\n",
    "from fuzzytools.cuteplots.cm_plots import plot_custom_confusion_matrix\n",
    "\n",
    "metrics_cdict, metrics_dict, cm = metrics.get_multiclass_metrics(y_pred_p, y_target, class_names)\n",
    "title = ''\n",
    "#title += f'b-f1score={f1score_xe}'+'\\n'\n",
    "#title += f'b-accuracy={accuracy_xe}%'+'\\n'\n",
    "cm_kwargs = {\n",
    "    'title':title[:-1],\n",
    "    'figsize':(6,5),\n",
    "    'normalize_mode':None,\n",
    "}\n",
    "#fig, ax = plot_custom_confusion_matrix(cm[None], class_names, **cm_kwargs)\n",
    "cm_kwargs = {\n",
    "    'title':title[:-1],\n",
    "    'figsize':(6,5),\n",
    "    'normalize_mode':'true',\n",
    "}\n",
    "plot_custom_confusion_matrix(cm[None], class_names, **cm_kwargs)"
   ]
  },
  {
   "cell_type": "code",
   "execution_count": 4,
   "metadata": {},
   "outputs": [
    {
     "data": {
      "text/plain": [
       "(array([[6.27794433e-01, 2.85553867e-01, 8.66516994e-02],\n",
       "        [1.93192041e-01, 3.98561263e-01, 4.08246696e-01],\n",
       "        [3.51339709e-01, 3.09745143e-01, 3.38915149e-01],\n",
       "        [8.18626746e-01, 1.12507520e-01, 6.88657338e-02],\n",
       "        [4.45985908e-01, 5.34591504e-01, 1.94225876e-02],\n",
       "        [5.38956010e-01, 4.62124374e-03, 4.56422746e-01],\n",
       "        [3.97980061e-01, 3.55890909e-01, 2.46129030e-01],\n",
       "        [6.39148567e-01, 4.95460389e-02, 3.11305394e-01],\n",
       "        [1.18984914e-01, 2.86272606e-01, 5.94742481e-01],\n",
       "        [2.34442421e-01, 6.29306236e-01, 1.36251343e-01],\n",
       "        [1.15664841e-03, 5.08854900e-01, 4.89988451e-01],\n",
       "        [3.15278130e-02, 2.18568625e-01, 7.49903562e-01],\n",
       "        [9.15631439e-01, 3.80360238e-02, 4.63325371e-02],\n",
       "        [4.45308066e-01, 4.50498244e-02, 5.09642110e-01],\n",
       "        [2.27012230e-01, 4.23593379e-01, 3.49394391e-01],\n",
       "        [4.88973386e-01, 4.18469961e-01, 9.25566538e-02],\n",
       "        [1.26295449e-01, 1.56960197e-01, 7.16744355e-01],\n",
       "        [2.97482058e-01, 3.09076592e-01, 3.93441351e-01],\n",
       "        [4.12481478e-01, 3.58004972e-01, 2.29513550e-01],\n",
       "        [4.60349380e-01, 2.44399991e-01, 2.95250629e-01],\n",
       "        [4.10400468e-01, 4.74830506e-01, 1.14769026e-01],\n",
       "        [1.17856539e-01, 5.28494406e-01, 3.53649055e-01],\n",
       "        [4.26004927e-01, 7.79452231e-02, 4.96049850e-01],\n",
       "        [5.88714635e-01, 3.25186821e-01, 8.60985436e-02],\n",
       "        [5.71425941e-03, 3.89956555e-01, 6.04329186e-01],\n",
       "        [1.85722808e-01, 2.48713022e-01, 5.65564170e-01],\n",
       "        [3.01312189e-01, 5.27875164e-01, 1.70812647e-01],\n",
       "        [3.41136940e-01, 2.63401131e-01, 3.95461929e-01],\n",
       "        [7.36624958e-01, 3.35916320e-02, 2.29783410e-01],\n",
       "        [4.33411068e-01, 1.41699262e-01, 4.24889669e-01],\n",
       "        [1.33606627e-01, 3.80150946e-01, 4.86242427e-01],\n",
       "        [2.66818164e-01, 1.41347814e-01, 5.91834022e-01],\n",
       "        [2.35826017e-01, 6.99282951e-01, 6.48910320e-02],\n",
       "        [3.87562714e-01, 1.47971087e-01, 4.64466199e-01],\n",
       "        [6.67539300e-01, 9.57209221e-02, 2.36739778e-01],\n",
       "        [7.05160785e-01, 1.56783452e-01, 1.38055763e-01],\n",
       "        [6.04573408e-01, 1.49397308e-01, 2.46029284e-01],\n",
       "        [1.55621087e-01, 5.15031666e-01, 3.29347247e-01],\n",
       "        [5.60379459e-01, 2.72205090e-01, 1.67415451e-01],\n",
       "        [3.70963248e-01, 3.70091458e-02, 5.92027606e-01],\n",
       "        [3.33773594e-01, 3.20291730e-01, 3.45934675e-01],\n",
       "        [5.08579484e-02, 3.84389699e-01, 5.64752353e-01],\n",
       "        [2.44090275e-01, 4.56937655e-01, 2.98972070e-01],\n",
       "        [1.92806292e-01, 4.98086440e-01, 3.09107268e-01],\n",
       "        [3.80059054e-01, 1.71274408e-01, 4.48666538e-01],\n",
       "        [1.55807710e-01, 5.16478077e-01, 3.27714213e-01],\n",
       "        [4.79902373e-01, 3.13918930e-02, 4.88705734e-01],\n",
       "        [3.08292834e-01, 2.84244616e-01, 4.07462550e-01],\n",
       "        [5.96645410e-01, 3.17068909e-01, 8.62856811e-02],\n",
       "        [2.29532081e-01, 4.56886988e-01, 3.13580931e-01],\n",
       "        [4.01942281e-01, 1.66415425e-01, 4.31642294e-01],\n",
       "        [2.72030870e-01, 3.71118585e-01, 3.56850545e-01],\n",
       "        [4.68340632e-01, 3.70967521e-01, 1.60691847e-01],\n",
       "        [4.69667513e-01, 3.94540162e-01, 1.35792324e-01],\n",
       "        [3.77248069e-01, 3.44563488e-01, 2.78188443e-01],\n",
       "        [3.15408515e-01, 2.13435581e-01, 4.71155905e-01],\n",
       "        [3.46217048e-01, 1.76381334e-01, 4.77401617e-01],\n",
       "        [1.29273697e-01, 2.12857403e-01, 6.57868900e-01],\n",
       "        [2.26977353e-01, 4.17395151e-01, 3.55627496e-01],\n",
       "        [6.01944912e-01, 2.45279112e-01, 1.52775976e-01],\n",
       "        [1.82488527e-01, 5.06718963e-01, 3.10792510e-01],\n",
       "        [1.23715994e-01, 2.70455609e-01, 6.05828398e-01],\n",
       "        [2.27781673e-01, 1.57596882e-01, 6.14621444e-01],\n",
       "        [3.79728925e-01, 3.26989533e-01, 2.93281541e-01],\n",
       "        [5.58882781e-03, 9.94033435e-01, 3.77736974e-04],\n",
       "        [4.85458332e-01, 2.86669618e-01, 2.27872050e-01],\n",
       "        [1.72773363e-01, 5.04068455e-01, 3.23158182e-01],\n",
       "        [3.75830769e-01, 2.42999617e-01, 3.81169614e-01],\n",
       "        [5.07746585e-01, 7.55435442e-02, 4.16709870e-01],\n",
       "        [2.84300259e-01, 1.44627078e-02, 7.01237034e-01],\n",
       "        [3.52589774e-01, 3.01823095e-01, 3.45587131e-01],\n",
       "        [8.75455383e-01, 1.00307153e-01, 2.42374633e-02],\n",
       "        [2.51143167e-01, 4.17744870e-01, 3.31111963e-01],\n",
       "        [4.62031328e-01, 8.83508417e-02, 4.49617831e-01],\n",
       "        [2.47686353e-01, 2.92960908e-01, 4.59352739e-01],\n",
       "        [2.73067239e-01, 4.13286455e-01, 3.13646307e-01],\n",
       "        [2.57330352e-01, 5.34701897e-01, 2.07967751e-01],\n",
       "        [5.43179715e-01, 9.96538384e-02, 3.57166447e-01],\n",
       "        [3.38418227e-01, 4.76890628e-01, 1.84691145e-01],\n",
       "        [3.38394094e-01, 1.84170360e-01, 4.77435546e-01],\n",
       "        [2.30864039e-01, 3.30469569e-01, 4.38666392e-01],\n",
       "        [3.53885153e-01, 5.10162908e-01, 1.35951939e-01],\n",
       "        [1.24849160e-01, 3.44217248e-01, 5.30933593e-01],\n",
       "        [6.77072116e-01, 2.70941828e-01, 5.19860560e-02],\n",
       "        [4.29852343e-01, 1.61451945e-01, 4.08695712e-01],\n",
       "        [2.61008280e-01, 2.25346457e-01, 5.13645263e-01],\n",
       "        [4.62908245e-01, 1.84835947e-01, 3.52255808e-01],\n",
       "        [4.41849949e-01, 3.78785948e-01, 1.79364102e-01],\n",
       "        [1.50836609e-02, 3.11702314e-01, 6.73214025e-01],\n",
       "        [1.76288485e-01, 4.40589200e-01, 3.83122316e-01],\n",
       "        [6.72575947e-01, 7.41599301e-02, 2.53264123e-01],\n",
       "        [3.69544539e-01, 5.30332105e-01, 1.00123356e-01],\n",
       "        [3.18988032e-01, 3.71557194e-01, 3.09454774e-01],\n",
       "        [2.56946817e-01, 5.52839386e-01, 1.90213797e-01],\n",
       "        [5.58164399e-01, 3.30710558e-02, 4.08764545e-01],\n",
       "        [3.21960622e-01, 2.74544242e-01, 4.03495135e-01],\n",
       "        [3.03531012e-02, 1.46260206e-01, 8.23386693e-01],\n",
       "        [3.92990515e-01, 3.34874124e-01, 2.72135361e-01],\n",
       "        [1.56141329e-01, 5.20335982e-01, 3.23522689e-01],\n",
       "        [2.25371711e-01, 3.24661817e-01, 4.49966472e-01],\n",
       "        [1.04870106e-01, 5.10521010e-01, 3.84608884e-01],\n",
       "        [2.49575120e-01, 4.84358189e-01, 2.66066691e-01],\n",
       "        [3.92955705e-01, 5.33169127e-01, 7.38751675e-02],\n",
       "        [4.82379097e-01, 3.74394486e-01, 1.43226417e-01],\n",
       "        [6.47036119e-01, 2.21440800e-01, 1.31523081e-01],\n",
       "        [3.26316466e-01, 2.24916441e-01, 4.48767092e-01],\n",
       "        [1.16524117e-01, 5.79545546e-01, 3.03930337e-01],\n",
       "        [3.24794217e-01, 1.58099342e-01, 5.17106441e-01],\n",
       "        [2.96166785e-01, 3.63582565e-01, 3.40250650e-01],\n",
       "        [3.04383003e-01, 5.43197936e-01, 1.52419061e-01],\n",
       "        [5.03473806e-01, 4.11199551e-01, 8.53266431e-02],\n",
       "        [5.90276842e-01, 3.50609636e-01, 5.91135220e-02],\n",
       "        [2.39512323e-01, 3.70262358e-01, 3.90225319e-01],\n",
       "        [4.74364918e-01, 1.72876299e-01, 3.52758783e-01],\n",
       "        [3.11399804e-01, 3.67586757e-01, 3.21013439e-01],\n",
       "        [2.58462465e-01, 6.85195973e-01, 5.63415614e-02],\n",
       "        [1.19304410e-01, 2.70477964e-01, 6.10217625e-01],\n",
       "        [2.79388574e-01, 2.77720546e-01, 4.42890880e-01],\n",
       "        [3.29169219e-01, 6.03976998e-01, 6.68537831e-02],\n",
       "        [1.87987603e-01, 6.39697143e-01, 1.72315254e-01],\n",
       "        [1.46926724e-01, 6.61882845e-01, 1.91190431e-01],\n",
       "        [1.18044817e-01, 4.46339891e-01, 4.35615292e-01],\n",
       "        [5.23832178e-01, 1.66312245e-01, 3.09855577e-01],\n",
       "        [2.13742372e-01, 5.72507235e-01, 2.13750393e-01],\n",
       "        [4.24672972e-02, 6.52573131e-01, 3.04959572e-01],\n",
       "        [3.54916704e-01, 3.09708757e-01, 3.35374539e-01],\n",
       "        [1.36000678e-01, 2.25514884e-01, 6.38484438e-01],\n",
       "        [4.34044709e-01, 4.20722970e-01, 1.45232321e-01],\n",
       "        [2.69515390e-01, 4.92714563e-01, 2.37770046e-01],\n",
       "        [3.71458917e-01, 4.78810051e-01, 1.49731032e-01],\n",
       "        [3.97330341e-01, 1.30886153e-01, 4.71783507e-01],\n",
       "        [1.57775751e-01, 5.06581818e-01, 3.35642431e-01],\n",
       "        [3.84329694e-01, 2.72936265e-01, 3.42734042e-01],\n",
       "        [4.32657117e-01, 8.29337434e-02, 4.84409140e-01],\n",
       "        [3.75588658e-01, 3.22135076e-01, 3.02276266e-01],\n",
       "        [1.25157533e-01, 8.47567668e-01, 2.72747988e-02],\n",
       "        [4.47084194e-01, 4.47443748e-01, 1.05472058e-01],\n",
       "        [3.90585805e-01, 5.25033131e-01, 8.43810644e-02],\n",
       "        [1.97350222e-01, 7.01727877e-01, 1.00921901e-01],\n",
       "        [2.71852629e-01, 3.61010933e-01, 3.67136438e-01],\n",
       "        [3.93286761e-01, 2.73604627e-01, 3.33108612e-01],\n",
       "        [4.36426486e-01, 4.70775020e-01, 9.27984940e-02],\n",
       "        [1.98840728e-01, 4.27288093e-01, 3.73871178e-01],\n",
       "        [2.65935012e-01, 3.32788058e-01, 4.01276930e-01],\n",
       "        [8.59283127e-02, 4.38199891e-01, 4.75871796e-01],\n",
       "        [4.33466823e-01, 1.34300905e-01, 4.32232273e-01],\n",
       "        [1.98363624e-01, 4.17529732e-01, 3.84106644e-01],\n",
       "        [5.17815146e-01, 2.49130977e-01, 2.33053877e-01],\n",
       "        [3.16007009e-01, 4.56886671e-01, 2.27106319e-01],\n",
       "        [6.64036408e-01, 2.99862405e-01, 3.61011874e-02],\n",
       "        [1.73928618e-01, 4.15974607e-01, 4.10096775e-01],\n",
       "        [2.03037019e-01, 2.84119448e-01, 5.12843533e-01],\n",
       "        [5.56650555e-01, 3.10087094e-01, 1.33262352e-01],\n",
       "        [3.73967766e-01, 7.62378574e-02, 5.49794377e-01],\n",
       "        [2.44396783e-01, 2.76684463e-01, 4.78918755e-01],\n",
       "        [2.58352560e-01, 3.31565960e-01, 4.10081479e-01],\n",
       "        [3.12298711e-01, 4.30168020e-01, 2.57533269e-01],\n",
       "        [3.19353067e-01, 3.31810471e-01, 3.48836462e-01],\n",
       "        [8.47542290e-01, 1.43211651e-01, 9.24605931e-03],\n",
       "        [3.90512456e-01, 3.52055558e-01, 2.57431985e-01],\n",
       "        [4.71232233e-01, 1.17075252e-01, 4.11692515e-01],\n",
       "        [3.66673639e-01, 8.50037506e-02, 5.48322610e-01],\n",
       "        [4.31465453e-01, 3.74132755e-01, 1.94401792e-01],\n",
       "        [5.76740468e-01, 9.92516248e-02, 3.24007907e-01],\n",
       "        [1.11148298e-01, 3.40816992e-01, 5.48034710e-01],\n",
       "        [4.60692121e-01, 5.05521545e-01, 3.37863342e-02],\n",
       "        [2.27285092e-01, 5.86927108e-01, 1.85787801e-01],\n",
       "        [5.04442525e-01, 2.09264119e-01, 2.86293356e-01],\n",
       "        [3.62234785e-01, 5.78261970e-01, 5.95032452e-02],\n",
       "        [1.98287948e-02, 6.72034821e-01, 3.08136385e-01],\n",
       "        [1.47627007e-02, 4.39547958e-01, 5.45689342e-01],\n",
       "        [3.15073593e-01, 6.50520831e-01, 3.44055763e-02],\n",
       "        [1.56067988e-01, 4.09964103e-01, 4.33967909e-01],\n",
       "        [4.26888777e-02, 7.18310418e-01, 2.39000704e-01],\n",
       "        [6.35947137e-02, 1.76909884e-01, 7.59495403e-01],\n",
       "        [1.04664538e-01, 4.30789433e-01, 4.64546029e-01],\n",
       "        [2.91280301e-01, 5.15832917e-01, 1.92886782e-01],\n",
       "        [4.86937016e-01, 2.41808051e-01, 2.71254932e-01],\n",
       "        [4.32409488e-01, 4.79542047e-01, 8.80484650e-02],\n",
       "        [2.86312746e-01, 2.08159231e-01, 5.05528023e-01],\n",
       "        [1.87406113e-01, 3.67375176e-01, 4.45218710e-01],\n",
       "        [3.18484760e-01, 3.47918644e-01, 3.33596597e-01],\n",
       "        [6.05805521e-02, 4.57657032e-01, 4.81762416e-01],\n",
       "        [3.04949225e-01, 4.88712055e-01, 2.06338720e-01],\n",
       "        [4.06728072e-01, 2.05244025e-01, 3.88027903e-01],\n",
       "        [6.33228757e-01, 1.86327151e-01, 1.80444092e-01],\n",
       "        [4.46146221e-01, 3.94746198e-01, 1.59107581e-01],\n",
       "        [4.58558267e-01, 3.50076243e-03, 5.37940970e-01],\n",
       "        [5.11524741e-01, 1.00716254e-01, 3.87759005e-01],\n",
       "        [4.67086093e-01, 5.01290649e-01, 3.16232583e-02],\n",
       "        [6.12635887e-01, 6.29921745e-02, 3.24371939e-01],\n",
       "        [2.58267839e-01, 4.39366766e-01, 3.02365395e-01],\n",
       "        [1.40642984e-01, 3.31709740e-01, 5.27647275e-01],\n",
       "        [4.63551304e-01, 3.56473818e-01, 1.79974878e-01],\n",
       "        [4.86694149e-01, 2.83214875e-01, 2.30090976e-01],\n",
       "        [5.18246585e-01, 1.35277065e-01, 3.46476350e-01],\n",
       "        [5.15693150e-01, 1.36565176e-01, 3.47741674e-01],\n",
       "        [6.17013565e-01, 2.14986583e-01, 1.67999852e-01],\n",
       "        [5.21356512e-01, 1.48525176e-01, 3.30118312e-01],\n",
       "        [3.92064379e-01, 4.85987896e-01, 1.21947725e-01]]),\n",
       " array([0, 0, 1, 0, 1, 0, 1, 2, 2, 1, 2, 0, 0, 0, 0, 2, 0, 0, 0, 2, 2, 0,\n",
       "        0, 1, 2, 2, 1, 1, 1, 1, 0, 2, 0, 0, 0, 0, 0, 1, 0, 2, 0, 0, 0, 0,\n",
       "        2, 2, 0, 0, 1, 0, 0, 1, 0, 2, 2, 0, 1, 1, 1, 1, 0, 2, 2, 1, 0, 1,\n",
       "        2, 2, 1, 0, 1, 1, 0, 0, 1, 2, 1, 0, 0, 2, 1, 2, 0, 0, 2, 1, 2, 0,\n",
       "        0, 0, 2, 2, 2, 0, 0, 2, 2, 1, 2, 1, 1, 2, 1, 0, 2, 0, 1, 0, 2, 0,\n",
       "        1, 1, 0, 0, 2, 1, 1, 1, 2, 2, 2, 2, 2, 2, 2, 1, 0, 1, 0, 1, 1, 0,\n",
       "        1, 2, 2, 0, 2, 1, 2, 1, 1, 0, 0, 0, 0, 0, 1, 0, 2, 0, 2, 1, 0, 2,\n",
       "        2, 1, 1, 1, 1, 1, 1, 0, 1, 1, 2, 2, 0, 0, 1, 2, 1, 1, 0, 0, 0, 2,\n",
       "        2, 0, 2, 0, 2, 1, 2, 0, 0, 1, 2, 0, 1, 0, 2, 2, 0, 2, 2, 2, 2, 0,\n",
       "        2, 2]))"
      ]
     },
     "execution_count": 4,
     "metadata": {},
     "output_type": "execute_result"
    }
   ],
   "source": [
    "y_pred_p, y_target"
   ]
  },
  {
   "cell_type": "code",
   "execution_count": 5,
   "metadata": {},
   "outputs": [
    {
     "name": "stdout",
     "output_type": "stream",
     "text": [
      "The autoreload extension is already loaded. To reload it, use:\n",
      "  %reload_ext autoreload\n",
      "dict_keys(['precision', 'recall', 'f1score', 'accuracy', 'prc', 'prauc', 'rocc', 'rocauc', 'xentropy'])\n",
      "dict_keys(['b-precision', 'w-precision', 'b-recall', 'w-recall', 'b-f1score', 'w-f1score', 'b-accuracy', 'w-accuracy', 'b-prauc', 'w-prauc', 'b-rocauc', 'w-rocauc', 'b-xentropy', 'w-xentropy'])\n",
      "b-precision 0.30953729507055366\n",
      "b-recall 0.30877988884307883\n",
      "b-f1score 0.30838401759133083\n",
      "b-accuracy 0.5399999730000012\n",
      "b-prauc 0.3589094896240836\n",
      "b-rocauc 0.5115275139753226\n",
      "b-xentropy 1.3328581118176734\n"
     ]
    }
   ],
   "source": [
    "%load_ext autoreload\n",
    "%autoreload 2\n",
    "from fuzzytools.datascience import metrics as metrics\n",
    "from fuzzytools.cuteplots.cm_plots import plot_custom_confusion_matrix\n",
    "\n",
    "metrics_cdict, metrics_dict, cm = metrics.get_multiclass_metrics(y_pred_p, y_target, class_names)\n",
    "print(metrics_cdict[class_names[0]].keys())\n",
    "print(metrics_dict.keys())\n",
    "{c:metrics_cdict[c]['recall'] for c in class_names}\n",
    "for k in metrics_dict.keys():\n",
    "    if 'w-' in k:\n",
    "        continue\n",
    "    print(k, metrics_dict[k])"
   ]
  },
  {
   "cell_type": "code",
   "execution_count": 6,
   "metadata": {},
   "outputs": [
    {
     "name": "stdout",
     "output_type": "stream",
     "text": [
      "0.30953734150665096\n",
      "0.3087799354971523\n",
      "0.3083890510453435\n"
     ]
    }
   ],
   "source": [
    "from sklearn import metrics as skmetrics\n",
    "\n",
    "precision, recall, f1score,_ = skmetrics.precision_recall_fscore_support(y_target, y_pred_p.argmax(axis=-1),\n",
    "                average=None,\n",
    "                labels=range(0, len(class_names)),\n",
    "                )\n",
    "print(np.mean(precision))\n",
    "print(np.mean(recall))\n",
    "print(np.mean(f1score))"
   ]
  },
  {
   "cell_type": "code",
   "execution_count": 7,
   "metadata": {},
   "outputs": [
    {
     "name": "stdout",
     "output_type": "stream",
     "text": [
      "0.25\n"
     ]
    }
   ],
   "source": [
    "precision, recall, score,_ = skmetrics.precision_recall_fscore_support(\n",
    "    np.array([0, 0, 0 ,1 ,0 ,1, 0, 0 ,0, 1, 0, 0, 1, 0, 0, 1 ,0, 0 ,0 ,1]).astype(bool),\n",
    "    np.array([0 ,0, 1, 0 ,0, 1 ,1 ,0, 0, 0, 0, 1, 0, 0, 0, 0, 0 ,0, 0 ,0]).astype(bool),\n",
    "    average='binary', pos_label=1)\n",
    "print(precision)"
   ]
  },
  {
   "cell_type": "code",
   "execution_count": 8,
   "metadata": {},
   "outputs": [
    {
     "data": {
      "text/plain": [
       "[<matplotlib.lines.Line2D at 0x7fae587360d0>]"
      ]
     },
     "execution_count": 8,
     "metadata": {},
     "output_type": "execute_result"
    },
    {
     "data": {
      "image/png": "[encoded data removed]",
      "text/plain": [
       "<Figure size 432x288 with 1 Axes>"
      ]
     },
     "metadata": {
      "needs_background": "light"
     },
     "output_type": "display_data"
    }
   ],
   "source": [
    "import matplotlib.pyplot as plt\n",
    "\n",
    "rocc = metrics_cdict['a']['rocc']\n",
    "plt.plot(rocc['fpr'], rocc['tpr'])"
   ]
  },
  {
   "cell_type": "code",
   "execution_count": 9,
   "metadata": {},
   "outputs": [
    {
     "data": {
      "text/plain": [
       "[<matplotlib.lines.Line2D at 0x7fae58724910>]"
      ]
     },
     "execution_count": 9,
     "metadata": {},
     "output_type": "execute_result"
    },
    {
     "data": {
      "image/png": "[encoded data removed]",
      "text/plain": [
       "<Figure size 432x288 with 1 Axes>"
      ]
     },
     "metadata": {
      "needs_background": "light"
     },
     "output_type": "display_data"
    }
   ],
   "source": [
    "import matplotlib.pyplot as plt\n",
    "\n",
    "rocc = metrics_cdict['a']['prc']\n",
    "plt.plot(rocc['recall'], rocc['precision'])"
   ]
  }
 ],
 "metadata": {
  "kernelspec": {
   "display_name": "Python 3",
   "language": "python",
   "name": "python3"
  },
  "language_info": {
   "codemirror_mode": {
    "name": "ipython",
    "version": 3
   },
   "file_extension": ".py",
   "mimetype": "text/x-python",
   "name": "python",
   "nbconvert_exporter": "python",
   "pygments_lexer": "ipython3",
   "version": "3.7.10"
  }
 },
 "nbformat": 4,
 "nbformat_minor": 4
}
