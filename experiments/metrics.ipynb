{
 "cells": [
  {
   "cell_type": "code",
   "execution_count": 1,
   "metadata": {},
   "outputs": [],
   "source": [
    "import sys\n",
    "sys.path.append('../') # or just install the module"
   ]
  },
  {
   "cell_type": "code",
   "execution_count": 2,
   "metadata": {
    "scrolled": false
   },
   "outputs": [
    {
     "name": "stdout",
     "output_type": "stream",
     "text": [
      "y_target [0 0 1 0 2 2 0 1 2 0 2 2 2 2 0 2 0 0 0 1 1 2 2 0 2 2 0 0 1 0 1 1 0 1 2 2 1\n",
      " 2 2 2 1 0 1 0 0 0 2 0 0 2 0 0 1 0 0 2 2 1 1 2 1 0 0 1 0 1 2 2 1 0 0 1 0 0\n",
      " 0 0 0 0 1 0 2 0 1 2 1 1 1 0 1 0 2 2 0 1 2 2 0 2 2 1 1 1 1 0 0 2 1 1 2 2 1\n",
      " 1 1 2 2 0 0 2 2 2 2 1 2 2 1 1 2 0 0 1 1 2 1 2 1 1 0 1 2 1 1 2 0 0 0 1 1 1\n",
      " 2 2 1 2 0 1 0 1 2 0 2 0 2 2 2 0 2 2 0 2 2 0 0 1 1 1 0 0 2 1 1 0 0 0 0 2 0\n",
      " 2 1 2 2 0 0 1 2 1 0 1 1 1 2 0] (200,)\n",
      "y_pred_p (200, 3)\n"
     ]
    }
   ],
   "source": [
    "import numpy as np\n",
    "\n",
    "N = 200\n",
    "class_names = ['a', 'b', 'c']\n",
    "y_target = np.random.randint(0, len(class_names), size=(N))\n",
    "y_pred_p = np.random.uniform(0, 1, size=(N, len(class_names)))\n",
    "y_pred_p = y_pred_p/np.sum(y_pred_p, axis=1)[...,None]\n",
    "print('y_target', y_target, y_target.shape)\n",
    "print('y_pred_p', y_pred_p.shape)"
   ]
  },
  {
   "cell_type": "code",
   "execution_count": 3,
   "metadata": {},
   "outputs": [
    {
     "data": {
      "text/plain": [
       "(<Figure size 480x400 with 2 Axes>,\n",
       " <matplotlib.axes._subplots.AxesSubplot at 0x7f4af09c6e50>,\n",
       " array([[[0.34285714, 0.4       , 0.25714286],\n",
       "         [0.31746032, 0.25396825, 0.42857143],\n",
       "         [0.34328358, 0.32835821, 0.32835821]]]))"
      ]
     },
     "execution_count": 3,
     "metadata": {},
     "output_type": "execute_result"
    },
    {
     "data": {
      "image/png": "[encoded data removed]",
      "text/plain": [
       "<Figure size 480x400 with 2 Axes>"
      ]
     },
     "metadata": {
      "needs_background": "light"
     },
     "output_type": "display_data"
    }
   ],
   "source": [
    "%load_ext autoreload\n",
    "%autoreload 2\n",
    "from fuzzytools.datascience import metrics as metrics\n",
    "from fuzzytools.cuteplots.cm_plots import plot_custom_confusion_matrix\n",
    "\n",
    "metrics_cdict, metrics_dict, cm = metrics.get_multiclass_metrics(y_pred_p, y_target, class_names)\n",
    "title = ''\n",
    "#title += f'b-f1score={f1score_xe}'+'\\n'\n",
    "#title += f'b-accuracy={accuracy_xe}%'+'\\n'\n",
    "cm_kwargs = {\n",
    "    'title':title[:-1],\n",
    "    'figsize':(6,5),\n",
    "    'normalize_mode':None,\n",
    "}\n",
    "#fig, ax = plot_custom_confusion_matrix(cm[None], class_names, **cm_kwargs)\n",
    "cm_kwargs = {\n",
    "    'title':title[:-1],\n",
    "    'figsize':(6,5),\n",
    "    'normalize_mode':'true',\n",
    "}\n",
    "plot_custom_confusion_matrix(cm[None], class_names, **cm_kwargs)"
   ]
  },
  {
   "cell_type": "code",
   "execution_count": 4,
   "metadata": {},
   "outputs": [
    {
     "data": {
      "text/plain": [
       "(array([[0.5446306 , 0.14270539, 0.31266401],\n",
       "        [0.34168124, 0.23847335, 0.41984541],\n",
       "        [0.5353908 , 0.09825119, 0.36635802],\n",
       "        [0.37697924, 0.42092247, 0.20209829],\n",
       "        [0.29874101, 0.49701496, 0.20424403],\n",
       "        [0.12083989, 0.17959934, 0.69956077],\n",
       "        [0.49624   , 0.1476756 , 0.3560844 ],\n",
       "        [0.3575437 , 0.23262898, 0.40982732],\n",
       "        [0.26239653, 0.12103428, 0.61656919],\n",
       "        [0.54635084, 0.01777421, 0.43587495],\n",
       "        [0.44597097, 0.23017421, 0.32385482],\n",
       "        [0.39570946, 0.36102219, 0.24326835],\n",
       "        [0.14190179, 0.11007868, 0.74801953],\n",
       "        [0.53866952, 0.44548992, 0.01584056],\n",
       "        [0.25861416, 0.03201765, 0.70936819],\n",
       "        [0.09478038, 0.1971437 , 0.70807592],\n",
       "        [0.34663553, 0.29923229, 0.35413218],\n",
       "        [0.45373444, 0.15501213, 0.39125342],\n",
       "        [0.22435239, 0.50787318, 0.26777443],\n",
       "        [0.05836197, 0.41048012, 0.53115791],\n",
       "        [0.24514484, 0.16303683, 0.59181833],\n",
       "        [0.64223529, 0.04984289, 0.30792182],\n",
       "        [0.44830709, 0.25052902, 0.3011639 ],\n",
       "        [0.06255531, 0.49804841, 0.43939628],\n",
       "        [0.43734229, 0.20524239, 0.35741532],\n",
       "        [0.46402624, 0.36060558, 0.17536817],\n",
       "        [0.22559884, 0.5823745 , 0.19202667],\n",
       "        [0.03835182, 0.58720114, 0.37444704],\n",
       "        [0.06316452, 0.49917308, 0.43766241],\n",
       "        [0.38263598, 0.40413177, 0.21323225],\n",
       "        [0.00105204, 0.61068934, 0.38825862],\n",
       "        [0.2765629 , 0.42821247, 0.29522463],\n",
       "        [0.45569186, 0.18112115, 0.36318699],\n",
       "        [0.28759582, 0.23191551, 0.48048867],\n",
       "        [0.43139421, 0.19592479, 0.37268101],\n",
       "        [0.25051316, 0.74429066, 0.00519618],\n",
       "        [0.32520123, 0.32659114, 0.34820763],\n",
       "        [0.24501289, 0.09388682, 0.66110029],\n",
       "        [0.44080721, 0.27334443, 0.28584836],\n",
       "        [0.22292784, 0.43903266, 0.3380395 ],\n",
       "        [0.41567335, 0.24993496, 0.33439169],\n",
       "        [0.25221713, 0.50346544, 0.24431743],\n",
       "        [0.51293224, 0.1217514 , 0.36531635],\n",
       "        [0.94535593, 0.02198293, 0.03266114],\n",
       "        [0.51926626, 0.33692425, 0.14380949],\n",
       "        [0.28733443, 0.42009136, 0.29257421],\n",
       "        [0.4541693 , 0.1093869 , 0.4364438 ],\n",
       "        [0.30312044, 0.18642714, 0.51045242],\n",
       "        [0.09400291, 0.61898744, 0.28700965],\n",
       "        [0.26435101, 0.34193542, 0.39371357],\n",
       "        [0.17531764, 0.15539486, 0.66928749],\n",
       "        [0.59387333, 0.02022737, 0.3858993 ],\n",
       "        [0.18032905, 0.33024695, 0.489424  ],\n",
       "        [0.25001648, 0.38031574, 0.36966778],\n",
       "        [0.30204108, 0.40662843, 0.29133049],\n",
       "        [0.63761215, 0.10865094, 0.25373691],\n",
       "        [0.09325193, 0.55874254, 0.34800553],\n",
       "        [0.35857701, 0.39557585, 0.24584713],\n",
       "        [0.55159876, 0.41094294, 0.0374583 ],\n",
       "        [0.27340866, 0.07146091, 0.65513042],\n",
       "        [0.14343459, 0.6188629 , 0.23770251],\n",
       "        [0.83144022, 0.05933188, 0.1092279 ],\n",
       "        [0.03093415, 0.70642985, 0.26263599],\n",
       "        [0.40309043, 0.49814458, 0.098765  ],\n",
       "        [0.37080356, 0.32139754, 0.3077989 ],\n",
       "        [0.03970279, 0.18625846, 0.77403875],\n",
       "        [0.06220198, 0.2710516 , 0.66674642],\n",
       "        [0.33001759, 0.6411151 , 0.02886731],\n",
       "        [0.16446167, 0.3968682 , 0.43867012],\n",
       "        [0.31035614, 0.27812042, 0.41152344],\n",
       "        [0.2982096 , 0.58842417, 0.11336622],\n",
       "        [0.50850051, 0.23707671, 0.25442278],\n",
       "        [0.07524123, 0.27639001, 0.64836876],\n",
       "        [0.50594924, 0.20167377, 0.29237698],\n",
       "        [0.53319038, 0.23232118, 0.23448844],\n",
       "        [0.01648252, 0.50796234, 0.47555514],\n",
       "        [0.16488639, 0.82094358, 0.01417003],\n",
       "        [0.11137897, 0.68344015, 0.20518088],\n",
       "        [0.26831914, 0.15198821, 0.57969265],\n",
       "        [0.42943823, 0.32017189, 0.25038988],\n",
       "        [0.64686458, 0.07329256, 0.27984286],\n",
       "        [0.35639658, 0.27306726, 0.37053616],\n",
       "        [0.78654207, 0.18985725, 0.02360068],\n",
       "        [0.34546097, 0.29486302, 0.35967602],\n",
       "        [0.10872648, 0.23096237, 0.66031115],\n",
       "        [0.35536291, 0.24777291, 0.39686418],\n",
       "        [0.34271709, 0.14192175, 0.51536117],\n",
       "        [0.40095231, 0.4203138 , 0.1787339 ],\n",
       "        [0.31318583, 0.48530613, 0.20150805],\n",
       "        [0.12845459, 0.32784317, 0.54370224],\n",
       "        [0.36244054, 0.54574933, 0.09181014],\n",
       "        [0.15455562, 0.13017664, 0.71526774],\n",
       "        [0.03305079, 0.28628896, 0.68066024],\n",
       "        [0.27280501, 0.59212883, 0.13506616],\n",
       "        [0.37416525, 0.13086106, 0.49497369],\n",
       "        [0.05899235, 0.81410773, 0.12689992],\n",
       "        [0.32051393, 0.35520509, 0.32428098],\n",
       "        [0.73058718, 0.01844457, 0.25096825],\n",
       "        [0.11455344, 0.8177355 , 0.06771106],\n",
       "        [0.592244  , 0.35192903, 0.05582697],\n",
       "        [0.02158888, 0.05589975, 0.92251136],\n",
       "        [0.62697193, 0.16499867, 0.2080294 ],\n",
       "        [0.19321908, 0.37829243, 0.42848849],\n",
       "        [0.43040557, 0.14631222, 0.4232822 ],\n",
       "        [0.62581344, 0.30633788, 0.06784869],\n",
       "        [0.13525574, 0.31350525, 0.55123902],\n",
       "        [0.12943196, 0.41184876, 0.45871927],\n",
       "        [0.14516532, 0.71558692, 0.13924776],\n",
       "        [0.20738143, 0.59968674, 0.19293183],\n",
       "        [0.37934878, 0.51373507, 0.10691615],\n",
       "        [0.47842055, 0.00259875, 0.5189807 ],\n",
       "        [0.37845946, 0.24278968, 0.37875086],\n",
       "        [0.56461014, 0.03496403, 0.40042583],\n",
       "        [0.69307489, 0.29329547, 0.01362964],\n",
       "        [0.16819287, 0.61979931, 0.21200782],\n",
       "        [0.26071114, 0.26508428, 0.47420458],\n",
       "        [0.26471834, 0.53153996, 0.2037417 ],\n",
       "        [0.53904551, 0.10974217, 0.35121232],\n",
       "        [0.16335613, 0.2474209 , 0.58922297],\n",
       "        [0.17703584, 0.42107593, 0.40188823],\n",
       "        [0.28459338, 0.19332651, 0.52208011],\n",
       "        [0.04664995, 0.4849151 , 0.46843496],\n",
       "        [0.22996004, 0.45061617, 0.3194238 ],\n",
       "        [0.17632795, 0.3896997 , 0.43397234],\n",
       "        [0.15986224, 0.28072713, 0.55941063],\n",
       "        [0.57532798, 0.25196231, 0.1727097 ],\n",
       "        [0.34352137, 0.51197267, 0.14450596],\n",
       "        [0.28891451, 0.63739439, 0.0736911 ],\n",
       "        [0.23489339, 0.30916123, 0.45594537],\n",
       "        [0.24313859, 0.61269811, 0.1441633 ],\n",
       "        [0.27242488, 0.33595408, 0.39162104],\n",
       "        [0.01926951, 0.87437258, 0.10635791],\n",
       "        [0.15639122, 0.33452287, 0.50908591],\n",
       "        [0.05062726, 0.54512333, 0.40424941],\n",
       "        [0.49933789, 0.42311615, 0.07754595],\n",
       "        [0.16588459, 0.11192333, 0.72219207],\n",
       "        [0.30634599, 0.10464448, 0.58900953],\n",
       "        [0.0994586 , 0.17997928, 0.72056213],\n",
       "        [0.22978324, 0.42849642, 0.34172034],\n",
       "        [0.43777493, 0.32612819, 0.23609688],\n",
       "        [0.25034303, 0.4533112 , 0.29634576],\n",
       "        [0.12498027, 0.57163122, 0.30338852],\n",
       "        [0.31638239, 0.20414992, 0.47946769],\n",
       "        [0.46965928, 0.30863669, 0.22170402],\n",
       "        [0.3206567 , 0.33172187, 0.34762142],\n",
       "        [0.34642583, 0.32871736, 0.32485681],\n",
       "        [0.06482616, 0.35750991, 0.57766393],\n",
       "        [0.09619425, 0.57850745, 0.3252983 ],\n",
       "        [0.5461803 , 0.29014248, 0.16367722],\n",
       "        [0.29025293, 0.33740658, 0.37234049],\n",
       "        [0.50013029, 0.23175854, 0.26811116],\n",
       "        [0.4532933 , 0.11571166, 0.43099505],\n",
       "        [0.52235609, 0.40497625, 0.07266766],\n",
       "        [0.17546941, 0.32705137, 0.49747922],\n",
       "        [0.11438806, 0.49367404, 0.3919379 ],\n",
       "        [0.31928285, 0.12052003, 0.56019712],\n",
       "        [0.25358352, 0.71532263, 0.03109385],\n",
       "        [0.46475083, 0.18985431, 0.34539486],\n",
       "        [0.3873858 , 0.18643311, 0.42618109],\n",
       "        [0.04065894, 0.0972957 , 0.86204536],\n",
       "        [0.3017037 , 0.47642835, 0.22186795],\n",
       "        [0.53129715, 0.08277407, 0.38592878],\n",
       "        [0.08955579, 0.329871  , 0.58057321],\n",
       "        [0.12493118, 0.47061343, 0.40445539],\n",
       "        [0.19282436, 0.02686475, 0.7803109 ],\n",
       "        [0.64227399, 0.26017143, 0.09755457],\n",
       "        [0.30695097, 0.23661379, 0.45643524],\n",
       "        [0.20201737, 0.3454599 , 0.45252274],\n",
       "        [0.30721382, 0.60703128, 0.0857549 ],\n",
       "        [0.21125602, 0.22214221, 0.56660177],\n",
       "        [0.486654  , 0.48572338, 0.02762262],\n",
       "        [0.79537034, 0.09521891, 0.10941075],\n",
       "        [0.55033729, 0.00987299, 0.43978972],\n",
       "        [0.1117859 , 0.4388206 , 0.4493935 ],\n",
       "        [0.52439019, 0.28960244, 0.18600737],\n",
       "        [0.44843071, 0.36530313, 0.18626616],\n",
       "        [0.13352921, 0.79101059, 0.0754602 ],\n",
       "        [0.45475253, 0.35514951, 0.19009795],\n",
       "        [0.39853867, 0.25288611, 0.34857522],\n",
       "        [0.52824508, 0.2880125 , 0.18374242],\n",
       "        [0.3393059 , 0.63854686, 0.02214724],\n",
       "        [0.35479325, 0.31220503, 0.33300171],\n",
       "        [0.27482808, 0.3832011 , 0.34197082],\n",
       "        [0.45385178, 0.26128791, 0.28486031],\n",
       "        [0.03295719, 0.49829992, 0.46874289],\n",
       "        [0.27091987, 0.27785745, 0.45122267],\n",
       "        [0.32070663, 0.42764675, 0.25164663],\n",
       "        [0.41450808, 0.39641623, 0.18907569],\n",
       "        [0.24966828, 0.04724768, 0.70308405],\n",
       "        [0.497097  , 0.19444037, 0.30846263],\n",
       "        [0.25636265, 0.40249077, 0.34114658],\n",
       "        [0.30430738, 0.50031215, 0.19538046],\n",
       "        [0.55738647, 0.19029568, 0.25231785],\n",
       "        [0.37636047, 0.00675858, 0.61688095],\n",
       "        [0.0764754 , 0.67070783, 0.25281677],\n",
       "        [0.51185438, 0.2842111 , 0.20393452],\n",
       "        [0.50865881, 0.16150839, 0.3298328 ],\n",
       "        [0.0456456 , 0.5017416 , 0.4526128 ],\n",
       "        [0.46536864, 0.11831487, 0.41631649],\n",
       "        [0.16171059, 0.70502507, 0.13326434]]),\n",
       " array([0, 0, 1, 0, 2, 2, 0, 1, 2, 0, 2, 2, 2, 2, 0, 2, 0, 0, 0, 1, 1, 2,\n",
       "        2, 0, 2, 2, 0, 0, 1, 0, 1, 1, 0, 1, 2, 2, 1, 2, 2, 2, 1, 0, 1, 0,\n",
       "        0, 0, 2, 0, 0, 2, 0, 0, 1, 0, 0, 2, 2, 1, 1, 2, 1, 0, 0, 1, 0, 1,\n",
       "        2, 2, 1, 0, 0, 1, 0, 0, 0, 0, 0, 0, 1, 0, 2, 0, 1, 2, 1, 1, 1, 0,\n",
       "        1, 0, 2, 2, 0, 1, 2, 2, 0, 2, 2, 1, 1, 1, 1, 0, 0, 2, 1, 1, 2, 2,\n",
       "        1, 1, 1, 2, 2, 0, 0, 2, 2, 2, 2, 1, 2, 2, 1, 1, 2, 0, 0, 1, 1, 2,\n",
       "        1, 2, 1, 1, 0, 1, 2, 1, 1, 2, 0, 0, 0, 1, 1, 1, 2, 2, 1, 2, 0, 1,\n",
       "        0, 1, 2, 0, 2, 0, 2, 2, 2, 0, 2, 2, 0, 2, 2, 0, 0, 1, 1, 1, 0, 0,\n",
       "        2, 1, 1, 0, 0, 0, 0, 2, 0, 2, 1, 2, 2, 0, 0, 1, 2, 1, 0, 1, 1, 1,\n",
       "        2, 0]))"
      ]
     },
     "execution_count": 4,
     "metadata": {},
     "output_type": "execute_result"
    }
   ],
   "source": [
    "y_pred_p, y_target"
   ]
  },
  {
   "cell_type": "code",
   "execution_count": 5,
   "metadata": {},
   "outputs": [
    {
     "name": "stdout",
     "output_type": "stream",
     "text": [
      "The autoreload extension is already loaded. To reload it, use:\n",
      "  %reload_ext autoreload\n",
      "dict_keys(['precision', 'recall', 'f1score', 'accuracy', 'prc', 'aucpr', 'rocc', 'aucroc', 'xentropy'])\n",
      "dict_keys(['b-precision', 'w-precision', 'b-recall', 'w-recall', 'b-f1score', 'w-f1score', 'b-accuracy', 'w-accuracy', 'b-aucpr', 'w-aucpr', 'b-aucroc', 'w-aucroc', 'b-xentropy', 'w-xentropy'])\n",
      "b-precision 0.30966375579990363\n",
      "b-recall 0.30839448915998013\n",
      "b-f1score 0.308923351565503\n",
      "b-accuracy 0.5399999730000014\n",
      "b-aucpr 0.33508202770541967\n",
      "b-aucroc 0.4852294469957787\n",
      "b-xentropy 1.3517227981820643\n"
     ]
    }
   ],
   "source": [
    "%load_ext autoreload\n",
    "%autoreload 2\n",
    "from fuzzytools.datascience import metrics as metrics\n",
    "from fuzzytools.cuteplots.cm_plots import plot_custom_confusion_matrix\n",
    "\n",
    "metrics_cdict, metrics_dict, cm = metrics.get_multiclass_metrics(y_pred_p, y_target, class_names)\n",
    "print(metrics_cdict[class_names[0]].keys())\n",
    "print(metrics_dict.keys())\n",
    "{c:metrics_cdict[c]['recall'] for c in class_names}\n",
    "for k in metrics_dict.keys():\n",
    "    if 'w-' in k:\n",
    "        continue\n",
    "    print(k, metrics_dict[k])"
   ]
  },
  {
   "cell_type": "code",
   "execution_count": 6,
   "metadata": {},
   "outputs": [
    {
     "name": "stdout",
     "output_type": "stream",
     "text": [
      "0.3096638022011156\n",
      "0.3083945352602069\n",
      "0.3089283959875832\n"
     ]
    }
   ],
   "source": [
    "from sklearn import metrics as skmetrics\n",
    "\n",
    "precision, recall, f1score,_ = skmetrics.precision_recall_fscore_support(y_target, y_pred_p.argmax(axis=-1),\n",
    "                average=None,\n",
    "                labels=range(0, len(class_names)),\n",
    "                )\n",
    "print(np.mean(precision))\n",
    "print(np.mean(recall))\n",
    "print(np.mean(f1score))"
   ]
  },
  {
   "cell_type": "code",
   "execution_count": 7,
   "metadata": {},
   "outputs": [
    {
     "name": "stdout",
     "output_type": "stream",
     "text": [
      "0.25\n"
     ]
    }
   ],
   "source": [
    "precision, recall, score,_ = skmetrics.precision_recall_fscore_support(\n",
    "    np.array([0, 0, 0 ,1 ,0 ,1, 0, 0 ,0, 1, 0, 0, 1, 0, 0, 1 ,0, 0 ,0 ,1]).astype(bool),\n",
    "    np.array([0 ,0, 1, 0 ,0, 1 ,1 ,0, 0, 0, 0, 1, 0, 0, 0, 0, 0 ,0, 0 ,0]).astype(bool),\n",
    "    average='binary', pos_label=1)\n",
    "print(precision)"
   ]
  },
  {
   "cell_type": "code",
   "execution_count": 8,
   "metadata": {},
   "outputs": [
    {
     "data": {
      "text/plain": [
       "[<matplotlib.lines.Line2D at 0x7f4ae8353d90>]"
      ]
     },
     "execution_count": 8,
     "metadata": {},
     "output_type": "execute_result"
    },
    {
     "data": {
      "image/png": "[encoded data removed]",
      "text/plain": [
       "<Figure size 432x288 with 1 Axes>"
      ]
     },
     "metadata": {
      "needs_background": "light"
     },
     "output_type": "display_data"
    }
   ],
   "source": [
    "import matplotlib.pyplot as plt\n",
    "\n",
    "rocc = metrics_cdict['a']['rocc']\n",
    "plt.plot(rocc['fpr'], rocc['tpr'])"
   ]
  },
  {
   "cell_type": "code",
   "execution_count": 9,
   "metadata": {},
   "outputs": [
    {
     "data": {
      "text/plain": [
       "[<matplotlib.lines.Line2D at 0x7f4ae8329490>]"
      ]
     },
     "execution_count": 9,
     "metadata": {},
     "output_type": "execute_result"
    },
    {
     "data": {
      "image/png": "[encoded data removed]",
      "text/plain": [
       "<Figure size 432x288 with 1 Axes>"
      ]
     },
     "metadata": {
      "needs_background": "light"
     },
     "output_type": "display_data"
    }
   ],
   "source": [
    "import matplotlib.pyplot as plt\n",
    "\n",
    "rocc = metrics_cdict['a']['prc']\n",
    "plt.plot(rocc['recall'], rocc['precision'])"
   ]
  }
 ],
 "metadata": {
  "kernelspec": {
   "display_name": "Python 3",
   "language": "python",
   "name": "python3"
  },
  "language_info": {
   "codemirror_mode": {
    "name": "ipython",
    "version": 3
   },
   "file_extension": ".py",
   "mimetype": "text/x-python",
   "name": "python",
   "nbconvert_exporter": "python",
   "pygments_lexer": "ipython3",
   "version": "3.7.10"
  }
 },
 "nbformat": 4,
 "nbformat_minor": 4
}
