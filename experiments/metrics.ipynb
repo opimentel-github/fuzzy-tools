{
 "cells": [
  {
   "cell_type": "code",
   "execution_count": 1,
   "metadata": {},
   "outputs": [],
   "source": [
    "import sys\n",
    "sys.path.append('../') # or just install the module"
   ]
  },
  {
   "cell_type": "code",
   "execution_count": 2,
   "metadata": {
    "scrolled": false
   },
   "outputs": [
    {
     "name": "stdout",
     "output_type": "stream",
     "text": [
      "y_target [1 1 1 2 0 1 2 0 1 1 1 0 1 1 2 1 1 0 0 2] (20,)\n",
      "y_pred_p (20, 3)\n"
     ]
    }
   ],
   "source": [
    "import numpy as np\n",
    "\n",
    "N = 20\n",
    "class_names = ['a', 'b', 'c']\n",
    "y_target = np.random.randint(0, len(class_names), size=(N))\n",
    "y_pred_p = np.random.uniform(0, 1, size=(N, len(class_names)))\n",
    "y_pred_p = y_pred_p/np.sum(y_pred_p, axis=1)[...,None]\n",
    "#print(np.sum(y_probs, axis=1))\n",
    "print('y_target', y_target, y_target.shape)\n",
    "print('y_pred_p', y_pred_p.shape)"
   ]
  },
  {
   "cell_type": "code",
   "execution_count": 42,
   "metadata": {},
   "outputs": [
    {
     "name": "stdout",
     "output_type": "stream",
     "text": [
      "The autoreload extension is already loaded. To reload it, use:\n",
      "  %reload_ext autoreload\n",
      "[  0.   5.  10.  15.  20.  25.  30.  35.  40.  45.  50.  55.  60.  65.\n",
      "  70.  75.  80.  85.  90.  95. 100.]\n",
      "[  0.  20.  40.  60.  80. 100.]\n"
     ]
    },
    {
     "data": {
      "text/plain": [
       "(<Figure size 480x400 with 2 Axes>,\n",
       " <matplotlib.axes._subplots.AxesSubplot at 0x7fdc5870ae10>,\n",
       " array([[[0.4       , 0.2       , 0.4       ],\n",
       "         [0.27272727, 0.09090909, 0.63636364],\n",
       "         [0.25      , 0.75      , 0.        ]]]))"
      ]
     },
     "execution_count": 42,
     "metadata": {},
     "output_type": "execute_result"
    },
    {
     "data": {
      "image/png": "[encoded data removed]",
      "text/plain": [
       "<Figure size 480x400 with 2 Axes>"
      ]
     },
     "metadata": {
      "needs_background": "light"
     },
     "output_type": "display_data"
    }
   ],
   "source": [
    "%load_ext autoreload\n",
    "%autoreload 2\n",
    "from fuzzytools.datascience import metrics as metrics\n",
    "from fuzzytools.cuteplots.cm_plots import plot_custom_confusion_matrix\n",
    "\n",
    "metrics_cdict, metrics_dict, cm = metrics.get_multiclass_metrics(y_pred_p, y_target, class_names)\n",
    "title = ''\n",
    "#title += f'b-f1score={f1score_xe}'+'\\n'\n",
    "#title += f'b-accuracy={accuracy_xe}%'+'\\n'\n",
    "cm_kwargs = {\n",
    "    'title':title[:-1],\n",
    "    'figsize':(6,5),\n",
    "    'normalize_mode':None,\n",
    "}\n",
    "#fig, ax = plot_custom_confusion_matrix(cm[None], class_names, **cm_kwargs)\n",
    "cm_kwargs = {\n",
    "    'title':title[:-1],\n",
    "    'figsize':(6,5),\n",
    "    'normalize_mode':'true',\n",
    "}\n",
    "plot_custom_confusion_matrix(cm[None], class_names, **cm_kwargs)"
   ]
  },
  {
   "cell_type": "code",
   "execution_count": 4,
   "metadata": {},
   "outputs": [
    {
     "data": {
      "text/plain": [
       "(array([[0.46012428, 0.14344073, 0.39643499],\n",
       "        [0.63149636, 0.03882613, 0.32967752],\n",
       "        [0.30788759, 0.12337906, 0.56873335],\n",
       "        [0.43607464, 0.56302469, 0.00090067],\n",
       "        [0.33906396, 0.09295841, 0.56797763],\n",
       "        [0.11509244, 0.47074175, 0.41416581],\n",
       "        [0.4596532 , 0.05159634, 0.48875047],\n",
       "        [0.34957062, 0.27347383, 0.37695554],\n",
       "        [0.18748226, 0.49686424, 0.31565349],\n",
       "        [0.23684013, 0.31801509, 0.44514478],\n",
       "        [0.29191652, 0.53425369, 0.17382979],\n",
       "        [0.29602884, 0.51233329, 0.19163787],\n",
       "        [0.23715011, 0.45557862, 0.30727126],\n",
       "        [0.41868007, 0.24455924, 0.33676069],\n",
       "        [0.24685074, 0.3958382 , 0.35731106],\n",
       "        [0.27736783, 0.26294872, 0.45968345],\n",
       "        [0.27293954, 0.51909817, 0.20796229],\n",
       "        [0.0304141 , 0.53651908, 0.43306681],\n",
       "        [0.54536926, 0.23429332, 0.22033742],\n",
       "        [0.43597943, 0.54337202, 0.02064855]]),\n",
       " array([2, 1, 0, 2, 0, 2, 2, 0, 2, 1, 1, 0, 0, 0, 0, 1, 2, 2, 1, 1]))"
      ]
     },
     "execution_count": 4,
     "metadata": {},
     "output_type": "execute_result"
    }
   ],
   "source": [
    "y_pred_p, y_target"
   ]
  },
  {
   "cell_type": "code",
   "execution_count": 5,
   "metadata": {},
   "outputs": [
    {
     "name": "stdout",
     "output_type": "stream",
     "text": [
      "The autoreload extension is already loaded. To reload it, use:\n",
      "  %reload_ext autoreload\n",
      "{'b-accuracy': 0.46666643333345004, 'w-accuracy': 0.4699997650001174, 'b-precision': 0.20555518796370484, 'w-precision': 0.20583295736188006, 'b-recall': 0.2063488851101024, 'w-recall': 0.19999969047667235, 'b-f1score': 0.19521639008381983, 'w-f1score': 0.19247745958363588, 'b-xentropy': 1.354291120882565, 'w-xentropy': 1.3565469985610599, 'b-prauc': 0.36694291158576875, 'w-prauc': 0.3668421162171162, 'b-rocauc': 0.48473748473748474, 'w-rocauc': 0.4851648351648351}\n"
     ]
    }
   ],
   "source": [
    "%load_ext autoreload\n",
    "%autoreload 2\n",
    "from fuzzytools.datascience import metrics as metrics\n",
    "from fuzzytools.cuteplots.cm_plots import plot_custom_confusion_matrix\n",
    "\n",
    "metrics_cdict, metrics_dict, cm = metrics.get_multiclass_metrics(y_pred_p, y_target, class_names)\n",
    "{c:metrics_cdict[c]['recall'] for c in class_names}\n",
    "print(metrics_dict)"
   ]
  },
  {
   "cell_type": "code",
   "execution_count": 6,
   "metadata": {},
   "outputs": [
    {
     "name": "stdout",
     "output_type": "stream",
     "text": [
      "[0.14285714 0.33333333 0.14285714]\n"
     ]
    }
   ],
   "source": [
    "from sklearn import metrics as skmetrics\n",
    "\n",
    "y_pred = y_pred_p.argmax(axis=-1)\n",
    "precision, recall, score,_ = skmetrics.precision_recall_fscore_support(y_target, y_pred, average=None, labels=range(0, len(class_names)))\n",
    "print(recall)"
   ]
  },
  {
   "cell_type": "code",
   "execution_count": 7,
   "metadata": {},
   "outputs": [
    {
     "ename": "AssertionError",
     "evalue": "",
     "output_type": "error",
     "traceback": [
      "\u001b[0;31m---------------------------------------------------------------------------\u001b[0m",
      "\u001b[0;31mAssertionError\u001b[0m                            Traceback (most recent call last)",
      "\u001b[0;32m<ipython-input-7-29403cf677e6>\u001b[0m in \u001b[0;36m<module>\u001b[0;34m\u001b[0m\n\u001b[0;32m----> 1\u001b[0;31m \u001b[0;32massert\u001b[0m \u001b[0;36m0\u001b[0m\u001b[0;34m\u001b[0m\u001b[0;34m\u001b[0m\u001b[0m\n\u001b[0m",
      "\u001b[0;31mAssertionError\u001b[0m: "
     ]
    }
   ],
   "source": [
    "assert 0"
   ]
  },
  {
   "cell_type": "code",
   "execution_count": null,
   "metadata": {},
   "outputs": [],
   "source": [
    "y_pred = np.array([0 ,0, 1, 0 ,0, 1 ,1 ,0, 0, 0, 0, 1, 0, 0, 0, 0, 0 ,0, 0 ,0]).astype(bool)\n",
    "y_target = np.array([0, 0, 0 ,1 ,0 ,1, 0, 0 ,0, 1, 0, 0, 1, 0, 0, 1 ,0, 0 ,0 ,1]).astype(bool)\n",
    "precision, recall, score,_ = skmetrics.precision_recall_fscore_support(y_target, y_pred, average='binary', pos_label=1)\n",
    "print(precision)"
   ]
  }
 ],
 "metadata": {
  "kernelspec": {
   "display_name": "Python 3",
   "language": "python",
   "name": "python3"
  },
  "language_info": {
   "codemirror_mode": {
    "name": "ipython",
    "version": 3
   },
   "file_extension": ".py",
   "mimetype": "text/x-python",
   "name": "python",
   "nbconvert_exporter": "python",
   "pygments_lexer": "ipython3",
   "version": "3.7.10"
  }
 },
 "nbformat": 4,
 "nbformat_minor": 4
}
