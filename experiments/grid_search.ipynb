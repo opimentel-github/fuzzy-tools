{
 "cells": [
  {
   "cell_type": "code",
   "execution_count": 1,
   "metadata": {},
   "outputs": [],
   "source": [
    "import sys\n",
    "sys.path.append('../') # or just install the module"
   ]
  },
  {
   "cell_type": "code",
   "execution_count": 2,
   "metadata": {},
   "outputs": [
    {
     "name": "stdout",
     "output_type": "stream",
     "text": [
      "(0) - {'min_dist': {'b': 0, 'a': 0.1}, 'n_neighbors': 10.0}\n",
      "(1) - {'min_dist': {'b': 0, 'a': 0.1}, 'n_neighbors': 28.0}\n",
      "(2) - {'min_dist': {'b': 0, 'a': 0.1}, 'n_neighbors': 46.0}\n",
      "(3) - {'min_dist': {'b': 0, 'a': 0.1}, 'n_neighbors': 64.0}\n",
      "(4) - {'min_dist': {'b': 0, 'a': 0.1}, 'n_neighbors': 82.0}\n",
      "(5) - {'min_dist': {'b': 0, 'a': 0.1}, 'n_neighbors': 100.0}\n",
      "(6) - {'min_dist': {'b': 0, 'a': 0.42500000000000004}, 'n_neighbors': 10.0}\n",
      "(7) - {'min_dist': {'b': 0, 'a': 0.42500000000000004}, 'n_neighbors': 28.0}\n",
      "(8) - {'min_dist': {'b': 0, 'a': 0.42500000000000004}, 'n_neighbors': 46.0}\n",
      "(9) - {'min_dist': {'b': 0, 'a': 0.42500000000000004}, 'n_neighbors': 64.0}\n",
      "(10) - {'min_dist': {'b': 0, 'a': 0.42500000000000004}, 'n_neighbors': 82.0}\n",
      "(11) - {'min_dist': {'b': 0, 'a': 0.42500000000000004}, 'n_neighbors': 100.0}\n",
      "(12) - {'min_dist': {'b': 0, 'a': 0.75}, 'n_neighbors': 10.0}\n",
      "(13) - {'min_dist': {'b': 0, 'a': 0.75}, 'n_neighbors': 28.0}\n",
      "(14) - {'min_dist': {'b': 0, 'a': 0.75}, 'n_neighbors': 46.0}\n",
      "(15) - {'min_dist': {'b': 0, 'a': 0.75}, 'n_neighbors': 64.0}\n",
      "(16) - {'min_dist': {'b': 0, 'a': 0.75}, 'n_neighbors': 82.0}\n",
      "(17) - {'min_dist': {'b': 0, 'a': 0.75}, 'n_neighbors': 100.0}\n",
      "\n"
     ]
    },
    {
     "data": {
      "text/plain": [
       "{'min_dist': {'b': 0, 'a': 0.1}, 'n_neighbors': 10.0}"
      ]
     },
     "execution_count": 2,
     "metadata": {},
     "output_type": "execute_result"
    }
   ],
   "source": [
    "%load_ext autoreload\n",
    "%autoreload 2\n",
    "from fuzzytools.datascience.grid_search import GDIter, GridSeacher\n",
    "import numpy as np\n",
    "\n",
    "grid_params = {\n",
    "    'min_dist':{\n",
    "        'b':0,\n",
    "        'a':GDIter(*np.linspace(0.1, 0.75, 3)),\n",
    "    },\n",
    "    'n_neighbors':GDIter(*np.linspace(10, 100, 6)),\n",
    "}\n",
    "gs = GridSeacher(grid_params)\n",
    "print(gs)\n",
    "gs[0]"
   ]
  },
  {
   "cell_type": "code",
   "execution_count": 3,
   "metadata": {},
   "outputs": [
    {
     "name": "stdout",
     "output_type": "stream",
     "text": [
      "{'xxx': {'b': 0, 'a': 0.1}, 'aaa': 10.0}\n",
      "{'xxx': {'b': 0, 'a': 0.1}, 'aaa': 28.0}\n",
      "{'xxx': {'b': 0, 'a': 0.1}, 'aaa': 46.0}\n",
      "{'xxx': {'b': 0, 'a': 0.1}, 'aaa': 64.0}\n",
      "{'xxx': {'b': 0, 'a': 0.1}, 'aaa': 82.0}\n",
      "{'xxx': {'b': 0, 'a': 0.1}, 'aaa': 100.0}\n",
      "{'xxx': {'b': 0, 'a': 0.42500000000000004}, 'aaa': 10.0}\n",
      "{'xxx': {'b': 0, 'a': 0.42500000000000004}, 'aaa': 28.0}\n",
      "{'xxx': {'b': 0, 'a': 0.42500000000000004}, 'aaa': 46.0}\n",
      "{'xxx': {'b': 0, 'a': 0.42500000000000004}, 'aaa': 64.0}\n",
      "{'xxx': {'b': 0, 'a': 0.42500000000000004}, 'aaa': 82.0}\n",
      "{'xxx': {'b': 0, 'a': 0.42500000000000004}, 'aaa': 100.0}\n",
      "{'xxx': {'b': 0, 'a': 0.75}, 'aaa': 10.0}\n",
      "{'xxx': {'b': 0, 'a': 0.75}, 'aaa': 28.0}\n",
      "{'xxx': {'b': 0, 'a': 0.75}, 'aaa': 46.0}\n",
      "{'xxx': {'b': 0, 'a': 0.75}, 'aaa': 64.0}\n",
      "{'xxx': {'b': 0, 'a': 0.75}, 'aaa': 82.0}\n",
      "{'xxx': {'b': 0, 'a': 0.75}, 'aaa': 100.0}\n",
      "{'umm': 0}\n",
      "{'umm': 1}\n",
      "{'umm': 2}\n"
     ]
    }
   ],
   "source": [
    "grid_params = {\n",
    "    'xxx':{\n",
    "        'b':0,\n",
    "        'a':GDIter(*np.linspace(0.1, 0.75, 3)),\n",
    "    },\n",
    "    'aaa':GDIter(*np.linspace(10, 100, 6)),\n",
    "}\n",
    "gs1 = GridSeacher(grid_params)\n",
    "grid_params = {\n",
    "    'umm':GDIter(0,1,2),\n",
    "}\n",
    "gs2 = GridSeacher(grid_params)\n",
    "gs = gs1+gs2\n",
    "for p in gs:\n",
    "    print(p)"
   ]
  }
 ],
 "metadata": {
  "kernelspec": {
   "display_name": "Python 3",
   "language": "python",
   "name": "python3"
  },
  "language_info": {
   "codemirror_mode": {
    "name": "ipython",
    "version": 3
   },
   "file_extension": ".py",
   "mimetype": "text/x-python",
   "name": "python",
   "nbconvert_exporter": "python",
   "pygments_lexer": "ipython3",
   "version": "3.7.9"
  }
 },
 "nbformat": 4,
 "nbformat_minor": 4
}
