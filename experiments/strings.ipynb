{
 "cells": [
  {
   "cell_type": "code",
   "execution_count": 1,
   "metadata": {},
   "outputs": [],
   "source": [
    "import sys\n",
    "sys.path.append('../') # or just install the module"
   ]
  },
  {
   "cell_type": "code",
   "execution_count": 4,
   "metadata": {},
   "outputs": [
    {
     "name": "stdout",
     "output_type": "stream",
     "text": [
      "The autoreload extension is already loaded. To reload it, use:\n",
      "  %reload_ext autoreload\n",
      "{'a': 'a100', 'u': '10'}\n",
      "a=a100°u=10\n"
     ]
    }
   ],
   "source": [
    "%load_ext autoreload\n",
    "%autoreload 2\n",
    "import flamingchoripan.strings as strings\n",
    "\n",
    "d = strings.get_dict_from_string('a=a100°u=10')\n",
    "print(d)\n",
    "s = strings.get_string_from_dict(d)\n",
    "print(s)"
   ]
  },
  {
   "cell_type": "code",
   "execution_count": 20,
   "metadata": {},
   "outputs": [
    {
     "name": "stdout",
     "output_type": "stream",
     "text": [
      "The autoreload extension is already loaded. To reload it, use:\n",
      "  %reload_ext autoreload\n",
      ".789\n",
      "-.789\n",
      "-1\n",
      "1\n",
      "-.999\n",
      ".999\n",
      "-45.789\n",
      "+967,822\n"
     ]
    }
   ],
   "source": [
    "%load_ext autoreload\n",
    "%autoreload 2\n",
    "import flamingchoripan.strings as strings\n",
    "\n",
    "print(strings.xstr(0.7892))\n",
    "print(strings.xstr(-0.7892))\n",
    "print(strings.xstr(-1))\n",
    "print(strings.xstr(1))\n",
    "x = 1-1e-5\n",
    "print(strings.xstr(-x))\n",
    "print(strings.xstr(x))\n",
    "print(strings.xstr(-45.7892))\n",
    "print(strings.xstr(967822, add_pos=1))"
   ]
  },
  {
   "cell_type": "code",
   "execution_count": 8,
   "metadata": {},
   "outputs": [
    {
     "data": {
      "text/plain": [
       "'666-b_u-10'"
      ]
     },
     "execution_count": 8,
     "metadata": {},
     "output_type": "execute_result"
    }
   ],
   "source": [
    "strings.string_replacement('a-b_u-10', {'a':'666'})"
   ]
  },
  {
   "cell_type": "code",
   "execution_count": 9,
   "metadata": {},
   "outputs": [
    {
     "name": "stdout",
     "output_type": "stream",
     "text": [
      "False\n",
      "True\n",
      "False\n",
      "True\n",
      "False\n"
     ]
    }
   ],
   "source": [
    "text = 'hellow my world'\n",
    "print(strings.query_strings_in_string(['a'], text))\n",
    "print(strings.query_strings_in_string(['e'], text))\n",
    "print(strings.query_strings_in_string(['dog'], text))\n",
    "print(strings.query_strings_in_string(['my', 'a'], text))\n",
    "print(strings.query_strings_in_string(['my', 'a'], text, mode='and'))"
   ]
  }
 ],
 "metadata": {
  "kernelspec": {
   "display_name": "Python 3",
   "language": "python",
   "name": "python3"
  },
  "language_info": {
   "codemirror_mode": {
    "name": "ipython",
    "version": 3
   },
   "file_extension": ".py",
   "mimetype": "text/x-python",
   "name": "python",
   "nbconvert_exporter": "python",
   "pygments_lexer": "ipython3",
   "version": "3.7.9"
  }
 },
 "nbformat": 4,
 "nbformat_minor": 4
}
