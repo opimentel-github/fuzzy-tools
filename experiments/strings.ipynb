{
 "cells": [
  {
   "cell_type": "code",
   "execution_count": 1,
   "metadata": {},
   "outputs": [],
   "source": [
    "import sys\n",
    "sys.path.append('../') # or just install the module"
   ]
  },
  {
   "cell_type": "code",
   "execution_count": 4,
   "metadata": {},
   "outputs": [
    {
     "name": "stdout",
     "output_type": "stream",
     "text": [
      "The autoreload extension is already loaded. To reload it, use:\n",
      "  %reload_ext autoreload\n",
      "{'a': 'a100', 'u': '10'}\n",
      "a=a100°u=10\n"
     ]
    }
   ],
   "source": [
    "%load_ext autoreload\n",
    "%autoreload 2\n",
    "import fuzzytools.strings as strings\n",
    "\n",
    "d = strings.get_dict_from_string('a=a100°u=10')\n",
    "print(d)\n",
    "s = strings.get_string_from_dict(d)\n",
    "print(s)"
   ]
  },
  {
   "cell_type": "code",
   "execution_count": 20,
   "metadata": {},
   "outputs": [
    {
     "name": "stdout",
     "output_type": "stream",
     "text": [
      "The autoreload extension is already loaded. To reload it, use:\n",
      "  %reload_ext autoreload\n",
      ".789\n",
      "-.789\n",
      "-1\n",
      "1\n",
      "-.999\n",
      ".999\n",
      "-45.789\n",
      "+967,822\n"
     ]
    }
   ],
   "source": [
    "%load_ext autoreload\n",
    "%autoreload 2\n",
    "import fuzzytools.strings as strings\n",
    "\n",
    "print(strings.xstr(0.7892))\n",
    "print(strings.xstr(-0.7892))\n",
    "print(strings.xstr(-1))\n",
    "print(strings.xstr(1))\n",
    "x = 1-1e-5\n",
    "print(strings.xstr(-x))\n",
    "print(strings.xstr(x))\n",
    "print(strings.xstr(-45.7892))\n",
    "print(strings.xstr(967822, add_pos=1))"
   ]
  },
  {
   "cell_type": "code",
   "execution_count": 8,
   "metadata": {},
   "outputs": [
    {
     "data": {
      "text/plain": [
       "'666-b_u-10'"
      ]
     },
     "execution_count": 8,
     "metadata": {},
     "output_type": "execute_result"
    }
   ],
   "source": [
    "strings.string_replacement('a-b_u-10', {'a':'666'})"
   ]
  },
  {
   "cell_type": "code",
   "execution_count": 9,
   "metadata": {},
   "outputs": [
    {
     "name": "stdout",
     "output_type": "stream",
     "text": [
      "False\n",
      "True\n",
      "False\n",
      "True\n",
      "False\n"
     ]
    }
   ],
   "source": [
    "text = 'hellow my world'\n",
    "print(strings.query_strings_in_string(['a'], text))\n",
    "print(strings.query_strings_in_string(['e'], text))\n",
    "print(strings.query_strings_in_string(['dog'], text))\n",
    "print(strings.query_strings_in_string(['my', 'a'], text))\n",
    "print(strings.query_strings_in_string(['my', 'a'], text, mode='and'))"
   ]
  },
  {
   "cell_type": "code",
   "execution_count": 20,
   "metadata": {},
   "outputs": [
    {
     "name": "stdout",
     "output_type": "stream",
     "text": [
      "The autoreload extension is already loaded. To reload it, use:\n",
      "  %reload_ext autoreload\n",
      "0 aaaaa\n",
      "1 aaaab\n",
      "2 aaaac\n",
      "3 aaaad\n",
      "4 aaaae\n",
      "5 aaaaf\n",
      "6 aaaag\n",
      "7 aaaah\n",
      "8 aaaai\n",
      "9 aaaaj\n",
      "10 aaaak\n",
      "11 aaaal\n",
      "12 aaaam\n",
      "13 aaaan\n",
      "14 aaaao\n",
      "15 aaaap\n",
      "16 aaaaq\n",
      "17 aaaar\n",
      "18 aaaas\n",
      "19 aaaat\n",
      "20 aaaau\n",
      "21 aaaav\n",
      "22 aaaaw\n",
      "23 aaaax\n",
      "24 aaaay\n",
      "25 aaaaz\n",
      "26 aaaba\n",
      "27 aaabb\n",
      "28 aaabc\n",
      "29 aaabd\n",
      "30 aaabe\n",
      "31 aaabf\n",
      "32 aaabg\n",
      "33 aaabh\n",
      "34 aaabi\n",
      "35 aaabj\n",
      "36 aaabk\n",
      "37 aaabl\n",
      "38 aaabm\n",
      "39 aaabn\n",
      "40 aaabo\n",
      "41 aaabp\n",
      "42 aaabq\n",
      "43 aaabr\n",
      "44 aaabs\n",
      "45 aaabt\n",
      "46 aaabu\n",
      "47 aaabv\n",
      "48 aaabw\n",
      "49 aaabx\n",
      "50 aaaby\n",
      "51 aaabz\n",
      "52 aaaca\n",
      "53 aaacb\n",
      "54 aaacc\n",
      "55 aaacd\n",
      "56 aaace\n",
      "57 aaacf\n",
      "58 aaacg\n",
      "59 aaach\n",
      "60 aaaci\n",
      "61 aaacj\n",
      "62 aaack\n",
      "63 aaacl\n",
      "64 aaacm\n",
      "65 aaacn\n",
      "66 aaaco\n",
      "67 aaacp\n",
      "68 aaacq\n",
      "69 aaacr\n",
      "70 aaacs\n",
      "71 aaact\n",
      "72 aaacu\n",
      "73 aaacv\n",
      "74 aaacw\n",
      "75 aaacx\n",
      "76 aaacy\n",
      "77 aaacz\n",
      "78 aaada\n",
      "79 aaadb\n",
      "80 aaadc\n",
      "81 aaadd\n",
      "82 aaade\n",
      "83 aaadf\n",
      "84 aaadg\n",
      "85 aaadh\n",
      "86 aaadi\n",
      "87 aaadj\n",
      "88 aaadk\n",
      "89 aaadl\n",
      "90 aaadm\n",
      "91 aaadn\n",
      "92 aaado\n",
      "93 aaadp\n",
      "94 aaadq\n",
      "95 aaadr\n",
      "96 aaads\n",
      "97 aaadt\n",
      "98 aaadu\n",
      "99 aaadv\n"
     ]
    }
   ],
   "source": [
    "%load_ext autoreload\n",
    "%autoreload 2\n",
    "import fuzzytools.strings as strings\n",
    "\n",
    "for k in range(0, 100):\n",
    "    print(k,strings.string_count(k, length=5))"
   ]
  }
 ],
 "metadata": {
  "kernelspec": {
   "display_name": "Python 3",
   "language": "python",
   "name": "python3"
  },
  "language_info": {
   "codemirror_mode": {
    "name": "ipython",
    "version": 3
   },
   "file_extension": ".py",
   "mimetype": "text/x-python",
   "name": "python",
   "nbconvert_exporter": "python",
   "pygments_lexer": "ipython3",
   "version": "3.7.10"
  }
 },
 "nbformat": 4,
 "nbformat_minor": 4
}
