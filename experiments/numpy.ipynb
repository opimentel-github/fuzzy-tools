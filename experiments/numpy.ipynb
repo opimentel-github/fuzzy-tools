{
 "cells": [
  {
   "cell_type": "code",
   "execution_count": 1,
   "id": "2f59f1f1",
   "metadata": {},
   "outputs": [],
   "source": [
    "import sys\n",
    "sys.path.append('../') # or just install the module"
   ]
  },
  {
   "cell_type": "code",
   "execution_count": 28,
   "id": "53658dfe",
   "metadata": {},
   "outputs": [
    {
     "name": "stdout",
     "output_type": "stream",
     "text": [
      "The autoreload extension is already loaded. To reload it, use:\n",
      "  %reload_ext autoreload\n",
      "[0.70710678 0.70710678]\n",
      "[0.6 0.8]\n",
      "[0.70710678 0.70710678]\n",
      "[-1.  0.]\n",
      "[0.70710678 0.70710678]\n",
      "[ 0. -1.]\n",
      "[0.70710678 0.70710678]\n",
      "[0.85749293 0.51449576]\n",
      "[0.70710678 0.70710678]\n",
      "[0.92847669 0.37139068]\n",
      "a ['0.700', '-0.500', '-0.500', '0.686', '0.650']\n",
      "s ['0.283', '0.085', '0.085', '0.279', '0.269']\n"
     ]
    }
   ],
   "source": [
    "%load_ext autoreload\n",
    "%autoreload 2\n",
    "import fuzzytools.numpy as fnp\n",
    "import numpy as np\n",
    "\n",
    "def norm(_x):\n",
    "    x = np.array(_x)\n",
    "    x = x/np.sqrt(np.sum(x**2))\n",
    "    print(x)\n",
    "    return x\n",
    "\n",
    "def norm_dot_vector(x, y):\n",
    "    return np.sum(norm(x)*norm(y))\n",
    "\n",
    "query = (4,4)\n",
    "keys = [\n",
    "    (3,4),\n",
    "    (-1,0),\n",
    "    (0,-1),\n",
    "    (5,3),\n",
    "    (5,2),\n",
    "]\n",
    "a = [norm_dot_vector(query, key) for key in keys]\n",
    "a = a*1/np.sqrt(2)\n",
    "print('a', [f'{_a:.3f}' for _a in a])\n",
    "s = fnp.softmax(a)\n",
    "print('s', [f'{_s:.3f}' for _s in s])"
   ]
  },
  {
   "cell_type": "code",
   "execution_count": 29,
   "id": "90ce2d54",
   "metadata": {},
   "outputs": [
    {
     "data": {
      "text/plain": [
       "1.0"
      ]
     },
     "execution_count": 29,
     "metadata": {},
     "output_type": "execute_result"
    }
   ],
   "source": [
    "np.sum(s)"
   ]
  }
 ],
 "metadata": {
  "kernelspec": {
   "display_name": "Python 3",
   "language": "python",
   "name": "python3"
  },
  "language_info": {
   "codemirror_mode": {
    "name": "ipython",
    "version": 3
   },
   "file_extension": ".py",
   "mimetype": "text/x-python",
   "name": "python",
   "nbconvert_exporter": "python",
   "pygments_lexer": "ipython3",
   "version": "3.7.10"
  }
 },
 "nbformat": 4,
 "nbformat_minor": 5
}
