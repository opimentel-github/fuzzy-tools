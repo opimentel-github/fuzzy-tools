{
 "cells": [
  {
   "cell_type": "code",
   "execution_count": 1,
   "metadata": {},
   "outputs": [],
   "source": [
    "import sys\n",
    "sys.path.append('../') # or just install the module"
   ]
  },
  {
   "cell_type": "code",
   "execution_count": 2,
   "metadata": {},
   "outputs": [
    {
     "name": "stdout",
     "output_type": "stream",
     "text": [
      "12.811±1.490\n",
      "25.041±2.196\n",
      "51.530±.257\n",
      "50.700±1.372\n",
      "18.926±6.397\n",
      "14.811±1.490\n"
     ]
    }
   ],
   "source": [
    "%load_ext autoreload\n",
    "%autoreload 2\n",
    "import numpy as np\n",
    "from flamingchoripan.datascience.xerror import XError\n",
    "\n",
    "xe1 = XError(np.random.uniform(10,15, size=10))\n",
    "xe2 = XError(np.random.uniform(20,29, size=10))\n",
    "xe3 = XError(np.random.uniform(51,52, size=10))\n",
    "xe4 = XError(np.random.uniform(49,53, size=10))\n",
    "xe5 = xe1+xe2\n",
    "xe6 = xe1+2\n",
    "print(xe1)\n",
    "print(xe2)\n",
    "print(xe3)\n",
    "print(xe4)\n",
    "print(xe5)\n",
    "print(xe6)"
   ]
  },
  {
   "cell_type": "code",
   "execution_count": 9,
   "metadata": {},
   "outputs": [
    {
     "name": "stdout",
     "output_type": "stream",
     "text": [
      "The autoreload extension is already loaded. To reload it, use:\n",
      "  %reload_ext autoreload\n",
      "[12.811±1.490, 25.041±2.196, 50.700±1.372, 50.700±1.372]\n",
      "50.700±1.372 12.811±1.490\n",
      "50.700±1.372 25.041±2.196\n",
      "50.700±1.372 50.700±1.372\n",
      "50.700±1.372 50.700±1.372\n"
     ]
    },
    {
     "data": {
      "text/plain": [
       "[False, False, True, True]"
      ]
     },
     "execution_count": 9,
     "metadata": {},
     "output_type": "execute_result"
    }
   ],
   "source": [
    "%load_ext autoreload\n",
    "%autoreload 2\n",
    "import numpy as np\n",
    "from flamingchoripan.datascience.xerror import get_max_xerrors\n",
    "\n",
    "l = [xe1, xe2, xe4, xe4]\n",
    "print(l)\n",
    "get_max_xerrors(l)"
   ]
  },
  {
   "cell_type": "code",
   "execution_count": 4,
   "metadata": {},
   "outputs": [
    {
     "name": "stdout",
     "output_type": "stream",
     "text": [
      "The autoreload extension is already loaded. To reload it, use:\n",
      "  %reload_ext autoreload\n",
      "12.811±1.490 > 12.811±1.490= False\n",
      "12.811±1.490 > 50.700±1.372= False\n",
      "50.700±1.372 > 12.811±1.490= True\n",
      "25.041±2.196 > 51.530±.257= False\n"
     ]
    }
   ],
   "source": [
    "%load_ext autoreload\n",
    "%autoreload 2\n",
    "from flamingchoripan.datascience.xerror import XError\n",
    "def compare(xe1, xe2):\n",
    "    print(f'{xe1} > {xe2}=',xe1>xe2)\n",
    "\n",
    "compare(xe1, xe1) # 0\n",
    "compare(xe1, xe4) # 1\n",
    "compare(xe4, xe1) # 0\n",
    "compare(xe2, xe3) # 0"
   ]
  }
 ],
 "metadata": {
  "kernelspec": {
   "display_name": "Python 3",
   "language": "python",
   "name": "python3"
  },
  "language_info": {
   "codemirror_mode": {
    "name": "ipython",
    "version": 3
   },
   "file_extension": ".py",
   "mimetype": "text/x-python",
   "name": "python",
   "nbconvert_exporter": "python",
   "pygments_lexer": "ipython3",
   "version": "3.7.9"
  }
 },
 "nbformat": 4,
 "nbformat_minor": 4
}
