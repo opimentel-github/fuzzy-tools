{
 "cells": [
  {
   "cell_type": "code",
   "execution_count": 9,
   "metadata": {},
   "outputs": [],
   "source": [
    "import sys\n",
    "sys.path.append('../') # or just install the module"
   ]
  },
  {
   "cell_type": "code",
   "execution_count": 10,
   "metadata": {},
   "outputs": [
    {
     "name": "stderr",
     "output_type": "stream",
     "text": [
      "100%|██████████| 10/10 [00:00, 720.39it/s, 9]"
     ]
    },
    {
     "name": "stdout",
     "output_type": "stream",
     "text": [
      "The autoreload extension is already loaded. To reload it, use:\n",
      "  %reload_ext autoreload\n"
     ]
    },
    {
     "name": "stderr",
     "output_type": "stream",
     "text": [
      "\n"
     ]
    }
   ],
   "source": [
    "%load_ext autoreload\n",
    "%autoreload 2\n",
    "\n",
    "from fuzzytools.progress_bars import ProgressBar\n",
    "import time\n",
    "\n",
    "N = 10\n",
    "bar = ProgressBar(N)\n",
    "for i in range(N):\n",
    "    bar('{}'.format(i))\n",
    "    time.sleep(0.001)\n",
    "    \n",
    "bar.done()"
   ]
  },
  {
   "cell_type": "code",
   "execution_count": null,
   "metadata": {},
   "outputs": [],
   "source": [
    "import sys\n",
    "from tqdm import tqdm\n",
    "from time import sleep\n",
    "\n",
    "values = range(10)\n",
    "with tqdm(total=len(values), file=sys.stdout, desc='aaa') as pbar:\n",
    "    for i in values:\n",
    "        pbar.set_description('pid:{}'.format(985))\n",
    "        pbar.set_postfix_str('post'*10)\n",
    "        pbar.update(1)\n",
    "        sleep(1)\n",
    "print('aaa')"
   ]
  },
  {
   "cell_type": "code",
   "execution_count": null,
   "metadata": {},
   "outputs": [],
   "source": [
    "from time import sleep\n",
    "from tqdm.notebook import tqdm, trange\n",
    "from concurrent.futures import ThreadPoolExecutor\n",
    "\n",
    "L = list(range(9))\n",
    "\n",
    "def progresser(n):\n",
    "    interval = 0.001 / (n + 2)\n",
    "    total = 5000\n",
    "    text = \"#{}, est. {:<04.2}s\".format(n, interval * total)\n",
    "    steps = trange(total, desc=text)\n",
    "    for b in steps:\n",
    "        #print('b',b)\n",
    "        steps.set_postfix({'AAAAAA':b})\n",
    "        sleep(interval)\n",
    "    if n == 6:\n",
    "        tqdm.write(\"n == 6 completed.\")\n",
    "        tqdm.write(\"`tqdm.write()` is thread-safe in py3!\")\n",
    "\n",
    "if __name__ == '__main__':\n",
    "    with ThreadPoolExecutor() as p:\n",
    "        p.map(progresser, L)"
   ]
  },
  {
   "cell_type": "code",
   "execution_count": null,
   "metadata": {},
   "outputs": [],
   "source": [
    "from time import sleep\n",
    "from tqdm.notebook import tqdm, trange\n",
    "from concurrent.futures import ThreadPoolExecutor\n",
    "\n",
    "L = list(range(9))\n",
    "\n",
    "def progresser(n):\n",
    "    interval = 0.001 / (n + 2)\n",
    "    total = 5000\n",
    "    text = \"#{}, esta. {:<04.2}s\".format(n, interval * total)\n",
    "    #with trange(total, desc=text) as steps:\n",
    "    tr = trange(total, desc=text)\n",
    "    with tr as steps:\n",
    "        steps.set_postfix_str('AAAAAAAAAAAAAAAAAAAAAA')\n",
    "        for step in steps:\n",
    "            sleep(interval)\n",
    "            \n",
    "    if n == 6:\n",
    "        tqdm.write(\"n == 6 completed.\")\n",
    "        tqdm.write(\"`tqdm.write()` is thread-safe in py3!\")\n",
    "\n",
    "if __name__ == '__main__':\n",
    "    with ThreadPoolExecutor() as p:\n",
    "        p.map(progresser, L)"
   ]
  },
  {
   "cell_type": "code",
   "execution_count": null,
   "metadata": {},
   "outputs": [],
   "source": [
    "from tqdm.notebook import trange\n",
    "from time import sleep\n",
    "\n",
    "n_epochs, n_steps = 5, 100\n",
    "with trange(1, n_epochs + 1, desc=\"All epochs\") as epochs:\n",
    "    for epoch in epochs:\n",
    "        with trange(1, n_steps + 1, desc=\"Epoch {}/{}\".format(epoch, n_epochs)) as steps:\n",
    "            for step in steps:\n",
    "                epochs.set_postfix(foo=epoch * n_steps + step)\n",
    "                steps.set_postfix(bar=\"hello {}\".format(step), baz=1 / step)\n",
    "                sleep(0.01)"
   ]
  },
  {
   "cell_type": "code",
   "execution_count": null,
   "metadata": {},
   "outputs": [],
   "source": [
    "import importlib\n",
    "import progressBar\n",
    "importlib.reload(progressBar)\n",
    "from progressBar import ProgressBar\n",
    "import time\n",
    "import os\n",
    "import sys\n",
    "\n",
    "from multiprocessing import Pool\n",
    "import multiprocessing as mp\n",
    "import threading\n",
    "\n",
    "lock = threading.RLock()\n",
    "global_counter = 0\n",
    "\n",
    "def s_print(m_dic):\n",
    "    dic = dict(m_dic)\n",
    "    keys = dic.keys()\n",
    "    txt = ''\n",
    "    for key in keys:\n",
    "        txt +='{} - {}'.format(key,dic[key])\n",
    "    \n",
    "    #txt = '{}'.format(dic)\n",
    "    #print('aaa')\n",
    "    print('\\r{}'.format(txt), end='')\n",
    "    sys.stdout.flush()\n",
    "    \n",
    "def job(*args):\n",
    "    #print('args',args)\n",
    "    x = args[0][0]\n",
    "    N = args[0][1]\n",
    "    m_bar = args[0][2]\n",
    "    #bar = m_bar\n",
    "    #bar = mc_bar\n",
    "    s = 0\n",
    "    pid = os.getpid()\n",
    "    keys = m_bar.keys()\n",
    "    #print('keys',keys)\n",
    "    \n",
    "    if not pid in keys:\n",
    "        #print('process id:', pid)\n",
    "        m_bar['{}-k'.format(pid)] = 0\n",
    "        #m_bar['{}-n'.format(pid)] = N\n",
    "        #global_counter += 1\n",
    "        \n",
    "    #print('m_bar',dict(m_bar))\n",
    "    for k,i in enumerate(range(N)):\n",
    "        s += x\n",
    "        m_bar[pid] = k\n",
    "        #time.sleep(0.025)\n",
    "        s_print(m_bar)\n",
    "        #print(k)\n",
    "        time.sleep(0.25)\n",
    "    print('')\n",
    "    return s\n",
    "\n",
    "pool = Pool(5)\n",
    "with mp.Manager() as manager:\n",
    "    global_bar = manager.dict()\n",
    "    with manager.Pool() as pool:\n",
    "        pool.map(job, [[1, 10, global_bar], [2, 5, global_bar], [3, 20, global_bar]])\n",
    "\n",
    "    global_bar = dict(global_bar)\n",
    "    \n",
    "print('-'*60)\n",
    "print('global_bar',global_bar)\n",
    "print('global_counter',global_counter)"
   ]
  }
 ],
 "metadata": {
  "kernelspec": {
   "display_name": "Python 3",
   "language": "python",
   "name": "python3"
  },
  "language_info": {
   "codemirror_mode": {
    "name": "ipython",
    "version": 3
   },
   "file_extension": ".py",
   "mimetype": "text/x-python",
   "name": "python",
   "nbconvert_exporter": "python",
   "pygments_lexer": "ipython3",
   "version": "3.7.10"
  }
 },
 "nbformat": 4,
 "nbformat_minor": 2
}
