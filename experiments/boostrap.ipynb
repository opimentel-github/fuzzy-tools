{
 "cells": [
  {
   "cell_type": "code",
   "execution_count": 1,
   "id": "d72cab8e",
   "metadata": {},
   "outputs": [],
   "source": [
    "import sys\n",
    "sys.path.append('../') # or just install the module"
   ]
  },
  {
   "cell_type": "code",
   "execution_count": 3,
   "id": "5ed55fa0",
   "metadata": {},
   "outputs": [
    {
     "name": "stdout",
     "output_type": "stream",
     "text": [
      "The autoreload extension is already loaded. To reload it, use:\n",
      "  %reload_ext autoreload\n",
      "['a1', 'a2', 'a0', 'a3', 'a4', 'b6', 'b5', 'b6', 'b5', 'b6', 'c8', 'c9', 'c7', 'c8', 'c9']\n",
      "['a1', 'a2', 'a0', 'a3', 'a4', 'b5', 'b6', 'b5', 'b6', 'b5', 'c7', 'c8', 'c9', 'c7', 'c8']\n",
      "['a1', 'a2', 'a0', 'a3', 'a4', 'b6', 'b5', 'b6', 'b5', 'b6', 'c9', 'c7', 'c8', 'c9', 'c7']\n",
      "['a1', 'a2', 'a0', 'a3', 'a4', 'b5', 'b6', 'b5', 'b6', 'b5', 'c8', 'c9', 'c7', 'c8', 'c9']\n",
      "['a1', 'a2', 'a0', 'a3', 'a4', 'b6', 'b5', 'b6', 'b5', 'b6', 'c7', 'c8', 'c9', 'c7', 'c8']\n",
      "['a1', 'a2', 'a0', 'a3', 'a4', 'b5', 'b6', 'b5', 'b6', 'b5', 'c9', 'c7', 'c8', 'c9', 'c7']\n",
      "['a1', 'a2', 'a0', 'a3', 'a4', 'b6', 'b5', 'b6', 'b5', 'b6', 'c8', 'c9', 'c7', 'c8', 'c9']\n",
      "['a1', 'a2', 'a0', 'a3', 'a4', 'b5', 'b6', 'b5', 'b6', 'b5', 'c7', 'c8', 'c9', 'c7', 'c8']\n",
      "['a1', 'a2', 'a0', 'a3', 'a4', 'b6', 'b5', 'b6', 'b5', 'b6', 'c9', 'c7', 'c8', 'c9', 'c7']\n"
     ]
    }
   ],
   "source": [
    "%load_ext autoreload\n",
    "%autoreload 2\n",
    "from fuzzytools.boostraping import BalancedCyclicBoostraping\n",
    "\n",
    "l_classes = ['a', 'a', 'a', 'a','a', 'b', 'b' , 'c', 'c', 'c']\n",
    "l_objs = [f'{c}{kc}' for kc,c in enumerate(l_classes)]\n",
    "cb = BalancedCyclicBoostraping(l_objs, l_classes,\n",
    "    uses_shuffle=1,\n",
    ")\n",
    "print(cb.get_samples())\n",
    "print(cb.get_samples())\n",
    "print(cb.get_samples())\n",
    "print(cb.get_samples())\n",
    "print(cb.get_samples())\n",
    "print(cb.get_samples())\n",
    "print(cb.get_samples())\n",
    "print(cb.get_samples())\n",
    "print(cb.get_samples())"
   ]
  },
  {
   "cell_type": "code",
   "execution_count": null,
   "id": "9033add6",
   "metadata": {},
   "outputs": [],
   "source": [
    "70"
   ]
  }
 ],
 "metadata": {
  "kernelspec": {
   "display_name": "Python 3",
   "language": "python",
   "name": "python3"
  },
  "language_info": {
   "codemirror_mode": {
    "name": "ipython",
    "version": 3
   },
   "file_extension": ".py",
   "mimetype": "text/x-python",
   "name": "python",
   "nbconvert_exporter": "python",
   "pygments_lexer": "ipython3",
   "version": "3.7.10"
  }
 },
 "nbformat": 4,
 "nbformat_minor": 5
}
