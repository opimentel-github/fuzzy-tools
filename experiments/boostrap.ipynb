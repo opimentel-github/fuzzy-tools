{
 "cells": [
  {
   "cell_type": "code",
   "execution_count": 1,
   "id": "f79b9d2c",
   "metadata": {},
   "outputs": [],
   "source": [
    "import sys\n",
    "sys.path.append('../') # or just install the module"
   ]
  },
  {
   "cell_type": "code",
   "execution_count": 19,
   "id": "d0bd47d7",
   "metadata": {},
   "outputs": [
    {
     "name": "stdout",
     "output_type": "stream",
     "text": [
      "The autoreload extension is already loaded. To reload it, use:\n",
      "  %reload_ext autoreload\n",
      "['a1', 'a2', 'b6', 'b5', 'c7', 'c8']\n",
      "['a3', 'a4', 'b6', 'b5', 'c9', 'c7']\n",
      "['a0', 'a1', 'b6', 'b5', 'c8', 'c9']\n",
      "['a2', 'a3', 'b6', 'b5', 'c7', 'c8']\n",
      "['a4', 'a0', 'b6', 'b5', 'c9', 'c7']\n",
      "['a1', 'a2', 'b6', 'b5', 'c8', 'c9']\n",
      "['a3', 'a4', 'b6', 'b5', 'c7', 'c8']\n",
      "['a0', 'a1', 'b6', 'b5', 'c9', 'c7']\n",
      "['a2', 'a3', 'b6', 'b5', 'c8', 'c9']\n"
     ]
    }
   ],
   "source": [
    "%load_ext autoreload\n",
    "%autoreload 2\n",
    "from fuzzytools.boostraping import BalancedCyclicBoostraping\n",
    "\n",
    "l_classes = ['a', 'a', 'a', 'a','a', 'b', 'b' , 'c', 'c', 'c']\n",
    "l_objs = [f'{c}{kc}' for kc,c in enumerate(l_classes)]\n",
    "cb = BalancedCyclicBoostraping(\n",
    "    l_objs,\n",
    "    l_classes,\n",
    "    2,\n",
    "    uses_shuffle=1,\n",
    ")\n",
    "print(cb.get_samples())\n",
    "print(cb.get_samples())\n",
    "print(cb.get_samples())\n",
    "print(cb.get_samples())\n",
    "print(cb.get_samples())\n",
    "print(cb.get_samples())\n",
    "print(cb.get_samples())\n",
    "print(cb.get_samples())\n",
    "print(cb.get_samples())"
   ]
  },
  {
   "cell_type": "code",
   "execution_count": null,
   "id": "1afe3e27",
   "metadata": {},
   "outputs": [],
   "source": [
    "70"
   ]
  }
 ],
 "metadata": {
  "kernelspec": {
   "display_name": "Python 3",
   "language": "python",
   "name": "python3"
  },
  "language_info": {
   "codemirror_mode": {
    "name": "ipython",
    "version": 3
   },
   "file_extension": ".py",
   "mimetype": "text/x-python",
   "name": "python",
   "nbconvert_exporter": "python",
   "pygments_lexer": "ipython3",
   "version": "3.7.10"
  }
 },
 "nbformat": 4,
 "nbformat_minor": 5
}
