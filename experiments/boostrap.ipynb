{
 "cells": [
  {
   "cell_type": "code",
   "execution_count": 1,
   "id": "74e1b26a",
   "metadata": {},
   "outputs": [],
   "source": [
    "import sys\n",
    "sys.path.append('../') # or just install the module"
   ]
  },
  {
   "cell_type": "code",
   "execution_count": 18,
   "id": "0c3f13d3",
   "metadata": {},
   "outputs": [
    {
     "name": "stdout",
     "output_type": "stream",
     "text": [
      "The autoreload extension is already loaded. To reload it, use:\n",
      "  %reload_ext autoreload\n",
      "['a4', 'a0', 'b5', 'b6', 'c9', 'c7']\n",
      "['a1', 'a3', 'b5', 'b6', 'c8', 'c9']\n",
      "['a2', 'a4', 'b5', 'b6', 'c7', 'c8']\n",
      "['a0', 'a1', 'b5', 'b6', 'c9', 'c7']\n",
      "['a3', 'a2', 'b5', 'b6', 'c8', 'c9']\n",
      "['a4', 'a0', 'b5', 'b6', 'c7', 'c8']\n",
      "['a1', 'a3', 'b5', 'b6', 'c9', 'c7']\n",
      "['a2', 'a4', 'b5', 'b6', 'c8', 'c9']\n",
      "['a0', 'a1', 'b5', 'b6', 'c7', 'c8']\n"
     ]
    }
   ],
   "source": [
    "%load_ext autoreload\n",
    "%autoreload 2\n",
    "from fuzzytools.boostraping import BalancedCyclicBoostraping\n",
    "\n",
    "l_classes = ['a', 'a', 'a', 'a','a', 'b', 'b' , 'c', 'c', 'c']\n",
    "l_objs = [f'{c}{kc}' for kc,c in enumerate(l_classes)]\n",
    "cb = BalancedCyclicBoostraping(\n",
    "    l_objs,\n",
    "    l_classes,\n",
    "    2,\n",
    "    uses_shuffle=1,\n",
    ")\n",
    "print(cb.get_samples())\n",
    "print(cb.get_samples())\n",
    "print(cb.get_samples())\n",
    "print(cb.get_samples())\n",
    "print(cb.get_samples())\n",
    "print(cb.get_samples())\n",
    "print(cb.get_samples())\n",
    "print(cb.get_samples())\n",
    "print(cb.get_samples())"
   ]
  }
 ],
 "metadata": {
  "kernelspec": {
   "display_name": "Python 3",
   "language": "python",
   "name": "python3"
  },
  "language_info": {
   "codemirror_mode": {
    "name": "ipython",
    "version": 3
   },
   "file_extension": ".py",
   "mimetype": "text/x-python",
   "name": "python",
   "nbconvert_exporter": "python",
   "pygments_lexer": "ipython3",
   "version": "3.7.10"
  }
 },
 "nbformat": 4,
 "nbformat_minor": 5
}
