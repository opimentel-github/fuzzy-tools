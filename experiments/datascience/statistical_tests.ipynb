{
 "cells": [
  {
   "cell_type": "code",
   "execution_count": 1,
   "metadata": {},
   "outputs": [],
   "source": [
    "import sys\n",
    "sys.path.append('../../') # or just install the module"
   ]
  },
  {
   "cell_type": "code",
   "execution_count": 14,
   "metadata": {},
   "outputs": [
    {
     "name": "stdout",
     "output_type": "stream",
     "text": [
      "The autoreload extension is already loaded. To reload it, use:\n",
      "  %reload_ext autoreload\n"
     ]
    },
    {
     "data": {
      "text/html": [
       "<div>\n",
       "<style scoped>\n",
       "    .dataframe tbody tr th:only-of-type {\n",
       "        vertical-align: middle;\n",
       "    }\n",
       "\n",
       "    .dataframe tbody tr th {\n",
       "        vertical-align: top;\n",
       "    }\n",
       "\n",
       "    .dataframe thead th {\n",
       "        text-align: right;\n",
       "    }\n",
       "</style>\n",
       "<table border=\"1\" class=\"dataframe\">\n",
       "  <thead>\n",
       "    <tr style=\"text-align: right;\">\n",
       "      <th></th>\n",
       "      <th>x1</th>\n",
       "      <th>x2</th>\n",
       "    </tr>\n",
       "  </thead>\n",
       "  <tbody>\n",
       "    <tr>\n",
       "      <th>x1</th>\n",
       "      <td>$p^*$=.500 ($\\Delta$=.000)</td>\n",
       "      <td>$p^*$=.191 ($\\Delta$=.008)</td>\n",
       "    </tr>\n",
       "    <tr>\n",
       "      <th>x2</th>\n",
       "      <td>-</td>\n",
       "      <td>$p^*$=.500 ($\\Delta$=.000)</td>\n",
       "    </tr>\n",
       "  </tbody>\n",
       "</table>\n",
       "</div>"
      ],
      "text/plain": [
       "                            x1                          x2\n",
       "x1  $p^*$=.500 ($\\Delta$=.000)  $p^*$=.191 ($\\Delta$=.008)\n",
       "x2                           -  $p^*$=.500 ($\\Delta$=.000)"
      ]
     },
     "metadata": {},
     "output_type": "display_data"
    }
   ],
   "source": [
    "%load_ext autoreload\n",
    "%autoreload 2\n",
    "from fuzzytools.datascience import statistical_tests as statistical_tests\n",
    "from numpy import array\n",
    "\n",
    "x1 = array([0.67069607, 0.65822061, 0.6637284 , 0.6548806 , 0.64672704,\n",
    "       0.66579304, 0.69486505, 0.6857535 , 0.70538199, 0.68842633,\n",
    "       0.58762754, 0.604486  , 0.5738865 , 0.58166908, 0.59117383,\n",
    "       0.5980927 , 0.59774798, 0.6052242 , 0.60278028, 0.61416746,\n",
    "       0.65173166, 0.65654173, 0.6608753 , 0.63610389, 0.50980756,\n",
    "       0.60715863, 0.65768913, 0.65217016, 0.65038781, 0.66765437,\n",
    "       0.71430857, 0.68392796, 0.70669829, 0.74058358, 0.62715576,\n",
    "       0.64280775, 0.67975785, 0.67559703, 0.70354978, 0.67286862,\n",
    "       0.6594072 , 0.64158546, 0.63505341, 0.61791772, 0.63179281,\n",
    "       0.60467606, 0.63761443, 0.60283015, 0.67024077, 0.64420314])\n",
    "\n",
    "x2 = array([0.60161641, 0.61387257, 0.60166075, 0.59307308, 0.62876054,\n",
    "       0.64852982, 0.62209823, 0.63832741, 0.59621406, 0.61259014,\n",
    "       0.59440155, 0.60154668, 0.53981892, 0.53880885, 0.60280056,\n",
    "       0.61126391, 0.57451828, 0.56202893, 0.60376985, 0.62394113,\n",
    "       0.62768881, 0.62744078, 0.60952162, 0.6243281 , 0.63166577,\n",
    "       0.6315426 , 0.61550937, 0.63755299, 0.58383683, 0.61131771,\n",
    "       0.69023442, 0.72072677, 0.67815551, 0.69415486, 0.67936514,\n",
    "       0.67989273, 0.67726405, 0.70088206, 0.69028153, 0.69387508,\n",
    "       0.62596259, 0.64007892, 0.67197779, 0.70175233, 0.69092101,\n",
    "       0.68256976, 0.68028283, 0.67892396, 0.67485023, 0.68975404])\n",
    "\n",
    "values_dict = {\n",
    "    'x1':x1,\n",
    "    'x2':x2,\n",
    "}\n",
    "df = statistical_tests.grid_is_greater_test(values_dict, statistical_tests.welch_is_greater_test)\n",
    "display(df)"
   ]
  }
 ],
 "metadata": {
  "kernelspec": {
   "display_name": "Python 3",
   "language": "python",
   "name": "python3"
  },
  "language_info": {
   "codemirror_mode": {
    "name": "ipython",
    "version": 3
   },
   "file_extension": ".py",
   "mimetype": "text/x-python",
   "name": "python",
   "nbconvert_exporter": "python",
   "pygments_lexer": "ipython3",
   "version": "3.7.10"
  }
 },
 "nbformat": 4,
 "nbformat_minor": 4
}
