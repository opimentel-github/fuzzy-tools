{
 "cells": [
  {
   "cell_type": "code",
   "execution_count": 18,
   "metadata": {},
   "outputs": [],
   "source": [
    "import sys\n",
    "sys.path.append('../../') # or just install the module"
   ]
  },
  {
   "cell_type": "code",
   "execution_count": 44,
   "metadata": {},
   "outputs": [
    {
     "name": "stdout",
     "output_type": "stream",
     "text": [
      "The autoreload extension is already loaded. To reload it, use:\n",
      "  %reload_ext autoreload\n",
      "th-p-value=0.05\n",
      "mean(x1)=0.5576844996000001\n",
      "mean(x2)=0.5111307469999999\n",
      "x1>x2 with p<.001\n"
     ]
    },
    {
     "data": {
      "text/plain": [
       "(True, 1.4437387012881956e-14)"
      ]
     },
     "execution_count": 44,
     "metadata": {},
     "output_type": "execute_result"
    }
   ],
   "source": [
    "%load_ext autoreload\n",
    "%autoreload 2\n",
    "from fuzzytools.datascience import statistical_tests as statistical_tests\n",
    "import numpy as np\n",
    "\n",
    "x1 = np.array([0.52108135, 0.51776763, 0.53487177, 0.56075233, 0.55336926,\n",
    "       0.5577056 , 0.53238762, 0.52969427, 0.49375669, 0.52299454,\n",
    "       0.56060108, 0.58493584, 0.5189852 , 0.54254291, 0.54851318,\n",
    "       0.56423231, 0.51404825, 0.50617135, 0.55252205, 0.54617495,\n",
    "       0.59406944, 0.58224207, 0.56191703, 0.56952887, 0.52964222,\n",
    "       0.54022457, 0.56620006, 0.56095853, 0.54084656, 0.5639021 ,\n",
    "       0.60273834, 0.60174494, 0.61119898, 0.59597185, 0.58664847,\n",
    "       0.58343007, 0.57589085, 0.59378061, 0.63505551, 0.6298979 ,\n",
    "       0.57242281, 0.56926381, 0.54894119, 0.54530197, 0.54078578,\n",
    "       0.53577261, 0.54319019, 0.53901433, 0.54433298, 0.55620216])\n",
    "\n",
    "x2 = np.array([0.51238368, 0.48820444, 0.50608724, 0.49804939, 0.49999712,\n",
    "       0.49967882, 0.49436977, 0.49318964, 0.48165188, 0.48618136,\n",
    "       0.48905108, 0.49640061, 0.50425483, 0.50288272, 0.51060334,\n",
    "       0.50813638, 0.52514249, 0.52467035, 0.48647528, 0.49926285,\n",
    "       0.49929264, 0.50963736, 0.51431416, 0.50519168, 0.49934613,\n",
    "       0.5108537 , 0.49338777, 0.50836842, 0.47620707, 0.49823201,\n",
    "       0.52195119, 0.51915644, 0.52624951, 0.52878675, 0.53259512,\n",
    "       0.53801767, 0.52065156, 0.5146482 , 0.54721698, 0.54477013,\n",
    "       0.53318654, 0.53077008, 0.52691876, 0.52886643, 0.49737956,\n",
    "       0.49964142, 0.54737266, 0.55144345, 0.50854596, 0.51686473])\n",
    "statistical_tests.welch_test_is_greater(x1, x2)"
   ]
  }
 ],
 "metadata": {
  "kernelspec": {
   "display_name": "Python 3",
   "language": "python",
   "name": "python3"
  },
  "language_info": {
   "codemirror_mode": {
    "name": "ipython",
    "version": 3
   },
   "file_extension": ".py",
   "mimetype": "text/x-python",
   "name": "python",
   "nbconvert_exporter": "python",
   "pygments_lexer": "ipython3",
   "version": "3.7.10"
  }
 },
 "nbformat": 4,
 "nbformat_minor": 4
}
