{
 "cells": [
  {
   "cell_type": "code",
   "execution_count": 1,
   "metadata": {},
   "outputs": [],
   "source": [
    "import sys\n",
    "sys.path.append('../../') # or just install the module"
   ]
  },
  {
   "cell_type": "code",
   "execution_count": 2,
   "metadata": {
    "scrolled": false
   },
   "outputs": [
    {
     "name": "stdout",
     "output_type": "stream",
     "text": [
      "y_target [0 2 0 1 2 0 2 0 1 1 0 0 0 2 1 1 1 2 2 1 0 2 2 2 0 1 2 2 0 2 2 0 1 1 2 1 2\n",
      " 0 1 1 1 0 1 2 1 2 1 0 2 2 0 2 2 2 1 2 0 1 2 2 0 1 1 2 1 1 2 2 0 2 2 2 1 1\n",
      " 0 0 1 1 1 0 2 0 1 2 2 0 2 1 1 2 2 0 1 2 1 2 1 1 1 1 2 1 2 1 2 2 2 0 1 0 1\n",
      " 0 0 2 0 1 1 2 2 2 0 2 1 2 2 1 1 0 0 1 1 0 1 0 1 1 0 1 1 1 1 0 1 0 0 2 2 0\n",
      " 2 1 2 2 2 1 2 1 1 2 2 1 0 1 1 2 0 1 0 0 1 0 1 1 2 2 0 0 1 2 2 2 2 1 1 2 0\n",
      " 0 1 0 2 0 0 1 2 2 0 0 0 1 1 2] (200,)\n",
      "y_pred_p (200, 3)\n"
     ]
    }
   ],
   "source": [
    "import numpy as np\n",
    "\n",
    "N = 200\n",
    "class_names = ['a', 'b', 'c']\n",
    "y_target = np.random.randint(0, len(class_names), size=(N))\n",
    "y_pred_p = np.random.uniform(0, 1, size=(N, len(class_names)))\n",
    "y_pred_p = y_pred_p/np.sum(y_pred_p, axis=1)[...,None]\n",
    "print('y_target', y_target, y_target.shape)\n",
    "print('y_pred_p', y_pred_p.shape)"
   ]
  },
  {
   "cell_type": "code",
   "execution_count": 3,
   "metadata": {},
   "outputs": [
    {
     "data": {
      "text/plain": [
       "(<Figure size 480x400 with 2 Axes>,\n",
       " <matplotlib.axes._subplots.AxesSubplot at 0x7fec8f811410>,\n",
       " array([[[0.2962963 , 0.37037037, 0.33333333],\n",
       "         [0.31081081, 0.40540541, 0.28378378],\n",
       "         [0.33333333, 0.41666667, 0.25      ]]]))"
      ]
     },
     "execution_count": 3,
     "metadata": {},
     "output_type": "execute_result"
    },
    {
     "data": {
      "image/png": "[encoded data removed]",
      "text/plain": [
       "<Figure size 480x400 with 2 Axes>"
      ]
     },
     "metadata": {
      "needs_background": "light"
     },
     "output_type": "display_data"
    }
   ],
   "source": [
    "%load_ext autoreload\n",
    "%autoreload 2\n",
    "from fuzzytools.datascience import metrics as metrics\n",
    "from fuzzytools.cuteplots.cm_plots import plot_custom_confusion_matrix\n",
    "\n",
    "metrics_cdict, metrics_dict, cm = metrics.get_multiclass_metrics(y_pred_p, y_target, class_names)\n",
    "title = ''\n",
    "#title += f'b-f1score={f1score_xe}'+'\\n'\n",
    "#title += f'b-accuracy={accuracy_xe}%'+'\\n'\n",
    "cm_kwargs = {\n",
    "    'title':title[:-1],\n",
    "    'figsize':(6,5),\n",
    "    'normalize_mode':None,\n",
    "}\n",
    "#fig, ax = plot_custom_confusion_matrix(cm[None], class_names, **cm_kwargs)\n",
    "cm_kwargs = {\n",
    "    'title':title[:-1],\n",
    "    'figsize':(6,5),\n",
    "    'normalize_mode':'true',\n",
    "}\n",
    "plot_custom_confusion_matrix(cm[None], class_names, **cm_kwargs)"
   ]
  },
  {
   "cell_type": "code",
   "execution_count": 4,
   "metadata": {},
   "outputs": [
    {
     "data": {
      "text/plain": [
       "(array([[0.32444744, 0.33705555, 0.33849701],\n",
       "        [0.48877226, 0.39922323, 0.1120045 ],\n",
       "        [0.28590063, 0.26639459, 0.44770478],\n",
       "        [0.32357043, 0.27766269, 0.39876688],\n",
       "        [0.48400959, 0.13154363, 0.38444677],\n",
       "        [0.48372945, 0.01410588, 0.50216467],\n",
       "        [0.59917523, 0.21764876, 0.18317601],\n",
       "        [0.60906038, 0.29652865, 0.09441097],\n",
       "        [0.1552353 , 0.5190431 , 0.3257216 ],\n",
       "        [0.59950606, 0.25105558, 0.14943836],\n",
       "        [0.05148945, 0.82764788, 0.12086268],\n",
       "        [0.45756649, 0.08460564, 0.45782786],\n",
       "        [0.35300778, 0.47267079, 0.17432142],\n",
       "        [0.14580759, 0.3313971 , 0.5227953 ],\n",
       "        [0.57897699, 0.15349871, 0.26752431],\n",
       "        [0.34392882, 0.04191341, 0.61415777],\n",
       "        [0.11616083, 0.53727557, 0.3465636 ],\n",
       "        [0.38627987, 0.19810223, 0.41561791],\n",
       "        [0.60748166, 0.16195679, 0.23056155],\n",
       "        [0.43796415, 0.15478626, 0.40724959],\n",
       "        [0.19471704, 0.41351191, 0.39177105],\n",
       "        [0.51162073, 0.33166462, 0.15671465],\n",
       "        [0.10741541, 0.46841143, 0.42417316],\n",
       "        [0.04461433, 0.63184308, 0.32354259],\n",
       "        [0.10601709, 0.48384007, 0.41014284],\n",
       "        [0.18347863, 0.43778165, 0.37873973],\n",
       "        [0.42142178, 0.04963904, 0.52893918],\n",
       "        [0.15356595, 0.59986254, 0.24657152],\n",
       "        [0.1202553 , 0.47116314, 0.40858156],\n",
       "        [0.10295797, 0.67200224, 0.22503979],\n",
       "        [0.32701084, 0.40834486, 0.26464431],\n",
       "        [0.1386864 , 0.26680391, 0.5945097 ],\n",
       "        [0.4628527 , 0.00132396, 0.53582333],\n",
       "        [0.37732667, 0.13146988, 0.49120345],\n",
       "        [0.54485299, 0.10183311, 0.3533139 ],\n",
       "        [0.15169201, 0.58203146, 0.26627653],\n",
       "        [0.17259394, 0.58629844, 0.24110762],\n",
       "        [0.31971916, 0.42743621, 0.25284463],\n",
       "        [0.25829218, 0.24168069, 0.50002712],\n",
       "        [0.1693347 , 0.46494624, 0.36571905],\n",
       "        [0.54465064, 0.28964219, 0.16570717],\n",
       "        [0.39511063, 0.38621151, 0.21867785],\n",
       "        [0.24376347, 0.48518633, 0.27105021],\n",
       "        [0.06693632, 0.57969403, 0.35336966],\n",
       "        [0.27753669, 0.41370388, 0.30875943],\n",
       "        [0.44519331, 0.48910765, 0.06569904],\n",
       "        [0.65358406, 0.04506014, 0.3013558 ],\n",
       "        [0.24820324, 0.48750355, 0.26429321],\n",
       "        [0.30991142, 0.28248357, 0.407605  ],\n",
       "        [0.53091884, 0.34486604, 0.12421512],\n",
       "        [0.04293491, 0.1886695 , 0.76839559],\n",
       "        [0.40884849, 0.24048529, 0.35066622],\n",
       "        [0.05129933, 0.60536246, 0.34333821],\n",
       "        [0.36901189, 0.23079459, 0.40019352],\n",
       "        [0.43987643, 0.39132929, 0.16879428],\n",
       "        [0.51148361, 0.47234616, 0.01617023],\n",
       "        [0.01349604, 0.43286611, 0.55363785],\n",
       "        [0.4065969 , 0.04273612, 0.55066698],\n",
       "        [0.05591116, 0.72179536, 0.22229348],\n",
       "        [0.74105927, 0.21688295, 0.04205779],\n",
       "        [0.4884638 , 0.30279471, 0.20874149],\n",
       "        [0.30392841, 0.45518297, 0.24088862],\n",
       "        [0.38127096, 0.28876554, 0.32996349],\n",
       "        [0.36956761, 0.62148183, 0.00895056],\n",
       "        [0.37798399, 0.47137661, 0.1506394 ],\n",
       "        [0.53531035, 0.01691678, 0.44777287],\n",
       "        [0.09079698, 0.82077816, 0.08842486],\n",
       "        [0.03664697, 0.14804026, 0.81531277],\n",
       "        [0.23271736, 0.43185496, 0.33542768],\n",
       "        [0.03077474, 0.466563  , 0.50266226],\n",
       "        [0.14179182, 0.68005089, 0.17815729],\n",
       "        [0.36680204, 0.62770254, 0.00549542],\n",
       "        [0.48367505, 0.26382905, 0.2524959 ],\n",
       "        [0.34431395, 0.1835399 , 0.47214615],\n",
       "        [0.16227338, 0.73342865, 0.10429797],\n",
       "        [0.44915758, 0.26472583, 0.2861166 ],\n",
       "        [0.32568485, 0.66379118, 0.01052397],\n",
       "        [0.58981032, 0.0509512 , 0.35923848],\n",
       "        [0.37256252, 0.30457069, 0.32286678],\n",
       "        [0.05517991, 0.49320328, 0.45161681],\n",
       "        [0.25300873, 0.38655748, 0.36043378],\n",
       "        [0.54274695, 0.36147611, 0.09577693],\n",
       "        [0.33313396, 0.4112902 , 0.25557584],\n",
       "        [0.12852448, 0.41264778, 0.45882774],\n",
       "        [0.22425239, 0.39046577, 0.38528184],\n",
       "        [0.36822558, 0.44297666, 0.18879776],\n",
       "        [0.00625393, 0.514454  , 0.47929207],\n",
       "        [0.39489791, 0.28891998, 0.31618211],\n",
       "        [0.05575543, 0.58757303, 0.35667154],\n",
       "        [0.07679999, 0.45883677, 0.46436324],\n",
       "        [0.47492837, 0.06604497, 0.45902666],\n",
       "        [0.3613121 , 0.31332883, 0.32535906],\n",
       "        [0.19135272, 0.39939183, 0.40925545],\n",
       "        [0.39230523, 0.26958098, 0.33811379],\n",
       "        [0.38787381, 0.20920511, 0.40292108],\n",
       "        [0.05214122, 0.6754713 , 0.27238747],\n",
       "        [0.36447485, 0.0340517 , 0.60147345],\n",
       "        [0.10334569, 0.73918571, 0.15746861],\n",
       "        [0.33630426, 0.62838079, 0.03531496],\n",
       "        [0.41096439, 0.11872947, 0.47030615],\n",
       "        [0.43692338, 0.33988991, 0.22318671],\n",
       "        [0.33209864, 0.45932444, 0.20857692],\n",
       "        [0.15512357, 0.49344635, 0.35143008],\n",
       "        [0.37722482, 0.36933398, 0.2534412 ],\n",
       "        [0.45898727, 0.13892273, 0.40209   ],\n",
       "        [0.31430895, 0.43325556, 0.25243549],\n",
       "        [0.63259343, 0.1340057 , 0.23340087],\n",
       "        [0.22006204, 0.35825395, 0.42168401],\n",
       "        [0.17473334, 0.36960355, 0.45566311],\n",
       "        [0.51206205, 0.00832599, 0.47961196],\n",
       "        [0.24387445, 0.38015098, 0.37597457],\n",
       "        [0.20728366, 0.28749591, 0.50522044],\n",
       "        [0.28756489, 0.37626451, 0.3361706 ],\n",
       "        [0.18592142, 0.44783686, 0.36624171],\n",
       "        [0.28474887, 0.26457417, 0.45067696],\n",
       "        [0.09854443, 0.74854345, 0.15291212],\n",
       "        [0.55408421, 0.31693938, 0.12897641],\n",
       "        [0.04242654, 0.01191144, 0.94566203],\n",
       "        [0.33497933, 0.44472564, 0.22029503],\n",
       "        [0.32460163, 0.56953562, 0.10586275],\n",
       "        [0.3443703 , 0.35109892, 0.30453079],\n",
       "        [0.21791139, 0.44164287, 0.34044574],\n",
       "        [0.44191286, 0.25559331, 0.30249382],\n",
       "        [0.79881472, 0.09087677, 0.11030851],\n",
       "        [0.16665462, 0.41615445, 0.41719094],\n",
       "        [0.35385167, 0.35727111, 0.28887721],\n",
       "        [0.1004944 , 0.62152608, 0.27797951],\n",
       "        [0.3265207 , 0.43464244, 0.23883686],\n",
       "        [0.45435256, 0.25965802, 0.28598942],\n",
       "        [0.5180639 , 0.24824124, 0.23369486],\n",
       "        [0.42839523, 0.36671615, 0.20488862],\n",
       "        [0.36035044, 0.62112079, 0.01852877],\n",
       "        [0.2458393 , 0.3621243 , 0.3920364 ],\n",
       "        [0.31968014, 0.27088542, 0.40943443],\n",
       "        [0.45613886, 0.4048085 , 0.13905263],\n",
       "        [0.57041154, 0.23265094, 0.19693752],\n",
       "        [0.37468332, 0.34500844, 0.28030823],\n",
       "        [0.37308819, 0.48207259, 0.14483921],\n",
       "        [0.10621805, 0.68495429, 0.20882766],\n",
       "        [0.26252027, 0.38358931, 0.35389042],\n",
       "        [0.29074457, 0.53348373, 0.1757717 ],\n",
       "        [0.23343115, 0.31112425, 0.4554446 ],\n",
       "        [0.42160698, 0.56497445, 0.01341857],\n",
       "        [0.16368739, 0.52496973, 0.31134288],\n",
       "        [0.35352837, 0.19892924, 0.44754239],\n",
       "        [0.38940937, 0.07799341, 0.53259723],\n",
       "        [0.46430531, 0.10000449, 0.4356902 ],\n",
       "        [0.43935567, 0.1086111 , 0.45203323],\n",
       "        [0.07785785, 0.78500008, 0.13714207],\n",
       "        [0.38076993, 0.07086215, 0.54836792],\n",
       "        [0.5763527 , 0.37522238, 0.04842492],\n",
       "        [0.0856565 , 0.45553011, 0.45881339],\n",
       "        [0.11007784, 0.32191377, 0.56800839],\n",
       "        [0.23962469, 0.04601286, 0.71436245],\n",
       "        [0.1171817 , 0.44865161, 0.43416669],\n",
       "        [0.26578237, 0.28176082, 0.45245681],\n",
       "        [0.23729755, 0.60450839, 0.15819407],\n",
       "        [0.12377287, 0.42842365, 0.44780348],\n",
       "        [0.56315148, 0.28615371, 0.15069481],\n",
       "        [0.00451285, 0.21767467, 0.77781247],\n",
       "        [0.04372713, 0.53367839, 0.42259448],\n",
       "        [0.23752103, 0.56740227, 0.1950767 ],\n",
       "        [0.46554687, 0.10608399, 0.42836914],\n",
       "        [0.41869813, 0.40936337, 0.1719385 ],\n",
       "        [0.5038395 , 0.09375635, 0.40240415],\n",
       "        [0.42069811, 0.53038797, 0.04891392],\n",
       "        [0.39922521, 0.44574399, 0.15503079],\n",
       "        [0.19903099, 0.4963058 , 0.30466321],\n",
       "        [0.46529898, 0.1334093 , 0.40129172],\n",
       "        [0.4618143 , 0.16074249, 0.37744321],\n",
       "        [0.33139258, 0.54960878, 0.11899864],\n",
       "        [0.30640863, 0.3552074 , 0.33838398],\n",
       "        [0.40134807, 0.489528  , 0.10912393],\n",
       "        [0.47688626, 0.35991383, 0.1631999 ],\n",
       "        [0.40085701, 0.39954221, 0.19960078],\n",
       "        [0.27382863, 0.34778617, 0.3783852 ],\n",
       "        [0.21276398, 0.41680578, 0.37043024],\n",
       "        [0.35977364, 0.08830162, 0.55192474],\n",
       "        [0.42572766, 0.22986329, 0.34440905],\n",
       "        [0.22996117, 0.67216991, 0.09786892],\n",
       "        [0.245428  , 0.12965723, 0.62491477],\n",
       "        [0.5427969 , 0.28308253, 0.17412057],\n",
       "        [0.37424376, 0.08405994, 0.54169629],\n",
       "        [0.38770571, 0.16409401, 0.44820028],\n",
       "        [0.6711162 , 0.13501358, 0.19387022],\n",
       "        [0.15187784, 0.15037693, 0.69774523],\n",
       "        [0.14021304, 0.25216293, 0.60762403],\n",
       "        [0.50082975, 0.35403878, 0.14513147],\n",
       "        [0.26691761, 0.39973424, 0.33334815],\n",
       "        [0.37698006, 0.15065337, 0.47236658],\n",
       "        [0.51475454, 0.30134201, 0.18390345],\n",
       "        [0.02998033, 0.16297247, 0.8070472 ],\n",
       "        [0.08916486, 0.51080025, 0.40003489],\n",
       "        [0.84667291, 0.04294523, 0.11038186],\n",
       "        [0.43034359, 0.14382207, 0.42583434],\n",
       "        [0.19566693, 0.37119123, 0.43314183],\n",
       "        [0.3466702 , 0.551043  , 0.10228681],\n",
       "        [0.66558127, 0.11608374, 0.21833499],\n",
       "        [0.38491031, 0.21681842, 0.39827126],\n",
       "        [0.94865451, 0.03099289, 0.0203526 ]]),\n",
       " array([0, 2, 0, 1, 2, 0, 2, 0, 1, 1, 0, 0, 0, 2, 1, 1, 1, 2, 2, 1, 0, 2,\n",
       "        2, 2, 0, 1, 2, 2, 0, 2, 2, 0, 1, 1, 2, 1, 2, 0, 1, 1, 1, 0, 1, 2,\n",
       "        1, 2, 1, 0, 2, 2, 0, 2, 2, 2, 1, 2, 0, 1, 2, 2, 0, 1, 1, 2, 1, 1,\n",
       "        2, 2, 0, 2, 2, 2, 1, 1, 0, 0, 1, 1, 1, 0, 2, 0, 1, 2, 2, 0, 2, 1,\n",
       "        1, 2, 2, 0, 1, 2, 1, 2, 1, 1, 1, 1, 2, 1, 2, 1, 2, 2, 2, 0, 1, 0,\n",
       "        1, 0, 0, 2, 0, 1, 1, 2, 2, 2, 0, 2, 1, 2, 2, 1, 1, 0, 0, 1, 1, 0,\n",
       "        1, 0, 1, 1, 0, 1, 1, 1, 1, 0, 1, 0, 0, 2, 2, 0, 2, 1, 2, 2, 2, 1,\n",
       "        2, 1, 1, 2, 2, 1, 0, 1, 1, 2, 0, 1, 0, 0, 1, 0, 1, 1, 2, 2, 0, 0,\n",
       "        1, 2, 2, 2, 2, 1, 1, 2, 0, 0, 1, 0, 2, 0, 0, 1, 2, 2, 0, 0, 0, 1,\n",
       "        1, 2]))"
      ]
     },
     "execution_count": 4,
     "metadata": {},
     "output_type": "execute_result"
    }
   ],
   "source": [
    "y_pred_p, y_target"
   ]
  },
  {
   "cell_type": "code",
   "execution_count": 5,
   "metadata": {},
   "outputs": [
    {
     "name": "stdout",
     "output_type": "stream",
     "text": [
      "The autoreload extension is already loaded. To reload it, use:\n",
      "  %reload_ext autoreload\n",
      "dict_keys(['precision', 'recall', 'f1score', 'accuracy', 'prc', 'aucpr', 'rocc', 'aucroc', 'xentropy'])\n",
      "dict_keys(['b-precision', 'w-precision', 'b-recall', 'w-recall', 'b-f1score', 'w-f1score', 'b-accuracy', 'w-accuracy', 'b-aucpr', 'w-aucpr', 'b-aucroc', 'w-aucroc', 'b-xentropy', 'w-xentropy'])\n",
      "b-precision 0.31491919502113436\n",
      "b-recall 0.31723385244176766\n",
      "b-f1score 0.31405646498648565\n",
      "b-accuracy 0.5466666393333347\n",
      "b-aucpr 0.3263888011397664\n",
      "b-aucroc 0.47087782855833654\n",
      "b-xentropy 1.3361545994507935\n"
     ]
    }
   ],
   "source": [
    "%load_ext autoreload\n",
    "%autoreload 2\n",
    "from fuzzytools.datascience import metrics as metrics\n",
    "from fuzzytools.cuteplots.cm_plots import plot_custom_confusion_matrix\n",
    "\n",
    "metrics_cdict, metrics_dict, cm = metrics.get_multiclass_metrics(y_pred_p, y_target, class_names)\n",
    "print(metrics_cdict[class_names[0]].keys())\n",
    "print(metrics_dict.keys())\n",
    "{c:metrics_cdict[c]['recall'] for c in class_names}\n",
    "for k in metrics_dict.keys():\n",
    "    if 'w-' in k:\n",
    "        continue\n",
    "    print(k, metrics_dict[k])"
   ]
  },
  {
   "cell_type": "code",
   "execution_count": 6,
   "metadata": {},
   "outputs": [
    {
     "name": "stdout",
     "output_type": "stream",
     "text": [
      "0.3149192425508215\n",
      "0.31723390056723394\n",
      "0.3140614768521745\n"
     ]
    }
   ],
   "source": [
    "from sklearn import metrics as skmetrics\n",
    "\n",
    "precision, recall, f1score,_ = skmetrics.precision_recall_fscore_support(y_target, y_pred_p.argmax(axis=-1),\n",
    "                average=None,\n",
    "                labels=range(0, len(class_names)),\n",
    "                )\n",
    "print(np.mean(precision))\n",
    "print(np.mean(recall))\n",
    "print(np.mean(f1score))"
   ]
  },
  {
   "cell_type": "code",
   "execution_count": 7,
   "metadata": {},
   "outputs": [
    {
     "name": "stdout",
     "output_type": "stream",
     "text": [
      "0.25\n"
     ]
    }
   ],
   "source": [
    "precision, recall, score,_ = skmetrics.precision_recall_fscore_support(\n",
    "    np.array([0, 0, 0 ,1 ,0 ,1, 0, 0 ,0, 1, 0, 0, 1, 0, 0, 1 ,0, 0 ,0 ,1]).astype(bool),\n",
    "    np.array([0 ,0, 1, 0 ,0, 1 ,1 ,0, 0, 0, 0, 1, 0, 0, 0, 0, 0 ,0, 0 ,0]).astype(bool),\n",
    "    average='binary', pos_label=1)\n",
    "print(precision)"
   ]
  },
  {
   "cell_type": "code",
   "execution_count": 8,
   "metadata": {},
   "outputs": [
    {
     "data": {
      "text/plain": [
       "[<matplotlib.lines.Line2D at 0x7fec87190d10>]"
      ]
     },
     "execution_count": 8,
     "metadata": {},
     "output_type": "execute_result"
    },
    {
     "data": {
      "image/png": "[encoded data removed]",
      "text/plain": [
       "<Figure size 432x288 with 1 Axes>"
      ]
     },
     "metadata": {
      "needs_background": "light"
     },
     "output_type": "display_data"
    }
   ],
   "source": [
    "import matplotlib.pyplot as plt\n",
    "\n",
    "rocc = metrics_cdict['a']['rocc']\n",
    "plt.plot(rocc['fpr'], rocc['tpr'])"
   ]
  },
  {
   "cell_type": "code",
   "execution_count": 9,
   "metadata": {},
   "outputs": [
    {
     "data": {
      "text/plain": [
       "[<matplotlib.lines.Line2D at 0x7fec87151510>]"
      ]
     },
     "execution_count": 9,
     "metadata": {},
     "output_type": "execute_result"
    },
    {
     "data": {
      "image/png": "[encoded data removed]",
      "text/plain": [
       "<Figure size 432x288 with 1 Axes>"
      ]
     },
     "metadata": {
      "needs_background": "light"
     },
     "output_type": "display_data"
    }
   ],
   "source": [
    "import matplotlib.pyplot as plt\n",
    "\n",
    "rocc = metrics_cdict['a']['prc']\n",
    "plt.plot(rocc['recall'], rocc['precision'])"
   ]
  }
 ],
 "metadata": {
  "kernelspec": {
   "display_name": "Python 3",
   "language": "python",
   "name": "python3"
  },
  "language_info": {
   "codemirror_mode": {
    "name": "ipython",
    "version": 3
   },
   "file_extension": ".py",
   "mimetype": "text/x-python",
   "name": "python",
   "nbconvert_exporter": "python",
   "pygments_lexer": "ipython3",
   "version": "3.7.10"
  }
 },
 "nbformat": 4,
 "nbformat_minor": 4
}
