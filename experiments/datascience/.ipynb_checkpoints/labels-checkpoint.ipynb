{
 "cells": [
  {
   "cell_type": "code",
   "execution_count": 35,
   "id": "0ff8345d",
   "metadata": {},
   "outputs": [],
   "source": [
    "import sys\n",
    "sys.path.append('../../') # or just install the module"
   ]
  },
  {
   "cell_type": "code",
   "execution_count": 46,
   "id": "23d4e8de",
   "metadata": {},
   "outputs": [
    {
     "name": "stdout",
     "output_type": "stream",
     "text": [
      "The autoreload extension is already loaded. To reload it, use:\n",
      "  %reload_ext autoreload\n",
      "[[ True False]\n",
      " [False  True]\n",
      " [False  True]\n",
      " [ True False]\n",
      " [False  True]\n",
      " [False  True]\n",
      " [False  True]]\n",
      "(7, 2)\n",
      "(7, 2)\n",
      "0000\n",
      "[0 1 1 0 1 1 1] [[0.1 0.9]\n",
      " [0.2 0.8]\n",
      " [0.8 0.2]\n",
      " [0.1 0.9]\n",
      " [0.5 0.5]\n",
      " [0.4 0.6]\n",
      " [0.4 0.6]] [1 1 0 1 0 1 1]\n"
     ]
    }
   ],
   "source": [
    "%load_ext autoreload\n",
    "%autoreload 2\n",
    "from fuzzytools.datascience.labels import _check_labels, format_labels, get_onehot\n",
    "import numpy as np\n",
    "\n",
    "y_true = np.array([0,1,1,0,1,1,1])\n",
    "y_true = get_onehot(y_true)\n",
    "print(y_true)\n",
    "y_pred_p = np.array([.1,.2,.8,.1,.5,.4,.4])[...,None]\n",
    "y_pred_p = np.concatenate([y_pred_p, 1-y_pred_p], axis=-1)\n",
    "print(y_true.shape)\n",
    "print(y_pred_p.shape)\n",
    "class_names = ['a', 'b']\n",
    "_check_labels(y_true, y_pred_p, class_names)\n",
    "\n",
    "print('0000')\n",
    "y_true, y_pred_p, y_pred = format_labels(y_true, y_pred_p, class_names)\n",
    "print(y_true, y_pred_p, y_pred)"
   ]
  },
  {
   "cell_type": "code",
   "execution_count": null,
   "id": "f2717b23",
   "metadata": {},
   "outputs": [],
   "source": []
  },
  {
   "cell_type": "code",
   "execution_count": null,
   "id": "a3ef877f",
   "metadata": {},
   "outputs": [],
   "source": []
  }
 ],
 "metadata": {
  "kernelspec": {
   "display_name": "Python 3",
   "language": "python",
   "name": "python3"
  },
  "language_info": {
   "codemirror_mode": {
    "name": "ipython",
    "version": 3
   },
   "file_extension": ".py",
   "mimetype": "text/x-python",
   "name": "python",
   "nbconvert_exporter": "python",
   "pygments_lexer": "ipython3",
   "version": "3.7.10"
  }
 },
 "nbformat": 4,
 "nbformat_minor": 5
}
