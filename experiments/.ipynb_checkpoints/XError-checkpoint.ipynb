{
 "cells": [
  {
   "cell_type": "code",
   "execution_count": 1,
   "metadata": {},
   "outputs": [],
   "source": [
    "import sys\n",
    "sys.path.append('../') # or just install the module"
   ]
  },
  {
   "cell_type": "code",
   "execution_count": 2,
   "metadata": {},
   "outputs": [
    {
     "name": "stdout",
     "output_type": "stream",
     "text": [
      "12.241±1.012\n",
      "25.811±2.385\n",
      "51.443±.143\n",
      "50.851±1.331\n",
      "19.026±7.028\n",
      "14.241±1.012\n"
     ]
    }
   ],
   "source": [
    "%load_ext autoreload\n",
    "%autoreload 2\n",
    "import numpy as np\n",
    "from flamingchoripan.datascience.xerror import XError\n",
    "\n",
    "xe1 = XError(np.random.uniform(10,15, size=10))\n",
    "xe2 = XError(np.random.uniform(20,29, size=10))\n",
    "xe3 = XError(np.random.uniform(51,52, size=10))\n",
    "xe4 = XError(np.random.uniform(49,53, size=10))\n",
    "xe5 = xe1+xe2\n",
    "xe6 = xe1+2\n",
    "print(xe1)\n",
    "print(xe2)\n",
    "print(xe3)\n",
    "print(xe4)\n",
    "print(xe5)\n",
    "print(xe6)"
   ]
  },
  {
   "cell_type": "code",
   "execution_count": 3,
   "metadata": {},
   "outputs": [
    {
     "name": "stdout",
     "output_type": "stream",
     "text": [
      "[12.241±1.012, 25.811±2.385, 50.851±1.331, 50.851±1.331]\n"
     ]
    },
    {
     "data": {
      "text/plain": [
       "[False, False, False, False]"
      ]
     },
     "execution_count": 3,
     "metadata": {},
     "output_type": "execute_result"
    }
   ],
   "source": [
    "%load_ext autoreload\n",
    "%autoreload 2\n",
    "import numpy as np\n",
    "from flamingchoripan.datascience.xerror import get_max_xerrors\n",
    "\n",
    "l = [xe1, xe2, xe4, xe4]\n",
    "print(l)\n",
    "get_max_xerrors(l)"
   ]
  },
  {
   "cell_type": "code",
   "execution_count": 4,
   "metadata": {},
   "outputs": [
    {
     "name": "stdout",
     "output_type": "stream",
     "text": [
      "The autoreload extension is already loaded. To reload it, use:\n",
      "  %reload_ext autoreload\n",
      "12.241±1.012 > 12.241±1.012= False\n",
      "12.241±1.012 > 50.851±1.331= False\n",
      "50.851±1.331 > 12.241±1.012= True\n",
      "25.811±2.385 > 51.443±.143= False\n"
     ]
    }
   ],
   "source": [
    "%load_ext autoreload\n",
    "%autoreload 2\n",
    "from flamingchoripan.datascience.xerror import XError\n",
    "def compare(xe1, xe2):\n",
    "    print(f'{xe1} > {xe2}=',xe1>xe2)\n",
    "\n",
    "compare(xe1, xe1) # 0\n",
    "compare(xe1, xe4) # 1\n",
    "compare(xe4, xe1) # 0\n",
    "compare(xe2, xe3) # 0"
   ]
  }
 ],
 "metadata": {
  "kernelspec": {
   "display_name": "Python 3",
   "language": "python",
   "name": "python3"
  },
  "language_info": {
   "codemirror_mode": {
    "name": "ipython",
    "version": 3
   },
   "file_extension": ".py",
   "mimetype": "text/x-python",
   "name": "python",
   "nbconvert_exporter": "python",
   "pygments_lexer": "ipython3",
   "version": "3.7.9"
  }
 },
 "nbformat": 4,
 "nbformat_minor": 4
}
