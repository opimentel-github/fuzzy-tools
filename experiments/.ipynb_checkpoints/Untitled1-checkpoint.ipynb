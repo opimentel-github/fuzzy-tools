{
 "cells": [
  {
   "cell_type": "code",
   "execution_count": 1,
   "id": "c2b93bff",
   "metadata": {},
   "outputs": [],
   "source": [
    "import sys\n",
    "sys.path.append('../') # or just install the module"
   ]
  },
  {
   "cell_type": "code",
   "execution_count": 2,
   "id": "5512b771",
   "metadata": {},
   "outputs": [
    {
     "name": "stdout",
     "output_type": "stream",
     "text": [
      "[0, 6, 7, 0, 3]\n",
      "[0, 6, 7, 0, 3]\n"
     ]
    }
   ],
   "source": [
    "%load_ext autoreload\n",
    "%autoreload 2\n",
    "import fuzzytools.lists as lists\n",
    "\n",
    "l = [0,1,2,3,4,5,6,7]\n",
    "print(lists.get_bootstrap(l, 5, random_state=10))\n",
    "print(lists.get_bootstrap(l, 5, random_state=10))"
   ]
  },
  {
   "cell_type": "code",
   "execution_count": null,
   "id": "d8bfffe0",
   "metadata": {},
   "outputs": [],
   "source": []
  },
  {
   "cell_type": "code",
   "execution_count": null,
   "id": "0ee6e439",
   "metadata": {},
   "outputs": [],
   "source": []
  }
 ],
 "metadata": {
  "kernelspec": {
   "display_name": "Python 3",
   "language": "python",
   "name": "python3"
  },
  "language_info": {
   "codemirror_mode": {
    "name": "ipython",
    "version": 3
   },
   "file_extension": ".py",
   "mimetype": "text/x-python",
   "name": "python",
   "nbconvert_exporter": "python",
   "pygments_lexer": "ipython3",
   "version": "3.7.10"
  }
 },
 "nbformat": 4,
 "nbformat_minor": 5
}
