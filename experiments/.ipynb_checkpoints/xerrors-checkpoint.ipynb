{
 "cells": [
  {
   "cell_type": "code",
   "execution_count": 36,
   "metadata": {},
   "outputs": [],
   "source": [
    "import sys\n",
    "sys.path.append('../') # or just install the module"
   ]
  },
  {
   "cell_type": "code",
   "execution_count": 37,
   "metadata": {},
   "outputs": [
    {
     "name": "stdout",
     "output_type": "stream",
     "text": [
      "The autoreload extension is already loaded. To reload it, use:\n",
      "  %reload_ext autoreload\n",
      "─\n",
      "12.786±1.479\n",
      "xe2 25.694±2.772\n",
      "xe3 51.600±.283\n",
      "xe4 51.088±1.022\n",
      "xe5 19.521±6.828\n",
      "xe6 14.786±1.479\n",
      "xe7 1.479±.148\n"
     ]
    }
   ],
   "source": [
    "%load_ext autoreload\n",
    "%autoreload 2\n",
    "import numpy as np\n",
    "from fuzzytools.datascience.xerror import XError\n",
    "\n",
    "dummy_xe = XError(None)\n",
    "print(dummy_xe)\n",
    "xe1 = XError(np.random.uniform(10,15, size=11))\n",
    "xe2 = XError(np.random.uniform(20,29, size=12))\n",
    "xe3 = XError(np.random.uniform(51,52, size=13))\n",
    "xe4 = XError(np.random.uniform(49,53, size=14))\n",
    "xe5 = xe1+xe2\n",
    "xe6 = xe1+2\n",
    "xe7 = xe6/10\n",
    "print(xe1)\n",
    "print('xe2',xe2)\n",
    "print('xe3',xe3)\n",
    "print('xe4',xe4)\n",
    "print('xe5',xe5)\n",
    "print('xe6',xe6)\n",
    "print('xe7',xe7)"
   ]
  },
  {
   "cell_type": "code",
   "execution_count": 59,
   "metadata": {},
   "outputs": [
    {
     "name": "stdout",
     "output_type": "stream",
     "text": [
      "True\n",
      "False\n"
     ]
    }
   ],
   "source": [
    "print(xe7==xe7)\n",
    "print(xe7==xe6)"
   ]
  },
  {
   "cell_type": "code",
   "execution_count": 60,
   "metadata": {},
   "outputs": [
    {
     "name": "stdout",
     "output_type": "stream",
     "text": [
      "(True, 0.0)\n",
      "(True, 9.289654877673037e-19)\n",
      "(True, 0.00017257459994796307)\n",
      "(True, 9.697300326753454e-21)\n",
      "(False, 0.10537253158248468)\n"
     ]
    }
   ],
   "source": [
    "from scipy import stats\n",
    "\n",
    "print(XError([2]).gt_ttest(XError([1]), return_pvalue=True))\n",
    "print(xe4.gt_ttest(XError([1]), return_pvalue=True))\n",
    "print(XError([55]).gt_ttest(xe4, return_pvalue=True))\n",
    "print(xe4.gt_ttest(xe2, return_pvalue=True))\n",
    "print(xe4.gt_ttest(xe3, return_pvalue=True))"
   ]
  },
  {
   "cell_type": "code",
   "execution_count": 11,
   "metadata": {},
   "outputs": [
    {
     "name": "stdout",
     "output_type": "stream",
     "text": [
      "The autoreload extension is already loaded. To reload it, use:\n",
      "  %reload_ext autoreload\n",
      "100.548±.285\n",
      ".000±.000\n",
      "-.000±.000\n"
     ]
    }
   ],
   "source": [
    "%load_ext autoreload\n",
    "%autoreload 2\n",
    "\n",
    "xe = XError(np.random.uniform(100,101, size=10))\n",
    "print(xe)\n",
    "xe = XError(np.random.uniform(1e-7,1e-6, size=10))\n",
    "print(xe)\n",
    "xe = XError(np.random.uniform(-1e-7,-1e-6, size=10))\n",
    "print(xe)"
   ]
  },
  {
   "cell_type": "code",
   "execution_count": 4,
   "metadata": {},
   "outputs": [
    {
     "name": "stdout",
     "output_type": "stream",
     "text": [
      "The autoreload extension is already loaded. To reload it, use:\n",
      "  %reload_ext autoreload\n",
      "[12.737±1.738, 25.195±2.562, 51.075±1.389, 51.075±1.389]\n"
     ]
    },
    {
     "data": {
      "text/plain": [
       "[False, False, True, True]"
      ]
     },
     "execution_count": 4,
     "metadata": {},
     "output_type": "execute_result"
    }
   ],
   "source": [
    "%load_ext autoreload\n",
    "%autoreload 2\n",
    "import numpy as np\n",
    "from fuzzytools.datascience.xerror import get_max_xerrors\n",
    "\n",
    "l = [xe1, xe2, xe4, xe4]\n",
    "print(l)\n",
    "get_max_xerrors(l)"
   ]
  },
  {
   "cell_type": "code",
   "execution_count": 5,
   "metadata": {},
   "outputs": [
    {
     "name": "stdout",
     "output_type": "stream",
     "text": [
      "The autoreload extension is already loaded. To reload it, use:\n",
      "  %reload_ext autoreload\n",
      "12.837±1.738 > 12.737±1.738= True\n",
      "17.737±1.738 > 12.737±1.738= True\n",
      "12.737±1.738 > 51.075±1.389= False\n",
      "51.075±1.389 > 12.737±1.738= True\n",
      "25.195±2.562 > 51.606±0.231= False\n"
     ]
    }
   ],
   "source": [
    "%load_ext autoreload\n",
    "%autoreload 2\n",
    "from fuzzytools.datascience.xerror import XError\n",
    "def compare(xe1, xe2):\n",
    "    print(f'{xe1} > {xe2}=',xe1>xe2)\n",
    "\n",
    "compare(xe1+0.1, xe1) # 0\n",
    "compare(xe1+5, xe1) # 1\n",
    "compare(xe1, xe4) # 1\n",
    "compare(xe4, xe1) # 0\n",
    "compare(xe2, xe3) # 0"
   ]
  },
  {
   "cell_type": "code",
   "execution_count": 6,
   "metadata": {},
   "outputs": [
    {
     "data": {
      "text/plain": [
       "13.660757345549808"
      ]
     },
     "execution_count": 6,
     "metadata": {},
     "output_type": "execute_result"
    }
   ],
   "source": [
    "xe1.item(0)"
   ]
  }
 ],
 "metadata": {
  "kernelspec": {
   "display_name": "Python 3",
   "language": "python",
   "name": "python3"
  },
  "language_info": {
   "codemirror_mode": {
    "name": "ipython",
    "version": 3
   },
   "file_extension": ".py",
   "mimetype": "text/x-python",
   "name": "python",
   "nbconvert_exporter": "python",
   "pygments_lexer": "ipython3",
   "version": "3.7.10"
  }
 },
 "nbformat": 4,
 "nbformat_minor": 4
}
