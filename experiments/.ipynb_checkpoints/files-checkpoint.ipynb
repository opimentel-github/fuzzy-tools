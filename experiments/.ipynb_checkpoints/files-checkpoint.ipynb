{
 "cells": [
  {
   "cell_type": "code",
   "execution_count": 1,
   "metadata": {},
   "outputs": [],
   "source": [
    "import sys\n",
    "sys.path.append('../') # or just install the module"
   ]
  },
  {
   "cell_type": "code",
   "execution_count": 4,
   "metadata": {},
   "outputs": [
    {
     "name": "stdout",
     "output_type": "stream",
     "text": [
      "The autoreload extension is already loaded. To reload it, use:\n",
      "  %reload_ext autoreload\n",
      "asd\n"
     ]
    }
   ],
   "source": [
    "%load_ext autoreload\n",
    "%autoreload 2\n",
    "import fuzzytools.files as files\n",
    "\n",
    "filedir = '../temp/test-a_file-b.pkl'\n",
    "files.save_pickle(filedir, {'data':[1]*10}, verbose=2)\n",
    "for filedir in [filedir+'a', filedir+'b']:\n",
    "    files.save_pickle(filedir, 'asd', verbose=2)\n",
    "data = files.load_pickle(filedir)\n",
    "print(data)"
   ]
  },
  {
   "cell_type": "code",
   "execution_count": 18,
   "metadata": {},
   "outputs": [
    {
     "name": "stdout",
     "output_type": "stream",
     "text": [
      "The autoreload extension is already loaded. To reload it, use:\n",
      "  %reload_ext autoreload\n",
      "[]\n",
      "['./grid_search.ipynb', './multicore.check', './latex.ipynb', './test_run.py', './colors.ipynb', './ranks.ipynb', './times.ipynb', './metrics.ipynb', './files.ipynb', './dataframes.ipynb', './strings.ipynb', './plots.ipynb', './kfold_test.ipynb', './xerrors.ipynb', './emails.ipynb', './progress_bar.ipynb', './.ipynb_checkpoints/latex-checkpoint.ipynb', './.ipynb_checkpoints/strings-checkpoint.ipynb', './.ipynb_checkpoints/emails-checkpoint.ipynb', './.ipynb_checkpoints/xerrors-checkpoint.ipynb', './.ipynb_checkpoints/files-checkpoint.ipynb', './.ipynb_checkpoints/plots-checkpoint.ipynb', './.ipynb_checkpoints/kfold_test-checkpoint.ipynb', './.ipynb_checkpoints/metrics-checkpoint.ipynb', './.ipynb_checkpoints/bars-checkpoint.ipynb', './.ipynb_checkpoints/colors-checkpoint.ipynb', './.ipynb_checkpoints/multicore-checkpoint.ipynb', './.ipynb_checkpoints/progress_bar-checkpoint.ipynb', './.ipynb_checkpoints/CIFAR10-checkpoint.ipynb', './.ipynb_checkpoints/tinyFlame_example-checkpoint.ipynb', './.ipynb_checkpoints/times-checkpoint.ipynb', './.ipynb_checkpoints/ranks-checkpoint.ipynb', './.ipynb_checkpoints/grid_search-checkpoint.ipynb', './.ipynb_checkpoints/dataframes-checkpoint.ipynb']\n"
     ]
    }
   ],
   "source": [
    "%load_ext autoreload\n",
    "%autoreload 2\n",
    "\n",
    "filedirs = files.get_filedirs('.', fext='pkl')\n",
    "print(filedirs)\n",
    "filedirs = files.get_filedirs('.')\n",
    "print(filedirs)"
   ]
  },
  {
   "cell_type": "code",
   "execution_count": 40,
   "metadata": {},
   "outputs": [
    {
     "name": "stdout",
     "output_type": "stream",
     "text": [
      "The autoreload extension is already loaded. To reload it, use:\n",
      "  %reload_ext autoreload\n"
     ]
    },
    {
     "data": {
      "text/plain": [
       "'../temp/last.pkl'"
      ]
     },
     "execution_count": 40,
     "metadata": {},
     "output_type": "execute_result"
    }
   ],
   "source": [
    "%load_ext autoreload\n",
    "%autoreload 2\n",
    "import fuzzytools.files as files\n",
    "\n",
    "filedir = '../temp/last.pkl'\n",
    "files.save_pickle(filedir, {'data':[1]*10}, verbose=2)\n",
    "filedir = files.get_newest_filedir(files.get_filedirs('../temp'))\n",
    "filedir"
   ]
  },
  {
   "cell_type": "code",
   "execution_count": null,
   "metadata": {},
   "outputs": [],
   "source": [
    "files.search_for_filedirs('.', string_query=['y'])\n",
    "pass"
   ]
  },
  {
   "cell_type": "code",
   "execution_count": null,
   "metadata": {},
   "outputs": [],
   "source": [
    "filedir = '../save/test-a_file-b.pkl'\n",
    "print(files.get_dict_from_filedir(filedir))\n",
    "print(files.get_cfilename(filedir))\n"
   ]
  },
  {
   "cell_type": "code",
   "execution_count": null,
   "metadata": {},
   "outputs": [],
   "source": [
    "files.get_filedir_count('.')"
   ]
  },
  {
   "cell_type": "code",
   "execution_count": null,
   "metadata": {},
   "outputs": [],
   "source": [
    "files.print_all_filedirs('.')"
   ]
  }
 ],
 "metadata": {
  "kernelspec": {
   "display_name": "Python 3",
   "language": "python",
   "name": "python3"
  },
  "language_info": {
   "codemirror_mode": {
    "name": "ipython",
    "version": 3
   },
   "file_extension": ".py",
   "mimetype": "text/x-python",
   "name": "python",
   "nbconvert_exporter": "python",
   "pygments_lexer": "ipython3",
   "version": "3.7.10"
  }
 },
 "nbformat": 4,
 "nbformat_minor": 4
}
