{
 "cells": [
  {
   "cell_type": "code",
   "execution_count": 22,
   "id": "8ef61697",
   "metadata": {},
   "outputs": [],
   "source": [
    "import sys\n",
    "sys.path.append('../') # or just install the module"
   ]
  },
  {
   "cell_type": "code",
   "execution_count": 23,
   "id": "f31d0734",
   "metadata": {},
   "outputs": [
    {
     "name": "stdout",
     "output_type": "stream",
     "text": [
      "The autoreload extension is already loaded. To reload it, use:\n",
      "  %reload_ext autoreload\n"
     ]
    }
   ],
   "source": [
    "%load_ext autoreload\n",
    "%autoreload 2\n",
    "import fuzzytools.files as files\n",
    "\n",
    "for kf in [0,1,2,3,4]:\n",
    "    for file_id in range(0, 3):\n",
    "        files.save_pickle(f'../temp/kf_test/{kf}@test/files.{file_id}.d', {'data':[1]*10})\n"
   ]
  },
  {
   "cell_type": "code",
   "execution_count": 24,
   "id": "1f6c6e32",
   "metadata": {},
   "outputs": [
    {
     "name": "stdout",
     "output_type": "stream",
     "text": [
      "The autoreload extension is already loaded. To reload it, use:\n",
      "  %reload_ext autoreload\n"
     ]
    },
    {
     "data": {
      "text/plain": [
       "{'test': {'4': '../temp/kf_test/4@test',\n",
       "  '1': '../temp/kf_test/1@test',\n",
       "  '3': '../temp/kf_test/3@test',\n",
       "  '0': '../temp/kf_test/0@test',\n",
       "  '2': '../temp/kf_test/2@test'}}"
      ]
     },
     "execution_count": 24,
     "metadata": {},
     "output_type": "execute_result"
    }
   ],
   "source": [
    "%load_ext autoreload\n",
    "%autoreload 2\n",
    "import fuzzytools.files as files\n",
    "\n",
    "files.get_kfold_rootdirs_dict('../temp/kf_test')"
   ]
  },
  {
   "cell_type": "code",
   "execution_count": 34,
   "id": "08314b3f",
   "metadata": {},
   "outputs": [
    {
     "name": "stdout",
     "output_type": "stream",
     "text": [
      "The autoreload extension is already loaded. To reload it, use:\n",
      "  %reload_ext autoreload\n",
      "{'4': [PFile(cfilename=files.0, fext=d, rootdir=../temp/kf_test/4@test, file_class=dict, disk_size=0.000 [mb], last_state=loaded), PFile(cfilename=files.1, fext=d, rootdir=../temp/kf_test/4@test, file_class=dict, disk_size=0.000 [mb], last_state=loaded), PFile(cfilename=files.2, fext=d, rootdir=../temp/kf_test/4@test, file_class=dict, disk_size=0.000 [mb], last_state=loaded)], '1': [PFile(cfilename=files.0, fext=d, rootdir=../temp/kf_test/1@test, file_class=dict, disk_size=0.000 [mb], last_state=loaded)], '3': [PFile(cfilename=files.0, fext=d, rootdir=../temp/kf_test/3@test, file_class=dict, disk_size=0.000 [mb], last_state=loaded), PFile(cfilename=files.1, fext=d, rootdir=../temp/kf_test/3@test, file_class=dict, disk_size=0.000 [mb], last_state=loaded), PFile(cfilename=files.2, fext=d, rootdir=../temp/kf_test/3@test, file_class=dict, disk_size=0.000 [mb], last_state=loaded)], '0': [PFile(cfilename=files.0, fext=d, rootdir=../temp/kf_test/0@test, file_class=dict, disk_size=0.000 [mb], last_state=loaded), PFile(cfilename=files.1, fext=d, rootdir=../temp/kf_test/0@test, file_class=dict, disk_size=0.000 [mb], last_state=loaded), PFile(cfilename=files.2, fext=d, rootdir=../temp/kf_test/0@test, file_class=dict, disk_size=0.000 [mb], last_state=loaded)], '2': [PFile(cfilename=files.0, fext=d, rootdir=../temp/kf_test/2@test, file_class=dict, disk_size=0.000 [mb], last_state=loaded), PFile(cfilename=files.1, fext=d, rootdir=../temp/kf_test/2@test, file_class=dict, disk_size=0.000 [mb], last_state=loaded)]}\n",
      "{'4': ['4@files.0', '4@files.1', '4@files.2'], '1': ['1@files.0'], '3': ['3@files.0', '3@files.1', '3@files.2'], '0': ['0@files.0', '0@files.1', '0@files.2'], '2': ['2@files.0', '2@files.1']}\n"
     ]
    },
    {
     "data": {
      "text/plain": [
       "['4@files.0',\n",
       " '4@files.1',\n",
       " '4@files.2',\n",
       " '1@files.0',\n",
       " '3@files.0',\n",
       " '3@files.1',\n",
       " '3@files.2',\n",
       " '0@files.0',\n",
       " '0@files.1',\n",
       " '0@files.2',\n",
       " '2@files.0',\n",
       " '2@files.1']"
      ]
     },
     "execution_count": 34,
     "metadata": {},
     "output_type": "execute_result"
    }
   ],
   "source": [
    "%load_ext autoreload\n",
    "%autoreload 2\n",
    "import fuzzytools.files as files\n",
    "\n",
    "kf = '.'\n",
    "kf_set = 'test'\n",
    "files, files_ids = files.gather_files_by_kfold('../temp/kf_test', kf, kf_set,\n",
    "    disbalanced_kf_mode='oversampling', # error ignore oversampling                                    \n",
    "    )\n",
    "files_ids"
   ]
  },
  {
   "cell_type": "code",
   "execution_count": null,
   "id": "bf541c33",
   "metadata": {},
   "outputs": [],
   "source": []
  }
 ],
 "metadata": {
  "kernelspec": {
   "display_name": "Python 3",
   "language": "python",
   "name": "python3"
  },
  "language_info": {
   "codemirror_mode": {
    "name": "ipython",
    "version": 3
   },
   "file_extension": ".py",
   "mimetype": "text/x-python",
   "name": "python",
   "nbconvert_exporter": "python",
   "pygments_lexer": "ipython3",
   "version": "3.7.10"
  }
 },
 "nbformat": 4,
 "nbformat_minor": 5
}
