{
 "cells": [
  {
   "cell_type": "code",
   "execution_count": 54,
   "metadata": {},
   "outputs": [],
   "source": [
    "import sys\n",
    "sys.path.append('../../') # or just install the module"
   ]
  },
  {
   "cell_type": "code",
   "execution_count": 65,
   "metadata": {},
   "outputs": [
    {
     "name": "stdout",
     "output_type": "stream",
     "text": [
      "The autoreload extension is already loaded. To reload it, use:\n",
      "  %reload_ext autoreload\n"
     ]
    }
   ],
   "source": [
    "%load_ext autoreload\n",
    "%autoreload 2\n",
    "import matplotlib.pyplot as plt\n",
    "import fuzzytools.matplotlib.bars as bars\n",
    "from fuzzytools.matplotlib.utils import save_fig\n",
    "import numpy as np\n",
    "\n",
    "figsize = (10,5)\n",
    "dpi = 200\n",
    "fig, ax = plt.subplots(1, 1, figsize=figsize, dpi=dpi)\n",
    "x = np.array([1,5,8])\n",
    "y = np.array([0,0,0])\n",
    "std = np.array([1,2,3])\n",
    "ax.plot(x, y)\n",
    "bars.plot_norm_percentile_bar(ax, x, y, std)\n",
    "ax.set_xlabel('xxx')\n",
    "save_fig(f'../../temp/x_{dpi}.png', fig)\n",
    "plt.show()"
   ]
  },
  {
   "cell_type": "code",
   "execution_count": 56,
   "metadata": {},
   "outputs": [
    {
     "name": "stdout",
     "output_type": "stream",
     "text": [
      "The autoreload extension is already loaded. To reload it, use:\n",
      "  %reload_ext autoreload\n"
     ]
    },
    {
     "data": {
      "image/png": "[encoded data removed]",
      "text/plain": [
       "<Figure size 432x288 with 1 Axes>"
      ]
     },
     "metadata": {
      "needs_background": "light"
     },
     "output_type": "display_data"
    }
   ],
   "source": [
    "%load_ext autoreload\n",
    "%autoreload 2\n",
    "import matplotlib.pyplot as plt\n",
    "import fuzzytools.matplotlib.lines as lines\n",
    "import numpy as np\n",
    "\n",
    "fig, ax = plt.subplots(1, 1)\n",
    "xs = [\n",
    "    np.linspace(0,15,5),\n",
    "    np.linspace(-1,20,4),\n",
    "    np.linspace(2,18,3),\n",
    "    ]\n",
    "ys = [\n",
    "    np.random.uniform(0,2,size=5),\n",
    "    np.random.uniform(0,1,size=4),\n",
    "    np.random.uniform(0,1,size=3),\n",
    "    ]\n",
    "lines.multiple_lines(ax, xs, ys, color='r')\n",
    "lines.fill_beetween(ax, xs, ys,\n",
    "    fill_kwargs={'color':'b', 'alpha':0.5},\n",
    "    median_kwargs={'color':'b', 'alpha':1},\n",
    "    percentile=95, # None 95\n",
    "    )\n",
    "plt.show()"
   ]
  },
  {
   "cell_type": "code",
   "execution_count": 57,
   "metadata": {},
   "outputs": [
    {
     "name": "stdout",
     "output_type": "stream",
     "text": [
      "The autoreload extension is already loaded. To reload it, use:\n",
      "  %reload_ext autoreload\n"
     ]
    },
    {
     "ename": "AttributeError",
     "evalue": "'dict' object has no attribute 'index'",
     "output_type": "error",
     "traceback": [
      "\u001b[0;31m---------------------------------------------------------------------------\u001b[0m",
      "\u001b[0;31mAttributeError\u001b[0m                            Traceback (most recent call last)",
      "\u001b[0;32m<ipython-input-57-c3344671dbca>\u001b[0m in \u001b[0;36m<module>\u001b[0;34m\u001b[0m\n\u001b[1;32m     15\u001b[0m     \u001b[0;34m'legend_ncol'\u001b[0m\u001b[0;34m:\u001b[0m\u001b[0;36m5\u001b[0m\u001b[0;34m,\u001b[0m\u001b[0;34m\u001b[0m\u001b[0;34m\u001b[0m\u001b[0m\n\u001b[1;32m     16\u001b[0m }\n\u001b[0;32m---> 17\u001b[0;31m \u001b[0mplots\u001b[0m\u001b[0;34m.\u001b[0m\u001b[0mplot_bar\u001b[0m\u001b[0;34m(\u001b[0m\u001b[0mdata_dic\u001b[0m\u001b[0;34m,\u001b[0m \u001b[0mbargroup_legends\u001b[0m\u001b[0;34m,\u001b[0m \u001b[0;34m**\u001b[0m\u001b[0mkwargs\u001b[0m\u001b[0;34m)\u001b[0m\u001b[0;34m\u001b[0m\u001b[0;34m\u001b[0m\u001b[0m\n\u001b[0m",
      "\u001b[0;32m~/oscar/tesis/fuzzy-tools/fuzzytools/matplotlib/plots.py\u001b[0m in \u001b[0;36mplot_bar\u001b[0;34m(plot_df, annotations_dict, bar_width, rotate_xlabel, uses_log_scale, uses_legend, uses_bottom_legend, legend_ncol, add_poblation_annotations, add_percent_annotations, offset_factor, fontsize, fig, ax, figsize, xlabel, title, axis_lim, grid, grid_alpha, legend_loc, cmap, alpha, verbose, **kwargs)\u001b[0m\n\u001b[1;32m     39\u001b[0m         \u001b[0mverbose\u001b[0m\u001b[0;34m:\u001b[0m\u001b[0mint\u001b[0m\u001b[0;34m=\u001b[0m\u001b[0;36m0\u001b[0m\u001b[0;34m,\u001b[0m\u001b[0;34m\u001b[0m\u001b[0;34m\u001b[0m\u001b[0m\n\u001b[1;32m     40\u001b[0m \t**kwargs):\n\u001b[0;32m---> 41\u001b[0;31m         \u001b[0mindexs\u001b[0m \u001b[0;34m=\u001b[0m \u001b[0mlist\u001b[0m\u001b[0;34m(\u001b[0m\u001b[0mplot_df\u001b[0m\u001b[0;34m.\u001b[0m\u001b[0mindex\u001b[0m\u001b[0;34m)\u001b[0m\u001b[0;34m\u001b[0m\u001b[0;34m\u001b[0m\u001b[0m\n\u001b[0m\u001b[1;32m     42\u001b[0m         \u001b[0mcolumns\u001b[0m \u001b[0;34m=\u001b[0m \u001b[0mlist\u001b[0m\u001b[0;34m(\u001b[0m\u001b[0mplot_df\u001b[0m\u001b[0;34m.\u001b[0m\u001b[0mcolumns\u001b[0m\u001b[0;34m)\u001b[0m\u001b[0;34m\u001b[0m\u001b[0;34m\u001b[0m\u001b[0m\n\u001b[1;32m     43\u001b[0m         \u001b[0mcmap\u001b[0m \u001b[0;34m=\u001b[0m \u001b[0mcc\u001b[0m\u001b[0;34m.\u001b[0m\u001b[0mget_default_cmap\u001b[0m\u001b[0;34m(\u001b[0m\u001b[0mlen\u001b[0m\u001b[0;34m(\u001b[0m\u001b[0mindexs\u001b[0m\u001b[0;34m)\u001b[0m\u001b[0;34m)\u001b[0m \u001b[0;32mif\u001b[0m \u001b[0mcmap\u001b[0m \u001b[0;32mis\u001b[0m \u001b[0;32mNone\u001b[0m \u001b[0;32melse\u001b[0m \u001b[0mcmap\u001b[0m\u001b[0;34m\u001b[0m\u001b[0;34m\u001b[0m\u001b[0m\n",
      "\u001b[0;31mAttributeError\u001b[0m: 'dict' object has no attribute 'index'"
     ]
    }
   ],
   "source": [
    "%load_ext autoreload\n",
    "%autoreload 2\n",
    "import fuzzytools.matplotlib.plots as plots\n",
    "\n",
    "bargroup_legends = ['a','b','c','d']\n",
    "data_dic = {\n",
    "    'mdl1':{'a':1,'b':2,'c':3,'d':0},\n",
    "    'mdl2':{'a':1,'b':9,'c':9,'d':0},\n",
    "    'mdl3':{'a':1,'b':12,'c':9,'d':8},\n",
    "    'mdl4':{'a':1,'b':12,'c':9,'d':8},\n",
    "}\n",
    "kwargs = {\n",
    "    'title':'title!!',\n",
    "    'ylabel':'y',\n",
    "    'legend_ncol':5,\n",
    "}\n",
    "plots.plot_bar(data_dic, bargroup_legends, **kwargs)"
   ]
  },
  {
   "cell_type": "code",
   "execution_count": null,
   "metadata": {},
   "outputs": [],
   "source": [
    "%load_ext autoreload\n",
    "%autoreload 2\n",
    "import flamingChoripan.cutePlots.plots as plots\n",
    "\n",
    "values_dic = [1,1,1,2,3,6,4,4,4,4,1,2,3,2,3,4,8]\n",
    "unique_names = ['a','b','c','d','x','y']\n",
    "kwargs = {\n",
    "    'title':'title!!',\n",
    "    'ylabel':'y',\n",
    "    'add_percent':1,\n",
    "}\n",
    "plots.plot_hist_labels(values_dic, unique_names, bar_width=0.5, **kwargs)"
   ]
  },
  {
   "cell_type": "code",
   "execution_count": null,
   "metadata": {},
   "outputs": [],
   "source": [
    "%load_ext autoreload\n",
    "%autoreload 2\n",
    "import flamingChoripan.cutePlots.plots as plots\n",
    "import numpy as np\n",
    "\n",
    "data_dic = {\n",
    "    'x':np.array([1,1,1,2,3,6,4,4,4,4,1,2,3,2,3,4,8]),\n",
    "    'y':np.array([1,1,1,2,3,6,4,4,4,4,1,2,3,2,3,4,8]),\n",
    "    'z':np.array([1,1,1,2,3,6,4,4,4,4,1,2,3,2,3,4,8])*2,\n",
    "}\n",
    "kwargs = {\n",
    "    'title':'title!!',\n",
    "    'ylabel':'y',\n",
    "    'legend_ncol':5,\n",
    "    #'xlim':[1,3],\n",
    "}\n",
    "plots.plot_hist_discrete(data_dic, bar_width=0.5, **kwargs)"
   ]
  },
  {
   "cell_type": "code",
   "execution_count": null,
   "metadata": {},
   "outputs": [],
   "source": [
    "%load_ext autoreload\n",
    "%autoreload 2\n",
    "import flamingChoripan.cutePlots.plots as plots\n",
    "import numpy as np\n",
    "\n",
    "data_dic = {\n",
    "    'x':np.array([1,1,1,2,3,6,4,4,4,4,1,2,3,2,3,4,8]),\n",
    "    'y':np.array([1,1,1,2,3,6,4,4,4,4,1,2,3,2,3,4,8]),\n",
    "    'z':np.array([1,1,1,2,3,6,4,4,4,4,1,2,3,2,3,4,8])*2,\n",
    "}\n",
    "kwargs = {\n",
    "    'title':'title!!',\n",
    "    'ylabel':'y',\n",
    "    'legend_ncol':5,\n",
    "    #'xlim':[1,3],\n",
    "}\n",
    "plots.plot_hist_discrete(data_dic, bar_width=0.5, **kwargs)"
   ]
  },
  {
   "cell_type": "code",
   "execution_count": null,
   "metadata": {},
   "outputs": [],
   "source": [
    "%load_ext autoreload\n",
    "%autoreload 2\n",
    "import flamingChoripan.cutePlots.cm_plots as cm_plots\n",
    "import numpy as np\n",
    "\n",
    "cm = np.random.randint(0, 100, size=(4,4))\n",
    "classes = ['a','b','c','d']\n",
    "print(cm)\n",
    "kwargs = {\n",
    "    'normalize_mode':None,\n",
    "    'uses_percent':1,\n",
    "    'add_accuracy_in_title':1,\n",
    "}\n",
    "new_order_classes = ['b','a','d','c']\n",
    "cm_plots.plot_custom_confusion_matrix(cm, classes, **kwargs)\n",
    "cm_plots.plot_custom_confusion_matrix(cm, classes, new_order_classes=new_order_classes, **kwargs)"
   ]
  },
  {
   "cell_type": "code",
   "execution_count": null,
   "metadata": {},
   "outputs": [],
   "source": [
    "import numpy as np\n",
    "\n",
    "y_pred = np.array([0,1,0,2,0])\n",
    "y_target = np.array([1,2,3,0,0])\n",
    "classes = ['a','b','c','d']\n",
    "kwargs = {\n",
    "    'normalize_mode':None,\n",
    "    #'normalize_mode':'true',\n",
    "    'uses_percent':1,\n",
    "    'add_accuracy_in_title':1,\n",
    "}\n",
    "cm_plots.plot_confusion_matrix(y_pred, y_target, classes, **kwargs)"
   ]
  },
  {
   "cell_type": "code",
   "execution_count": null,
   "metadata": {},
   "outputs": [],
   "source": [
    "%load_ext autoreload\n",
    "%autoreload 2\n",
    "import flamingChoripan.dataScience.metrics as dsm\n",
    "import numpy as np\n",
    "\n",
    "y_pred = np.array([0,1,0,2,0])\n",
    "y_target = np.array([1,2,3,0,0])\n",
    "kwargs = {\n",
    "    'y_pred_is_onehot':0,\n",
    "    'y_target_is_onehot':0,\n",
    "}\n",
    "dsm.get_cm_accuracy(y_pred, y_target, **kwargs)"
   ]
  },
  {
   "cell_type": "code",
   "execution_count": null,
   "metadata": {},
   "outputs": [],
   "source": [
    "import matplotlib.pyplot as plt\n",
    "from fuzzytools.matplotlib.utils import save_fig\n",
    "\n",
    "fig, ax = plt.subplots(1, 1)\n",
    "\n",
    "ax.plot([1,5],[8,9])\n",
    "ax.plot()\n",
    "save_fig(fig, ['../temp/x.png', '../temp/x2.png', '../temp/x3.png'])"
   ]
  }
 ],
 "metadata": {
  "kernelspec": {
   "display_name": "Python 3",
   "language": "python",
   "name": "python3"
  },
  "language_info": {
   "codemirror_mode": {
    "name": "ipython",
    "version": 3
   },
   "file_extension": ".py",
   "mimetype": "text/x-python",
   "name": "python",
   "nbconvert_exporter": "python",
   "pygments_lexer": "ipython3",
   "version": "3.7.10"
  }
 },
 "nbformat": 4,
 "nbformat_minor": 2
}
