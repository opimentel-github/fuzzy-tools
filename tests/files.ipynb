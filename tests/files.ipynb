{
 "cells": [
  {
   "cell_type": "code",
   "execution_count": 1,
   "metadata": {},
   "outputs": [],
   "source": [
    "import sys\n",
    "sys.path.append('../') # or just install the module"
   ]
  },
  {
   "cell_type": "code",
   "execution_count": 9,
   "metadata": {},
   "outputs": [
    {
     "name": "stdout",
     "output_type": "stream",
     "text": [
      "The autoreload extension is already loaded. To reload it, use:\n",
      "  %reload_ext autoreload\n",
      "asd\n"
     ]
    }
   ],
   "source": [
    "%load_ext autoreload\n",
    "%autoreload 2\n",
    "import fuzzytools.files as files\n",
    "\n",
    "filedir = '../temp/test-a_file-b.pkl'\n",
    "d = {\n",
    "    'data':[1]*10,\n",
    "    }\n",
    "files.save_pickle(filedir, d, verbose=2)\n",
    "for filedir in [filedir+'a', filedir+'b']:\n",
    "    files.save_pickle(filedir, 'asd', verbose=2)\n",
    "data = files.load_pickle(filedir)\n",
    "print(data)"
   ]
  },
  {
   "cell_type": "code",
   "execution_count": 10,
   "metadata": {},
   "outputs": [
    {
     "name": "stdout",
     "output_type": "stream",
     "text": [
      "The autoreload extension is already loaded. To reload it, use:\n",
      "  %reload_ext autoreload\n",
      "[]\n",
      "['./prints.ipynb', './boostrapping.ipynb', './dicts.ipynb', './lists.ipynb', './numpy.ipynb', './multiprocessing.ipynb', './progress_bars.ipynb', './times.ipynb', './files.ipynb', './dataframes.ipynb', './strings.ipynb', './level_bars.ipynb', './counters.ipynb', './datascience/grid_search.ipynb', './datascience/ranks.ipynb', './datascience/metrics.ipynb', './datascience/xerror.ipynb', './datascience/splits.ipynb', './datascience/.ipynb_checkpoints/metrics-checkpoint.ipynb', './datascience/.ipynb_checkpoints/xerror-checkpoint.ipynb', './datascience/.ipynb_checkpoints/splits-checkpoint.ipynb', './datascience/.ipynb_checkpoints/ranks-checkpoint.ipynb', './datascience/.ipynb_checkpoints/grid_search-checkpoint.ipynb', './.ipynb_checkpoints/strings-checkpoint.ipynb', './.ipynb_checkpoints/multiprocessing-checkpoint.ipynb', './.ipynb_checkpoints/counters-checkpoint.ipynb', './.ipynb_checkpoints/files-checkpoint.ipynb', './.ipynb_checkpoints/boostrapping-checkpoint.ipynb', './.ipynb_checkpoints/progress_bars-checkpoint.ipynb', './.ipynb_checkpoints/numpy-checkpoint.ipynb', './.ipynb_checkpoints/lists-checkpoint.ipynb', './.ipynb_checkpoints/level_bars-checkpoint.ipynb', './.ipynb_checkpoints/times-checkpoint.ipynb', './.ipynb_checkpoints/dicts-checkpoint.ipynb', './.ipynb_checkpoints/dataframes-checkpoint.ipynb', './.ipynb_checkpoints/prints-checkpoint.ipynb', './matplotlib/animators.ipynb', './matplotlib/lims.ipynb', './matplotlib/colors.ipynb', './matplotlib/cms.ipynb', './matplotlib/.ipynb_checkpoints/cms-checkpoint.ipynb', './matplotlib/.ipynb_checkpoints/animators-checkpoint.ipynb', './matplotlib/.ipynb_checkpoints/colors-checkpoint.ipynb', './matplotlib/.ipynb_checkpoints/lims-checkpoint.ipynb']\n"
     ]
    }
   ],
   "source": [
    "%load_ext autoreload\n",
    "%autoreload 2\n",
    "\n",
    "filedirs = files.get_filedirs('.', fext='pkl')\n",
    "print(filedirs)\n",
    "filedirs = files.get_filedirs('.')\n",
    "print(filedirs)"
   ]
  },
  {
   "cell_type": "code",
   "execution_count": 12,
   "metadata": {},
   "outputs": [
    {
     "name": "stdout",
     "output_type": "stream",
     "text": [
      "The autoreload extension is already loaded. To reload it, use:\n",
      "  %reload_ext autoreload\n"
     ]
    },
    {
     "data": {
      "text/plain": [
       "'../temp/x2.png'"
      ]
     },
     "execution_count": 12,
     "metadata": {},
     "output_type": "execute_result"
    }
   ],
   "source": [
    "%load_ext autoreload\n",
    "%autoreload 2\n",
    "import fuzzytools.files as files\n",
    "\n",
    "filedir = '../temp/last.pkl'\n",
    "d = {\n",
    "    'data':[1]*10,\n",
    "    }\n",
    "files.save_pickle(filedir, d, verbose=2)\n",
    "filedir = files.get_newest_filedir(files.get_filedirs('../temp'))\n",
    "filedir"
   ]
  },
  {
   "cell_type": "code",
   "execution_count": 13,
   "metadata": {},
   "outputs": [
    {
     "name": "stdout",
     "output_type": "stream",
     "text": [
      "────────────────────────────────────────────────────────────────────────────────────────────────────\n",
      "found filedirs: (.)\n",
      "(0) - ./prints.ipynb - 0.002[mbs]\n",
      "(1) - ./boostrapping.ipynb - 0.004[mbs]\n",
      "(2) - ./dicts.ipynb - 0.003[mbs]\n",
      "(3) - ./lists.ipynb - 0.002[mbs]\n",
      "(4) - ./numpy.ipynb - 0.003[mbs]\n",
      "(5) - ./multiprocessing.ipynb - 0.002[mbs]\n",
      "(6) - ./progress_bars.ipynb - 0.002[mbs]\n",
      "(7) - ./times.ipynb - 0.002[mbs]\n",
      "(8) - ./files.ipynb - 0.012[mbs]\n",
      "(9) - ./dataframes.ipynb - 0.017[mbs]\n",
      "(10) - ./strings.ipynb - 0.004[mbs]\n",
      "(11) - ./level_bars.ipynb - 0.002[mbs]\n",
      "(12) - ./counters.ipynb - 0.005[mbs]\n",
      "(13) - ./datascience/grid_search.ipynb - 0.010[mbs]\n",
      "(14) - ./datascience/ranks.ipynb - 0.004[mbs]\n",
      "(15) - ./datascience/metrics.ipynb - 0.024[mbs]\n",
      "(16) - ./datascience/xerror.ipynb - 0.003[mbs]\n",
      "(17) - ./datascience/splits.ipynb - 0.006[mbs]\n",
      "(18) - ./datascience/.ipynb_checkpoints/metrics-checkpoint.ipynb - 0.024[mbs]\n",
      "(19) - ./datascience/.ipynb_checkpoints/xerror-checkpoint.ipynb - 0.003[mbs]\n",
      "(20) - ./datascience/.ipynb_checkpoints/splits-checkpoint.ipynb - 0.006[mbs]\n",
      "(21) - ./datascience/.ipynb_checkpoints/ranks-checkpoint.ipynb - 0.003[mbs]\n",
      "(22) - ./datascience/.ipynb_checkpoints/grid_search-checkpoint.ipynb - 0.010[mbs]\n",
      "(23) - ./.ipynb_checkpoints/strings-checkpoint.ipynb - 0.004[mbs]\n",
      "(24) - ./.ipynb_checkpoints/multiprocessing-checkpoint.ipynb - 0.002[mbs]\n",
      "(25) - ./.ipynb_checkpoints/counters-checkpoint.ipynb - 0.005[mbs]\n",
      "(26) - ./.ipynb_checkpoints/files-checkpoint.ipynb - 0.012[mbs]\n",
      "(27) - ./.ipynb_checkpoints/boostrapping-checkpoint.ipynb - 0.004[mbs]\n",
      "(28) - ./.ipynb_checkpoints/progress_bars-checkpoint.ipynb - 0.002[mbs]\n",
      "(29) - ./.ipynb_checkpoints/numpy-checkpoint.ipynb - 0.003[mbs]\n",
      "(30) - ./.ipynb_checkpoints/lists-checkpoint.ipynb - 0.002[mbs]\n",
      "(31) - ./.ipynb_checkpoints/level_bars-checkpoint.ipynb - 0.002[mbs]\n",
      "(32) - ./.ipynb_checkpoints/times-checkpoint.ipynb - 0.002[mbs]\n",
      "(33) - ./.ipynb_checkpoints/dicts-checkpoint.ipynb - 0.003[mbs]\n",
      "(34) - ./.ipynb_checkpoints/dataframes-checkpoint.ipynb - 0.017[mbs]\n",
      "(35) - ./.ipynb_checkpoints/prints-checkpoint.ipynb - 0.002[mbs]\n",
      "(36) - ./matplotlib/animators.ipynb - 0.002[mbs]\n",
      "(37) - ./matplotlib/lims.ipynb - 0.001[mbs]\n",
      "(38) - ./matplotlib/colors.ipynb - 0.433[mbs]\n",
      "(39) - ./matplotlib/cms.ipynb - 0.171[mbs]\n",
      "(40) - ./matplotlib/.ipynb_checkpoints/cms-checkpoint.ipynb - 0.171[mbs]\n",
      "(41) - ./matplotlib/.ipynb_checkpoints/animators-checkpoint.ipynb - 0.003[mbs]\n",
      "(42) - ./matplotlib/.ipynb_checkpoints/colors-checkpoint.ipynb - 0.433[mbs]\n",
      "(43) - ./matplotlib/.ipynb_checkpoints/lims-checkpoint.ipynb - 0.001[mbs]\n",
      "────────────────────────────────────────────────────────────────────────────────────────────────────\n",
      "filedirs after searching with filters: (.)\n",
      "(0) - ./numpy.ipynb - 0.003[mbs]\n",
      "(1) - ./.ipynb_checkpoints/numpy-checkpoint.ipynb - 0.003[mbs]\n",
      "────────────────────────────────────────────────────────────────────────────────────────────────────\n"
     ]
    }
   ],
   "source": [
    "files.search_for_filedirs('.', string_query=['y'])\n"
   ]
  },
  {
   "cell_type": "code",
   "execution_count": 15,
   "metadata": {},
   "outputs": [
    {
     "name": "stdout",
     "output_type": "stream",
     "text": [
      "{'_filedir': '../save/test=a~file=b.pkl', '_rootdir': '../save', '_filename': 'test=a~file=b.pkl', '_cfilename': 'test=a~file=b', '_fext': 'pkl', 'test': 'a', 'file': 'b'}\n"
     ]
    }
   ],
   "source": [
    "filedir = '../save/test=a~file=b.pkl'\n",
    "print(files.get_dict_from_filedir(filedir))\n"
   ]
  },
  {
   "cell_type": "code",
   "execution_count": 16,
   "metadata": {},
   "outputs": [
    {
     "data": {
      "text/plain": [
       "44"
      ]
     },
     "execution_count": 16,
     "metadata": {},
     "output_type": "execute_result"
    }
   ],
   "source": [
    "files.get_filedir_count('.')"
   ]
  },
  {
   "cell_type": "code",
   "execution_count": 17,
   "metadata": {},
   "outputs": [
    {
     "name": "stdout",
     "output_type": "stream",
     "text": [
      "total files in .: 44\n",
      "> ./\n",
      "    - prints.ipynb\n",
      "    - boostrapping.ipynb\n",
      "    - dicts.ipynb\n",
      "    - lists.ipynb\n",
      "    - numpy.ipynb\n",
      "    - multiprocessing.ipynb\n",
      "    - progress_bars.ipynb\n",
      "    - times.ipynb\n",
      "    - files.ipynb\n",
      "    - dataframes.ipynb\n",
      "    - strings.ipynb\n",
      "    - level_bars.ipynb\n",
      "    - counters.ipynb\n",
      "    > datascience/\n",
      "        - grid_search.ipynb\n",
      "        - ranks.ipynb\n",
      "        - metrics.ipynb\n",
      "        - xerror.ipynb\n",
      "        - splits.ipynb\n",
      "        > .ipynb_checkpoints/\n",
      "            - metrics-checkpoint.ipynb\n",
      "            - xerror-checkpoint.ipynb\n",
      "            - splits-checkpoint.ipynb\n",
      "            - ranks-checkpoint.ipynb\n",
      "            - grid_search-checkpoint.ipynb\n",
      "    > .ipynb_checkpoints/\n",
      "        - strings-checkpoint.ipynb\n",
      "        - multiprocessing-checkpoint.ipynb\n",
      "        - counters-checkpoint.ipynb\n",
      "        - files-checkpoint.ipynb\n",
      "        - boostrapping-checkpoint.ipynb\n",
      "        - progress_bars-checkpoint.ipynb\n",
      "        - numpy-checkpoint.ipynb\n",
      "        - lists-checkpoint.ipynb\n",
      "        - level_bars-checkpoint.ipynb\n",
      "        - times-checkpoint.ipynb\n",
      "        - dicts-checkpoint.ipynb\n",
      "        - dataframes-checkpoint.ipynb\n",
      "        - prints-checkpoint.ipynb\n",
      "    > matplotlib/\n",
      "        - animators.ipynb\n",
      "        - lims.ipynb\n",
      "        - colors.ipynb\n",
      "        - cms.ipynb\n",
      "        > .ipynb_checkpoints/\n",
      "            - cms-checkpoint.ipynb\n",
      "            - animators-checkpoint.ipynb\n",
      "            - colors-checkpoint.ipynb\n",
      "            - lims-checkpoint.ipynb\n"
     ]
    }
   ],
   "source": [
    "files.print_all_filedirs('.')"
   ]
  },
  {
   "cell_type": "code",
   "execution_count": 18,
   "metadata": {},
   "outputs": [
    {
     "name": "stdout",
     "output_type": "stream",
     "text": [
      "The autoreload extension is already loaded. To reload it, use:\n",
      "  %reload_ext autoreload\n"
     ]
    }
   ],
   "source": [
    "%load_ext autoreload\n",
    "%autoreload 2\n",
    "import fuzzytools.files as files\n",
    "\n",
    "for kf in [0,1,2,3,4]:\n",
    "    for file_id in range(0, 3):\n",
    "        files.save_pickle(f'../temp/kf_test/{kf}@test/files.{file_id}.d', {'data':[1]*10})"
   ]
  },
  {
   "cell_type": "code",
   "execution_count": 19,
   "metadata": {},
   "outputs": [
    {
     "name": "stdout",
     "output_type": "stream",
     "text": [
      "The autoreload extension is already loaded. To reload it, use:\n",
      "  %reload_ext autoreload\n"
     ]
    },
    {
     "data": {
      "text/plain": [
       "{'test': {'4': '../temp/kf_test/4@test',\n",
       "  '1': '../temp/kf_test/1@test',\n",
       "  '3': '../temp/kf_test/3@test',\n",
       "  '0': '../temp/kf_test/0@test',\n",
       "  '2': '../temp/kf_test/2@test'}}"
      ]
     },
     "execution_count": 19,
     "metadata": {},
     "output_type": "execute_result"
    }
   ],
   "source": [
    "%load_ext autoreload\n",
    "%autoreload 2\n",
    "import fuzzytools.files as files\n",
    "\n",
    "files.get_kfold_rootdirs_dict('../temp/kf_test')"
   ]
  },
  {
   "cell_type": "code",
   "execution_count": 20,
   "metadata": {},
   "outputs": [
    {
     "name": "stdout",
     "output_type": "stream",
     "text": [
      "The autoreload extension is already loaded. To reload it, use:\n",
      "  %reload_ext autoreload\n"
     ]
    },
    {
     "data": {
      "text/plain": [
       "['4', '1', '3', '0', '2']"
      ]
     },
     "execution_count": 20,
     "metadata": {},
     "output_type": "execute_result"
    }
   ],
   "source": [
    "%load_ext autoreload\n",
    "%autoreload 2\n",
    "import fuzzytools.files as files\n",
    "\n",
    "kf = '.'\n",
    "kf_set = 'test'\n",
    "files, files_ids, kfs = files.gather_files_by_kfold('../temp/kf_test', kf, kf_set,\n",
    "    disbalanced_kf_mode='oversampling', # error ignore oversampling                                    \n",
    "    )\n",
    "kfs"
   ]
  }
 ],
 "metadata": {
  "kernelspec": {
   "display_name": "Python 3",
   "language": "python",
   "name": "python3"
  },
  "language_info": {
   "codemirror_mode": {
    "name": "ipython",
    "version": 3
   },
   "file_extension": ".py",
   "mimetype": "text/x-python",
   "name": "python",
   "nbconvert_exporter": "python",
   "pygments_lexer": "ipython3",
   "version": "3.7.10"
  }
 },
 "nbformat": 4,
 "nbformat_minor": 4
}
