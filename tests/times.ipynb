{
 "cells": [
  {
   "cell_type": "code",
   "execution_count": 1,
   "metadata": {},
   "outputs": [],
   "source": [
    "import sys\n",
    "sys.path.append('../') # or just install the module"
   ]
  },
  {
   "cell_type": "code",
   "execution_count": 2,
   "metadata": {},
   "outputs": [
    {
     "data": {
      "text/plain": [
       "<dt=3.011s>"
      ]
     },
     "execution_count": 2,
     "metadata": {},
     "output_type": "execute_result"
    }
   ],
   "source": [
    "%load_ext autoreload\n",
    "%autoreload 2\n",
    "from fuzzytools.times import Cronometer\n",
    "import time\n",
    "\n",
    "cr = Cronometer()\n",
    "for _ in range(3):\n",
    "    time.sleep(1)\n",
    "cr.dt()\n",
    "cr"
   ]
  },
  {
   "cell_type": "code",
   "execution_count": 3,
   "metadata": {},
   "outputs": [
    {
     "name": "stdout",
     "output_type": "stream",
     "text": [
      "The autoreload extension is already loaded. To reload it, use:\n",
      "  %reload_ext autoreload\n"
     ]
    },
    {
     "data": {
      "text/plain": [
       "[3.003057344816625,\n",
       " 3.0027186940424144,\n",
       " 3.008738953154534,\n",
       " 3.0025215721689165,\n",
       " 3.003062053117901,\n",
       " 3.0021520988084376,\n",
       " 3.002519307192415,\n",
       " 3.004528736229986]"
      ]
     },
     "execution_count": 3,
     "metadata": {},
     "output_type": "execute_result"
    }
   ],
   "source": [
    "%load_ext autoreload\n",
    "%autoreload 2\n",
    "from joblib import Parallel, delayed\n",
    "\n",
    "def job():\n",
    "    cr = Cronometer()\n",
    "    for _ in range(3):\n",
    "        time.sleep(1)\n",
    "    return cr.dt()\n",
    "\n",
    "r = Parallel(n_jobs=4)([delayed(job)() for _ in range(0, 8)])\n",
    "r"
   ]
  }
 ],
 "metadata": {
  "kernelspec": {
   "display_name": "Python 3",
   "language": "python",
   "name": "python3"
  },
  "language_info": {
   "codemirror_mode": {
    "name": "ipython",
    "version": 3
   },
   "file_extension": ".py",
   "mimetype": "text/x-python",
   "name": "python",
   "nbconvert_exporter": "python",
   "pygments_lexer": "ipython3",
   "version": "3.7.10"
  }
 },
 "nbformat": 4,
 "nbformat_minor": 4
}
