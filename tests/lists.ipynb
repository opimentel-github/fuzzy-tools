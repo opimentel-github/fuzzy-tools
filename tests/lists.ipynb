{
 "cells": [
  {
   "cell_type": "code",
   "execution_count": null,
   "id": "92054262",
   "metadata": {},
   "outputs": [],
   "source": [
    "import sys\n",
    "sys.path.append('../') # or just install the module"
   ]
  },
  {
   "cell_type": "code",
   "execution_count": null,
   "id": "1ba85ba1",
   "metadata": {},
   "outputs": [],
   "source": [
    "%load_ext autoreload\n",
    "%autoreload 2\n",
    "import fuzzytools.lists as lists\n",
    "\n",
    "l1 = [0,1,2,3,4,5,6,7]\n",
    "l2 = ['a', 'b', 'c']\n",
    "print(lists.list_product(l1, l2))\n",
    "print(lists.get_random_item(l2))\n",
    "print(lists.get_bootstrap(l1, 5, random_state=2))\n",
    "print(lists.get_bootstrap(l1, 5))"
   ]
  },
  {
   "cell_type": "code",
   "execution_count": null,
   "id": "c6da59bc",
   "metadata": {},
   "outputs": [],
   "source": [
    "print(lists.merge_lists(l1, l2))"
   ]
  },
  {
   "cell_type": "code",
   "execution_count": null,
   "id": "98b841d2",
   "metadata": {},
   "outputs": [],
   "source": [
    "print(l2)\n",
    "l3 = lists.get_shuffled(l2,\n",
    "    shuffle=1,\n",
    "    random_state=None,\n",
    "    )\n",
    "print(l3)"
   ]
  }
 ],
 "metadata": {
  "kernelspec": {
   "display_name": "Python 3",
   "language": "python",
   "name": "python3"
  },
  "language_info": {
   "codemirror_mode": {
    "name": "ipython",
    "version": 3
   },
   "file_extension": ".py",
   "mimetype": "text/x-python",
   "name": "python",
   "nbconvert_exporter": "python",
   "pygments_lexer": "ipython3",
   "version": "3.7.10"
  }
 },
 "nbformat": 4,
 "nbformat_minor": 5
}
