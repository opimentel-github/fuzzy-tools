{
 "cells": [
  {
   "cell_type": "code",
   "execution_count": 1,
   "metadata": {},
   "outputs": [],
   "source": [
    "import sys\n",
    "sys.path.append('../../') # or just install the module"
   ]
  },
  {
   "cell_type": "code",
   "execution_count": 2,
   "metadata": {},
   "outputs": [
    {
     "name": "stdout",
     "output_type": "stream",
     "text": [
      "obj_names: ['o0.', 'o1.', 'o2.', 'o3.', 'o4.', 'o5.', 'o6.', 'o7.', 'o8.', 'o9.', 'o10.', 'o11.', 'o12.', 'o13.', 'o14.', 'o15.', 'o16.', 'o17.', 'o18.', 'o19.', 'o20.', 'o21.', 'o22.', 'o23.', 'o24.', 'o25.', 'o26.', 'o27.', 'o28.', 'o29.']\n",
      "obj_classes ['c', 'c', 'c', 'c', 'a', 'a', 'c', 'a', 'a', 'c', 'c', 'a', 'c', 'c', 'c', 'b', 'a', 'c', 'b', 'c', 'a', 'b', 'a', 'b', 'c', 'a', 'a', 'c', 'c', 'b']\n"
     ]
    }
   ],
   "source": [
    "import numpy as np\n",
    "\n",
    "n = 30\n",
    "obj_names = [f'o{k}.' for k in list(range(0, n))]\n",
    "class_names = ['a', 'b', 'c']\n",
    "obj_classes = [class_names[k] for k in np.random.randint(0, len(class_names), size=len(obj_names))]\n",
    "print('obj_names:',obj_names)\n",
    "print('obj_classes',obj_classes)"
   ]
  },
  {
   "cell_type": "code",
   "execution_count": 3,
   "metadata": {
    "scrolled": false
   },
   "outputs": [
    {
     "name": "stdout",
     "output_type": "stream",
     "text": [
      "0@train ['o5.', 'o7.', 'o26.', 'o20.', 'o25.', 'o4.', 'o18.', 'o29.', 'o21.', 'o3.', 'o10.', 'o17.', 'o14.', 'o19.', 'o6.', 'o9.'] 16\n",
      "0@val ['o11.', 'o22.', 'o23.', 'o28.', 'o13.'] 5\n",
      "0@test ['o16.', 'o8.', 'o15.', 'o24.', 'o12.', 'o27.'] 6\n",
      "x 27\n",
      "True\n",
      "True\n",
      "True\n",
      "1@train ['o26.', 'o20.', 'o25.', 'o4.', 'o11.', 'o22.', 'o29.', 'o21.', 'o23.', 'o17.', 'o14.', 'o19.', 'o6.', 'o9.', 'o28.', 'o13.'] 16\n",
      "1@val ['o16.', 'o8.', 'o15.', 'o24.', 'o12.'] 5\n",
      "1@test ['o5.', 'o7.', 'o18.', 'o27.', 'o3.', 'o10.'] 6\n",
      "x 27\n",
      "True\n",
      "True\n",
      "True\n",
      "2@train ['o25.', 'o4.', 'o11.', 'o22.', 'o16.', 'o8.', 'o21.', 'o23.', 'o15.', 'o19.', 'o6.', 'o9.', 'o28.', 'o13.', 'o24.', 'o12.'] 16\n",
      "2@val ['o5.', 'o7.', 'o18.', 'o27.', 'o3.'] 5\n",
      "2@test ['o26.', 'o20.', 'o29.', 'o10.', 'o17.', 'o14.'] 6\n",
      "x 27\n",
      "True\n",
      "True\n",
      "True\n",
      "3@train ['o11.', 'o22.', 'o16.', 'o8.', 'o5.', 'o7.', 'o23.', 'o15.', 'o18.', 'o28.', 'o13.', 'o24.', 'o12.', 'o27.', 'o3.', 'o10.'] 16\n",
      "3@val ['o26.', 'o20.', 'o29.', 'o17.', 'o14.'] 5\n",
      "3@test ['o25.', 'o4.', 'o21.', 'o19.', 'o6.', 'o9.'] 6\n",
      "x 27\n",
      "True\n",
      "True\n",
      "True\n",
      "4@train ['o16.', 'o8.', 'o5.', 'o7.', 'o26.', 'o20.', 'o15.', 'o18.', 'o29.', 'o24.', 'o12.', 'o27.', 'o3.', 'o10.', 'o17.', 'o14.'] 16\n",
      "4@val ['o25.', 'o4.', 'o21.', 'o19.', 'o6.'] 5\n",
      "4@test ['o11.', 'o22.', 'o23.', 'o9.', 'o28.', 'o13.'] 6\n",
      "x 27\n",
      "True\n",
      "True\n",
      "True\n"
     ]
    }
   ],
   "source": [
    "%load_ext autoreload\n",
    "%autoreload 2\n",
    "from fuzzytools.datascience.splits import stratifiedf_kfold_cyclic_311\n",
    "from fuzzytools.datascience.statistics import get_nof_samples_cdict\n",
    "import fuzzytools.lists as lists\n",
    "\n",
    "d, class_names, kfolds = stratifiedf_kfold_cyclic_311(obj_names, obj_classes,\n",
    "    shuffle=True,\n",
    "    random_state=0,\n",
    "    outlier_obj_names=['o0.', 'o1.', 'o2.'],               \n",
    "    )\n",
    "for kf in range(0, 5):\n",
    "    x = []\n",
    "    for set_name in ['train', 'val', 'test']:\n",
    "        k = f'{kf}@{set_name}'\n",
    "        print(k, d[k], len(d[k]))\n",
    "        x += d[k]\n",
    "    x = list(set(x))\n",
    "    print('x', len(x))\n",
    "    print(lists.check_unique_lists(d[f'{kf}@train'], d[f'{kf}@val']))\n",
    "    print(lists.check_unique_lists(d[f'{kf}@train'], d[f'{kf}@test']))\n",
    "    print(lists.check_unique_lists(d[f'{kf}@val'], d[f'{kf}@test']))"
   ]
  },
  {
   "cell_type": "code",
   "execution_count": 4,
   "metadata": {},
   "outputs": [
    {
     "name": "stdout",
     "output_type": "stream",
     "text": [
      "0@test ['o16.', 'o8.', 'o15.', 'o24.', 'o12.', 'o27.'] 6\n",
      "1@test ['o5.', 'o7.', 'o18.', 'o27.', 'o3.', 'o10.'] 6\n",
      "2@test ['o26.', 'o20.', 'o29.', 'o10.', 'o17.', 'o14.'] 6\n",
      "3@test ['o25.', 'o4.', 'o21.', 'o19.', 'o6.', 'o9.'] 6\n",
      "4@test ['o11.', 'o22.', 'o23.', 'o9.', 'o28.', 'o13.'] 6\n",
      "['o17.', 'o26.', 'o21.', 'o11.', 'o22.', 'o12.', 'o6.', 'o25.', 'o29.', 'o19.', 'o4.', 'o13.', 'o9.', 'o23.', 'o16.', 'o3.', 'o8.', 'o10.', 'o14.', 'o28.', 'o20.', 'o15.', 'o27.', 'o24.', 'o5.', 'o7.', 'o18.'] 27\n"
     ]
    }
   ],
   "source": [
    "all_objs = []\n",
    "for k in d.keys():\n",
    "    if 'test' in k:\n",
    "        print(k, d[k], len(d[k]))\n",
    "        all_objs += d[k]\n",
    "all_objs = list(set(all_objs))\n",
    "print(all_objs, len(all_objs))"
   ]
  }
 ],
 "metadata": {
  "kernelspec": {
   "display_name": "Python 3",
   "language": "python",
   "name": "python3"
  },
  "language_info": {
   "codemirror_mode": {
    "name": "ipython",
    "version": 3
   },
   "file_extension": ".py",
   "mimetype": "text/x-python",
   "name": "python",
   "nbconvert_exporter": "python",
   "pygments_lexer": "ipython3",
   "version": "3.7.10"
  }
 },
 "nbformat": 4,
 "nbformat_minor": 4
}
