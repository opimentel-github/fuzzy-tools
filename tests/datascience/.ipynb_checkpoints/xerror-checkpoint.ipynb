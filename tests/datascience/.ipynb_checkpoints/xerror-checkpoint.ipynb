{
 "cells": [
  {
   "cell_type": "code",
   "execution_count": 1,
   "metadata": {},
   "outputs": [],
   "source": [
    "import sys\n",
    "sys.path.append('../../') # or just install the module"
   ]
  },
  {
   "cell_type": "code",
   "execution_count": 9,
   "metadata": {},
   "outputs": [
    {
     "name": "stdout",
     "output_type": "stream",
     "text": [
      "The autoreload extension is already loaded. To reload it, use:\n",
      "  %reload_ext autoreload\n",
      "─\n",
      "(11,) (12,) (23,) (11,)\n",
      "11.819±1.341\n",
      "xe2 24.923±2.896 (12,) True\n",
      "xe3 51.333±.255\n",
      "xe4 50.632±1.039\n",
      "xe5 18.656±6.934\n",
      "xe6 13.819±1.341\n",
      "xe7 1.382±.134\n"
     ]
    }
   ],
   "source": [
    "%load_ext autoreload\n",
    "%autoreload 2\n",
    "import numpy as np\n",
    "from fuzzytools.datascience.xerror import XError\n",
    "\n",
    "dummy_xe = XError(None)\n",
    "print(dummy_xe)\n",
    "xe1 = XError(np.random.uniform(10,15, size=11))\n",
    "xe2 = XError(np.random.uniform(20,29, size=12))\n",
    "xe3 = XError(np.random.uniform(51,52, size=13))\n",
    "xe4 = XError(np.random.uniform(49,53, size=14))\n",
    "xe5 = sum([xe1, xe2])\n",
    "xe6 = xe1+2\n",
    "print(xe1.get_size(), xe2.get_size(), xe5.get_size(), xe6.get_size())\n",
    "xe7 = xe6/10\n",
    "print(xe1)\n",
    "print('xe2',xe2, xe2.get_size(), xe2.is_1d())\n",
    "print('xe3',xe3)\n",
    "print('xe4',xe4)\n",
    "print('xe5',xe5)\n",
    "print('xe6',xe6)\n",
    "print('xe7',xe7)"
   ]
  },
  {
   "cell_type": "code",
   "execution_count": 3,
   "metadata": {},
   "outputs": [
    {
     "name": "stdout",
     "output_type": "stream",
     "text": [
      "True\n",
      "False\n"
     ]
    }
   ],
   "source": [
    "print(xe7==xe7)\n",
    "print(xe7==xe6)"
   ]
  },
  {
   "cell_type": "code",
   "execution_count": 4,
   "metadata": {},
   "outputs": [
    {
     "name": "stdout",
     "output_type": "stream",
     "text": [
      "The autoreload extension is already loaded. To reload it, use:\n",
      "  %reload_ext autoreload\n",
      "100.474±.274\n",
      ".000±.000\n",
      "-.000±.000\n"
     ]
    }
   ],
   "source": [
    "%load_ext autoreload\n",
    "%autoreload 2\n",
    "\n",
    "xe = XError(np.random.uniform(100,101, size=10))\n",
    "print(xe)\n",
    "xe = XError(np.random.uniform(1e-7,1e-6, size=10))\n",
    "print(xe)\n",
    "xe = XError(np.random.uniform(-1e-7,-1e-6, size=10))\n",
    "print(xe)"
   ]
  },
  {
   "cell_type": "code",
   "execution_count": 5,
   "metadata": {},
   "outputs": [
    {
     "data": {
      "text/plain": [
       "12.476042587424056"
      ]
     },
     "execution_count": 5,
     "metadata": {},
     "output_type": "execute_result"
    }
   ],
   "source": [
    "xe1[0]"
   ]
  }
 ],
 "metadata": {
  "kernelspec": {
   "display_name": "Python 3",
   "language": "python",
   "name": "python3"
  },
  "language_info": {
   "codemirror_mode": {
    "name": "ipython",
    "version": 3
   },
   "file_extension": ".py",
   "mimetype": "text/x-python",
   "name": "python",
   "nbconvert_exporter": "python",
   "pygments_lexer": "ipython3",
   "version": "3.7.10"
  }
 },
 "nbformat": 4,
 "nbformat_minor": 4
}
