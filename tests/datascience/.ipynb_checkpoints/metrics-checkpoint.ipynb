{
 "cells": [
  {
   "cell_type": "code",
   "execution_count": 1,
   "metadata": {},
   "outputs": [],
   "source": [
    "import sys\n",
    "sys.path.append('../../') # or just install the module"
   ]
  },
  {
   "cell_type": "code",
   "execution_count": 2,
   "metadata": {},
   "outputs": [
    {
     "name": "stdout",
     "output_type": "stream",
     "text": [
      "{'apples': 0, 'oranges': 1, 'pears': 2}\n",
      "[[0.1 0.8 0.1]\n",
      " [0.1 0.1 0.8]\n",
      " [0.8 0.1 0.1]\n",
      " [0.8 0.1 0.1]\n",
      " [0.8 0.1 0.1]\n",
      " [0.1 0.1 0.8]\n",
      " [0.1 0.8 0.1]\n",
      " [0.1 0.8 0.1]\n",
      " [0.8 0.1 0.1]\n",
      " [0.8 0.1 0.1]\n",
      " [0.8 0.1 0.1]\n",
      " [0.8 0.1 0.1]\n",
      " [0.8 0.1 0.1]\n",
      " [0.8 0.1 0.1]\n",
      " [0.1 0.1 0.8]\n",
      " [0.8 0.1 0.1]\n",
      " [0.1 0.8 0.1]\n",
      " [0.1 0.8 0.1]\n",
      " [0.8 0.1 0.1]\n",
      " [0.1 0.8 0.1]] (20, 3) [0 2 0 0 0 2 1 1 0 0 0 0 0 0 2 0 1 0 0 0] ['apples' 'oranges' 'pears']\n"
     ]
    }
   ],
   "source": [
    "import matplotlib.pyplot as plt\n",
    "import numpy as np\n",
    "\n",
    "# https://blog.finxter.com/how-to-plot-sklearn-confusion-matrix-with-labels/\n",
    "actual_data = \\\n",
    "       ['apples',  'pears',   'apples',\n",
    "        'apples',  'apples',  'pears',\n",
    "        'oranges', 'oranges', 'apples',\n",
    "        'apples',  'apples',  'apples',\n",
    "        'apples',  'apples',  'pears',\n",
    "        'apples',  'oranges', 'apples',\n",
    "        'apples',  'apples']\n",
    "predicted_data = \\\n",
    "      ['oranges', 'pears',   'apples',\n",
    "       'apples',  'apples',  'pears',\n",
    "       'oranges', 'oranges', 'apples', \n",
    "       'apples',  'apples',  'apples',\n",
    "       'apples',  'apples',  'pears',\n",
    "       'apples',  'oranges', 'oranges',\n",
    "       'apples',  'oranges']\n",
    "\n",
    "class_names = np.unique(actual_data)\n",
    "d = {c:kc for kc,c in enumerate(class_names)}\n",
    "print(d)\n",
    "y_pred_p = []\n",
    "y_true = []\n",
    "for k in range(0, len(actual_data)):\n",
    "    y_true += [d[actual_data[k]]]\n",
    "    _p = .8\n",
    "    p = np.zeros(shape=(len(class_names)))+(1-_p)/(len(class_names)-1)\n",
    "    p[d[predicted_data[k]]] = _p\n",
    "    y_pred_p += [p]\n",
    "y_pred_p = np.array(y_pred_p)\n",
    "y_true = np.array(y_true)\n",
    "print(y_pred_p, y_pred_p.shape, y_true, class_names)"
   ]
  },
  {
   "cell_type": "code",
   "execution_count": 3,
   "metadata": {},
   "outputs": [
    {
     "name": "stdout",
     "output_type": "stream",
     "text": [
      "dict_keys(['precision', 'recall', 'f1score', 'accuracy', 'gmean', 'dpower', 'prc', 'aucpr', 'rocc', 'aucroc', 'xentropy'])\n",
      "dict_keys(['b-precision', 'w-precision', 'b-recall', 'w-recall', 'b-f1score', 'w-f1score', 'b-accuracy', 'w-accuracy', 'b-gmean', 'w-gmean', 'b-dpower', 'w-dpower', 'b-aucpr', 'w-aucpr', 'b-aucroc', 'w-aucroc', 'b-xentropy', 'w-xentropy'])\n",
      "b-precision 0.8333333333164141\n",
      "b-recall 0.9285714285473357\n",
      "b-f1score 0.8488888888225846\n",
      "b-accuracy 0.8999999999955001\n",
      "b-gmean 0.9312968244509982\n",
      "b-dpower 17.303725512883165\n",
      "b-aucpr 0.811904761904762\n",
      "b-aucroc 0.9348739495798318\n",
      "b-xentropy 1.6094379117257673\n"
     ]
    }
   ],
   "source": [
    "%load_ext autoreload\n",
    "%autoreload 2\n",
    "from fuzzytools.datascience import metrics as metrics\n",
    "\n",
    "metrics_cdict, metrics_dict, cm = metrics.get_multiclass_metrics(y_pred_p, y_true, class_names)\n",
    "print(metrics_cdict[class_names[0]].keys())\n",
    "print(metrics_dict.keys())\n",
    "{c:metrics_cdict[c]['recall'] for c in class_names}\n",
    "for k in metrics_dict.keys():\n",
    "    if 'w-' in k:\n",
    "        continue\n",
    "    print(k, metrics_dict[k])"
   ]
  },
  {
   "cell_type": "code",
   "execution_count": 4,
   "metadata": {},
   "outputs": [
    {
     "name": "stdout",
     "output_type": "stream",
     "text": [
      "0.8333333333333334\n",
      "0.9285714285714285\n",
      "0.8488888888888889\n"
     ]
    }
   ],
   "source": [
    "from sklearn import metrics as skmetrics\n",
    "\n",
    "precision, recall, f1score,_ = skmetrics.precision_recall_fscore_support(y_true, y_pred_p.argmax(axis=-1),\n",
    "                average=None,\n",
    "                labels=range(0, len(class_names)),\n",
    "                )\n",
    "print(np.mean(precision))\n",
    "print(np.mean(recall))\n",
    "print(np.mean(f1score))"
   ]
  },
  {
   "cell_type": "code",
   "execution_count": 5,
   "metadata": {},
   "outputs": [
    {
     "data": {
      "text/plain": [
       "[<matplotlib.lines.Line2D at 0x7fa0066af350>]"
      ]
     },
     "execution_count": 5,
     "metadata": {},
     "output_type": "execute_result"
    },
    {
     "data": {
      "image/png": "[encoded data removed]",
      "text/plain": [
       "<Figure size 432x288 with 1 Axes>"
      ]
     },
     "metadata": {
      "needs_background": "light"
     },
     "output_type": "display_data"
    }
   ],
   "source": [
    "import matplotlib.pyplot as plt\n",
    "\n",
    "rocc = metrics_cdict['apples']['rocc']\n",
    "plt.plot(rocc['fpr'], rocc['tpr'])"
   ]
  },
  {
   "cell_type": "code",
   "execution_count": 6,
   "metadata": {},
   "outputs": [
    {
     "data": {
      "text/plain": [
       "[<matplotlib.lines.Line2D at 0x7f9ffb8a8490>]"
      ]
     },
     "execution_count": 6,
     "metadata": {},
     "output_type": "execute_result"
    },
    {
     "data": {
      "image/png": "[encoded data removed]",
      "text/plain": [
       "<Figure size 432x288 with 1 Axes>"
      ]
     },
     "metadata": {
      "needs_background": "light"
     },
     "output_type": "display_data"
    }
   ],
   "source": [
    "import matplotlib.pyplot as pltapples\n",
    "\n",
    "rocc = metrics_cdict['apples']['prc']\n",
    "plt.plot(rocc['recall'], rocc['precision'])"
   ]
  },
  {
   "cell_type": "code",
   "execution_count": 7,
   "metadata": {},
   "outputs": [
    {
     "name": "stdout",
     "output_type": "stream",
     "text": [
      "0.25\n"
     ]
    }
   ],
   "source": [
    "precision, recall, score,_ = skmetrics.precision_recall_fscore_support(\n",
    "    np.array([0, 0, 0 ,1 ,0 ,1, 0, 0 ,0, 1, 0, 0, 1, 0, 0, 1 ,0, 0 ,0 ,1]).astype(bool),\n",
    "    np.array([0 ,0, 1, 0 ,0, 1 ,1 ,0, 0, 0, 0, 1, 0, 0, 0, 0, 0 ,0, 0 ,0]).astype(bool),\n",
    "    average='binary', pos_label=1)\n",
    "print(precision)"
   ]
  }
 ],
 "metadata": {
  "kernelspec": {
   "display_name": "Python 3",
   "language": "python",
   "name": "python3"
  },
  "language_info": {
   "codemirror_mode": {
    "name": "ipython",
    "version": 3
   },
   "file_extension": ".py",
   "mimetype": "text/x-python",
   "name": "python",
   "nbconvert_exporter": "python",
   "pygments_lexer": "ipython3",
   "version": "3.7.10"
  }
 },
 "nbformat": 4,
 "nbformat_minor": 4
}
