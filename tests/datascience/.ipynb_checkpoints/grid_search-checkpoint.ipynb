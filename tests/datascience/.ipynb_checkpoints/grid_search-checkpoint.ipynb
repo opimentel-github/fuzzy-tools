{
 "cells": [
  {
   "cell_type": "code",
   "execution_count": null,
   "metadata": {},
   "outputs": [],
   "source": [
    "import sys\n",
    "sys.path.append('../../') # or just install the module"
   ]
  },
  {
   "cell_type": "code",
   "execution_count": null,
   "metadata": {},
   "outputs": [],
   "source": [
    "%load_ext autoreload\n",
    "%autoreload 2\n",
    "from fuzzytools.datascience.grid_search import GDIter, GridSeacher\n",
    "import numpy as np\n",
    "\n",
    "grid_params = {\n",
    "    'min_dist':{\n",
    "        'b':0,\n",
    "        'a':GDIter(*np.linspace(0.1, 0.75, 3)),\n",
    "    },\n",
    "    'n_neighbors':GDIter(*np.linspace(10, 100, 6)),\n",
    "}\n",
    "gs = GridSeacher(grid_params)\n",
    "print(gs)\n",
    "gs[0]"
   ]
  },
  {
   "cell_type": "code",
   "execution_count": null,
   "metadata": {},
   "outputs": [],
   "source": [
    "grid_params = {\n",
    "    'xxx':{\n",
    "        'b':0,\n",
    "        'a':GDIter(*np.linspace(0.1, 0.75, 3)),\n",
    "    },\n",
    "    'aaa':GDIter(*np.linspace(10, 100, 6)),\n",
    "}\n",
    "gs1 = GridSeacher(grid_params)\n",
    "grid_params = {\n",
    "    'umm':GDIter(0,1,2),\n",
    "}\n",
    "gs2 = GridSeacher(grid_params)\n",
    "gs = gs1+gs2\n",
    "for p in gs:\n",
    "    print(p)"
   ]
  }
 ],
 "metadata": {
  "kernelspec": {
   "display_name": "Python 3",
   "language": "python",
   "name": "python3"
  },
  "language_info": {
   "codemirror_mode": {
    "name": "ipython",
    "version": 3
   },
   "file_extension": ".py",
   "mimetype": "text/x-python",
   "name": "python",
   "nbconvert_exporter": "python",
   "pygments_lexer": "ipython3",
   "version": "3.7.10"
  }
 },
 "nbformat": 4,
 "nbformat_minor": 4
}
