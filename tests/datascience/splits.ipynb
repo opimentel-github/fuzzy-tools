{
 "cells": [
  {
   "cell_type": "code",
   "execution_count": 1,
   "metadata": {},
   "outputs": [],
   "source": [
    "import sys\n",
    "sys.path.append('../../') # or just install the module"
   ]
  },
  {
   "cell_type": "code",
   "execution_count": 2,
   "metadata": {},
   "outputs": [
    {
     "name": "stdout",
     "output_type": "stream",
     "text": [
      "obj_names: ['o0', 'o1', 'o2', 'o3', 'o4', 'o5', 'o6', 'o7', 'o8', 'o9', 'o10', 'o11', 'o12', 'o13', 'o14', 'o15', 'o16', 'o17', 'o18', 'o19', 'o20', 'o21', 'o22', 'o23', 'o24', 'o25', 'o26', 'o27', 'o28', 'o29']\n",
      "obj_classes ['b', 'c', 'b', 'c', 'c', 'a', 'a', 'b', 'c', 'b', 'a', 'b', 'c', 'c', 'a', 'b', 'a', 'a', 'b', 'c', 'a', 'c', 'a', 'b', 'c', 'b', 'b', 'a', 'a', 'b']\n"
     ]
    }
   ],
   "source": [
    "import numpy as np\n",
    "\n",
    "n = 30\n",
    "obj_names = [f'o{k}' for k in list(range(0, n))]\n",
    "class_names = ['a', 'b', 'c']\n",
    "obj_classes = [class_names[k] for k in np.random.randint(0, len(class_names), size=len(obj_names))]\n",
    "print('obj_names:',obj_names)\n",
    "print('obj_classes',obj_classes)"
   ]
  },
  {
   "cell_type": "code",
   "execution_count": 42,
   "metadata": {
    "scrolled": false
   },
   "outputs": [
    {
     "name": "stdout",
     "output_type": "stream",
     "text": [
      "The autoreload extension is already loaded. To reload it, use:\n",
      "  %reload_ext autoreload\n",
      "['o0', 'o1', 'o2', 'o3', 'o4', 'o5', 'o6', 'o7', 'o8', 'o9', 'o10', 'o11', 'o12', 'o13', 'o14', 'o15', 'o16', 'o17', 'o18', 'o19', 'o20', 'o21', 'o22', 'o23', 'o24', 'o25', 'o26', 'o27', 'o28', 'o29'] ['b', 'c', 'b', 'c', 'c', 'a', 'a', 'b', 'c', 'b', 'a', 'b', 'c', 'c', 'a', 'b', 'a', 'a', 'b', 'c', 'a', 'c', 'a', 'b', 'c', 'b', 'b', 'a', 'a', 'b']\n",
      "['o3', 'o10', 'o18', 'o17', 'o5', 'o0', 'o7', 'o26', 'o29', 'o14', 'o20', 'o25', 'o21', 'o2', 'o19', 'o4', 'o23', 'o6', 'o11', 'o22', 'o9', 'o28', 'o15', 'o16', 'o8', 'o1', 'o13', 'o24', 'o12', 'o27'] ['c', 'a', 'b', 'a', 'a', 'b', 'b', 'b', 'b', 'a', 'a', 'b', 'c', 'b', 'c', 'c', 'b', 'a', 'b', 'a', 'b', 'a', 'b', 'a', 'c', 'c', 'c', 'c', 'c', 'a']\n",
      "0@train ['o10', 'o17', 'o5', 'o14', 'o20', 'o6', 'o18', 'o0', 'o7', 'o26', 'o29', 'o25', 'o3', 'o21', 'o19', 'o4', 'o8'] 17\n",
      "0@val ['o22', 'o28', 'o2', 'o23', 'o1', 'o13'] 6\n",
      "0@test ['o16', 'o27', 'o11', 'o9', 'o15', 'o24', 'o12'] 7\n",
      "x 30\n",
      "True\n",
      "True\n",
      "True\n",
      "1@train ['o5', 'o14', 'o20', 'o6', 'o22', 'o28', 'o7', 'o26', 'o29', 'o25', 'o2', 'o23', 'o21', 'o19', 'o4', 'o8', 'o1'] 17\n",
      "1@val ['o16', 'o27', 'o11', 'o9', 'o13', 'o24'] 6\n",
      "1@test ['o10', 'o17', 'o15', 'o18', 'o0', 'o12', 'o3'] 7\n",
      "x 30\n",
      "True\n",
      "True\n",
      "True\n",
      "2@train ['o20', 'o6', 'o22', 'o28', 'o16', 'o27', 'o29', 'o25', 'o2', 'o23', 'o11', 'o9', 'o4', 'o8', 'o1', 'o13', 'o24'] 17\n",
      "2@val ['o10', 'o17', 'o15', 'o18', 'o12', 'o3'] 6\n",
      "2@test ['o5', 'o14', 'o0', 'o7', 'o26', 'o21', 'o19'] 7\n",
      "x 30\n",
      "True\n",
      "True\n",
      "True\n",
      "3@train ['o22', 'o28', 'o16', 'o27', 'o10', 'o17', 'o2', 'o23', 'o11', 'o9', 'o15', 'o18', 'o1', 'o13', 'o24', 'o12', 'o3'] 17\n",
      "3@val ['o5', 'o14', 'o0', 'o7', 'o21', 'o19'] 6\n",
      "3@test ['o20', 'o6', 'o26', 'o29', 'o25', 'o4', 'o8'] 7\n",
      "x 30\n",
      "True\n",
      "True\n",
      "True\n",
      "4@train ['o16', 'o27', 'o10', 'o17', 'o5', 'o14', 'o11', 'o9', 'o15', 'o18', 'o0', 'o7', 'o24', 'o12', 'o3', 'o21', 'o19'] 17\n",
      "4@val ['o20', 'o6', 'o26', 'o29', 'o4', 'o8'] 6\n",
      "4@test ['o22', 'o28', 'o25', 'o2', 'o23', 'o1', 'o13'] 7\n",
      "x 30\n",
      "True\n",
      "True\n",
      "True\n"
     ]
    }
   ],
   "source": [
    "%load_ext autoreload\n",
    "%autoreload 2\n",
    "from fuzzytools.datascience.splits import stratifiedf_kfold_cyclic_311\n",
    "from fuzzytools.datascience.statistics import get_nof_samples_cdict\n",
    "import fuzzytools.lists as lists\n",
    "\n",
    "d, class_names = stratifiedf_kfold_cyclic_311(obj_names, obj_classes,\n",
    "    shuffle=True,\n",
    "    random_state=0,\n",
    "    )\n",
    "for kf in range(0, 5):\n",
    "    x = []\n",
    "    for set_name in ['train', 'val', 'test']:\n",
    "        k = f'{kf}@{set_name}'\n",
    "        print(k, d[k], len(d[k]))\n",
    "        x += d[k]\n",
    "    x = list(set(x))\n",
    "    print('x', len(x))\n",
    "    print(lists.check_unique_lists(d[f'{kf}@train'], d[f'{kf}@val']))\n",
    "    print(lists.check_unique_lists(d[f'{kf}@train'], d[f'{kf}@test']))\n",
    "    print(lists.check_unique_lists(d[f'{kf}@val'], d[f'{kf}@test']))"
   ]
  },
  {
   "cell_type": "code",
   "execution_count": 40,
   "metadata": {},
   "outputs": [
    {
     "name": "stdout",
     "output_type": "stream",
     "text": [
      "0@test ['o16', 'o27', 'o11', 'o9', 'o15', 'o24', 'o12'] 7\n",
      "1@test ['o10', 'o17', 'o15', 'o18', 'o0', 'o12', 'o3'] 7\n",
      "2@test ['o5', 'o14', 'o0', 'o7', 'o26', 'o21', 'o19'] 7\n",
      "3@test ['o20', 'o6', 'o26', 'o29', 'o25', 'o4', 'o8'] 7\n",
      "4@test ['o22', 'o28', 'o25', 'o2', 'o23', 'o1', 'o13'] 7\n",
      "['o0', 'o6', 'o17', 'o7', 'o27', 'o3', 'o25', 'o4', 'o8', 'o1', 'o15', 'o18', 'o10', 'o5', 'o12', 'o24', 'o19', 'o29', 'o11', 'o14', 'o26', 'o28', 'o20', 'o22', 'o16', 'o9', 'o21', 'o23', 'o13', 'o2'] 30\n"
     ]
    }
   ],
   "source": [
    "all_objs = []\n",
    "for k in d.keys():\n",
    "    if 'test' in k:\n",
    "        print(k, d[k], len(d[k]))\n",
    "        all_objs += d[k]\n",
    "all_objs = list(set(all_objs))\n",
    "print(all_objs, len(all_objs))"
   ]
  }
 ],
 "metadata": {
  "kernelspec": {
   "display_name": "Python 3",
   "language": "python",
   "name": "python3"
  },
  "language_info": {
   "codemirror_mode": {
    "name": "ipython",
    "version": 3
   },
   "file_extension": ".py",
   "mimetype": "text/x-python",
   "name": "python",
   "nbconvert_exporter": "python",
   "pygments_lexer": "ipython3",
   "version": "3.7.10"
  }
 },
 "nbformat": 4,
 "nbformat_minor": 4
}
