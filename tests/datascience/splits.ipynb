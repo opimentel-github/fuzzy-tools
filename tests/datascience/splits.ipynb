{
 "cells": [
  {
   "cell_type": "code",
   "execution_count": null,
   "metadata": {},
   "outputs": [],
   "source": [
    "import sys\n",
    "sys.path.append('../../') # or just install the module"
   ]
  },
  {
   "cell_type": "code",
   "execution_count": null,
   "metadata": {},
   "outputs": [],
   "source": [
    "import numpy as np\n",
    "\n",
    "n = 30\n",
    "obj_names = [f'o{k}.' for k in list(range(0, n))]\n",
    "class_names = ['a', 'b', 'c']\n",
    "obj_classes = [class_names[k] for k in np.random.randint(0, len(class_names), size=len(obj_names))]\n",
    "print('obj_names:',obj_names)\n",
    "print('obj_classes',obj_classes)"
   ]
  },
  {
   "cell_type": "code",
   "execution_count": null,
   "metadata": {},
   "outputs": [],
   "source": [
    "%load_ext autoreload\n",
    "%autoreload 2\n",
    "from fuzzytools.datascience.splits import stratifiedf_kfold_cyclic_311\n",
    "from fuzzytools.datascience.statistics import get_nof_samples_cdict\n",
    "import fuzzytools.lists as lists\n",
    "\n",
    "d, class_names, kfolds = stratifiedf_kfold_cyclic_311(obj_names, obj_classes,\n",
    "    shuffle=True,\n",
    "    random_state=0,\n",
    "    outlier_obj_names=['o0.', 'o1.', 'o2.'],\n",
    "    )\n",
    "for kf in range(0, 5):\n",
    "    x = []\n",
    "    for set_name in ['train', 'val', 'test']:\n",
    "        k = f'{kf}@{set_name}'\n",
    "        print(k, d[k], len(d[k]))\n",
    "        x += d[k]\n",
    "    x = sorted(list(set(x)))\n",
    "    print('x', len(x))\n",
    "    assert lists.check_lists_are_different(d[f'{kf}@train'], d[f'{kf}@val'])\n",
    "    assert lists.check_lists_are_different(d[f'{kf}@train'], d[f'{kf}@test'])\n",
    "    assert lists.check_lists_are_different(d[f'{kf}@val'], d[f'{kf}@test'])"
   ]
  },
  {
   "cell_type": "code",
   "execution_count": null,
   "metadata": {},
   "outputs": [],
   "source": [
    "all_objs = []\n",
    "for k in d.keys():\n",
    "    if 'test' in k:\n",
    "        print(k, d[k], len(d[k]))\n",
    "        all_objs += d[k]\n",
    "all_objs = sorted(list(set(all_objs)))\n",
    "print(all_objs, len(all_objs))"
   ]
  }
 ],
 "metadata": {
  "interpreter": {
   "hash": "7be2a7af81e33aa34bda2d48fb7e53d5c53a4267cac3388872aa71a1afa114a4"
  },
  "kernelspec": {
   "display_name": "Python 3.7.13 ('lchandler')",
   "language": "python",
   "name": "python3"
  },
  "language_info": {
   "codemirror_mode": {
    "name": "ipython",
    "version": 3
   },
   "file_extension": ".py",
   "mimetype": "text/x-python",
   "name": "python",
   "nbconvert_exporter": "python",
   "pygments_lexer": "ipython3",
   "version": "3.7.13"
  }
 },
 "nbformat": 4,
 "nbformat_minor": 4
}
