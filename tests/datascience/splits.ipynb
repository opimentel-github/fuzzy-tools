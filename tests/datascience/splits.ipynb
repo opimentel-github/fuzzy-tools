{
 "cells": [
  {
   "cell_type": "code",
   "execution_count": 1,
   "metadata": {},
   "outputs": [],
   "source": [
    "import sys\n",
    "sys.path.append('../../') # or just install the module"
   ]
  },
  {
   "cell_type": "code",
   "execution_count": 2,
   "metadata": {},
   "outputs": [
    {
     "name": "stdout",
     "output_type": "stream",
     "text": [
      "obj_names: ['o0', 'o1', 'o2', 'o3', 'o4', 'o5', 'o6', 'o7', 'o8', 'o9', 'o10', 'o11', 'o12', 'o13', 'o14', 'o15', 'o16', 'o17', 'o18', 'o19', 'o20', 'o21', 'o22', 'o23', 'o24', 'o25', 'o26', 'o27', 'o28', 'o29']\n",
      "obj_classes ['a', 'a', 'a', 'b', 'a', 'b', 'c', 'c', 'b', 'b', 'c', 'a', 'a', 'a', 'b', 'c', 'c', 'b', 'c', 'b', 'a', 'b', 'c', 'a', 'b', 'b', 'b', 'b', 'c', 'a']\n"
     ]
    }
   ],
   "source": [
    "import numpy as np\n",
    "\n",
    "n = 30\n",
    "obj_names = [f'o{k}' for k in list(range(0, n))]\n",
    "class_names = ['a', 'b', 'c']\n",
    "obj_classes = [class_names[k] for k in np.random.randint(0, len(class_names), size=len(obj_names))]\n",
    "print('obj_names:',obj_names)\n",
    "print('obj_classes',obj_classes)"
   ]
  },
  {
   "cell_type": "code",
   "execution_count": 3,
   "metadata": {
    "scrolled": false
   },
   "outputs": [
    {
     "name": "stdout",
     "output_type": "stream",
     "text": [
      "0@training ['o29', 'o20', 'o4', 'o23', 'o3', 'o17', 'o5', 'o26', 'o14', 'o25', 'o21', 'o10', 'o18', 'o7', 'o6'] 15\n",
      "0@val ['o11', 'o19', 'o9', 'o22', 'o28'] 5\n",
      "0@test ['o13', 'o12', 'o8', 'o24', 'o27', 'o15', 'o16'] 7\n",
      "x 27\n",
      "True\n",
      "True\n",
      "True\n",
      "1@training ['o20', 'o4', 'o23', 'o11', 'o5', 'o26', 'o14', 'o25', 'o21', 'o19', 'o9', 'o18', 'o7', 'o6', 'o22'] 15\n",
      "1@val ['o13', 'o8', 'o24', 'o28', 'o15'] 5\n",
      "1@test ['o12', 'o29', 'o27', 'o3', 'o17', 'o16', 'o10'] 7\n",
      "x 27\n",
      "True\n",
      "True\n",
      "True\n",
      "2@training ['o4', 'o23', 'o11', 'o13', 'o14', 'o25', 'o21', 'o19', 'o9', 'o8', 'o24', 'o6', 'o22', 'o28', 'o15'] 15\n",
      "2@val ['o12', 'o27', 'o3', 'o16', 'o10'] 5\n",
      "2@test ['o29', 'o20', 'o17', 'o5', 'o26', 'o18', 'o7'] 7\n",
      "x 27\n",
      "True\n",
      "True\n",
      "True\n",
      "3@training ['o11', 'o13', 'o12', 'o29', 'o19', 'o9', 'o8', 'o24', 'o27', 'o3', 'o17', 'o22', 'o28', 'o15', 'o16'] 15\n",
      "3@val ['o20', 'o5', 'o26', 'o10', 'o18'] 5\n",
      "3@test ['o4', 'o23', 'o14', 'o25', 'o21', 'o7', 'o6'] 7\n",
      "x 27\n",
      "True\n",
      "True\n",
      "True\n",
      "4@training ['o13', 'o12', 'o29', 'o20', 'o8', 'o24', 'o27', 'o3', 'o17', 'o5', 'o26', 'o15', 'o16', 'o10', 'o18'] 15\n",
      "4@val ['o4', 'o14', 'o25', 'o7', 'o6'] 5\n",
      "4@test ['o23', 'o11', 'o21', 'o19', 'o9', 'o22', 'o28'] 7\n",
      "x 27\n",
      "True\n",
      "True\n",
      "True\n"
     ]
    }
   ],
   "source": [
    "%load_ext autoreload\n",
    "%autoreload 2\n",
    "from fuzzytools.datascience.splits import stratifiedf_kfold_cyclic_311\n",
    "from fuzzytools.datascience.statistics import get_nof_samples_cdict\n",
    "import fuzzytools.lists as lists\n",
    "\n",
    "d, class_names, kfolds = stratifiedf_kfold_cyclic_311(obj_names, obj_classes,\n",
    "    shuffle=True,\n",
    "    random_state=0,\n",
    "    outlier_obj_names=['o0', 'o1', 'o2'],               \n",
    "    )\n",
    "for kf in range(0, 5):\n",
    "    x = []\n",
    "    for set_name in ['training', 'val', 'test']:\n",
    "        k = f'{kf}@{set_name}'\n",
    "        print(k, d[k], len(d[k]))\n",
    "        x += d[k]\n",
    "    x = list(set(x))\n",
    "    print('x', len(x))\n",
    "    print(lists.check_unique_lists(d[f'{kf}@training'], d[f'{kf}@val']))\n",
    "    print(lists.check_unique_lists(d[f'{kf}@training'], d[f'{kf}@test']))\n",
    "    print(lists.check_unique_lists(d[f'{kf}@val'], d[f'{kf}@test']))"
   ]
  },
  {
   "cell_type": "code",
   "execution_count": 4,
   "metadata": {},
   "outputs": [
    {
     "name": "stdout",
     "output_type": "stream",
     "text": [
      "0@test ['o13', 'o12', 'o8', 'o24', 'o27', 'o15', 'o16'] 7\n",
      "1@test ['o12', 'o29', 'o27', 'o3', 'o17', 'o16', 'o10'] 7\n",
      "2@test ['o29', 'o20', 'o17', 'o5', 'o26', 'o18', 'o7'] 7\n",
      "3@test ['o4', 'o23', 'o14', 'o25', 'o21', 'o7', 'o6'] 7\n",
      "4@test ['o23', 'o11', 'o21', 'o19', 'o9', 'o22', 'o28'] 7\n",
      "['o8', 'o23', 'o21', 'o28', 'o25', 'o3', 'o16', 'o5', 'o14', 'o12', 'o7', 'o24', 'o20', 'o6', 'o4', 'o13', 'o18', 'o9', 'o10', 'o29', 'o11', 'o26', 'o15', 'o17', 'o22', 'o19', 'o27'] 27\n"
     ]
    }
   ],
   "source": [
    "all_objs = []\n",
    "for k in d.keys():\n",
    "    if 'test' in k:\n",
    "        print(k, d[k], len(d[k]))\n",
    "        all_objs += d[k]\n",
    "all_objs = list(set(all_objs))\n",
    "print(all_objs, len(all_objs))"
   ]
  }
 ],
 "metadata": {
  "kernelspec": {
   "display_name": "Python 3",
   "language": "python",
   "name": "python3"
  },
  "language_info": {
   "codemirror_mode": {
    "name": "ipython",
    "version": 3
   },
   "file_extension": ".py",
   "mimetype": "text/x-python",
   "name": "python",
   "nbconvert_exporter": "python",
   "pygments_lexer": "ipython3",
   "version": "3.7.10"
  }
 },
 "nbformat": 4,
 "nbformat_minor": 4
}
