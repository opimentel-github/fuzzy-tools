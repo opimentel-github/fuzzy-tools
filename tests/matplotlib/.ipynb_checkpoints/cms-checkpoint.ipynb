{
 "cells": [
  {
   "cell_type": "code",
   "execution_count": null,
   "id": "443aa1ef",
   "metadata": {},
   "outputs": [],
   "source": [
    "import sys\n",
    "sys.path.append('../../') # or just install the module"
   ]
  },
  {
   "cell_type": "code",
   "execution_count": null,
   "id": "4981aea9",
   "metadata": {},
   "outputs": [],
   "source": [
    "import matplotlib.pyplot as plt\n",
    "import numpy as np\n",
    "\n",
    "# https://blog.finxter.com/how-to-plot-sklearn-confusion-matrix-with-labels/\n",
    "actual_data = \\\n",
    "       ['apples',  'pears',   'apples',\n",
    "        'apples',  'apples',  'pears',\n",
    "        'oranges', 'oranges', 'apples',\n",
    "        'apples',  'apples',  'apples',\n",
    "        'apples',  'apples',  'pears',\n",
    "        'apples',  'oranges', 'apples',\n",
    "        'apples',  'apples']\n",
    "predicted_data = \\\n",
    "      ['oranges', 'pears',   'apples',\n",
    "       'apples',  'apples',  'pears',\n",
    "       'oranges', 'oranges', 'apples', \n",
    "       'apples',  'apples',  'apples',\n",
    "       'apples',  'apples',  'pears',\n",
    "       'apples',  'oranges', 'oranges',\n",
    "       'apples',  'oranges']\n",
    "\n",
    "class_names = np.unique(actual_data)\n",
    "d = {c:kc for kc,c in enumerate(class_names)}\n",
    "print(d)\n",
    "y_pred_p = []\n",
    "y_true = []\n",
    "for k in range(0, len(actual_data)):\n",
    "    y_true += [d[actual_data[k]]]\n",
    "    _p = .8\n",
    "    p = np.zeros(shape=(len(class_names)))+(1-_p)/(len(class_names)-1)\n",
    "    p[d[predicted_data[k]]] = _p\n",
    "    y_pred_p += [p]\n",
    "y_pred_p = np.array(y_pred_p)\n",
    "y_true = np.array(y_true)\n",
    "print(y_pred_p, y_pred_p.shape, y_true, class_names)"
   ]
  },
  {
   "cell_type": "code",
   "execution_count": null,
   "id": "115aa9f3",
   "metadata": {},
   "outputs": [],
   "source": [
    "%load_ext autoreload\n",
    "%autoreload 2\n",
    "from fuzzytools.datascience import metrics\n",
    "from fuzzytools.datascience.cms import ConfusionMatrix\n",
    "from fuzzytools.matplotlib.cm_plots import plot_custom_confusion_matrix\n",
    "import pandas as pd\n",
    "\n",
    "metrics_cdict, metrics_dict, cm = metrics.get_multiclass_metrics(y_pred_p, y_true, class_names)\n",
    "title = ''\n",
    "print(cm)\n",
    "cm = ConfusionMatrix([cm, cm+.1], class_names)\n",
    "cm.reorder_classes(['oranges', 'pears', 'apples'])\n",
    "print(cm.cm_df.shape)\n",
    "print(cm.get_values())\n",
    "display(cm)\n",
    "true_label_d = {c:'e' for c in class_names}\n",
    "plot_custom_confusion_matrix(cm,\n",
    "    title=title[:-1],\n",
    "    figsize=(6,5),\n",
    "    true_label_d=true_label_d,\n",
    "    lambda_c=lambda c:c+'*',\n",
    "    )"
   ]
  },
  {
   "cell_type": "code",
   "execution_count": null,
   "id": "19bd1d3d",
   "metadata": {},
   "outputs": [],
   "source": [
    "%load_ext autoreload\n",
    "%autoreload 2\n",
    "\n",
    "cm2 = (cm+cm+cm)/1\n",
    "display(cm2)\n",
    "cm2 = sum([cm,cm,cm])/1\n",
    "display(cm2)\n",
    "plot_custom_confusion_matrix(cm2,\n",
    "    title=title[:-1],\n",
    "    figsize=(6,5),\n",
    "    true_label_d=true_label_d,\n",
    "    )"
   ]
  }
 ],
 "metadata": {
  "kernelspec": {
   "display_name": "Python 3",
   "language": "python",
   "name": "python3"
  },
  "language_info": {
   "codemirror_mode": {
    "name": "ipython",
    "version": 3
   },
   "file_extension": ".py",
   "mimetype": "text/x-python",
   "name": "python",
   "nbconvert_exporter": "python",
   "pygments_lexer": "ipython3",
   "version": "3.7.10"
  }
 },
 "nbformat": 4,
 "nbformat_minor": 5
}
