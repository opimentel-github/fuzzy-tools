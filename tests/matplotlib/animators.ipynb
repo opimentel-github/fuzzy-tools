{
 "cells": [
  {
   "cell_type": "code",
   "execution_count": 1,
   "id": "f80721bd",
   "metadata": {},
   "outputs": [],
   "source": [
    "import sys\n",
    "sys.path.append('../../') # or just install the module"
   ]
  },
  {
   "cell_type": "code",
   "execution_count": 2,
   "id": "8d46636a",
   "metadata": {},
   "outputs": [
    {
     "name": "stdout",
     "output_type": "stream",
     "text": [
      "saved in ../../temp/an.gif\n"
     ]
    }
   ],
   "source": [
    "%load_ext autoreload\n",
    "%autoreload 2\n",
    "import matplotlib.pyplot as plt\n",
    "from fuzzytools.matplotlib.animators import PlotAnimator\n",
    "import fuzzytools.matplotlib.utils as utils\n",
    "import numpy as np\n",
    "\n",
    "plot_animation = PlotAnimator(f'../../temp/an.gif',\n",
    "    video_duration=2, \n",
    "    save_frames=True,\n",
    "    saved_frames_fext='pdf',\n",
    "    init_offset=5,\n",
    "    end_offset=2,\n",
    "    )\n",
    "figsize = (10,6)\n",
    "dpi = 100\n",
    "n = 1e3\n",
    "for k in range(0,10):\n",
    "    fig, ax = plt.subplots(1, 1, figsize=figsize, dpi=dpi)\n",
    "    x = np.linspace(0, 100, int(n))\n",
    "    ax.plot(x, np.sin(x*np.random.uniform()))\n",
    "    ax.set_xticks([])\n",
    "    ax.set_yticks([])\n",
    "    title = f'k={k}'\n",
    "    ax.set_title(title)\n",
    "    plot_animation.append(fig)\n",
    "    plt.show()\n",
    "plot_animation.save()"
   ]
  }
 ],
 "metadata": {
  "kernelspec": {
   "display_name": "Python 3",
   "language": "python",
   "name": "python3"
  },
  "language_info": {
   "codemirror_mode": {
    "name": "ipython",
    "version": 3
   },
   "file_extension": ".py",
   "mimetype": "text/x-python",
   "name": "python",
   "nbconvert_exporter": "python",
   "pygments_lexer": "ipython3",
   "version": "3.7.10"
  }
 },
 "nbformat": 4,
 "nbformat_minor": 5
}
