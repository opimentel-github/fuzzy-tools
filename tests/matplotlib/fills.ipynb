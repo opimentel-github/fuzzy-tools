{
 "cells": [
  {
   "cell_type": "code",
   "execution_count": null,
   "id": "124a9c04",
   "metadata": {},
   "outputs": [],
   "source": [
    "import sys\n",
    "sys.path.append('../../') # or just install the module"
   ]
  },
  {
   "cell_type": "code",
   "execution_count": null,
   "id": "7ae74cae",
   "metadata": {},
   "outputs": [],
   "source": [
    "%load_ext autoreload\n",
    "%autoreload 2\n",
    "import matplotlib.pyplot as plt\n",
    "import fuzzytools.matplotlib.bars as bars\n",
    "from fuzzytools.matplotlib.utils import save_fig\n",
    "import numpy as np\n",
    "\n",
    "figsize = (10,5)\n",
    "dpi = 200\n",
    "fig, ax = plt.subplots(1, 1, figsize=figsize, dpi=dpi)\n",
    "x = np.array([1,5,8])\n",
    "y = np.array([0,0,0])\n",
    "std = np.array([1,2,3])\n",
    "ax.plot(x, y)\n",
    "bars.plot_norm_percentile_bar(ax, x, y, std)\n",
    "ax.set_xlabel('xxx')\n",
    "save_fig(f'../../temp/x_{dpi}.png', fig)\n",
    "plt.show()"
   ]
  },
  {
   "cell_type": "code",
   "execution_count": null,
   "id": "5acf13a7",
   "metadata": {},
   "outputs": [],
   "source": [
    "%load_ext autoreload\n",
    "%autoreload 2\n",
    "import matplotlib.pyplot as plt\n",
    "import fuzzytools.matplotlib.fills as fills\n",
    "import numpy as np\n",
    "\n",
    "fig, ax = plt.subplots(1, 1)\n",
    "xs = [\n",
    "    np.linspace(0,15,5),\n",
    "    np.linspace(-1,20,4),\n",
    "    np.linspace(2,18,3),\n",
    "    ]\n",
    "ys = [\n",
    "    np.random.uniform(0,2,size=5),\n",
    "    np.random.uniform(0,1,size=4),\n",
    "    np.random.uniform(0,1,size=3),\n",
    "    ]\n",
    "fills.multiple_lines(ax, xs, ys, color='r')\n",
    "ax = fills.fill_beetween_percentile(ax, xs, ys,\n",
    "    fill_kwargs={'color':'b', 'alpha':0.5},\n",
    "    median_kwargs={'color':'b', 'alpha':1},\n",
    "    percentile=95, # None 95\n",
    "    )\n",
    "plt.show()"
   ]
  },
  {
   "cell_type": "code",
   "execution_count": null,
   "id": "acf6fa32",
   "metadata": {},
   "outputs": [],
   "source": [
    "%load_ext autoreload\n",
    "%autoreload 2\n",
    "import matplotlib.pyplot as plt\n",
    "import fuzzytools.matplotlib.fills as fills\n",
    "import numpy as np\n",
    "\n",
    "fig, ax = plt.subplots(1, 1)\n",
    "xs = [\n",
    "    np.linspace(0,15,5),\n",
    "    np.linspace(-1,20,4),\n",
    "    np.linspace(2,18,3),\n",
    "    ]\n",
    "ys = [\n",
    "    np.random.uniform(0,2,size=5),\n",
    "    np.random.uniform(0,1,size=4),\n",
    "    np.random.uniform(0,1,size=3),\n",
    "    ]\n",
    "fills.multiple_lines(ax, xs, ys, color='r')\n",
    "ax = fills.fill_beetween_mean_std(ax, xs, ys,\n",
    "    fill_kwargs={'color':'b', 'alpha':0.5},\n",
    "    mean_kwargs={'color':'b', 'alpha':1},\n",
    "    )\n",
    "plt.show()"
   ]
  }
 ],
 "metadata": {
  "kernelspec": {
   "display_name": "Python 3",
   "language": "python",
   "name": "python3"
  },
  "language_info": {
   "codemirror_mode": {
    "name": "ipython",
    "version": 3
   },
   "file_extension": ".py",
   "mimetype": "text/x-python",
   "name": "python",
   "nbconvert_exporter": "python",
   "pygments_lexer": "ipython3",
   "version": "3.7.10"
  }
 },
 "nbformat": 4,
 "nbformat_minor": 5
}
