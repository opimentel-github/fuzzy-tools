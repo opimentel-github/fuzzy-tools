{
 "cells": [
  {
   "cell_type": "code",
   "execution_count": null,
   "id": "08cdecda",
   "metadata": {},
   "outputs": [],
   "source": [
    "import sys\n",
    "sys.path.append('../') # or just install the module"
   ]
  },
  {
   "cell_type": "code",
   "execution_count": null,
   "id": "009c2835",
   "metadata": {},
   "outputs": [],
   "source": [
    "%load_ext autoreload\n",
    "%autoreload 2\n",
    "import fuzzytools.numpy as fnp\n",
    "import numpy as np\n",
    "\n",
    "def norm(_x):\n",
    "    x = np.array(_x)\n",
    "    x = x/np.sqrt(np.sum(x**2))\n",
    "    print(x)\n",
    "    return x\n",
    "\n",
    "def norm_dot_vector(x, y):\n",
    "    return np.sum(norm(x)*norm(y))\n",
    "\n",
    "query = (4,4)\n",
    "keys = [\n",
    "    (3,4),\n",
    "    (-1,0),\n",
    "    (0,-1),\n",
    "    (5,3),\n",
    "    (5,2),\n",
    "]\n",
    "values = [\n",
    "    (240,81,82),\n",
    "    (184,82,138),\n",
    "    (115,71,156),\n",
    "    (55,139,71),\n",
    "    (106,190,81),\n",
    "]\n",
    "d = 2\n",
    "a = [norm_dot_vector(query, key) for key in keys]\n",
    "a = a*1/np.sqrt(d)\n",
    "print('a', [f'{_a:.3f}' for _a in a])\n",
    "s = fnp.softmax(a)\n",
    "print('s', [f'{_s:.3f}' for _s in s])\n",
    "c = np.sum([np.array(value)*_s for value,_s in zip(values,s)], axis=0)\n",
    "print('c', c)"
   ]
  },
  {
   "cell_type": "code",
   "execution_count": null,
   "id": "4791ab68",
   "metadata": {},
   "outputs": [],
   "source": [
    "np.sum(s)"
   ]
  }
 ],
 "metadata": {
  "kernelspec": {
   "display_name": "Python 3",
   "language": "python",
   "name": "python3"
  },
  "language_info": {
   "codemirror_mode": {
    "name": "ipython",
    "version": 3
   },
   "file_extension": ".py",
   "mimetype": "text/x-python",
   "name": "python",
   "nbconvert_exporter": "python",
   "pygments_lexer": "ipython3",
   "version": "3.7.10"
  }
 },
 "nbformat": 4,
 "nbformat_minor": 5
}
