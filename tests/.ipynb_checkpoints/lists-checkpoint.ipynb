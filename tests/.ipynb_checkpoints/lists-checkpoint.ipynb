{
 "cells": [
  {
   "cell_type": "code",
   "execution_count": 1,
   "id": "92054262",
   "metadata": {},
   "outputs": [],
   "source": [
    "import sys\n",
    "sys.path.append('../') # or just install the module"
   ]
  },
  {
   "cell_type": "code",
   "execution_count": 2,
   "id": "1ba85ba1",
   "metadata": {},
   "outputs": [
    {
     "name": "stdout",
     "output_type": "stream",
     "text": [
      "[(0, 'a'), (0, 'b'), (0, 'c'), (1, 'a'), (1, 'b'), (1, 'c'), (2, 'a'), (2, 'b'), (2, 'c'), (3, 'a'), (3, 'b'), (3, 'c'), (4, 'a'), (4, 'b'), (4, 'c'), (5, 'a'), (5, 'b'), (5, 'c'), (6, 'a'), (6, 'b'), (6, 'c'), (7, 'a'), (7, 'b'), (7, 'c')]\n",
      "a\n",
      "[0, 6, 7, 0, 3]\n",
      "[6, 6, 3, 3, 7]\n",
      "[0, 1, 2, 3, 4, 5, 6, 7, 'a', 'b', 'c']\n"
     ]
    }
   ],
   "source": [
    "%load_ext autoreload\n",
    "%autoreload 2\n",
    "import fuzzytools.lists as lists\n",
    "\n",
    "l1 = [0,1,2,3,4,5,6,7]\n",
    "l2 = ['a', 'b', 'c']\n",
    "print(lists.list_product(l1, l2))\n",
    "print(lists.get_random_item(l2))\n",
    "print(lists.get_bootstrap(l1, 5, random_state=10))\n",
    "print(lists.get_bootstrap(l1, 5))\n",
    "print(lists.merge_lists(l1, l2))"
   ]
  },
  {
   "cell_type": "code",
   "execution_count": 24,
   "id": "98b841d2",
   "metadata": {},
   "outputs": [
    {
     "name": "stdout",
     "output_type": "stream",
     "text": [
      "['a', 'b', 'c']\n",
      "['a', 'c', 'b']\n"
     ]
    }
   ],
   "source": [
    "print(l2)\n",
    "l3 = lists.get_shuffled(l2,\n",
    "    shuffle=1,\n",
    "    random_state=None,\n",
    "    )\n",
    "print(l3)"
   ]
  }
 ],
 "metadata": {
  "kernelspec": {
   "display_name": "Python 3",
   "language": "python",
   "name": "python3"
  },
  "language_info": {
   "codemirror_mode": {
    "name": "ipython",
    "version": 3
   },
   "file_extension": ".py",
   "mimetype": "text/x-python",
   "name": "python",
   "nbconvert_exporter": "python",
   "pygments_lexer": "ipython3",
   "version": "3.7.10"
  }
 },
 "nbformat": 4,
 "nbformat_minor": 5
}
