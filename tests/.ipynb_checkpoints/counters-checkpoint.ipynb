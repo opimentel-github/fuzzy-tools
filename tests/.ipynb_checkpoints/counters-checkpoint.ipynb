{
 "cells": [
  {
   "cell_type": "code",
   "execution_count": null,
   "metadata": {},
   "outputs": [],
   "source": [
    "import sys\n",
    "sys.path.append('../') # or just install the module"
   ]
  },
  {
   "cell_type": "code",
   "execution_count": null,
   "metadata": {},
   "outputs": [],
   "source": [
    "%load_ext autoreload\n",
    "%autoreload 2\n",
    "import fuzzytools.counters as counters\n",
    "\n",
    "counter_relation_dict = {\n",
    "    'a':10,\n",
    "    'b':2,\n",
    "}\n",
    "counter = counters.Counter(counter_relation_dict)\n",
    "for k in range(0, 100):\n",
    "    print(counter, counter.get_global_count(), counter.check_counter_name_upper_bound('b'))\n",
    "    counter.update()"
   ]
  }
 ],
 "metadata": {
  "kernelspec": {
   "display_name": "Python 3",
   "language": "python",
   "name": "python3"
  },
  "language_info": {
   "codemirror_mode": {
    "name": "ipython",
    "version": 3
   },
   "file_extension": ".py",
   "mimetype": "text/x-python",
   "name": "python",
   "nbconvert_exporter": "python",
   "pygments_lexer": "ipython3",
   "version": "3.7.10"
  }
 },
 "nbformat": 4,
 "nbformat_minor": 4
}
