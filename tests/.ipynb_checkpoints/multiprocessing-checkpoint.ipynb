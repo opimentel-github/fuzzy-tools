{
 "cells": [
  {
   "cell_type": "code",
   "execution_count": null,
   "id": "14c21c09",
   "metadata": {},
   "outputs": [],
   "source": [
    "import sys\n",
    "sys.path.append('../') # or just install the module"
   ]
  },
  {
   "cell_type": "code",
   "execution_count": null,
   "id": "3d0c227b",
   "metadata": {},
   "outputs": [],
   "source": [
    "%load_ext autoreload\n",
    "%autoreload 2\n",
    "import fuzzytools.multiprocessing as multiprocessing\n",
    "\n",
    "backend = 'multiprocessing' # loky multiprocessing threading\n",
    "n_jobs = multiprocessing.get_joblib_config(\n",
    "    backend=backend,\n",
    "    n_process=None,\n",
    "    m=5,\n",
    "    )\n",
    "print(n_jobs)"
   ]
  },
  {
   "cell_type": "code",
   "execution_count": null,
   "id": "0ddd4add",
   "metadata": {},
   "outputs": [],
   "source": [
    "%load_ext autoreload\n",
    "%autoreload 2\n",
    "from joblib import Parallel, delayed\n",
    "import numpy as np\n",
    "import matplotlib.pyplot as plt\n",
    "from fuzzytools.matplotlib.utils import save_fig\n",
    "\n",
    "class C():\n",
    "    def __init__(self, id, x, y):\n",
    "        self.id = id\n",
    "        self.x = x\n",
    "        self.y = y\n",
    "\n",
    "    def __repr__(self):\n",
    "        return f'id={self.id}; x={self.x}'\n",
    "        \n",
    "def job(id, x, y):\n",
    "    c = C(id, x, {})\n",
    "    return c\n",
    "\n",
    "l = [k for k in range(0, 75)]\n",
    "batches, n_jobs = multiprocessing.get_joblib_config_batches(l)\n",
    "jobs = []\n",
    "for k in range(0, 5):\n",
    "    jobs.append(delayed(job)(k, np.array([k]*10), 0))\n",
    "results = Parallel(n_jobs=n_jobs, backend=backend)(jobs)\n",
    "for c in results:\n",
    "    print(c)\n",
    "    fig, ax = plt.subplots(1, 1)\n",
    "    ax.plot(c.x, c.x, 'o')\n",
    "    ax.set_title(c.id)\n",
    "    save_fig(fig, f'../temp/multi~id={c.id}.pdf')"
   ]
  }
 ],
 "metadata": {
  "kernelspec": {
   "display_name": "Python 3",
   "language": "python",
   "name": "python3"
  },
  "language_info": {
   "codemirror_mode": {
    "name": "ipython",
    "version": 3
   },
   "file_extension": ".py",
   "mimetype": "text/x-python",
   "name": "python",
   "nbconvert_exporter": "python",
   "pygments_lexer": "ipython3",
   "version": "3.7.10"
  }
 },
 "nbformat": 4,
 "nbformat_minor": 5
}
