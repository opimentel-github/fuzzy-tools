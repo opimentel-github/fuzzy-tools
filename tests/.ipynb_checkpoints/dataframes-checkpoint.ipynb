{
 "cells": [
  {
   "cell_type": "code",
   "execution_count": null,
   "metadata": {},
   "outputs": [],
   "source": [
    "import sys\n",
    "sys.path.append('../') # or just install the module"
   ]
  },
  {
   "cell_type": "code",
   "execution_count": null,
   "metadata": {},
   "outputs": [],
   "source": [
    "%load_ext autoreload\n",
    "%autoreload 2\n",
    "import fuzzytools.dataframes as fcdf\n",
    "import numpy as np\n",
    "\n",
    "df = fcdf.DFBuilder()\n",
    "df.append('m=e~a=1', {'true':1, 'pred':20, 'nan':np.nan})\n",
    "df.append('m=fe~a=sf1', {'true':1, 'pred':8, 'nan':np.nan})\n",
    "df.append('m=ea~a=22', {'true':0, 'pred':np.nan, 'nan':np.nan})\n",
    "df.append('m=fe~a=1', {'true':1, 'pred':74578, 'nan':np.nan})\n",
    "df()"
   ]
  },
  {
   "cell_type": "code",
   "execution_count": null,
   "metadata": {},
   "outputs": [],
   "source": [
    "df = fcdf.DFBuilder()\n",
    "df.append(None, {'true':1, 'pred':20, 'nan':np.nan})\n",
    "df.append(None, {'true':1, 'pred':8, 'nan':np.nan})\n",
    "df.append(None, {'true':0, 'pred':np.nan, 'nan':np.nan})\n",
    "df.append(None, {'true':1, 'pred':74578, 'nan':np.nan})\n",
    "df()"
   ]
  },
  {
   "cell_type": "code",
   "execution_count": null,
   "metadata": {},
   "outputs": [],
   "source": [
    "%load_ext autoreload\n",
    "%autoreload 2\n",
    "import fuzzytools.dataframes as fcdf\n",
    "\n",
    "new_df, df_values, null_cols = fcdf.clean_df_nans(df(), mode='value')\n",
    "print(df_values)\n",
    "print(null_cols)\n",
    "display(new_df)\n",
    "\n",
    "new_df, df_values, null_cols = fcdf.clean_df_nans(df(), mode='mean')\n",
    "print(df_values)\n",
    "print(null_cols)\n",
    "display(new_df)\n",
    "\n",
    "new_df, df_values, null_cols = fcdf.clean_df_nans(df(), mode='median')\n",
    "print(df_values)\n",
    "print(null_cols)\n",
    "display(new_df)"
   ]
  },
  {
   "cell_type": "code",
   "execution_count": null,
   "metadata": {},
   "outputs": [],
   "source": [
    "df = fcdf.DFBuilder()\n",
    "df.append('m=e~a=1', {'true':1, 'pred':20, 'nan':np.nan})\n",
    "df.append('m=fe~a=sf1', {'true':1, 'pred':8, 'nan':np.nan})\n",
    "df.append('m=ea~a=22', {'true':0, 'pred':np.nan, 'nan':np.nan})\n",
    "df.append('m=ea~a=22', {'true':1, 'pred':74578, 'nan':np.nan})\n",
    "df()"
   ]
  }
 ],
 "metadata": {
  "kernelspec": {
   "display_name": "Python 3",
   "language": "python",
   "name": "python3"
  },
  "language_info": {
   "codemirror_mode": {
    "name": "ipython",
    "version": 3
   },
   "file_extension": ".py",
   "mimetype": "text/x-python",
   "name": "python",
   "nbconvert_exporter": "python",
   "pygments_lexer": "ipython3",
   "version": "3.7.10"
  }
 },
 "nbformat": 4,
 "nbformat_minor": 4
}
