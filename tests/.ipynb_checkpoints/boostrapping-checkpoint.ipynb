{
 "cells": [
  {
   "cell_type": "code",
   "execution_count": 1,
   "id": "d72cab8e",
   "metadata": {},
   "outputs": [],
   "source": [
    "import sys\n",
    "sys.path.append('../') # or just install the module"
   ]
  },
  {
   "cell_type": "code",
   "execution_count": 2,
   "id": "5ed55fa0",
   "metadata": {},
   "outputs": [
    {
     "name": "stdout",
     "output_type": "stream",
     "text": [
      "['a0', 'a1', 'a2', 'a3', 'a4', 'b5', 'b6', 'b7', 'b8', 'c9', 'c10', 'c11']\n",
      "['a', 'a', 'a', 'a', 'a', 'b', 'b', 'b', 'b', 'c', 'c', 'c']\n"
     ]
    }
   ],
   "source": [
    "%load_ext autoreload\n",
    "%autoreload 2\n",
    "from fuzzytools.boostraping import BalancedCyclicBoostraping\n",
    "\n",
    "l_classes = ['a']*5+['b']*4+['c']*3\n",
    "l_objs = [f'{c}{kc}' for kc,c in enumerate(l_classes)]\n",
    "print(l_objs)\n",
    "print(l_classes)"
   ]
  },
  {
   "cell_type": "code",
   "execution_count": 3,
   "id": "4c479489",
   "metadata": {},
   "outputs": [
    {
     "name": "stdout",
     "output_type": "stream",
     "text": [
      "The autoreload extension is already loaded. To reload it, use:\n",
      "  %reload_ext autoreload\n",
      "BalancedCyclicBoostraping(batch_prop=1; samples_per_class=5; nof_samples=12; __len__=15)\n",
      "['a2', 'a4', 'a3', 'a0', 'a1', 'b6', 'b7', 'b5', 'b8', 'b6', 'c11', 'c9', 'c10', 'c11', 'c9']\n",
      "['a2', 'a4', 'a3', 'a0', 'a1', 'b7', 'b5', 'b8', 'b6', 'b7', 'c10', 'c11', 'c9', 'c10', 'c11']\n",
      "['a2', 'a4', 'a3', 'a0', 'a1', 'b5', 'b8', 'b6', 'b7', 'b5', 'c9', 'c10', 'c11', 'c9', 'c10']\n",
      "['a2', 'a4', 'a3', 'a0', 'a1', 'b8', 'b6', 'b7', 'b5', 'b8', 'c11', 'c9', 'c10', 'c11', 'c9']\n",
      "['a2', 'a4', 'a3', 'a0', 'a1', 'b6', 'b7', 'b5', 'b8', 'b6', 'c10', 'c11', 'c9', 'c10', 'c11']\n",
      "['a2', 'a4', 'a3', 'a0', 'a1', 'b7', 'b5', 'b8', 'b6', 'b7', 'c9', 'c10', 'c11', 'c9', 'c10']\n",
      "['a2', 'a4', 'a3', 'a0', 'a1', 'b5', 'b8', 'b6', 'b7', 'b5', 'c11', 'c9', 'c10', 'c11', 'c9']\n",
      "['a2', 'a4', 'a3', 'a0', 'a1', 'b8', 'b6', 'b7', 'b5', 'b8', 'c10', 'c11', 'c9', 'c10', 'c11']\n",
      "['a2', 'a4', 'a3', 'a0', 'a1', 'b6', 'b7', 'b5', 'b8', 'b6', 'c9', 'c10', 'c11', 'c9', 'c10']\n"
     ]
    }
   ],
   "source": [
    "%load_ext autoreload\n",
    "%autoreload 2\n",
    "cb = BalancedCyclicBoostraping(l_objs, l_classes,\n",
    "    batch_prop=1,\n",
    "    uses_shuffle=1,\n",
    ")\n",
    "print(cb)\n",
    "print(cb.get_samples())\n",
    "print(cb.get_samples())\n",
    "print(cb.get_samples())\n",
    "print(cb.get_samples())\n",
    "print(cb.get_samples())\n",
    "print(cb.get_samples())\n",
    "print(cb.get_samples())\n",
    "print(cb.get_samples())\n",
    "print(cb.get_samples())"
   ]
  },
  {
   "cell_type": "code",
   "execution_count": 5,
   "id": "91030c6b",
   "metadata": {},
   "outputs": [
    {
     "name": "stdout",
     "output_type": "stream",
     "text": [
      "BalancedCyclicBoostraping(batch_prop=0.5; samples_per_class=2; nof_samples=12; __len__=6)\n",
      "['a0', 'a1', 'b5', 'b6', 'c9', 'c10']\n",
      "['a2', 'a3', 'b7', 'b8', 'c11', 'c9']\n",
      "['a4', 'a0', 'b5', 'b6', 'c10', 'c11']\n",
      "['a1', 'a2', 'b7', 'b8', 'c9', 'c10']\n",
      "['a3', 'a4', 'b5', 'b6', 'c11', 'c9']\n",
      "['a0', 'a1', 'b7', 'b8', 'c10', 'c11']\n",
      "['a2', 'a3', 'b5', 'b6', 'c9', 'c10']\n",
      "['a4', 'a0', 'b7', 'b8', 'c11', 'c9']\n",
      "['a1', 'a2', 'b5', 'b6', 'c10', 'c11']\n"
     ]
    }
   ],
   "source": [
    "cb = BalancedCyclicBoostraping(l_objs, l_classes,\n",
    "    batch_prop=.5,\n",
    "    uses_shuffle=0,\n",
    ")\n",
    "print(cb)\n",
    "print(cb.get_samples())\n",
    "print(cb.get_samples())\n",
    "print(cb.get_samples())\n",
    "print(cb.get_samples())\n",
    "print(cb.get_samples())\n",
    "print(cb.get_samples())\n",
    "print(cb.get_samples())\n",
    "print(cb.get_samples())\n",
    "print(cb.get_samples())"
   ]
  }
 ],
 "metadata": {
  "kernelspec": {
   "display_name": "Python 3",
   "language": "python",
   "name": "python3"
  },
  "language_info": {
   "codemirror_mode": {
    "name": "ipython",
    "version": 3
   },
   "file_extension": ".py",
   "mimetype": "text/x-python",
   "name": "python",
   "nbconvert_exporter": "python",
   "pygments_lexer": "ipython3",
   "version": "3.7.10"
  }
 },
 "nbformat": 4,
 "nbformat_minor": 5
}
