{
 "cells": [
  {
   "cell_type": "code",
   "execution_count": null,
   "id": "ce26641c",
   "metadata": {},
   "outputs": [],
   "source": [
    "import sys\n",
    "sys.path.append('../../') # or just install the module"
   ]
  },
  {
   "cell_type": "code",
   "execution_count": null,
   "id": "07f60b23",
   "metadata": {},
   "outputs": [],
   "source": [
    "import numpy as np\n",
    "\n",
    "N = 150\n",
    "class_names = ['a', 'b', 'c']\n",
    "y_true = np.random.randint(0, len(class_names), size=(N))\n",
    "obj_ids = [f'obj{k}' for k in range(0, len(y_true))]\n",
    "y_pred_p = np.random.uniform(0, 1, size=(N, len(class_names)))\n",
    "y_pred_p = y_pred_p/np.sum(y_pred_p, axis=1)[...,None]\n",
    "print('y_true', y_true, y_true.shape)\n",
    "print('y_pred_p', y_pred_p.shape)"
   ]
  },
  {
   "cell_type": "code",
   "execution_count": null,
   "id": "bb9e2ddb",
   "metadata": {},
   "outputs": [],
   "source": [
    "%load_ext autoreload\n",
    "%autoreload 2\n",
    "from fuzzytools.datascience import misclassifications\n",
    "import matplotlib.pyplot as plt\n",
    "\n",
    "fig, axs, miss_objs_df = misclassifications.plot_misclassification_map(y_pred_p, y_true, class_names,\n",
    "    obj_ids=obj_ids,\n",
    "    #pred_prob_th=.0, # None .5\n",
    "    figsize=(15,8),\n",
    "    #verbose=1,\n",
    "    )\n",
    "display(miss_objs_df)\n",
    "plt.show()"
   ]
  }
 ],
 "metadata": {
  "kernelspec": {
   "display_name": "Python 3",
   "language": "python",
   "name": "python3"
  },
  "language_info": {
   "codemirror_mode": {
    "name": "ipython",
    "version": 3
   },
   "file_extension": ".py",
   "mimetype": "text/x-python",
   "name": "python",
   "nbconvert_exporter": "python",
   "pygments_lexer": "ipython3",
   "version": "3.7.10"
  }
 },
 "nbformat": 4,
 "nbformat_minor": 5
}
