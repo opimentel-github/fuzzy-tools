{
 "cells": [
  {
   "cell_type": "code",
   "execution_count": null,
   "id": "4b31a618",
   "metadata": {},
   "outputs": [],
   "source": [
    "import sys\n",
    "sys.path.append('../../') # or just install the module"
   ]
  },
  {
   "cell_type": "code",
   "execution_count": null,
   "id": "68c30dd4",
   "metadata": {},
   "outputs": [],
   "source": [
    "def median(*args):\n",
    "    return sum([x*p for x,p in args])\n",
    "    \n",
    "def var():\n",
    "    return"
   ]
  },
  {
   "cell_type": "code",
   "execution_count": null,
   "id": "a57640c4",
   "metadata": {},
   "outputs": [],
   "source": [
    "p = .5\n",
    "mean = 3/5\n",
    "print('a)', mean) # 3/5\n",
    "print('b)', 1/5*(3*(1-mean)**2+2*(0-mean)**2),1/4*(3*(1-mean)**2+2*(0-mean)**2)) # 6/25 3/10\n",
    "print('c)', p**3*(1-p)**2) # 1/32\n",
    "print('d)', 0.03456) # using 3/5"
   ]
  },
  {
   "cell_type": "code",
   "execution_count": null,
   "id": "e1940a4d",
   "metadata": {},
   "outputs": [],
   "source": [
    "%load_ext autoreload\n",
    "%autoreload 2\n",
    "import numpy as np\n",
    "import fuzzytools.matplotlib.plots as ftplots\n",
    "import random\n",
    "\n",
    "def get_count(n):\n",
    "    return np.sum((np.random.uniform(0, 1, size=n)<p).astype(np.float32))/n\n",
    "    \n",
    "n = 6000\n",
    "p = 1/6\n",
    "mean = 1*p+0*(1-p) # 1/6\n",
    "var = (1)**2*p+(0)**2*(1-p)-mean**2 # 5/36\n",
    "var2 = p*(1-mean)**2+(1-p)*(0-mean)**2\n",
    "print(mean, var, np.sqrt(var), var2)\n",
    "mean = n*mean\n",
    "var = n*var\n",
    "print(mean, var)\n",
    "k = 1.6\n",
    "a = k*np.sqrt(var)\n",
    "print(k,np.sqrt(var),a)\n",
    "\n",
    "m = 100000\n",
    "x = [get_count(n)*n for _ in range(0, m)]\n",
    "ftplots.plot_hist_bins({'x':x,},\n",
    "    #xlim=[10000-a, 10000+a],\n",
    "    percentile=95,\n",
    "    )"
   ]
  },
  {
   "cell_type": "code",
   "execution_count": null,
   "id": "b84d5fa5",
   "metadata": {},
   "outputs": [],
   "source": [
    "46.188*2"
   ]
  }
 ],
 "metadata": {
  "kernelspec": {
   "display_name": "Python 3",
   "language": "python",
   "name": "python3"
  },
  "language_info": {
   "codemirror_mode": {
    "name": "ipython",
    "version": 3
   },
   "file_extension": ".py",
   "mimetype": "text/x-python",
   "name": "python",
   "nbconvert_exporter": "python",
   "pygments_lexer": "ipython3",
   "version": "3.7.10"
  }
 },
 "nbformat": 4,
 "nbformat_minor": 5
}
