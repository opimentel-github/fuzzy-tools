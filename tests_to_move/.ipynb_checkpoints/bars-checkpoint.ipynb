{
 "cells": [
  {
   "cell_type": "code",
   "execution_count": 1,
   "metadata": {},
   "outputs": [],
   "source": [
    "import sys\n",
    "import importlib\n",
    "sys.path.append('../../flamingChoripan')"
   ]
  },
  {
   "cell_type": "code",
   "execution_count": 2,
   "metadata": {},
   "outputs": [
    {
     "name": "stdout",
     "output_type": "stream",
     "text": [
      "100%|██████████| 10/10 [00:02<00:00,  4.95it/s, 9]\n"
     ]
    }
   ],
   "source": [
    "import importlib\n",
    "import progressBar\n",
    "importlib.reload(progressBar)\n",
    "from progressBar import ProgressBar\n",
    "import time\n",
    "\n",
    "N = 10\n",
    "bar = ProgressBar(N)\n",
    "for i in range(N):\n",
    "    bar('{}'.format(i))\n",
    "    time.sleep(0.2)\n",
    "    \n",
    "bar.done()"
   ]
  },
  {
   "cell_type": "code",
   "execution_count": 4,
   "metadata": {},
   "outputs": [
    {
     "name": "stdout",
     "output_type": "stream",
     "text": [
      "100%|██████████| 10/10 [00:02<00:00,  4.95it/s, a=9, b=10]\n"
     ]
    }
   ],
   "source": [
    "import importlib\n",
    "import progressBar\n",
    "importlib.reload(progressBar)\n",
    "from progressBar import ProgressBar\n",
    "import time\n",
    "\n",
    "N = 10\n",
    "bar = ProgressBar(N)\n",
    "for i in range(N):\n",
    "    bar_dic = {'a':'{}'.format(i), 'b':'{}'.format(i+1)}\n",
    "    #bar_dic = 'aa'\n",
    "    bar(bar_dic)\n",
    "    time.sleep(0.2)\n",
    "    #print('a')\n",
    "    \n",
    "bar.done()"
   ]
  },
  {
   "cell_type": "code",
   "execution_count": 8,
   "metadata": {},
   "outputs": [
    {
     "name": "stdout",
     "output_type": "stream",
     "text": [
      "pid:985: 100%|██████████| 10/10 [00:10<00:00,  1.00s/it, postpostpostpostpostpostpostpostpostpost]\n",
      "aaa\n"
     ]
    }
   ],
   "source": [
    "import sys\n",
    "from tqdm import tqdm\n",
    "from time import sleep\n",
    "\n",
    "values = range(10)\n",
    "with tqdm(total=len(values), file=sys.stdout, desc='aaa') as pbar:\n",
    "    for i in values:\n",
    "        pbar.set_description('pid:{}'.format(985))\n",
    "        pbar.set_postfix_str('post'*10)\n",
    "        pbar.update(1)\n",
    "        sleep(1)\n",
    "print('aaa')"
   ]
  },
  {
   "cell_type": "code",
   "execution_count": null,
   "metadata": {},
   "outputs": [
    {
     "data": {
      "application/vnd.jupyter.widget-view+json": {
       "model_id": "a9302dd0bbb94d16bd1b800bdc77970d",
       "version_major": 2,
       "version_minor": 0
      },
      "text/plain": [
       "HBox(children=(FloatProgress(value=0.0, description='#8, est. 0.50s', max=5000.0, style=ProgressStyle(descript…"
      ]
     },
     "metadata": {},
     "output_type": "display_data"
    },
    {
     "data": {
      "application/vnd.jupyter.widget-view+json": {
       "model_id": "41746391e44241df8a8eccb4993f30dd",
       "version_major": 2,
       "version_minor": 0
      },
      "text/plain": [
       "HBox(children=(FloatProgress(value=0.0, description='#1, est. 1.70s', max=5000.0, style=ProgressStyle(descript…"
      ]
     },
     "metadata": {},
     "output_type": "display_data"
    },
    {
     "data": {
      "application/vnd.jupyter.widget-view+json": {
       "model_id": "9716c43a6e8746db80bf399f7087a49c",
       "version_major": 2,
       "version_minor": 0
      },
      "text/plain": [
       "HBox(children=(FloatProgress(value=0.0, description='#5, est. 0.71s', max=5000.0, style=ProgressStyle(descript…"
      ]
     },
     "metadata": {},
     "output_type": "display_data"
    },
    {
     "data": {
      "application/vnd.jupyter.widget-view+json": {
       "model_id": "375f69b4e8774c9a9a160710d443a634",
       "version_major": 2,
       "version_minor": 0
      },
      "text/plain": [
       "HBox(children=(FloatProgress(value=0.0, description='#7, est. 0.56s', max=5000.0, style=ProgressStyle(descript…"
      ]
     },
     "metadata": {},
     "output_type": "display_data"
    },
    {
     "data": {
      "application/vnd.jupyter.widget-view+json": {
       "model_id": "835e88b4c7994972a2362c0d8033a238",
       "version_major": 2,
       "version_minor": 0
      },
      "text/plain": [
       "HBox(children=(FloatProgress(value=0.0, description='#0, est. 2.50s', max=5000.0, style=ProgressStyle(descript…"
      ]
     },
     "metadata": {},
     "output_type": "display_data"
    },
    {
     "data": {
      "application/vnd.jupyter.widget-view+json": {
       "model_id": "3c03f4cff09647e7bb8df5e6acb1576d",
       "version_major": 2,
       "version_minor": 0
      },
      "text/plain": [
       "HBox(children=(FloatProgress(value=0.0, description='#2, est. 1.20s', max=5000.0, style=ProgressStyle(descript…"
      ]
     },
     "metadata": {},
     "output_type": "display_data"
    },
    {
     "data": {
      "application/vnd.jupyter.widget-view+json": {
       "model_id": "f604d2989cf44df6ad4644f5f76dfee2",
       "version_major": 2,
       "version_minor": 0
      },
      "text/plain": [
       "HBox(children=(FloatProgress(value=0.0, description='#3, est. 1.00s', max=5000.0, style=ProgressStyle(descript…"
      ]
     },
     "metadata": {},
     "output_type": "display_data"
    },
    {
     "data": {
      "application/vnd.jupyter.widget-view+json": {
       "model_id": "557fe93d150047db973200a1003d70fe",
       "version_major": 2,
       "version_minor": 0
      },
      "text/plain": [
       "HBox(children=(FloatProgress(value=0.0, description='#4, est. 0.83s', max=5000.0, style=ProgressStyle(descript…"
      ]
     },
     "metadata": {},
     "output_type": "display_data"
    },
    {
     "data": {
      "application/vnd.jupyter.widget-view+json": {
       "model_id": "3f2a330b35714fed9b2f9056d0ee3c23",
       "version_major": 2,
       "version_minor": 0
      },
      "text/plain": [
       "HBox(children=(FloatProgress(value=0.0, description='#6, est. 0.62s', max=5000.0, style=ProgressStyle(descript…"
      ]
     },
     "metadata": {},
     "output_type": "display_data"
    }
   ],
   "source": [
    "from time import sleep\n",
    "from tqdm.notebook import tqdm, trange\n",
    "from concurrent.futures import ThreadPoolExecutor\n",
    "\n",
    "L = list(range(9))\n",
    "\n",
    "def progresser(n):\n",
    "    interval = 0.001 / (n + 2)\n",
    "    total = 5000\n",
    "    text = \"#{}, est. {:<04.2}s\".format(n, interval * total)\n",
    "    steps = trange(total, desc=text)\n",
    "    for b in steps:\n",
    "        #print('b',b)\n",
    "        steps.set_postfix({'AAAAAA':b})\n",
    "        sleep(interval)\n",
    "    if n == 6:\n",
    "        tqdm.write(\"n == 6 completed.\")\n",
    "        tqdm.write(\"`tqdm.write()` is thread-safe in py3!\")\n",
    "\n",
    "if __name__ == '__main__':\n",
    "    with ThreadPoolExecutor() as p:\n",
    "        p.map(progresser, L)"
   ]
  },
  {
   "cell_type": "code",
   "execution_count": 11,
   "metadata": {},
   "outputs": [
    {
     "data": {
      "application/vnd.jupyter.widget-view+json": {
       "model_id": "24190e720eb4480a86fe6c4c4a2acee4",
       "version_major": 2,
       "version_minor": 0
      },
      "text/plain": [
       "HBox(children=(FloatProgress(value=0.0, description='#6, esta. 0.62s', max=5000.0, style=ProgressStyle(descrip…"
      ]
     },
     "metadata": {},
     "output_type": "display_data"
    },
    {
     "data": {
      "application/vnd.jupyter.widget-view+json": {
       "model_id": "2f731765a2a54cc6977beef62e591b31",
       "version_major": 2,
       "version_minor": 0
      },
      "text/plain": [
       "HBox(children=(FloatProgress(value=0.0, description='#4, esta. 0.83s', max=5000.0, style=ProgressStyle(descrip…"
      ]
     },
     "metadata": {},
     "output_type": "display_data"
    },
    {
     "data": {
      "application/vnd.jupyter.widget-view+json": {
       "model_id": "59db7a3f297e46adad68f27ea2b6458a",
       "version_major": 2,
       "version_minor": 0
      },
      "text/plain": [
       "HBox(children=(FloatProgress(value=0.0, description='#5, esta. 0.71s', max=5000.0, style=ProgressStyle(descrip…"
      ]
     },
     "metadata": {},
     "output_type": "display_data"
    },
    {
     "data": {
      "application/vnd.jupyter.widget-view+json": {
       "model_id": "0a928961a613455f8daaef67176e7cee",
       "version_major": 2,
       "version_minor": 0
      },
      "text/plain": [
       "HBox(children=(FloatProgress(value=0.0, description='#0, esta. 2.50s', max=5000.0, style=ProgressStyle(descrip…"
      ]
     },
     "metadata": {},
     "output_type": "display_data"
    },
    {
     "data": {
      "application/vnd.jupyter.widget-view+json": {
       "model_id": "5e7625eec7ed44b8bd9244e29d0c9145",
       "version_major": 2,
       "version_minor": 0
      },
      "text/plain": [
       "HBox(children=(FloatProgress(value=0.0, description='#1, esta. 1.70s', max=5000.0, style=ProgressStyle(descrip…"
      ]
     },
     "metadata": {},
     "output_type": "display_data"
    },
    {
     "data": {
      "application/vnd.jupyter.widget-view+json": {
       "model_id": "ddff9377c1b54d84a845e01adfb23911",
       "version_major": 2,
       "version_minor": 0
      },
      "text/plain": [
       "HBox(children=(FloatProgress(value=0.0, description='#7, esta. 0.56s', max=5000.0, style=ProgressStyle(descrip…"
      ]
     },
     "metadata": {},
     "output_type": "display_data"
    },
    {
     "data": {
      "application/vnd.jupyter.widget-view+json": {
       "model_id": "24b3bea074ab42b1b05f26e1c8f5505a",
       "version_major": 2,
       "version_minor": 0
      },
      "text/plain": [
       "HBox(children=(FloatProgress(value=0.0, description='#2, esta. 1.20s', max=5000.0, style=ProgressStyle(descrip…"
      ]
     },
     "metadata": {},
     "output_type": "display_data"
    },
    {
     "data": {
      "application/vnd.jupyter.widget-view+json": {
       "model_id": "6e011a5926634040b3e15595721c5717",
       "version_major": 2,
       "version_minor": 0
      },
      "text/plain": [
       "HBox(children=(FloatProgress(value=0.0, description='#3, esta. 1.00s', max=5000.0, style=ProgressStyle(descrip…"
      ]
     },
     "metadata": {},
     "output_type": "display_data"
    },
    {
     "data": {
      "application/vnd.jupyter.widget-view+json": {
       "model_id": "a55c7142b36146ac9379e536eed5a704",
       "version_major": 2,
       "version_minor": 0
      },
      "text/plain": [
       "HBox(children=(FloatProgress(value=0.0, description='#8, esta. 0.50s', max=5000.0, style=ProgressStyle(descrip…"
      ]
     },
     "metadata": {},
     "output_type": "display_data"
    },
    {
     "name": "stdout",
     "output_type": "stream",
     "text": [
      "\n",
      "\n",
      "\n",
      "n == 6 completed.\n",
      "`tqdm.write()` is thread-safe in py3!\n",
      "\n",
      "\n",
      "\n",
      "\n",
      "\n",
      "\n"
     ]
    }
   ],
   "source": [
    "from time import sleep\n",
    "from tqdm.notebook import tqdm, trange\n",
    "from concurrent.futures import ThreadPoolExecutor\n",
    "\n",
    "L = list(range(9))\n",
    "\n",
    "def progresser(n):\n",
    "    interval = 0.001 / (n + 2)\n",
    "    total = 5000\n",
    "    text = \"#{}, esta. {:<04.2}s\".format(n, interval * total)\n",
    "    #with trange(total, desc=text) as steps:\n",
    "    tr = trange(total, desc=text)\n",
    "    with tr as steps:\n",
    "        steps.set_postfix_str('AAAAAAAAAAAAAAAAAAAAAA')\n",
    "        for step in steps:\n",
    "            sleep(interval)\n",
    "            \n",
    "    if n == 6:\n",
    "        tqdm.write(\"n == 6 completed.\")\n",
    "        tqdm.write(\"`tqdm.write()` is thread-safe in py3!\")\n",
    "\n",
    "if __name__ == '__main__':\n",
    "    with ThreadPoolExecutor() as p:\n",
    "        p.map(progresser, L)"
   ]
  },
  {
   "cell_type": "code",
   "execution_count": null,
   "metadata": {},
   "outputs": [],
   "source": [
    "from tqdm.notebook import trange\n",
    "from time import sleep\n",
    "\n",
    "n_epochs, n_steps = 5, 100\n",
    "with trange(1, n_epochs + 1, desc=\"All epochs\") as epochs:\n",
    "    for epoch in epochs:\n",
    "        with trange(1, n_steps + 1, desc=\"Epoch {}/{}\".format(epoch, n_epochs)) as steps:\n",
    "            for step in steps:\n",
    "                epochs.set_postfix(foo=epoch * n_steps + step)\n",
    "                steps.set_postfix(bar=\"hello {}\".format(step), baz=1 / step)\n",
    "                sleep(0.01)"
   ]
  },
  {
   "cell_type": "code",
   "execution_count": null,
   "metadata": {},
   "outputs": [],
   "source": [
    "import importlib\n",
    "import progressBar\n",
    "importlib.reload(progressBar)\n",
    "from progressBar import ProgressBar\n",
    "import time\n",
    "import os\n",
    "import sys\n",
    "\n",
    "from multiprocessing import Pool\n",
    "import multiprocessing as mp\n",
    "import threading\n",
    "\n",
    "lock = threading.RLock()\n",
    "global_counter = 0\n",
    "\n",
    "def s_print(m_dic):\n",
    "    dic = dict(m_dic)\n",
    "    keys = dic.keys()\n",
    "    txt = ''\n",
    "    for key in keys:\n",
    "        txt +='{} - {}'.format(key,dic[key])\n",
    "    \n",
    "    #txt = '{}'.format(dic)\n",
    "    #print('aaa')\n",
    "    print('\\r{}'.format(txt), end='')\n",
    "    sys.stdout.flush()\n",
    "    \n",
    "def job(*args):\n",
    "    #print('args',args)\n",
    "    x = args[0][0]\n",
    "    N = args[0][1]\n",
    "    m_bar = args[0][2]\n",
    "    #bar = m_bar\n",
    "    #bar = mc_bar\n",
    "    s = 0\n",
    "    pid = os.getpid()\n",
    "    keys = m_bar.keys()\n",
    "    #print('keys',keys)\n",
    "    \n",
    "    if not pid in keys:\n",
    "        #print('process id:', pid)\n",
    "        m_bar['{}-k'.format(pid)] = 0\n",
    "        #m_bar['{}-n'.format(pid)] = N\n",
    "        #global_counter += 1\n",
    "        \n",
    "    #print('m_bar',dict(m_bar))\n",
    "    for k,i in enumerate(range(N)):\n",
    "        s += x\n",
    "        m_bar[pid] = k\n",
    "        #time.sleep(0.025)\n",
    "        s_print(m_bar)\n",
    "        #print(k)\n",
    "        time.sleep(0.25)\n",
    "    print('')\n",
    "    return s\n",
    "\n",
    "pool = Pool(5)\n",
    "with mp.Manager() as manager:\n",
    "    global_bar = manager.dict()\n",
    "    with manager.Pool() as pool:\n",
    "        pool.map(job, [[1, 10, global_bar], [2, 5, global_bar], [3, 20, global_bar]])\n",
    "\n",
    "    global_bar = dict(global_bar)\n",
    "    \n",
    "print('-'*60)\n",
    "print('global_bar',global_bar)\n",
    "print('global_counter',global_counter)"
   ]
  }
 ],
 "metadata": {
  "kernelspec": {
   "display_name": "Python 3",
   "language": "python",
   "name": "python3"
  },
  "language_info": {
   "codemirror_mode": {
    "name": "ipython",
    "version": 3
   },
   "file_extension": ".py",
   "mimetype": "text/x-python",
   "name": "python",
   "nbconvert_exporter": "python",
   "pygments_lexer": "ipython3",
   "version": "3.7.3"
  }
 },
 "nbformat": 4,
 "nbformat_minor": 2
}
