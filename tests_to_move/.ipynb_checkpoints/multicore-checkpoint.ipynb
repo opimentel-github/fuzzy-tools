{
 "cells": [
  {
   "cell_type": "code",
   "execution_count": 20,
   "metadata": {},
   "outputs": [
    {
     "name": "stdout",
     "output_type": "stream",
     "text": [
      " 10%|█         | 2/20 [00:05<00:49,  2.75s/it, k:1] > KeyboardInterrupt!!!\n",
      " 10%|█         | 2/20 [00:10<01:38,  5.49s/it, k:1]\n"
     ]
    }
   ],
   "source": [
    "import sys\n",
    "sys.path.append('../../flamingChoripan')\n",
    "\n",
    "import signal\n",
    "import time\n",
    "from progressBar import ProgressBar, ProgressBar_original\n",
    "from multiprocessing import Pool\n",
    "import multiprocessing as mp\n",
    "import math\n",
    "\n",
    "class GracefulExiter():\n",
    "    def __init__(self):\n",
    "        self.state = False\n",
    "        signal.signal(signal.SIGINT, self.change_state)\n",
    "\n",
    "    def change_state(self, signum, frame):\n",
    "        print(' > KeyboardInterrupt!!!')\n",
    "        #print(\"exit flag set to True (repeat to exit now)\")\n",
    "        signal.signal(signal.SIGINT, signal.SIG_DFL)\n",
    "        self.state = True\n",
    "\n",
    "    def exit(self):\n",
    "        return self.state\n",
    "\n",
    "def init_worker():\n",
    "    # https://stackoverflow.com/questions/5114292/break-interrupt-a-time-sleep-in-python\n",
    "    # https://stackoverflow.com/questions/1408356/keyboard-interrupts-with-pythons-multiprocessing-pool\n",
    "    signal.signal(signal.SIGINT, signal.SIG_IGN)\n",
    "    \n",
    "def hard_process(x):\n",
    "    for i_ in range(1,200):\n",
    "        for j_ in range(1,1000):\n",
    "            dummy = math.log(math.sqrt(i_**2))*math.log(math.sqrt(j_**2))\n",
    "    return x\n",
    "\n",
    "N = 20\n",
    "processes = 4\n",
    "pool = Pool(processes, init_worker)\n",
    "flag = GracefulExiter()\n",
    "bar = ProgressBar(N)\n",
    "for k in range(N):\n",
    "    try:\n",
    "        bar('k:{}'.format(k))\n",
    "        input_args = [i for i in range(0,100)]\n",
    "        return_list = pool.map(hard_process, input_args)\n",
    "            \n",
    "        if k>1:\n",
    "            #raise ValueError\n",
    "            #raise Exception('test')\n",
    "            pass\n",
    "        \n",
    "        if flag.exit():\n",
    "            #bar.done()\n",
    "            break\n",
    "\n",
    "    except:\n",
    "        bar.done() # END BAR\n",
    "        pool.terminate();pool.join() # END POOL\n",
    "        raise # exit\n",
    "    \n",
    "bar.done() # END BAR\n",
    "pool.terminate();pool.join() # END POOL"
   ]
  }
 ],
 "metadata": {
  "kernelspec": {
   "display_name": "Python 3",
   "language": "python",
   "name": "python3"
  },
  "language_info": {
   "codemirror_mode": {
    "name": "ipython",
    "version": 3
   },
   "file_extension": ".py",
   "mimetype": "text/x-python",
   "name": "python",
   "nbconvert_exporter": "python",
   "pygments_lexer": "ipython3",
   "version": "3.7.3"
  }
 },
 "nbformat": 4,
 "nbformat_minor": 2
}
