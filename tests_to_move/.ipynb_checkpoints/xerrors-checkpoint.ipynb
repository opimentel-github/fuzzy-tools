{
 "cells": [
  {
   "cell_type": "code",
   "execution_count": null,
   "metadata": {},
   "outputs": [],
   "source": [
    "import sys\n",
    "sys.path.append('../') # or just install the module"
   ]
  },
  {
   "cell_type": "code",
   "execution_count": null,
   "metadata": {},
   "outputs": [],
   "source": [
    "%load_ext autoreload\n",
    "%autoreload 2\n",
    "import numpy as np\n",
    "from fuzzytools.datascience.xerror import XError\n",
    "\n",
    "dummy_xe = XError(None)\n",
    "print(dummy_xe)\n",
    "xe1 = XError(np.random.uniform(10,15, size=11))\n",
    "xe2 = XError(np.random.uniform(20,29, size=12))\n",
    "xe3 = XError(np.random.uniform(51,52, size=13))\n",
    "xe4 = XError(np.random.uniform(49,53, size=14))\n",
    "xe5 = xe1+xe2\n",
    "xe6 = xe1+2\n",
    "xe7 = xe6/10\n",
    "print(xe1)\n",
    "print('xe2',xe2)\n",
    "print('xe3',xe3)\n",
    "print('xe4',xe4)\n",
    "print('xe5',xe5)\n",
    "print('xe6',xe6)\n",
    "print('xe7',xe7)"
   ]
  },
  {
   "cell_type": "code",
   "execution_count": null,
   "metadata": {},
   "outputs": [],
   "source": [
    "print(xe7==xe7)\n",
    "print(xe7==xe6)"
   ]
  },
  {
   "cell_type": "code",
   "execution_count": null,
   "metadata": {},
   "outputs": [],
   "source": [
    "from scipy import stats\n",
    "\n",
    "print(XError([2]).gt_ttest(XError([1]), return_pvalue=True))\n",
    "print(xe4.gt_ttest(XError([1]), return_pvalue=True))\n",
    "print(XError([55]).gt_ttest(xe4, return_pvalue=True))\n",
    "print(xe4.gt_ttest(xe2, return_pvalue=True))\n",
    "print(xe4.gt_ttest(xe3, return_pvalue=True))"
   ]
  },
  {
   "cell_type": "code",
   "execution_count": null,
   "metadata": {},
   "outputs": [],
   "source": [
    "%load_ext autoreload\n",
    "%autoreload 2\n",
    "\n",
    "xe = XError(np.random.uniform(100,101, size=10))\n",
    "print(xe)\n",
    "xe = XError(np.random.uniform(1e-7,1e-6, size=10))\n",
    "print(xe)\n",
    "xe = XError(np.random.uniform(-1e-7,-1e-6, size=10))\n",
    "print(xe)"
   ]
  },
  {
   "cell_type": "code",
   "execution_count": null,
   "metadata": {},
   "outputs": [],
   "source": [
    "%load_ext autoreload\n",
    "%autoreload 2\n",
    "import numpy as np\n",
    "from fuzzytools.datascience.xerror import get_max_xerrors\n",
    "\n",
    "l = [xe1, xe2, xe4, xe4]\n",
    "print(l)\n",
    "get_max_xerrors(l)"
   ]
  },
  {
   "cell_type": "code",
   "execution_count": null,
   "metadata": {},
   "outputs": [],
   "source": [
    "%load_ext autoreload\n",
    "%autoreload 2\n",
    "from fuzzytools.datascience.xerror import XError\n",
    "def compare(xe1, xe2):\n",
    "    print(f'{xe1} > {xe2}=',xe1>xe2)\n",
    "\n",
    "compare(xe1+0.1, xe1) # 0\n",
    "compare(xe1+5, xe1) # 1\n",
    "compare(xe1, xe4) # 1\n",
    "compare(xe4, xe1) # 0\n",
    "compare(xe2, xe3) # 0"
   ]
  },
  {
   "cell_type": "code",
   "execution_count": null,
   "metadata": {},
   "outputs": [],
   "source": [
    "xe1.item(0)"
   ]
  }
 ],
 "metadata": {
  "kernelspec": {
   "display_name": "Python 3",
   "language": "python",
   "name": "python3"
  },
  "language_info": {
   "codemirror_mode": {
    "name": "ipython",
    "version": 3
   },
   "file_extension": ".py",
   "mimetype": "text/x-python",
   "name": "python",
   "nbconvert_exporter": "python",
   "pygments_lexer": "ipython3",
   "version": "3.7.10"
  }
 },
 "nbformat": 4,
 "nbformat_minor": 4
}
