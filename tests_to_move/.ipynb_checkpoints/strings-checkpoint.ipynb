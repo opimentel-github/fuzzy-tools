{
 "cells": [
  {
   "cell_type": "code",
   "execution_count": null,
   "metadata": {},
   "outputs": [],
   "source": [
    "import sys\n",
    "sys.path.append('../') # or just install the module"
   ]
  },
  {
   "cell_type": "code",
   "execution_count": null,
   "metadata": {},
   "outputs": [],
   "source": [
    "%load_ext autoreload\n",
    "%autoreload 2\n",
    "import fuzzytools.strings as strings\n",
    "\n",
    "d = strings.get_dict_from_string('a=a100°u=10')\n",
    "print(d)\n",
    "s = strings.get_string_from_dict(d)\n",
    "print(s)"
   ]
  },
  {
   "cell_type": "code",
   "execution_count": null,
   "metadata": {},
   "outputs": [],
   "source": [
    "%load_ext autoreload\n",
    "%autoreload 2\n",
    "import fuzzytools.strings as strings\n",
    "\n",
    "print(strings.xstr(0.7892))\n",
    "print(strings.xstr(-0.7892))\n",
    "print(strings.xstr(-1))\n",
    "print(strings.xstr(1))\n",
    "x = 1-1e-5\n",
    "print(strings.xstr(-x))\n",
    "print(strings.xstr(x))\n",
    "print(strings.xstr(-45.7892))\n",
    "print(strings.xstr(967822, add_pos=1))"
   ]
  },
  {
   "cell_type": "code",
   "execution_count": null,
   "metadata": {},
   "outputs": [],
   "source": [
    "strings.string_replacement('a-b_u-10', {'a':'666'})"
   ]
  },
  {
   "cell_type": "code",
   "execution_count": null,
   "metadata": {},
   "outputs": [],
   "source": [
    "text = 'hellow my world'\n",
    "print(strings.query_strings_in_string(['a'], text))\n",
    "print(strings.query_strings_in_string(['e'], text))\n",
    "print(strings.query_strings_in_string(['dog'], text))\n",
    "print(strings.query_strings_in_string(['my', 'a'], text))\n",
    "print(strings.query_strings_in_string(['my', 'a'], text, mode='and'))"
   ]
  },
  {
   "cell_type": "code",
   "execution_count": null,
   "metadata": {},
   "outputs": [],
   "source": [
    "%load_ext autoreload\n",
    "%autoreload 2\n",
    "import fuzzytools.strings as strings\n",
    "\n",
    "for k in range(0, 100):\n",
    "    print(k,strings.string_count(k, length=5))"
   ]
  }
 ],
 "metadata": {
  "kernelspec": {
   "display_name": "Python 3",
   "language": "python",
   "name": "python3"
  },
  "language_info": {
   "codemirror_mode": {
    "name": "ipython",
    "version": 3
   },
   "file_extension": ".py",
   "mimetype": "text/x-python",
   "name": "python",
   "nbconvert_exporter": "python",
   "pygments_lexer": "ipython3",
   "version": "3.7.10"
  }
 },
 "nbformat": 4,
 "nbformat_minor": 4
}
