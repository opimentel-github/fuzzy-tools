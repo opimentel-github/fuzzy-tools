{
 "cells": [
  {
   "cell_type": "code",
   "execution_count": 26,
   "id": "8c29454f",
   "metadata": {},
   "outputs": [
    {
     "name": "stdout",
     "output_type": "stream",
     "text": [
      "python train_model.py --mid 1000 --kf 0\r\n",
      "python train_model.py --mid 1000 --kf 1\r\n",
      "python train_model.py --mid 1000 --kf 2\r\n",
      "python train_model.py --mid 1000 --kf 3\r\n",
      "python train_model.py --mid 1000 --kf 4\r\n",
      "python train_model.py --mid 1001 --kf 0\r\n",
      "python train_model.py --mid 1001 --kf 1\r\n",
      "python train_model.py --mid 1001 --kf 2\r\n",
      "python train_model.py --mid 1001 --kf 3\r\n",
      "python train_model.py --mid 1001 --kf 4\r\n",
      "python train_model.py --mid 1002 --kf 0\r\n",
      "python train_model.py --mid 1002 --kf 1\r\n",
      "python train_model.py --mid 1002 --kf 2\r\n",
      "python train_model.py --mid 1002 --kf 3\r\n",
      "python train_model.py --mid 1002 --kf 4\r\n",
      "python train_model.py --mid 1003 --kf 0\r\n",
      "python train_model.py --mid 1003 --kf 1\r\n",
      "python train_model.py --mid 1003 --kf 2\r\n",
      "python train_model.py --mid 1003 --kf 3\r\n",
      "python train_model.py --mid 1003 --kf 4\r\n",
      "echo Time Elapsed : 0 minutes\r\n"
     ]
    }
   ],
   "source": [
    "!bash master_run.sh"
   ]
  }
 ],
 "metadata": {
  "kernelspec": {
   "display_name": "Python 3",
   "language": "python",
   "name": "python3"
  },
  "language_info": {
   "codemirror_mode": {
    "name": "ipython",
    "version": 3
   },
   "file_extension": ".py",
   "mimetype": "text/x-python",
   "name": "python",
   "nbconvert_exporter": "python",
   "pygments_lexer": "ipython3",
   "version": "3.7.10"
  }
 },
 "nbformat": 4,
 "nbformat_minor": 5
}
