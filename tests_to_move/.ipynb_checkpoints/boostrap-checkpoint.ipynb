{
 "cells": [
  {
   "cell_type": "code",
   "execution_count": null,
   "id": "d72cab8e",
   "metadata": {},
   "outputs": [],
   "source": [
    "import sys\n",
    "sys.path.append('../') # or just install the module"
   ]
  },
  {
   "cell_type": "code",
   "execution_count": null,
   "id": "5ed55fa0",
   "metadata": {},
   "outputs": [],
   "source": [
    "%load_ext autoreload\n",
    "%autoreload 2\n",
    "from fuzzytools.boostraping import BalancedCyclicBoostraping\n",
    "\n",
    "l_classes = ['a', 'a', 'a', 'a','a', 'b', 'b' , 'c', 'c', 'c']\n",
    "l_objs = [f'{c}{kc}' for kc,c in enumerate(l_classes)]\n",
    "cb = BalancedCyclicBoostraping(l_objs, l_classes,\n",
    "    uses_shuffle=1,\n",
    ")\n",
    "print(cb.get_samples())\n",
    "print(cb.get_samples())\n",
    "print(cb.get_samples())\n",
    "print(cb.get_samples())\n",
    "print(cb.get_samples())\n",
    "print(cb.get_samples())\n",
    "print(cb.get_samples())\n",
    "print(cb.get_samples())\n",
    "print(cb.get_samples())"
   ]
  },
  {
   "cell_type": "code",
   "execution_count": null,
   "id": "9033add6",
   "metadata": {},
   "outputs": [],
   "source": [
    "70"
   ]
  }
 ],
 "metadata": {
  "kernelspec": {
   "display_name": "Python 3",
   "language": "python",
   "name": "python3"
  },
  "language_info": {
   "codemirror_mode": {
    "name": "ipython",
    "version": 3
   },
   "file_extension": ".py",
   "mimetype": "text/x-python",
   "name": "python",
   "nbconvert_exporter": "python",
   "pygments_lexer": "ipython3",
   "version": "3.7.10"
  }
 },
 "nbformat": 4,
 "nbformat_minor": 5
}
