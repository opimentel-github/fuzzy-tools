{
 "cells": [
  {
   "cell_type": "code",
   "execution_count": null,
   "metadata": {},
   "outputs": [],
   "source": [
    "import sys\n",
    "sys.path.append('../') # or just install the module"
   ]
  },
  {
   "cell_type": "code",
   "execution_count": null,
   "metadata": {},
   "outputs": [],
   "source": [
    "import numpy as np\n",
    "\n",
    "obj_names = [f'o{k}' for k in list(range(0,50))]\n",
    "class_names = ['a', 'b', 'c']\n",
    "obj_classes = [class_names[k] for k in np.random.randint(0, len(class_names), size=len(obj_names))]\n",
    "print('obj_names:',obj_names)\n",
    "print('obj_classes',obj_classes)\n",
    "new_sets_props = {\n",
    "    'raw_train':0.6,\n",
    "    'raw_val':0.2,\n",
    "    'raw_test':0.2,\n",
    "}"
   ]
  },
  {
   "cell_type": "code",
   "execution_count": null,
   "metadata": {},
   "outputs": [],
   "source": [
    "%load_ext autoreload\n",
    "%autoreload 2\n",
    "from fuzzytools.datascience.statistics import stratified_kfold_split\n",
    "\n",
    "kfolds = 5\n",
    "d = stratified_kfold_split(obj_names, obj_classes, class_names, new_sets_props, kfolds)\n",
    "for k in d.keys():\n",
    "    print(f'\\n{k}')\n",
    "    print(d[k])"
   ]
  },
  {
   "cell_type": "code",
   "execution_count": null,
   "metadata": {},
   "outputs": [],
   "source": [
    "%load_ext autoreload\n",
    "%autoreload 2\n",
    "from fuzzytools.datascience.statistics import stratified_kfold_split\n",
    "\n",
    "kfolds = 5\n",
    "d = stratified_kfold_split(obj_names, obj_classes, class_names, new_sets_props, kfolds)\n",
    "for k in d.keys():\n",
    "    if 'raw_test' in k:\n",
    "        print(k, d[k])"
   ]
  }
 ],
 "metadata": {
  "kernelspec": {
   "display_name": "Python 3",
   "language": "python",
   "name": "python3"
  },
  "language_info": {
   "codemirror_mode": {
    "name": "ipython",
    "version": 3
   },
   "file_extension": ".py",
   "mimetype": "text/x-python",
   "name": "python",
   "nbconvert_exporter": "python",
   "pygments_lexer": "ipython3",
   "version": "3.7.10"
  }
 },
 "nbformat": 4,
 "nbformat_minor": 4
}
