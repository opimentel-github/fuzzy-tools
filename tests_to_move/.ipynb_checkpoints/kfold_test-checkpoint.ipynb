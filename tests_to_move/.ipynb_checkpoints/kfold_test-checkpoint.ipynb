{
 "cells": [
  {
   "cell_type": "code",
   "execution_count": 1,
   "metadata": {},
   "outputs": [],
   "source": [
    "import sys\n",
    "sys.path.append('../') # or just install the module"
   ]
  },
  {
   "cell_type": "code",
   "execution_count": 5,
   "metadata": {},
   "outputs": [
    {
     "name": "stdout",
     "output_type": "stream",
     "text": [
      "obj_names: ['o0', 'o1', 'o2', 'o3', 'o4', 'o5', 'o6', 'o7', 'o8', 'o9', 'o10', 'o11', 'o12', 'o13', 'o14', 'o15', 'o16', 'o17', 'o18', 'o19', 'o20', 'o21', 'o22', 'o23', 'o24', 'o25', 'o26', 'o27', 'o28', 'o29', 'o30', 'o31', 'o32', 'o33', 'o34', 'o35', 'o36', 'o37', 'o38', 'o39', 'o40', 'o41', 'o42', 'o43', 'o44', 'o45', 'o46', 'o47', 'o48', 'o49']\n",
      "obj_classes ['c', 'c', 'a', 'c', 'c', 'a', 'b', 'b', 'a', 'b', 'c', 'b', 'c', 'a', 'b', 'c', 'a', 'a', 'b', 'a', 'a', 'c', 'b', 'b', 'b', 'b', 'b', 'b', 'b', 'a', 'a', 'b', 'c', 'b', 'a', 'a', 'b', 'c', 'a', 'c', 'c', 'a', 'a', 'c', 'c', 'b', 'a', 'c', 'b', 'b']\n"
     ]
    }
   ],
   "source": [
    "import numpy as np\n",
    "\n",
    "obj_names = [f'o{k}' for k in list(range(0,50))]\n",
    "class_names = ['a', 'b', 'c']\n",
    "obj_classes = [class_names[k] for k in np.random.randint(0, len(class_names), size=len(obj_names))]\n",
    "print('obj_names:',obj_names)\n",
    "print('obj_classes',obj_classes)\n",
    "new_sets_props = {\n",
    "    'raw_train':0.6,\n",
    "    'raw_val':0.2,\n",
    "    'raw_test':0.2,\n",
    "}"
   ]
  },
  {
   "cell_type": "code",
   "execution_count": 10,
   "metadata": {
    "scrolled": false
   },
   "outputs": [
    {
     "name": "stdout",
     "output_type": "stream",
     "text": [
      "The autoreload extension is already loaded. To reload it, use:\n",
      "  %reload_ext autoreload\n",
      "\n",
      "0@raw_train\n",
      "['o2', 'o5', 'o8', 'o13', 'o16', 'o17', 'o19', 'o20', 'o29', 'o30', 'o6', 'o7', 'o9', 'o11', 'o14', 'o18', 'o22', 'o23', 'o24', 'o25', 'o26', 'o0', 'o1', 'o3', 'o4', 'o10', 'o12', 'o15', 'o21', 'o32']\n",
      "\n",
      "0@raw_val\n",
      "['o34', 'o35', 'o38', 'o27', 'o28', 'o31', 'o33', 'o37', 'o39', 'o40']\n",
      "\n",
      "0@raw_test\n",
      "['o41', 'o42', 'o46', 'o36', 'o45', 'o48', 'o49', 'o43', 'o44', 'o47']\n",
      "\n",
      "1@raw_train\n",
      "['o13', 'o16', 'o17', 'o19', 'o20', 'o29', 'o30', 'o34', 'o35', 'o38', 'o11', 'o14', 'o18', 'o22', 'o23', 'o24', 'o25', 'o26', 'o27', 'o28', 'o31', 'o10', 'o12', 'o15', 'o21', 'o32', 'o37', 'o39', 'o40', 'o43']\n",
      "\n",
      "1@raw_val\n",
      "['o41', 'o42', 'o46', 'o33', 'o36', 'o45', 'o48', 'o44', 'o47', 'o0']\n",
      "\n",
      "1@raw_test\n",
      "['o2', 'o5', 'o8', 'o49', 'o6', 'o7', 'o9', 'o1', 'o3', 'o4']\n",
      "\n",
      "2@raw_train\n",
      "['o20', 'o29', 'o30', 'o34', 'o35', 'o38', 'o41', 'o42', 'o46', 'o2', 'o22', 'o23', 'o24', 'o25', 'o26', 'o27', 'o28', 'o31', 'o33', 'o36', 'o45', 'o21', 'o32', 'o37', 'o39', 'o40', 'o43', 'o44', 'o47', 'o0']\n",
      "\n",
      "2@raw_val\n",
      "['o5', 'o8', 'o13', 'o48', 'o49', 'o6', 'o7', 'o1', 'o3', 'o4']\n",
      "\n",
      "2@raw_test\n",
      "['o16', 'o17', 'o19', 'o9', 'o11', 'o14', 'o18', 'o10', 'o12', 'o15']\n",
      "\n",
      "3@raw_train\n",
      "['o30', 'o34', 'o35', 'o38', 'o41', 'o42', 'o46', 'o2', 'o5', 'o8', 'o31', 'o33', 'o36', 'o45', 'o48', 'o49', 'o6', 'o7', 'o9', 'o11', 'o14', 'o32', 'o37', 'o39', 'o40', 'o43', 'o44', 'o47', 'o0', 'o1']\n",
      "\n",
      "3@raw_val\n",
      "['o13', 'o16', 'o17', 'o18', 'o22', 'o23', 'o24', 'o3', 'o4', 'o10']\n",
      "\n",
      "3@raw_test\n",
      "['o19', 'o20', 'o29', 'o25', 'o26', 'o27', 'o28', 'o12', 'o15', 'o21']\n",
      "\n",
      "4@raw_train\n",
      "['o41', 'o42', 'o46', 'o2', 'o5', 'o8', 'o13', 'o16', 'o17', 'o19', 'o45', 'o48', 'o49', 'o6', 'o7', 'o9', 'o11', 'o14', 'o18', 'o22', 'o23', 'o40', 'o43', 'o44', 'o47', 'o0', 'o1', 'o3', 'o4', 'o10']\n",
      "\n",
      "4@raw_val\n",
      "['o20', 'o29', 'o30', 'o24', 'o25', 'o26', 'o27', 'o12', 'o15', 'o21']\n",
      "\n",
      "4@raw_test\n",
      "['o34', 'o35', 'o38', 'o28', 'o31', 'o33', 'o36', 'o32', 'o37', 'o39']\n"
     ]
    }
   ],
   "source": [
    "%load_ext autoreload\n",
    "%autoreload 2\n",
    "from fuzzytools.datascience.statistics import stratified_kfold_split\n",
    "\n",
    "kfolds = 5\n",
    "d = stratified_kfold_split(obj_names, obj_classes, class_names, new_sets_props, kfolds)\n",
    "for k in d.keys():\n",
    "    print(f'\\n{k}')\n",
    "    print(d[k])"
   ]
  },
  {
   "cell_type": "code",
   "execution_count": 4,
   "metadata": {},
   "outputs": [
    {
     "name": "stdout",
     "output_type": "stream",
     "text": [
      "The autoreload extension is already loaded. To reload it, use:\n",
      "  %reload_ext autoreload\n",
      "0@raw_test ['o86', 'o87', 'o88', 'o90', 'o91', 'o93', 'o79', 'o80', 'o84', 'o89', 'o92', 'o96', 'o77', 'o83', 'o85', 'o94', 'o95', 'o97', 'o98', 'o99']\n",
      "1@raw_test ['o5', 'o11', 'o12', 'o13', 'o17', 'o19', 'o4', 'o8', 'o9', 'o10', 'o14', 'o15', 'o97', 'o98', 'o99', 'o0', 'o6', 'o7', 'o16', 'o18']\n",
      "2@raw_test ['o13', 'o17', 'o19', 'o22', 'o28', 'o30', 'o25', 'o27', 'o31', 'o33', 'o34', 'o39', 'o24', 'o26', 'o29', 'o32', 'o35', 'o36', 'o37', 'o38']\n",
      "3@raw_test ['o41', 'o45', 'o47', 'o50', 'o52', 'o54', 'o39', 'o40', 'o42', 'o46', 'o49', 'o57', 'o44', 'o48', 'o51', 'o53', 'o55', 'o56', 'o58', 'o59']\n",
      "4@raw_test ['o61', 'o63', 'o64', 'o74', 'o76', 'o78', 'o65', 'o67', 'o68', 'o70', 'o72', 'o79', 'o59', 'o62', 'o66', 'o69', 'o71', 'o73', 'o75', 'o77']\n"
     ]
    }
   ],
   "source": [
    "%load_ext autoreload\n",
    "%autoreload 2\n",
    "from fuzzytools.datascience.statistics import stratified_kfold_split\n",
    "\n",
    "kfolds = 5\n",
    "d = stratified_kfold_split(obj_names, obj_classes, class_names, new_sets_props, kfolds)\n",
    "for k in d.keys():\n",
    "    if 'raw_test' in k:\n",
    "        print(k, d[k])"
   ]
  }
 ],
 "metadata": {
  "kernelspec": {
   "display_name": "Python 3",
   "language": "python",
   "name": "python3"
  },
  "language_info": {
   "codemirror_mode": {
    "name": "ipython",
    "version": 3
   },
   "file_extension": ".py",
   "mimetype": "text/x-python",
   "name": "python",
   "nbconvert_exporter": "python",
   "pygments_lexer": "ipython3",
   "version": "3.7.10"
  }
 },
 "nbformat": 4,
 "nbformat_minor": 4
}
