{
 "cells": [
  {
   "cell_type": "code",
   "execution_count": null,
   "metadata": {},
   "outputs": [],
   "source": [
    "import sys\n",
    "sys.path.append('..')"
   ]
  },
  {
   "cell_type": "code",
   "execution_count": null,
   "metadata": {},
   "outputs": [],
   "source": [
    "from mnist import MNIST\n",
    "import numpy as np\n",
    "\n",
    "mndata = MNIST('./mnist')\n",
    "raw_x, raw_y = mndata.load_training()\n",
    "raw_x = np.array(raw_x).astype(np.float32)/255.0\n",
    "raw_y = np.array(raw_y)\n",
    "CLASS_NAMES = np.arange(0,10)"
   ]
  },
  {
   "cell_type": "code",
   "execution_count": null,
   "metadata": {},
   "outputs": [],
   "source": [
    "%matplotlib inline\n",
    "import matplotlib.pyplot as plt\n",
    "\n",
    "ind = 55\n",
    "print(raw_y[ind])\n",
    "img = np.reshape(raw_x[ind,:],(28,28))\n",
    "plt.imshow(img)"
   ]
  },
  {
   "cell_type": "code",
   "execution_count": null,
   "metadata": {},
   "outputs": [],
   "source": [
    "from utils import print_np_ram\n",
    "\n",
    "print('raw_x',raw_x.shape,raw_x.dtype)\n",
    "print_np_ram('raw_x',raw_x)\n",
    "\n",
    "print('raw_y',raw_y.shape,raw_y.dtype)\n",
    "print_np_ram('raw_y',raw_y)"
   ]
  },
  {
   "cell_type": "code",
   "execution_count": null,
   "metadata": {},
   "outputs": [],
   "source": [
    "from sklearn.model_selection import train_test_split\n",
    "\n",
    "random_state = 0\n",
    "x_train, x_test, y_train, y_test = train_test_split(raw_x,raw_y,test_size=0.3, random_state=random_state)\n",
    "print('x_train',x_train.shape)\n",
    "print('x_test',x_test.shape)\n",
    "print('y_train',y_train.shape)\n",
    "print('y_test',y_test.shape)"
   ]
  },
  {
   "cell_type": "code",
   "execution_count": null,
   "metadata": {},
   "outputs": [],
   "source": [
    "%load_ext autoreload\n",
    "%autoreload 2\n",
    "\n",
    "import tinyFlame\n",
    "from tinyFlame.handler import ModelHandler, SAVE_OPTIONS, TrainHandler\n",
    "from tinyFlame.losses import cross_entropy\n",
    "from tinyFlame.metrics import accuracy, dummy_accuracy\n",
    "from tinyFlame.models import SimpleMLP\n",
    "\n",
    "def generate_model_name():\n",
    "    num_features = len(feature_names)-1\n",
    "    name = ''\n",
    "    for i in range(num_features-1):\n",
    "        name += feature_names[i]#+'.'\n",
    "    name += feature_names[num_features-1]+'_'\n",
    "    name += preproc+'_DROP01_'\n",
    "    name += 'L'+str(latent_layers)\n",
    "    name +='_U'+str(latent_dim)\n",
    "    name += '_bi'*bi_lstm\n",
    "    return name\n",
    "\n",
    "batch_size = 50 # BATCH\n",
    "epochs = 20 # 100\n",
    "\n",
    "#model_name = generate_model_name()\n",
    "model_name = 'nan'\n",
    "input_dim = [x_train.shape[-1]]\n",
    "\n",
    "output_dim = [len(CLASS_NAMES)]\n",
    "\n",
    "model_parameters = {\n",
    "'output_dim' : output_dim,\n",
    "'epochs' : epochs,\n",
    "'input_dim' : input_dim,\n",
    "'hidden_units' : 200,\n",
    "'hidden_layers' : 3, # 3\n",
    "'drop_out' : 0.2,\n",
    "'name' : model_name,\n",
    "}\n",
    "myModel = SimpleMLP(model_parameters)\n",
    "\n",
    "train_parameters = {\n",
    "'input_dim' : input_dim,\n",
    "'epochs' : epochs,\n",
    "'batch_size' : batch_size,\n",
    "'data_path' : 'save',\n",
    "'id' : 0,\n",
    "}\n",
    "\n",
    "print(\"output_dim:\",model_parameters['output_dim'])\n",
    "print(\"input_dim:\",model_parameters['input_dim'])\n",
    "\n",
    "myModel = ModelHandler(myModel, myModel.name, train_parameters)\n",
    "myModel.build()\n",
    "myModel.set_loss(cross_entropy)\n",
    "myModel.set_metrics({'accuracy': accuracy,'dummy_accuracy': dummy_accuracy,})\n",
    "#myModel.set_optimizer(optim.Adam(self.model.parameters(), lr=0.001))\n",
    "\n",
    "load = 0\n",
    "train = 1\n",
    "debug = 0\n",
    "\n",
    "save_mode = SAVE_OPTIONS.BEST_METRI_CFINAL\n",
    "save_mode = SAVE_OPTIONS.BEST_LOSS_FINAL\n",
    "patience = 2\n",
    "myModel.set_train_handler(TrainHandler(save_mode, target_saved_metric=0, patience_epochs=patience))\n",
    "\n",
    "if load:\n",
    "    myModel.load_model()\n",
    "if train:\n",
    "    #myModel.fit((x_train,y_train),(x_train,y_train),debug=debug,save_mode=save_mode)\n",
    "    myModel.fit((x_train,y_train),(x_test,y_test), debug=debug)\n",
    "    #myModel.fit((x_train,y_train),(x_train,y_train), debug=debug)"
   ]
  },
  {
   "cell_type": "code",
   "execution_count": null,
   "metadata": {},
   "outputs": [],
   "source": [
    "myModel.show_train()\n",
    "pass"
   ]
  },
  {
   "cell_type": "code",
   "execution_count": null,
   "metadata": {},
   "outputs": [],
   "source": [
    "ind = 55\n",
    "print(raw_y[ind])\n",
    "img = np.reshape(raw_x[ind,:],(28,28))\n",
    "plt.imshow(img)"
   ]
  },
  {
   "cell_type": "code",
   "execution_count": null,
   "metadata": {},
   "outputs": [],
   "source": [
    "'''\n",
    "BENCHMARK MINS 20 epocas:\n",
    "> PC i7 NO-GPU oscar: 3.0066\n",
    "\n",
    "'''"
   ]
  },
  {
   "cell_type": "code",
   "execution_count": null,
   "metadata": {},
   "outputs": [],
   "source": [
    "import importlib\n",
    "import metricUtils\n",
    "importlib.reload(metricUtils)\n",
    "from metricUtils import get_cm_accuracy\n",
    "from tinyFlame.predictions import *\n",
    "\n",
    "pred_arr, true_arr = predict(myModel, x_test, y_test)\n",
    "cm, accuracy = get_cm_accuracy(pred_arr, true_arr)"
   ]
  },
  {
   "cell_type": "code",
   "execution_count": null,
   "metadata": {},
   "outputs": [],
   "source": [
    "from metricUtils import plot_custom_confusion_matrix, ModelResults, ResultsID\n",
    "\n",
    "results = ModelResults(myModel)\n",
    "results.append(ResultsID(accuracy, cm))\n",
    "#results.print()\n",
    "plot_custom_confusion_matrix(cm, CLASS_NAMES)\n",
    "pass"
   ]
  }
 ],
 "metadata": {
  "kernelspec": {
   "display_name": "Python 3",
   "language": "python",
   "name": "python3"
  },
  "language_info": {
   "codemirror_mode": {
    "name": "ipython",
    "version": 3
   },
   "file_extension": ".py",
   "mimetype": "text/x-python",
   "name": "python",
   "nbconvert_exporter": "python",
   "pygments_lexer": "ipython3",
   "version": "3.7.3"
  }
 },
 "nbformat": 4,
 "nbformat_minor": 2
}
