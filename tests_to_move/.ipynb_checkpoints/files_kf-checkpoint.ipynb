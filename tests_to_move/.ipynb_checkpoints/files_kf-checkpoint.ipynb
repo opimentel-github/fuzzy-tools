{
 "cells": [
  {
   "cell_type": "code",
   "execution_count": null,
   "id": "74ac02f1",
   "metadata": {},
   "outputs": [],
   "source": [
    "import sys\n",
    "sys.path.append('../') # or just install the module"
   ]
  },
  {
   "cell_type": "code",
   "execution_count": null,
   "id": "f40ece68",
   "metadata": {},
   "outputs": [],
   "source": [
    "%load_ext autoreload\n",
    "%autoreload 2\n",
    "import fuzzytools.files as files\n",
    "\n",
    "for kf in [0,1,2,3,4]:\n",
    "    for file_id in range(0, 3):\n",
    "        files.save_pickle(f'../temp/kf_test/{kf}@test/files.{file_id}.d', {'data':[1]*10})"
   ]
  },
  {
   "cell_type": "code",
   "execution_count": null,
   "id": "ede37cc7",
   "metadata": {},
   "outputs": [],
   "source": [
    "%load_ext autoreload\n",
    "%autoreload 2\n",
    "import fuzzytools.files as files\n",
    "\n",
    "files.get_kfold_rootdirs_dict('../temp/kf_test')"
   ]
  },
  {
   "cell_type": "code",
   "execution_count": null,
   "id": "9fe99c1b",
   "metadata": {},
   "outputs": [],
   "source": [
    "%load_ext autoreload\n",
    "%autoreload 2\n",
    "import fuzzytools.files as files\n",
    "\n",
    "kf = '.'\n",
    "kf_set = 'test'\n",
    "files, files_ids, kfs = files.gather_files_by_kfold('../temp/kf_test', kf, kf_set,\n",
    "    disbalanced_kf_mode='oversampling', # error ignore oversampling                                    \n",
    "    )\n",
    "kfs"
   ]
  }
 ],
 "metadata": {
  "kernelspec": {
   "display_name": "Python 3",
   "language": "python",
   "name": "python3"
  },
  "language_info": {
   "codemirror_mode": {
    "name": "ipython",
    "version": 3
   },
   "file_extension": ".py",
   "mimetype": "text/x-python",
   "name": "python",
   "nbconvert_exporter": "python",
   "pygments_lexer": "ipython3",
   "version": "3.7.10"
  }
 },
 "nbformat": 4,
 "nbformat_minor": 5
}
