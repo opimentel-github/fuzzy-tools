{
 "cells": [
  {
   "cell_type": "code",
   "execution_count": 1,
   "id": "f80721bd",
   "metadata": {},
   "outputs": [],
   "source": [
    "import sys\n",
    "sys.path.append('../') # or just install the module"
   ]
  },
  {
   "cell_type": "code",
   "execution_count": 5,
   "id": "8d46636a",
   "metadata": {},
   "outputs": [
    {
     "name": "stdout",
     "output_type": "stream",
     "text": [
      "The autoreload extension is already loaded. To reload it, use:\n",
      "  %reload_ext autoreload\n"
     ]
    }
   ],
   "source": [
    "%load_ext autoreload\n",
    "%autoreload 2\n",
    "import matplotlib.pyplot as plt\n",
    "from fuzzytools.matplotlib.animations import PlotAnimation\n",
    "\n",
    "animation_duration = 10\n",
    "plot_animation = PlotAnimation(animation_duration,\n",
    "    save_init_frame=True,\n",
    "    save_end_frame=True,\n",
    "    )\n",
    "for i in range(0,10):\n",
    "    fig, ax = plt.subplots(1, 1, figsize=(5,6))\n",
    "    ax.plot([i,5],[8,9])\n",
    "    plot_animation.append(fig)\n",
    "plot_animation.save(f'../temp/an.mp4')"
   ]
  }
 ],
 "metadata": {
  "kernelspec": {
   "display_name": "Python 3",
   "language": "python",
   "name": "python3"
  },
  "language_info": {
   "codemirror_mode": {
    "name": "ipython",
    "version": 3
   },
   "file_extension": ".py",
   "mimetype": "text/x-python",
   "name": "python",
   "nbconvert_exporter": "python",
   "pygments_lexer": "ipython3",
   "version": "3.7.10"
  }
 },
 "nbformat": 4,
 "nbformat_minor": 5
}
