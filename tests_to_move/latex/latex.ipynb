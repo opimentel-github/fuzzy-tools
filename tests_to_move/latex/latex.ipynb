{
 "cells": [
  {
   "cell_type": "code",
   "execution_count": 1,
   "metadata": {},
   "outputs": [],
   "source": [
    "import sys\n",
    "sys.path.append('../../') # or just install the module"
   ]
  },
  {
   "cell_type": "code",
   "execution_count": 2,
   "metadata": {},
   "outputs": [
    {
     "data": {
      "text/html": [
       "<div>\n",
       "<style scoped>\n",
       "    .dataframe tbody tr th:only-of-type {\n",
       "        vertical-align: middle;\n",
       "    }\n",
       "\n",
       "    .dataframe tbody tr th {\n",
       "        vertical-align: top;\n",
       "    }\n",
       "\n",
       "    .dataframe thead th {\n",
       "        text-align: right;\n",
       "    }\n",
       "</style>\n",
       "<table border=\"1\" class=\"dataframe\">\n",
       "  <thead>\n",
       "    <tr style=\"text-align: right;\">\n",
       "      <th></th>\n",
       "      <th>int</th>\n",
       "      <th>a*</th>\n",
       "      <th>b*</th>\n",
       "      <th>c*</th>\n",
       "    </tr>\n",
       "  </thead>\n",
       "  <tbody>\n",
       "    <tr>\n",
       "      <th>mdl=A~a=4~b=1~c=1~fff=9</th>\n",
       "      <td>5000</td>\n",
       "      <td>22.000±.816</td>\n",
       "      <td>1.000±1.000</td>\n",
       "      <td>1.650±1.350</td>\n",
       "    </tr>\n",
       "    <tr>\n",
       "      <th>mdl=B~a=4~c=2~b=10</th>\n",
       "      <td>5000</td>\n",
       "      <td>1.050±.950</td>\n",
       "      <td>2.500±2.500</td>\n",
       "      <td>33.000±33.000</td>\n",
       "    </tr>\n",
       "    <tr>\n",
       "      <th>mdl=C~a=4~c=3</th>\n",
       "      <td>3</td>\n",
       "      <td>9.555±9.445</td>\n",
       "      <td>5.105±4.895</td>\n",
       "      <td>19.500±11.500</td>\n",
       "    </tr>\n",
       "    <tr>\n",
       "      <th>mdl=D~a=4~c=4~gg=99</th>\n",
       "      <td>2</td>\n",
       "      <td>4.155±3.845</td>\n",
       "      <td>5.055±4.945</td>\n",
       "      <td>─</td>\n",
       "    </tr>\n",
       "  </tbody>\n",
       "</table>\n",
       "</div>"
      ],
      "text/plain": [
       "                          int           a*           b*             c*\n",
       "mdl=A~a=4~b=1~c=1~fff=9  5000  22.000±.816  1.000±1.000    1.650±1.350\n",
       "mdl=B~a=4~c=2~b=10       5000   1.050±.950  2.500±2.500  33.000±33.000\n",
       "mdl=C~a=4~c=3               3  9.555±9.445  5.105±4.895  19.500±11.500\n",
       "mdl=D~a=4~c=4~gg=99         2  4.155±3.845  5.055±4.945              ─"
      ]
     },
     "metadata": {},
     "output_type": "display_data"
    },
    {
     "name": "stdout",
     "output_type": "stream",
     "text": [
      "                          int           a*           b*             c*\n",
      "mdl=A~a=4~b=1~c=1~fff=9  5000  22.000±.816  1.000±1.000    1.650±1.350\n",
      "mdl=B~a=4~c=2~b=10       5000   1.050±.950  2.500±2.500  33.000±33.000\n",
      "mdl=C~a=4~c=3               3  9.555±9.445  5.105±4.895  19.500±11.500\n",
      "mdl=D~a=4~c=4~gg=99         2  4.155±3.845  5.055±4.945              ─\n"
     ]
    }
   ],
   "source": [
    "%load_ext autoreload\n",
    "%autoreload 2\n",
    "from fuzzytools.datascience.xerror import XError\n",
    "import pandas as pd\n",
    "\n",
    "accu_res_dic = {\n",
    "'mdl=A~a=4~b=1~c=1~fff=9':{'int':5000,'a*':XError([22, 23, 21]),'b*':XError([2, 0.0]),'c*':XError([3, 0.3])},\n",
    "'mdl=B~a=4~c=2~b=10':{'int':5000,'a*':XError([2, 0.1]),'b*':XError([5, 0.0]),'c*':XError([66, 0.0003])},\n",
    "'mdl=C~a=4~c=3':{'int':3,'a*':XError([19, .11]),'b*':XError([10, .21]),'c*':XError([8, 31])},\n",
    "'mdl=D~a=4~c=4~gg=99':{'int':2,'c*':XError([]),'b*':XError([10, .11]),'a*':XError([8,.31])},\n",
    "}\n",
    "alone_model = {\n",
    "'mdl=F~a=4~b=1~c=1~uuufff=men':{'a*':XError([1, 10]),'b*':XError([2, 0]),'c*':XError([3, 3])},\n",
    "'mdl=F~a=4~b=1~c=9~uuufff=men':{'a*':XError([1, 0, 5, 6]),'b*':XError([2, 20]),'c*':XError([9, 77])},\n",
    "}\n",
    "\n",
    "info_dfs = [\n",
    "    pd.DataFrame.from_dict(accu_res_dic, orient='index'),\n",
    "    pd.DataFrame.from_dict(alone_model, orient='index'),\n",
    "]\n",
    "display(info_dfs[0])\n",
    "print(info_dfs[0])"
   ]
  },
  {
   "cell_type": "code",
   "execution_count": 3,
   "metadata": {},
   "outputs": [
    {
     "data": {
      "text/html": [
       "<div>\n",
       "<style scoped>\n",
       "    .dataframe tbody tr th:only-of-type {\n",
       "        vertical-align: middle;\n",
       "    }\n",
       "\n",
       "    .dataframe tbody tr th {\n",
       "        vertical-align: top;\n",
       "    }\n",
       "\n",
       "    .dataframe thead th {\n",
       "        text-align: right;\n",
       "    }\n",
       "</style>\n",
       "<table border=\"1\" class=\"dataframe\">\n",
       "  <thead>\n",
       "    <tr style=\"text-align: right;\">\n",
       "      <th></th>\n",
       "      <th>a*</th>\n",
       "      <th>b*</th>\n",
       "      <th>c*</th>\n",
       "    </tr>\n",
       "  </thead>\n",
       "  <tbody>\n",
       "    <tr>\n",
       "      <th>mdl=F~a=4~b=1~c=1~uuufff=men</th>\n",
       "      <td>5.500±4.500</td>\n",
       "      <td>1.000±1.000</td>\n",
       "      <td>3.000±.000</td>\n",
       "    </tr>\n",
       "    <tr>\n",
       "      <th>mdl=F~a=4~b=1~c=9~uuufff=men</th>\n",
       "      <td>3.000±2.550</td>\n",
       "      <td>11.000±9.000</td>\n",
       "      <td>43.000±34.000</td>\n",
       "    </tr>\n",
       "  </tbody>\n",
       "</table>\n",
       "</div>"
      ],
      "text/plain": [
       "                                       a*            b*             c*\n",
       "mdl=F~a=4~b=1~c=1~uuufff=men  5.500±4.500   1.000±1.000     3.000±.000\n",
       "mdl=F~a=4~b=1~c=9~uuufff=men  3.000±2.550  11.000±9.000  43.000±34.000"
      ]
     },
     "execution_count": 3,
     "metadata": {},
     "output_type": "execute_result"
    }
   ],
   "source": [
    "info_dfs[1]"
   ]
  },
  {
   "cell_type": "code",
   "execution_count": 7,
   "metadata": {
    "scrolled": false
   },
   "outputs": [
    {
     "name": "stdout",
     "output_type": "stream",
     "text": [
      "The autoreload extension is already loaded. To reload it, use:\n",
      "  %reload_ext autoreload\n"
     ]
    },
    {
     "data": {
      "text/html": [
       "<div>\n",
       "<style scoped>\n",
       "    .dataframe tbody tr th:only-of-type {\n",
       "        vertical-align: middle;\n",
       "    }\n",
       "\n",
       "    .dataframe tbody tr th {\n",
       "        vertical-align: top;\n",
       "    }\n",
       "\n",
       "    .dataframe thead th {\n",
       "        text-align: right;\n",
       "    }\n",
       "</style>\n",
       "<table border=\"1\" class=\"dataframe\">\n",
       "  <thead>\n",
       "    <tr style=\"text-align: right;\">\n",
       "      <th></th>\n",
       "      <th>int</th>\n",
       "      <th>a*</th>\n",
       "      <th>b*</th>\n",
       "      <th>c*</th>\n",
       "    </tr>\n",
       "  </thead>\n",
       "  <tbody>\n",
       "    <tr>\n",
       "      <th>mdl=A~a=4~b=1~c=1~fff=9</th>\n",
       "      <td>5000</td>\n",
       "      <td>22.000±.816</td>\n",
       "      <td>1.000±1.000</td>\n",
       "      <td>1.650±1.350</td>\n",
       "    </tr>\n",
       "    <tr>\n",
       "      <th>mdl=B~a=4~c=2~b=10</th>\n",
       "      <td>5000</td>\n",
       "      <td>1.050±.950</td>\n",
       "      <td>2.500±2.500</td>\n",
       "      <td>33.000±33.000</td>\n",
       "    </tr>\n",
       "    <tr>\n",
       "      <th>mdl=C~a=4~c=3</th>\n",
       "      <td>3</td>\n",
       "      <td>9.555±9.445</td>\n",
       "      <td>5.105±4.895</td>\n",
       "      <td>19.500±11.500</td>\n",
       "    </tr>\n",
       "    <tr>\n",
       "      <th>mdl=D~a=4~c=4~gg=99</th>\n",
       "      <td>2</td>\n",
       "      <td>4.155±3.845</td>\n",
       "      <td>5.055±4.945</td>\n",
       "      <td>─</td>\n",
       "    </tr>\n",
       "  </tbody>\n",
       "</table>\n",
       "</div>"
      ],
      "text/plain": [
       "                          int           a*           b*             c*\n",
       "mdl=A~a=4~b=1~c=1~fff=9  5000  22.000±.816  1.000±1.000    1.650±1.350\n",
       "mdl=B~a=4~c=2~b=10       5000   1.050±.950  2.500±2.500  33.000±33.000\n",
       "mdl=C~a=4~c=3               3  9.555±9.445  5.105±4.895  19.500±11.500\n",
       "mdl=D~a=4~c=4~gg=99         2  4.155±3.845  5.055±4.945              ─"
      ]
     },
     "metadata": {},
     "output_type": "display_data"
    },
    {
     "data": {
      "text/html": [
       "<div>\n",
       "<style scoped>\n",
       "    .dataframe tbody tr th:only-of-type {\n",
       "        vertical-align: middle;\n",
       "    }\n",
       "\n",
       "    .dataframe tbody tr th {\n",
       "        vertical-align: top;\n",
       "    }\n",
       "\n",
       "    .dataframe thead th {\n",
       "        text-align: right;\n",
       "    }\n",
       "</style>\n",
       "<table border=\"1\" class=\"dataframe\">\n",
       "  <thead>\n",
       "    <tr style=\"text-align: right;\">\n",
       "      <th></th>\n",
       "      <th>a*</th>\n",
       "      <th>b*</th>\n",
       "      <th>c*</th>\n",
       "    </tr>\n",
       "  </thead>\n",
       "  <tbody>\n",
       "    <tr>\n",
       "      <th>mdl=F~a=4~b=1~c=1~uuufff=men</th>\n",
       "      <td>5.500±4.500</td>\n",
       "      <td>1.000±1.000</td>\n",
       "      <td>3.000±.000</td>\n",
       "    </tr>\n",
       "    <tr>\n",
       "      <th>mdl=F~a=4~b=1~c=9~uuufff=men</th>\n",
       "      <td>3.000±2.550</td>\n",
       "      <td>11.000±9.000</td>\n",
       "      <td>43.000±34.000</td>\n",
       "    </tr>\n",
       "  </tbody>\n",
       "</table>\n",
       "</div>"
      ],
      "text/plain": [
       "                                       a*            b*             c*\n",
       "mdl=F~a=4~b=1~c=1~uuufff=men  5.500±4.500   1.000±1.000     3.000±.000\n",
       "mdl=F~a=4~b=1~c=9~uuufff=men  3.000±2.550  11.000±9.000  43.000±34.000"
      ]
     },
     "metadata": {},
     "output_type": "display_data"
    },
    {
     "name": "stdout",
     "output_type": "stream",
     "text": [
      "\u001b[31m%vvvvvvvvvvvvvvvvvvvvvvvvvvvvvvvvvvvvvvvvvvvvvvvvvvvvvvvvvvvvvvvvvvvvvvvvvvvvvvvvvvvvvvvvvvvvvvvvvvvv\n",
      "\\def\\srule{\\rule{0pt}{2ex}\\rule[-1ex]{0pt}{0ex}}\n",
      "\\begin{table}[H]\n",
      "\\centering\n",
      "\\caption{\n",
      "captionnnn\n",
      "}\n",
      "\\label{labelll}\\vspace{.1cm}\n",
      "\\tiny\\scriptsize\\footnotesize\\small\\normalsize\n",
      "\\begin{tabularx}{\\textwidth}{lccccc|cccc}\n",
      "\\hlineB{4}\n",
      "mdl & a & b & c & fff & gg & int & a* & b* & c* \\srule\\\\\n",
      "\\hlineB{4}\n",
      "A & 4 & 1 & 1 & 9 & $-$ & 5,000 & 22.000$\\pm$.816 & 1.000$\\pm$1.000 & 1.650$\\pm$1.350  \\srule\\\\\n",
      "B & 4 & 10 & 2 & $-$ & $-$ & 5,000 & 1.050$\\pm$.950 & 2.500$\\pm$2.500 & 33.000$\\pm$33.000  \\srule\\\\\n",
      "C & 4 & $-$ & 3 & $-$ & $-$ & 3 & 9.555$\\pm$9.445 & 5.105$\\pm$4.895 & 19.500$\\pm$11.500  \\srule\\\\\n",
      "D & 4 & $-$ & 4 & $-$ & 99 & 2 & 4.155$\\pm$3.845 & 5.055$\\pm$4.945 & $-$  \\srule\\\\\n",
      "\\hlineB{4}\n",
      "\\end{tabularx}\n",
      "\\end{table}\n",
      "%^^^^^^^^^^^^^^^^^^^^^^^^^^^^^^^^^^^^^^^^^^^^^^^^^^^^^^^^^^^^^^^^^^^^^^^^^^^^^^^^^^^^^^^^^^^^^^^^^^^^\n",
      "\u001b[0m\n"
     ]
    }
   ],
   "source": [
    "%load_ext autoreload\n",
    "%autoreload 2\n",
    "from fuzzytools.latex.latex_tables import LatexTable\n",
    "\n",
    "display(info_dfs[0])\n",
    "display(info_dfs[1])\n",
    "kwargs = {\n",
    "    'caption':'captionnnn',\n",
    "    'label':'labelll',\n",
    "    #'bold_axis':'columns', # rows columns\n",
    "    'delete_redundant_model_keys':False,\n",
    "}\n",
    "latex_table = LatexTable(info_dfs[0], **kwargs)\n",
    "#latex_table = LatexTable(info_dfs[0], bold_criteriums=bold_criteriums, **kwargs)\n",
    "print(latex_table)"
   ]
  }
 ],
 "metadata": {
  "kernelspec": {
   "display_name": "Python 3",
   "language": "python",
   "name": "python3"
  },
  "language_info": {
   "codemirror_mode": {
    "name": "ipython",
    "version": 3
   },
   "file_extension": ".py",
   "mimetype": "text/x-python",
   "name": "python",
   "nbconvert_exporter": "python",
   "pygments_lexer": "ipython3",
   "version": "3.7.10"
  }
 },
 "nbformat": 4,
 "nbformat_minor": 2
}
