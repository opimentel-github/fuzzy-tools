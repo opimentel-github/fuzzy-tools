{
 "cells": [
  {
   "cell_type": "code",
   "execution_count": null,
   "metadata": {},
   "outputs": [],
   "source": [
    "import sys\n",
    "sys.path.append('../../') # or just install the module"
   ]
  },
  {
   "cell_type": "code",
   "execution_count": null,
   "metadata": {},
   "outputs": [],
   "source": [
    "%load_ext autoreload\n",
    "%autoreload 2\n",
    "from fuzzytools.datascience.xerror import XError\n",
    "import pandas as pd\n",
    "\n",
    "accu_res_dic = {\n",
    "'mdl=A~a=4~b=1~c=1~fff=9':{'int':5000,'a*':XError([22, 23, 21]),'b*':XError([2, 0.0]),'c*':XError([3, 0.3])},\n",
    "'mdl=B~a=4~c=2~b=10':{'int':5000,'a*':XError([2, 0.1]),'b*':XError([5, 0.0]),'c*':XError([66, 0.0003])},\n",
    "'mdl=C~a=4~c=3':{'int':3,'a*':XError([19, .11]),'b*':XError([10, .21]),'c*':XError([8, 31])},\n",
    "'mdl=D~a=4~c=4~gg=99':{'int':2,'c*':XError([]),'b*':XError([10, .11]),'a*':XError([8,.31])},\n",
    "}\n",
    "alone_model = {\n",
    "'mdl=F~a=4~b=1~c=1~uuufff=men':{'a*':XError([1, 10]),'b*':XError([2, 0]),'c*':XError([3, 3])},\n",
    "'mdl=F~a=4~b=1~c=9~uuufff=men':{'a*':XError([1, 0, 5, 6]),'b*':XError([2, 20]),'c*':XError([9, 77])},\n",
    "}\n",
    "\n",
    "info_dfs = [\n",
    "    pd.DataFrame.from_dict(accu_res_dic, orient='index'),\n",
    "    pd.DataFrame.from_dict(alone_model, orient='index'),\n",
    "]\n",
    "display(info_dfs[0])\n",
    "print(info_dfs[0])"
   ]
  },
  {
   "cell_type": "code",
   "execution_count": null,
   "metadata": {},
   "outputs": [],
   "source": [
    "info_dfs[1]"
   ]
  },
  {
   "cell_type": "code",
   "execution_count": null,
   "metadata": {},
   "outputs": [],
   "source": [
    "%load_ext autoreload\n",
    "%autoreload 2\n",
    "from fuzzytools.latex.latex_tables import LatexTable\n",
    "\n",
    "display(info_dfs[0])\n",
    "display(info_dfs[1])\n",
    "kwargs = {\n",
    "    'caption':'captionnnn',\n",
    "    'label':'labelll',\n",
    "    #'bold_axis':'columns', # rows columns\n",
    "    'delete_redundant_model_keys':False,\n",
    "}\n",
    "latex_table = LatexTable(info_dfs[0], **kwargs)\n",
    "#latex_table = LatexTable(info_dfs[0], bold_criteriums=bold_criteriums, **kwargs)\n",
    "print(latex_table)"
   ]
  }
 ],
 "metadata": {
  "kernelspec": {
   "display_name": "Python 3",
   "language": "python",
   "name": "python3"
  },
  "language_info": {
   "codemirror_mode": {
    "name": "ipython",
    "version": 3
   },
   "file_extension": ".py",
   "mimetype": "text/x-python",
   "name": "python",
   "nbconvert_exporter": "python",
   "pygments_lexer": "ipython3",
   "version": "3.7.10"
  }
 },
 "nbformat": 4,
 "nbformat_minor": 2
}
